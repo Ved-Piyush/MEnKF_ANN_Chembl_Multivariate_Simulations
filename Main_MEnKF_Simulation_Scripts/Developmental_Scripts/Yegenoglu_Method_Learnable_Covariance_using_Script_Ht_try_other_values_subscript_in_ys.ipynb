{
 "cells": [
  {
   "cell_type": "code",
   "execution_count": 1,
   "id": "aa53e19a-64db-4b1d-9378-c19c8efacd62",
   "metadata": {},
   "outputs": [
    {
     "name": "stderr",
     "output_type": "stream",
     "text": [
      "2023-06-12 19:05:16.374937: I tensorflow/core/platform/cpu_feature_guard.cc:193] This TensorFlow binary is optimized with oneAPI Deep Neural Network Library (oneDNN) to use the following CPU instructions in performance-critical operations:  AVX2 AVX512F AVX512_VNNI FMA\n",
      "To enable them in other operations, rebuild TensorFlow with the appropriate compiler flags.\n",
      "2023-06-12 19:05:16.483444: I tensorflow/core/util/port.cc:104] oneDNN custom operations are on. You may see slightly different numerical results due to floating-point round-off errors from different computation orders. To turn them off, set the environment variable `TF_ENABLE_ONEDNN_OPTS=0`.\n",
      "2023-06-12 19:05:16.487127: W tensorflow/compiler/xla/stream_executor/platform/default/dso_loader.cc:64] Could not load dynamic library 'libcudart.so.11.0'; dlerror: libcudart.so.11.0: cannot open shared object file: No such file or directory; LD_LIBRARY_PATH: :\n",
      "2023-06-12 19:05:16.487140: I tensorflow/compiler/xla/stream_executor/cuda/cudart_stub.cc:29] Ignore above cudart dlerror if you do not have a GPU set up on your machine.\n",
      "2023-06-12 19:05:17.456052: W tensorflow/compiler/xla/stream_executor/platform/default/dso_loader.cc:64] Could not load dynamic library 'libnvinfer.so.7'; dlerror: libnvinfer.so.7: cannot open shared object file: No such file or directory; LD_LIBRARY_PATH: :\n",
      "2023-06-12 19:05:17.456420: W tensorflow/compiler/xla/stream_executor/platform/default/dso_loader.cc:64] Could not load dynamic library 'libnvinfer_plugin.so.7'; dlerror: libnvinfer_plugin.so.7: cannot open shared object file: No such file or directory; LD_LIBRARY_PATH: :\n",
      "2023-06-12 19:05:17.456428: W tensorflow/compiler/tf2tensorrt/utils/py_utils.cc:38] TF-TRT Warning: Cannot dlopen some TensorRT libraries. If you would like to use Nvidia GPU with TensorRT, please make sure the missing libraries mentioned above are installed properly.\n"
     ]
    }
   ],
   "source": [
    "import pandas as pd\n",
    "import numpy as np\n",
    "from sklearn.model_selection import KFold\n",
    "from sklearn.feature_selection import VarianceThreshold\n",
    "import random\n",
    "import pickle\n",
    "from sklearn.preprocessing import StandardScaler\n",
    "import os\n",
    "import tensorflow as tf\n",
    "from tqdm.notebook import tqdm\n",
    "from scipy.stats import multivariate_normal as mvn\n",
    "import matplotlib.pyplot as plt\n",
    "from scipy.linalg import block_diag"
   ]
  },
  {
   "cell_type": "code",
   "execution_count": 2,
   "id": "d459b853-f520-4181-a9a9-310a6dd20de1",
   "metadata": {},
   "outputs": [],
   "source": [
    "def get_targets_with_weights(batch_data, initial_ensembles, size_ens, ann): \n",
    "    \n",
    "    target_dim = 1\n",
    "    \n",
    "    weights_ann_1 = ann.get_weights()\n",
    "    \n",
    "    h1  = ann.layers[1].output.shape[-1]\n",
    "\n",
    "    n_hidden_1 = len(weights_ann_1[0].ravel())\n",
    "    \n",
    "    hidden_weights_1 = initial_ensembles[:,:n_hidden_1].reshape( size_ens, batch_data.shape[1], h1)\n",
    "    \n",
    "    \n",
    "    hidden_output_1 = np.einsum('ij,kjl->kil', batch_data, hidden_weights_1)\n",
    "\n",
    "    \n",
    "    hidden_layer_bias_1 = initial_ensembles[:,n_hidden_1:(n_hidden_1 + h1)].reshape(size_ens, 1,  h1)\n",
    "\n",
    "\n",
    "    hidden_output_1 = hidden_output_1 + hidden_layer_bias_1\n",
    "\n",
    "    n_pred_weights_1 = len(weights_ann_1[2].ravel())\n",
    "\n",
    "    output_weights_1 = initial_ensembles[:,(n_hidden_1 + h1):(n_hidden_1 + h1 + n_pred_weights_1) ].reshape(size_ens, h1, target_dim)\n",
    "\n",
    "\n",
    "    output_1 = np.einsum('ijk,ikl->ijl', hidden_output_1, output_weights_1)\n",
    "\n",
    "\n",
    "    output_layer_bias_1 = initial_ensembles[:,(n_hidden_1 + h1 + n_pred_weights_1):(n_hidden_1 + h1 + n_pred_weights_1 + target_dim)].reshape(size_ens, 1, target_dim)\n",
    "\n",
    "\n",
    "    final_output_1 = output_1 + output_layer_bias_1\n",
    "    \n",
    "    final_output_1 = final_output_1[:,:, 0]\n",
    "    \n",
    "    # print(final_output_1.shape, initial_ensembles.shape)\n",
    "    \n",
    "    stack = np.hstack((final_output_1, initial_ensembles))\n",
    "\n",
    "    \n",
    "    return final_output_1, stack"
   ]
  },
  {
   "cell_type": "code",
   "execution_count": 3,
   "id": "2a66ee4c-4112-4dca-a9cc-68a60d4e316f",
   "metadata": {},
   "outputs": [],
   "source": [
    "def ann(hidden = 32, input_shape = 256, output_shape = 1): \n",
    "    input_layer = tf.keras.layers.Input(shape = (input_shape))\n",
    "    hidden_layer = tf.keras.layers.Dense(hidden)\n",
    "    hidden_output = hidden_layer(input_layer)\n",
    "    pred_layer = tf.keras.layers.Dense(output_shape, activation = \"relu\")\n",
    "    pred_output = pred_layer(hidden_output)\n",
    "#     pred_output = tf.keras.layers.Activation(\"softmax\")(pred_output)\n",
    "    model = tf.keras.models.Model(input_layer, pred_output)\n",
    "    return model"
   ]
  },
  {
   "cell_type": "code",
   "execution_count": 4,
   "id": "e0b9ef03-af61-4ce4-99ff-2f0b5dca639d",
   "metadata": {},
   "outputs": [],
   "source": [
    "def generate_initial_ensembles(num_weights, lambda1, size_ens):\n",
    "    mean_vec = np.zeros((num_weights,))\n",
    "    cov_matrix = lambda1*np.identity(num_weights)\n",
    "    mvn_samp = mvn(mean_vec, cov_matrix)\n",
    "    return mvn_samp.rvs(size_ens)"
   ]
  },
  {
   "cell_type": "code",
   "execution_count": 5,
   "id": "fe2ea2b5-13a4-41c4-8257-c6c18708501b",
   "metadata": {},
   "outputs": [],
   "source": [
    "def expit(x):\n",
    "    \"\"\"Compute softmax values for each sets of scores in x.\"\"\"\n",
    "#     e_x = np.exp(x - np.max(x))\n",
    "    return 1 / (1 + np.exp(-x))"
   ]
  },
  {
   "cell_type": "code",
   "execution_count": 6,
   "id": "0623822d-59a8-44f0-948a-e23964559343",
   "metadata": {},
   "outputs": [],
   "source": [
    "hidden_neurons = 8"
   ]
  },
  {
   "cell_type": "code",
   "execution_count": 7,
   "id": "b5f741d7-ba99-4803-8441-5bf2ad3d72f7",
   "metadata": {},
   "outputs": [],
   "source": [
    "def get_initial_X_t(data1, data2, size_ens, var_weights = 2.0):\n",
    "    samp_ann =  ann(hidden = hidden_neurons, input_shape = 32, output_shape = 1)\n",
    "    \n",
    "    initial_ensembles1 = generate_initial_ensembles(samp_ann.count_params(), var_weights, size_ens)\n",
    "    data1_out1, data1_stack1 = get_targets_with_weights(data1, initial_ensembles1, size_ens = size_ens, ann = samp_ann)\n",
    "    \n",
    "    initial_ensembles2 = generate_initial_ensembles(samp_ann.count_params(), var_weights, size_ens)\n",
    "    data1_out2, data1_stack2 = get_targets_with_weights(data1, initial_ensembles2, size_ens = size_ens, ann = samp_ann)\n",
    "    \n",
    "    initial_ensembles3 = generate_initial_ensembles(samp_ann.count_params(), var_weights, size_ens)\n",
    "    data2_out1, data2_stack1 = get_targets_with_weights(data2, initial_ensembles3, size_ens = size_ens, ann = samp_ann)\n",
    "    \n",
    "    initial_ensembles4 = generate_initial_ensembles(samp_ann.count_params(), var_weights, size_ens)\n",
    "    data2_out2, data2_stack2 = get_targets_with_weights(data2, initial_ensembles4, size_ens = size_ens, ann = samp_ann)   \n",
    "    \n",
    "    X_t = np.concatenate((np.expand_dims(data1_stack1, -1), np.expand_dims(data1_stack2, -1), \n",
    "                         np.expand_dims(data2_stack1, -1), np.expand_dims(data2_stack2, -1)), axis = -1)\n",
    "    \n",
    "    initial_ensembles_for_weights = generate_initial_ensembles(4, var_weights, size_ens)\n",
    "    initial_ensembles_for_weights = np.expand_dims(initial_ensembles_for_weights,1)\n",
    "    \n",
    "    initial_ensembles_for_L = generate_initial_ensembles(4, var_weights, size_ens)\n",
    "    initial_ensembles_for_L = np.expand_dims(initial_ensembles_for_L,1)    \n",
    "    \n",
    "    initial_ensembles_for_D1 = generate_initial_ensembles(1, var_weights, size_ens).reshape(-1,1)\n",
    "    initial_ensembles_for_D2 = generate_initial_ensembles(1, var_weights, size_ens).reshape(-1,1)\n",
    "    \n",
    "    initial_ensembles_for_D1_zero = np.zeros((size_ens,1,1)).reshape(-1,1)\n",
    "    initial_ensembles_for_D2_zero = np.zeros((size_ens,1,1)).reshape(-1,1)\n",
    "    \n",
    "    initial_ensembles_for_D = np.concatenate((np.expand_dims(initial_ensembles_for_D1,1),\n",
    "                                                       np.expand_dims(initial_ensembles_for_D1_zero,1), \n",
    "                                                      np.expand_dims(initial_ensembles_for_D2,1),\n",
    "                                                       np.expand_dims(initial_ensembles_for_D2_zero,1)), axis = 2)\n",
    "    \n",
    "    # print(X_t.shape, initial_ensembles_for_weights.shape)\n",
    "    \n",
    "    X_t = np.concatenate((X_t, initial_ensembles_for_weights, initial_ensembles_for_L, initial_ensembles_for_D), axis = 1)\n",
    "    \n",
    "    initial_ensembles = np.hstack((initial_ensembles1, initial_ensembles2, initial_ensembles3, initial_ensembles4))\n",
    "    \n",
    "    return X_t, initial_ensembles, initial_ensembles_for_weights[:,0,:], initial_ensembles_for_L[:,0,:], initial_ensembles_for_D[:,0,:]"
   ]
  },
  {
   "cell_type": "code",
   "execution_count": 8,
   "id": "6ac49c8c-6da0-4ee2-9561-e1d19365f182",
   "metadata": {},
   "outputs": [],
   "source": [
    "def get_weighted_targets_with_weights(batch_data, initial_ensembles, size_ens, ann, weights): \n",
    "    \n",
    "    target_dim = 1\n",
    "    \n",
    "    weights_ann_1 = ann.get_weights()\n",
    "    \n",
    "    h1  = ann.layers[1].output.shape[-1]\n",
    "\n",
    "    n_hidden_1 = len(weights_ann_1[0].ravel())\n",
    "    \n",
    "    hidden_weights_1 = initial_ensembles[:,:n_hidden_1].reshape( size_ens, batch_data.shape[1], h1)\n",
    "    \n",
    "    \n",
    "    hidden_output_1 = np.einsum('ij,kjl->kil', batch_data, hidden_weights_1)\n",
    "\n",
    "    \n",
    "    hidden_layer_bias_1 = initial_ensembles[:,n_hidden_1:(n_hidden_1 + h1)].reshape(size_ens, 1,  h1)\n",
    "\n",
    "\n",
    "    hidden_output_1 = hidden_output_1 + hidden_layer_bias_1\n",
    "\n",
    "    n_pred_weights_1 = len(weights_ann_1[2].ravel())\n",
    "\n",
    "    output_weights_1 = initial_ensembles[:,(n_hidden_1 + h1):(n_hidden_1 + h1 + n_pred_weights_1) ].reshape(size_ens, h1, target_dim)\n",
    "\n",
    "\n",
    "    output_1 = np.einsum('ijk,ikl->ijl', hidden_output_1, output_weights_1)\n",
    "\n",
    "\n",
    "    output_layer_bias_1 = initial_ensembles[:,(n_hidden_1 + h1 + n_pred_weights_1):(n_hidden_1 + h1 + n_pred_weights_1 + target_dim)].reshape(size_ens, 1, target_dim)\n",
    "\n",
    "\n",
    "    final_output_1 = output_1 + output_layer_bias_1\n",
    "    \n",
    "    final_output_1 = final_output_1[:,:, 0]\n",
    "    \n",
    "    final_output_1 = final_output_1*weights\n",
    "    \n",
    "    # print(final_output_1.shape, initial_ensembles.shape)\n",
    "    \n",
    "    stack = np.hstack((final_output_1, initial_ensembles))\n",
    "\n",
    "    \n",
    "    return final_output_1, stack"
   ]
  },
  {
   "cell_type": "code",
   "execution_count": 9,
   "id": "8f382d3e-e4dc-4e19-b19a-0eb954236a16",
   "metadata": {},
   "outputs": [],
   "source": [
    "alogp_bottleneck = np.load(\"..//Data/small_mol_phase_3_features_for_both.npy\")"
   ]
  },
  {
   "cell_type": "code",
   "execution_count": 10,
   "id": "94e5e3f5-e4c6-40f8-ac40-b487543e3711",
   "metadata": {},
   "outputs": [],
   "source": [
    "y_valid = np.load('..//Data/smiles_0.7_rdkit_0.3_outputs.npy')"
   ]
  },
  {
   "cell_type": "code",
   "execution_count": 11,
   "id": "26bdab23-3531-4643-91e0-50f68b523370",
   "metadata": {},
   "outputs": [],
   "source": [
    "y_train = y_valid"
   ]
  },
  {
   "cell_type": "code",
   "execution_count": 12,
   "id": "b697b7f9-3d50-4d71-a436-cdc6434909a5",
   "metadata": {},
   "outputs": [
    {
     "name": "stderr",
     "output_type": "stream",
     "text": [
      "/home/statgrads/vpiyush2/.conda/envs/enkf/lib/python3.10/site-packages/sklearn/base.py:288: UserWarning: Trying to unpickle estimator StandardScaler from version 1.1.2 when using version 1.2.0. This might lead to breaking code or invalid results. Use at your own risk. For more info please refer to:\n",
      "https://scikit-learn.org/stable/model_persistence.html#security-maintainability-limitations\n",
      "  warnings.warn(\n"
     ]
    }
   ],
   "source": [
    "std_targets = pickle.load( open('..//Data//target_scaler.pkl', 'rb'))"
   ]
  },
  {
   "cell_type": "code",
   "execution_count": 13,
   "id": "1ad7f00f-1bd3-40bc-b50b-de0406c72655",
   "metadata": {},
   "outputs": [],
   "source": [
    "# y_train = y_valid.values[:,1:]"
   ]
  },
  {
   "cell_type": "code",
   "execution_count": 14,
   "id": "e3fe10a7-fcc3-430f-8ade-356a7f7b85b2",
   "metadata": {},
   "outputs": [],
   "source": [
    "# y_train = std_targets.transform(y_train)"
   ]
  },
  {
   "cell_type": "code",
   "execution_count": 15,
   "id": "6dfffa08-081b-4b5f-8181-ae94a920c932",
   "metadata": {},
   "outputs": [],
   "source": [
    "from sklearn.model_selection import train_test_split"
   ]
  },
  {
   "cell_type": "code",
   "execution_count": 16,
   "id": "f03896e4-b7c8-4237-a0a8-7af9ed6b1f0d",
   "metadata": {},
   "outputs": [],
   "source": [
    "x_train, x_valid, y_train, y_valid = train_test_split(alogp_bottleneck, y_train, test_size = 0.25, shuffle = True, \n",
    "                                                     random_state = 42)"
   ]
  },
  {
   "cell_type": "code",
   "execution_count": 17,
   "id": "e2ed02ca-e8a1-4767-8152-4fc17b1afe61",
   "metadata": {},
   "outputs": [
    {
     "data": {
      "text/plain": [
       "(719, 64)"
      ]
     },
     "execution_count": 17,
     "metadata": {},
     "output_type": "execute_result"
    }
   ],
   "source": [
    "x_train.shape"
   ]
  },
  {
   "cell_type": "code",
   "execution_count": 18,
   "id": "7b98c57b-e85d-46f9-92b4-09f2a1b179a8",
   "metadata": {},
   "outputs": [],
   "source": [
    "smiles_feats_train = x_train[:, :32]"
   ]
  },
  {
   "cell_type": "code",
   "execution_count": 19,
   "id": "3b91f4be-60b4-44ee-b992-80da2cbe5395",
   "metadata": {},
   "outputs": [],
   "source": [
    "rdkit_feats_train = x_train[:, 32:]"
   ]
  },
  {
   "cell_type": "code",
   "execution_count": 20,
   "id": "dfe0b04f-b7c9-4f72-ac4b-4ba7e50d128b",
   "metadata": {},
   "outputs": [],
   "source": [
    "smiles_feats_valid = x_valid[:, :32]\n",
    "rdkit_feats_valid = x_valid[:, 32:]"
   ]
  },
  {
   "cell_type": "code",
   "execution_count": 21,
   "id": "5932b6c7-8781-4514-8b67-1e760609c62d",
   "metadata": {},
   "outputs": [],
   "source": [
    "# size_ens = 250"
   ]
  },
  {
   "cell_type": "code",
   "execution_count": 22,
   "id": "9d1a4f5e-7a0d-42b7-ad45-59c708b7b727",
   "metadata": {},
   "outputs": [],
   "source": [
    "def forward_operation(data1, data2, combined_ensembles , size_ens ):\n",
    "    samp_ann =  ann(hidden = hidden_neurons, input_shape = 32, output_shape = 1)\n",
    "    params = samp_ann.count_params()\n",
    "    initial_ensembles1 = combined_ensembles[:, :params]\n",
    "    initial_ensembles2 = combined_ensembles[:, params:(2*params)]\n",
    "    initial_ensembles3 = combined_ensembles[:, (2*params):(3*params)]\n",
    "    initial_ensembles4 = combined_ensembles[:, (3*params):(4*params)]\n",
    "\n",
    "    \n",
    "    initial_ensembles_for_weights = combined_ensembles[:, (4*params):(4*params + 4)]\n",
    "    \n",
    "    initial_ensembles_for_L = combined_ensembles[:, (4*params + 4):(4*params + 4 + 4)]\n",
    "    \n",
    "    initial_ensembles_for_D = combined_ensembles[:,(4*params + 4 + 4):(4*params + 4 + 4 + 4)]\n",
    "    \n",
    "    \n",
    "    softmax_weights = tf.math.softmax(initial_ensembles_for_weights).numpy()\n",
    "    \n",
    "    model_1 = softmax_weights[:,:2].sum(1).reshape(-1,1)\n",
    "    \n",
    "    model_2 = softmax_weights[:,2:].sum(1).reshape(-1,1)\n",
    "    \n",
    "    data1_out1, data1_stack1 = get_weighted_targets_with_weights(data1, initial_ensembles1, size_ens = size_ens,\n",
    "                                                                 ann = samp_ann, weights=model_1)\n",
    "    \n",
    "    data1_out2, data1_stack2 = get_weighted_targets_with_weights(data1, initial_ensembles2, size_ens = size_ens,\n",
    "                                                                 ann = samp_ann, weights=model_1)\n",
    "    \n",
    "    data2_out1, data2_stack1 = get_weighted_targets_with_weights(data2, initial_ensembles3, size_ens = size_ens,\n",
    "                                                                 ann = samp_ann, weights=model_2)\n",
    "    \n",
    "    data2_out2, data2_stack2 = get_weighted_targets_with_weights(data2, initial_ensembles4, size_ens = size_ens,\n",
    "                                                                 ann = samp_ann, weights=model_2)   \n",
    "    \n",
    "    X_t = np.concatenate((np.expand_dims(data1_stack1, -1), np.expand_dims(data1_stack2, -1), \n",
    "                         np.expand_dims(data2_stack1, -1), np.expand_dims(data2_stack2, -1)), axis = -1)\n",
    "    \n",
    "    initial_ensembles = np.hstack((initial_ensembles1, initial_ensembles2, initial_ensembles3, initial_ensembles4, \n",
    "                        initial_ensembles_for_weights, initial_ensembles_for_L, initial_ensembles_for_D))\n",
    "    \n",
    "    # print(X_t.shape)\n",
    "    \n",
    "    initial_ensembles_for_weights = np.expand_dims(initial_ensembles_for_weights,1)\n",
    "    \n",
    "    initial_ensembles_for_L = np.expand_dims(initial_ensembles_for_L,1)\n",
    "    \n",
    "    initial_ensembles_for_D = np.expand_dims(initial_ensembles_for_D,1)\n",
    "    \n",
    "    # print(initial_ensembles_for_weights.shape)\n",
    "    \n",
    "    X_t = np.concatenate((X_t, initial_ensembles_for_weights, initial_ensembles_for_L, initial_ensembles_for_D), axis = 1)\n",
    "    \n",
    "    weighted_alogp = data1_out1 + data2_out1\n",
    "    \n",
    "    weighted_psa = data1_out2 + data2_out2\n",
    "    \n",
    "    return X_t, initial_ensembles, weighted_alogp, weighted_psa, model_1, model_2"
   ]
  },
  {
   "cell_type": "code",
   "execution_count": 23,
   "id": "e15b0bf7-ba00-40bc-933b-c1c3e062e98e",
   "metadata": {},
   "outputs": [
    {
     "name": "stderr",
     "output_type": "stream",
     "text": [
      "2023-06-12 19:05:19.133837: W tensorflow/compiler/xla/stream_executor/platform/default/dso_loader.cc:64] Could not load dynamic library 'libcuda.so.1'; dlerror: libcuda.so.1: cannot open shared object file: No such file or directory; LD_LIBRARY_PATH: :\n",
      "2023-06-12 19:05:19.133859: W tensorflow/compiler/xla/stream_executor/cuda/cuda_driver.cc:265] failed call to cuInit: UNKNOWN ERROR (303)\n",
      "2023-06-12 19:05:19.133872: I tensorflow/compiler/xla/stream_executor/cuda/cuda_diagnostics.cc:156] kernel driver does not appear to be running on this host (c2518.crane.hcc.unl.edu): /proc/driver/nvidia/version does not exist\n",
      "2023-06-12 19:05:19.134042: I tensorflow/core/platform/cpu_feature_guard.cc:193] This TensorFlow binary is optimized with oneAPI Deep Neural Network Library (oneDNN) to use the following CPU instructions in performance-critical operations:  AVX2 AVX512F AVX512_VNNI FMA\n",
      "To enable them in other operations, rebuild TensorFlow with the appropriate compiler flags.\n"
     ]
    }
   ],
   "source": [
    "samp_ann =  ann(hidden = hidden_neurons, input_shape = 32, output_shape = 1)"
   ]
  },
  {
   "cell_type": "code",
   "execution_count": 24,
   "id": "af3dd570-7ab3-4eae-bd8e-9a57a333b30a",
   "metadata": {},
   "outputs": [],
   "source": [
    "total_weights = 4*(samp_ann.count_params() + 1 + 1 + 1)"
   ]
  },
  {
   "cell_type": "code",
   "execution_count": 25,
   "id": "7fcac026-31e1-4d16-8bea-f9cd8a99c51e",
   "metadata": {},
   "outputs": [
    {
     "data": {
      "text/plain": [
       "1104"
      ]
     },
     "execution_count": 25,
     "metadata": {},
     "output_type": "execute_result"
    }
   ],
   "source": [
    "total_weights"
   ]
  },
  {
   "cell_type": "code",
   "execution_count": 26,
   "id": "e820b010-4396-4b7a-8781-a8e6d503aad5",
   "metadata": {},
   "outputs": [],
   "source": [
    "reduction = 4"
   ]
  },
  {
   "cell_type": "code",
   "execution_count": 27,
   "id": "e5fbaaf7-afae-4008-a26c-e0691ef9b3f9",
   "metadata": {},
   "outputs": [],
   "source": [
    "size_ens = total_weights//reduction"
   ]
  },
  {
   "cell_type": "code",
   "execution_count": 28,
   "id": "a5111536-1a97-4390-9658-c9848a136a3f",
   "metadata": {},
   "outputs": [
    {
     "data": {
      "text/plain": [
       "276"
      ]
     },
     "execution_count": 28,
     "metadata": {},
     "output_type": "execute_result"
    }
   ],
   "source": [
    "size_ens"
   ]
  },
  {
   "cell_type": "code",
   "execution_count": 29,
   "id": "a59f4669-65d3-41df-8cd9-79ebdecb9b0f",
   "metadata": {},
   "outputs": [],
   "source": [
    "X_t, initial_ensembles, initial_ensembles_for_weights, initial_ensembles_for_L, initial_ensembles_for_D = get_initial_X_t(smiles_feats_train, rdkit_feats_train, size_ens = size_ens)"
   ]
  },
  {
   "cell_type": "code",
   "execution_count": 30,
   "id": "dad93ee9-a527-4663-9e18-d72039909c4a",
   "metadata": {},
   "outputs": [],
   "source": [
    "# X_t, initial_ensembles, initial_ensembles_for_weights = get_initial_X_t(smiles_feats_train, rdkit_feats_train, size_ens = size_ens)"
   ]
  },
  {
   "cell_type": "code",
   "execution_count": 31,
   "id": "9c1bbad1-127a-4c27-8fb9-23783b072a24",
   "metadata": {},
   "outputs": [],
   "source": [
    "initial_ensembles = np.hstack((initial_ensembles, initial_ensembles_for_weights, initial_ensembles_for_L, initial_ensembles_for_D))"
   ]
  },
  {
   "cell_type": "code",
   "execution_count": 32,
   "id": "ecfb3b01-63af-4194-8bb8-8d7dfa1a9edf",
   "metadata": {},
   "outputs": [
    {
     "data": {
      "text/plain": [
       "(276, 1104)"
      ]
     },
     "execution_count": 32,
     "metadata": {},
     "output_type": "execute_result"
    }
   ],
   "source": [
    "initial_ensembles.shape"
   ]
  },
  {
   "cell_type": "code",
   "execution_count": 33,
   "id": "3f598992-73d6-4b5a-906d-3184f1b9625f",
   "metadata": {},
   "outputs": [],
   "source": [
    "G_t = [[1, 0, 1, 0], [0, 1, 0, 1]]\n",
    "G_t = np.array(G_t).T"
   ]
  },
  {
   "cell_type": "code",
   "execution_count": 34,
   "id": "3073d2ce-5b22-47bb-80a3-9ad86ac3d6a4",
   "metadata": {},
   "outputs": [
    {
     "data": {
      "text/plain": [
       "array([[1, 0],\n",
       "       [0, 1],\n",
       "       [1, 0],\n",
       "       [0, 1]])"
      ]
     },
     "execution_count": 34,
     "metadata": {},
     "output_type": "execute_result"
    }
   ],
   "source": [
    "G_t"
   ]
  },
  {
   "cell_type": "code",
   "execution_count": 35,
   "id": "a84cb0e3-2f5e-4207-b092-d2768b52205a",
   "metadata": {},
   "outputs": [],
   "source": [
    "def get_predictions(data1, data2, initial_ensembles): \n",
    "    _,_, weighted_alogp, weighted_psa, w1, w2 = forward_operation(data1, data2, initial_ensembles, size_ens = size_ens)\n",
    "    weighted_alogp = np.expand_dims(weighted_alogp,-1)\n",
    "    weighted_psa = np.expand_dims(weighted_psa,-1)\n",
    "    preds = np.concatenate((weighted_alogp, weighted_psa),-1)\n",
    "    return preds, w1, w2"
   ]
  },
  {
   "cell_type": "code",
   "execution_count": 36,
   "id": "abb66e39-541a-4d16-b18c-c5eafdfeaea7",
   "metadata": {},
   "outputs": [],
   "source": [
    "# H_t = np.hstack((np.identity(smiles_feats_train.shape[0]), np.zeros((smiles_feats_train.shape[0], samp_ann.count_params() + 1 + 1 + 1))))"
   ]
  },
  {
   "cell_type": "code",
   "execution_count": 37,
   "id": "3e3cd1ba-a09f-4d84-9add-6a3e1a1ad01e",
   "metadata": {},
   "outputs": [],
   "source": [
    "# H_t.shape"
   ]
  },
  {
   "cell_type": "code",
   "execution_count": 38,
   "id": "3af0a9b9-6202-40e2-911f-3c890213099f",
   "metadata": {},
   "outputs": [],
   "source": [
    "def calculate_mu_bar_G_bar(data1, data2, initial_ensembles):\n",
    "    H_t = np.hstack((np.identity(data1.shape[0]), np.zeros((data1.shape[0], samp_ann.count_params() + 1 + 1 + 1))))\n",
    "    mu_bar = initial_ensembles.mean(0)\n",
    "    X_t,_, _, _, _, _ = forward_operation(data1, data2, initial_ensembles, size_ens = size_ens)\n",
    "    X_t = X_t.transpose((0,2,1))\n",
    "    X_t = X_t.reshape(X_t.shape[0], X_t.shape[1]*X_t.shape[2])\n",
    "    script_H_t = np.kron(G_t.T, H_t)\n",
    "    G_u = (script_H_t@X_t.T)\n",
    "    G_u = G_u.T\n",
    "    # weighted_alogp = np.expand_dims(weighted_alogp,-1)\n",
    "    # weighted_psa = np.expand_dims(weighted_psa,-1)\n",
    "    # G_u = np.concatenate((weighted_alogp, weighted_psa), axis = -1)\n",
    "    # G_u = G_u.transpose((0,2,1))\n",
    "    # G_u = G_u.reshape(G_u.shape[0], G_u.shape[1]*G_u.shape[2])\n",
    "    # G_u\n",
    "    G_bar = (G_u.mean(0)).ravel()\n",
    "    return mu_bar.reshape(-1,1), G_bar.reshape(-1,1), G_u"
   ]
  },
  {
   "cell_type": "code",
   "execution_count": 39,
   "id": "7334c80c-cfcd-4d5b-b844-11cfb8c137df",
   "metadata": {},
   "outputs": [],
   "source": [
    "def calculate_C_u(initial_ensembles, mu_bar, G_bar, G_u): \n",
    "    u_j_minus_u_bar = initial_ensembles - mu_bar.reshape(1,-1)\n",
    "    G_u_minus_G_bar = G_u -  G_bar.reshape(1,-1)\n",
    "    c = np.zeros((total_weights, G_bar.shape[0]))\n",
    "    for i in range(0, size_ens): \n",
    "        c += np.kron(u_j_minus_u_bar[i, :].T.reshape(-1,1), G_u_minus_G_bar[i,:].reshape(-1,1).T)\n",
    "    return c/size_ens, G_u_minus_G_bar"
   ]
  },
  {
   "cell_type": "code",
   "execution_count": 40,
   "id": "9148779c-1a3f-455d-a6ad-00fc1bf69c1f",
   "metadata": {},
   "outputs": [],
   "source": [
    "def calculate_D_u( G_bar, G_u): \n",
    "    G_u_minus_G_bar = G_u -  G_bar.reshape(1,-1)\n",
    "    d = np.zeros((G_bar.shape[0], G_bar.shape[0]))\n",
    "    for i in range(0, size_ens): \n",
    "        d += np.kron(G_u_minus_G_bar[i,:].T.reshape(-1,1), G_u_minus_G_bar[i,:].reshape(-1,1).T)\n",
    "    return d/size_ens"
   ]
  },
  {
   "cell_type": "code",
   "execution_count": 41,
   "id": "5f26a25b-d2b9-4478-af7e-9440da545694",
   "metadata": {},
   "outputs": [],
   "source": [
    "# initial_ensembles.shape"
   ]
  },
  {
   "cell_type": "code",
   "execution_count": 42,
   "id": "6e8459b0-68c1-4d1f-851e-3d7b99f0ffc5",
   "metadata": {},
   "outputs": [],
   "source": [
    "def get_updated_ensemble(data1, data2, initial_ensembles, size_ens = size_ens):\n",
    "    mu_bar, G_bar, G_u = calculate_mu_bar_G_bar(data1, data2, initial_ensembles)\n",
    "    C, G_u_minus_G_bar = calculate_C_u(initial_ensembles, mu_bar, G_bar, G_u)\n",
    "    D = calculate_D_u( G_bar, G_u)\n",
    "    _, R_t = create_cov(data1.shape[0],initial_ensembles)\n",
    "    # all_covs = np.array(all_covs)\n",
    "    D_plus_cov = D + R_t\n",
    "    D_plus_cov_inv = np.linalg.inv(D_plus_cov)\n",
    "    mid_quant = C@D_plus_cov_inv\n",
    "    noise_vec_mean = np.zeros((R_t.shape[0], ))\n",
    "    noise_mvn = mvn(noise_vec_mean, R_t)\n",
    "    fudging = noise_mvn.rvs(size_ens)\n",
    "    interim = (y_train.T.flatten().reshape(1,-1) + fudging)\n",
    "    right_quant = interim - G_u\n",
    "    # print(mid_quant.shape, right_quant.shape)\n",
    "    mid_times_right = mid_quant@right_quant.T\n",
    "    updated_ensemble = (initial_ensembles + mid_times_right.T)\n",
    "    return updated_ensemble"
   ]
  },
  {
   "cell_type": "code",
   "execution_count": 43,
   "id": "87593eef-d706-40af-aab9-68e51ac6207e",
   "metadata": {},
   "outputs": [],
   "source": [
    "# initial_ensembles[:, -8:-4].mean(0)"
   ]
  },
  {
   "cell_type": "code",
   "execution_count": 44,
   "id": "c14b236d-6ebf-40e3-9085-97afd2990e4d",
   "metadata": {},
   "outputs": [],
   "source": [
    "target_dim = 2"
   ]
  },
  {
   "cell_type": "code",
   "execution_count": 45,
   "id": "0745b46a-e832-4caf-ae08-4d15d9fbe7a4",
   "metadata": {},
   "outputs": [],
   "source": [
    "# initial_ensembles[:, -4:]"
   ]
  },
  {
   "cell_type": "code",
   "execution_count": 46,
   "id": "d8e8c958-572e-4430-86ca-aa89819c9363",
   "metadata": {},
   "outputs": [],
   "source": [
    "# tf.math.softplus(np.array([0.]).reshape(-1,1))"
   ]
  },
  {
   "cell_type": "code",
   "execution_count": 47,
   "id": "f1283df8-c281-48fa-82db-86888e6b6a19",
   "metadata": {},
   "outputs": [],
   "source": [
    "def create_cov(shape, initial_ensembles):\n",
    "    cov_part = initial_ensembles[:, -8:-4]\n",
    "    cov_part = cov_part.mean(0)\n",
    "    # variances = tf.math.softplus(cov_part[:2]).numpy()\n",
    "    variances = cov_part[:2]\n",
    "    covariances = cov_part[2:]\n",
    "    base_cov = np.identity(target_dim)\n",
    "    base_cov[0,0] = variances[0]\n",
    "    base_cov[1,1] = variances[1]\n",
    "    base_cov[0,1] = covariances[0]\n",
    "    base_cov[1,0] = covariances[1]\n",
    "    \n",
    "    variances1 = tf.math.softplus(initial_ensembles[:, -4:]).numpy()\n",
    "    variances1 = variances1.mean(0)\n",
    "    base_variances = np.identity(target_dim)\n",
    "    base_variances[0,0] = variances1[0]\n",
    "    base_variances[1,1] = variances1[2]\n",
    "    \n",
    "    final = np.linalg.cholesky(base_cov@base_cov.T + base_variances)\n",
    "    cov_mat = final@final.T\n",
    "    cov_mat_final = cov_mat\n",
    "    # cov_mat_final = cov_mat@cov_mat.T\n",
    "    \n",
    "    if is_pos_def(cov_mat_final) != True:\n",
    "        print(\"resulting cov matrix is not positive semi definite\")\n",
    "        pass\n",
    "    \n",
    "    # print(np.linalg.det(cov_mat_final))\n",
    "    \n",
    "    var1 = cov_mat_final[0,0]\n",
    "    var2 = cov_mat_final[1,1]\n",
    "    cov = cov_mat_final[1,0]\n",
    "\n",
    "    n = shape\n",
    "    \n",
    "    ul = var1*np.identity(n)\n",
    "    lr = var2*np.identity(n)\n",
    "    ur = cov*np.identity(n)\n",
    "    ll = ur.T    \n",
    "    \n",
    "    first_row = np.hstack((ul, ur))\n",
    "    second_row = np.hstack((ll, lr))\n",
    "    \n",
    "    R_t = np.vstack((first_row, second_row))\n",
    "    \n",
    "    # R_t = block_diag(*([cov_mat_final] * n))\n",
    "    \n",
    "    # R_t = np.linalg.inv(R_t)\n",
    "    \n",
    "    return cov_mat_final, R_t\n",
    "    "
   ]
  },
  {
   "cell_type": "code",
   "execution_count": 48,
   "id": "af50f314-7841-4bc7-9764-fcf33c9b8d6b",
   "metadata": {},
   "outputs": [],
   "source": [
    "def is_pos_def(x):\n",
    "    return np.all(np.linalg.eigvals(x) > 0)"
   ]
  },
  {
   "cell_type": "code",
   "execution_count": 49,
   "id": "242c1e9e-3745-4dc2-bab8-6fec04ea2941",
   "metadata": {},
   "outputs": [],
   "source": [
    "cov_mat_final, _ = create_cov(smiles_feats_train.shape[0],initial_ensembles)"
   ]
  },
  {
   "cell_type": "code",
   "execution_count": 50,
   "id": "0848e471-31ad-415d-adb4-64853aca2a95",
   "metadata": {},
   "outputs": [
    {
     "data": {
      "text/plain": [
       "array([[ 0.98260425, -0.01742697],\n",
       "       [-0.01742697,  0.85291194]])"
      ]
     },
     "execution_count": 50,
     "metadata": {},
     "output_type": "execute_result"
    }
   ],
   "source": [
    "cov_mat_final"
   ]
  },
  {
   "cell_type": "code",
   "execution_count": 51,
   "id": "dc3a216a-4dbb-474d-8219-5f6c071250a4",
   "metadata": {},
   "outputs": [],
   "source": [
    "def inverse_transform(data, idx):\n",
    "    data_cur = data[idx, :, :]\n",
    "    inv_data_cur = std_targets.inverse_transform(data_cur)\n",
    "    return inv_data_cur"
   ]
  },
  {
   "cell_type": "code",
   "execution_count": 52,
   "id": "5abd35fb-ea92-449d-894a-162ed1f4aaec",
   "metadata": {},
   "outputs": [],
   "source": [
    "from joblib import Parallel, delayed"
   ]
  },
  {
   "cell_type": "code",
   "execution_count": 53,
   "id": "58e18b92-bba1-4a96-9abf-866b8594d6a6",
   "metadata": {},
   "outputs": [],
   "source": [
    "from scipy.linalg import norm"
   ]
  },
  {
   "cell_type": "code",
   "execution_count": 54,
   "id": "66cdaaa0-cd22-42b1-87ee-968e96aa3ed1",
   "metadata": {},
   "outputs": [
    {
     "data": {
      "text/plain": [
       "(276, 1104)"
      ]
     },
     "execution_count": 54,
     "metadata": {},
     "output_type": "execute_result"
    }
   ],
   "source": [
    "initial_ensembles.shape"
   ]
  },
  {
   "cell_type": "code",
   "execution_count": 55,
   "id": "417c025e-9f73-48ec-ac9f-664b42306c61",
   "metadata": {},
   "outputs": [],
   "source": [
    "# from tqdm.notebook import trange"
   ]
  },
  {
   "cell_type": "code",
   "execution_count": 56,
   "id": "0b37f4d1-e4ee-4834-8036-11f35331bc1a",
   "metadata": {},
   "outputs": [],
   "source": [
    "# rmse_train"
   ]
  },
  {
   "cell_type": "code",
   "execution_count": 57,
   "id": "9148940e-835a-41e2-89d6-1daf1afa3e18",
   "metadata": {},
   "outputs": [],
   "source": [
    "y_chk_full = pd.read_csv(\"..//Data/y_train.csv\")"
   ]
  },
  {
   "cell_type": "code",
   "execution_count": 58,
   "id": "dfa93801-4360-4403-a813-9a3f1867bf8c",
   "metadata": {},
   "outputs": [
    {
     "data": {
      "text/plain": [
       "(1694445, 2)"
      ]
     },
     "execution_count": 58,
     "metadata": {},
     "output_type": "execute_result"
    }
   ],
   "source": [
    "y_chk_full.shape"
   ]
  },
  {
   "cell_type": "code",
   "execution_count": 59,
   "id": "cd92965c-9cf5-4ee7-9769-a52a0de67784",
   "metadata": {},
   "outputs": [
    {
     "data": {
      "text/plain": [
       "array([[   3.56194622,  -24.68021802],\n",
       "       [ -24.68021802, 1862.41330966]])"
      ]
     },
     "execution_count": 59,
     "metadata": {},
     "output_type": "execute_result"
    }
   ],
   "source": [
    "np.cov(y_chk_full.values.T)"
   ]
  },
  {
   "cell_type": "code",
   "execution_count": 60,
   "id": "94b1cb38-7f74-44ce-a9f0-4ca17a231460",
   "metadata": {},
   "outputs": [],
   "source": [
    "# c = np.zeros((2,2))"
   ]
  },
  {
   "cell_type": "code",
   "execution_count": 61,
   "id": "0850a7a1-2aa1-439c-aa0b-684ca0403107",
   "metadata": {},
   "outputs": [],
   "source": [
    "# c = c/size_ens"
   ]
  },
  {
   "cell_type": "code",
   "execution_count": 62,
   "id": "c403208f-b43b-4f73-97ef-405f2317c474",
   "metadata": {},
   "outputs": [],
   "source": [
    "# c"
   ]
  },
  {
   "cell_type": "code",
   "execution_count": 63,
   "id": "65bf21e9-92c6-4824-93c3-87274b072afa",
   "metadata": {},
   "outputs": [
    {
     "name": "stdout",
     "output_type": "stream",
     "text": [
      "Epoch 1\n",
      "Averaging Weight\n",
      "[0.5104711712379484, 0.23103598920333618]\n",
      "Weight Norms\n",
      "[39.79542224578449, 4.098409869467216]\n",
      "standardized_scale_R_t\n",
      "[0.87368039 0.73869782] 0.0037778656185435563\n",
      "Train RMSEs, Coverages, and Widths\n",
      "[ 4.88860917 79.41387104] [1. 1.] [ 163.31796507 3267.43570997]\n",
      "Test RMSEs, Coverages, and Widths\n",
      "[ 5.22868125 77.22532442] [1. 1.] [ 161.45541864 3232.04586629]\n",
      "data_scale_R_t\n",
      "[[  2260.73716341  -3545.0193172 ]\n",
      " [ -3545.0193172  895052.41575292]]\n",
      "patience\n",
      "0\n",
      "\n",
      "\n",
      "Epoch 2\n",
      "Averaging Weight\n",
      "[0.54301291075094, 0.21099123161418826]\n",
      "Weight Norms\n",
      "[35.92086486890767, 4.340732234478279]\n",
      "standardized_scale_R_t\n",
      "[0.85586847 0.73253227] -0.009678536800368709\n",
      "Train RMSEs, Coverages, and Widths\n",
      "[ 2.73794834 73.24989384] [1. 1.] [ 122.73243927 2342.99929554]\n",
      "Test RMSEs, Coverages, and Widths\n",
      "[ 2.78630223 68.2219405 ] [1. 1.] [ 121.24684557 2322.27669579]\n",
      "data_scale_R_t\n",
      "[[  1347.07485178  -1262.42324622]\n",
      " [ -1262.42324622 457953.72049635]]\n",
      "patience\n",
      "0\n",
      "\n",
      "\n",
      "Epoch 3\n",
      "Averaging Weight\n",
      "[0.5637043142261403, 0.19804989215884833]\n",
      "Weight Norms\n",
      "[33.21746008049428, 4.418211267453906]\n",
      "standardized_scale_R_t\n",
      "[0.92918743 0.74034091] -0.020317243792011073\n",
      "Train RMSEs, Coverages, and Widths\n",
      "[ 2.48728109 68.57983783] [1. 1.] [  94.24297638 1852.94434466]\n",
      "Test RMSEs, Coverages, and Widths\n",
      "[ 2.7190961  64.86312595] [1. 1.] [  94.14301428 1844.82369337]\n",
      "data_scale_R_t\n",
      "[[   790.00551265   -429.59502027]\n",
      " [  -429.59502027 301700.16143694]]\n",
      "patience\n",
      "0\n",
      "\n",
      "\n",
      "Epoch 4\n",
      "Averaging Weight\n",
      "[0.5904328114576953, 0.18632905163228589]\n",
      "Weight Norms\n",
      "[31.175939437017604, 4.50746959554812]\n",
      "standardized_scale_R_t\n",
      "[0.98948248 0.71298701] -0.03668773164701825\n",
      "Train RMSEs, Coverages, and Widths\n",
      "[ 2.57225639 69.72297922] [1. 1.] [  73.83581678 1511.89497252]\n",
      "Test RMSEs, Coverages, and Widths\n",
      "[ 2.74265069 66.49048737] [1. 1.] [  73.02241378 1495.91053584]\n",
      "data_scale_R_t\n",
      "[[ 4.81535620e+02 -1.05167738e+01]\n",
      " [-1.05167738e+01  1.94529208e+05]]\n",
      "patience\n",
      "1\n",
      "\n",
      "\n",
      "Epoch 5\n",
      "Averaging Weight\n",
      "[0.5936672657000871, 0.1772817757200517]\n",
      "Weight Norms\n",
      "[29.461701348116495, 4.50591899774702]\n",
      "standardized_scale_R_t\n",
      "[1.01181835 0.67409146] -0.050186344071090114\n",
      "Train RMSEs, Coverages, and Widths\n",
      "[ 2.68449374 59.70657959] [1. 1.] [  63.0831195  1257.09207597]\n",
      "Test RMSEs, Coverages, and Widths\n",
      "[ 2.94852156 56.24139703] [1. 1.] [  62.42065808 1246.32363254]\n",
      "data_scale_R_t\n",
      "[[   372.11635537    446.08742299]\n",
      " [   446.08742299 133367.6992837 ]]\n",
      "patience\n",
      "0\n",
      "\n",
      "\n",
      "Epoch 6\n",
      "Averaging Weight\n",
      "[0.6046637657601835, 0.16895993631438447]\n",
      "Weight Norms\n",
      "[27.996513823079923, 4.3028605754056555]\n",
      "standardized_scale_R_t\n",
      "[1.01721927 0.6892261 ] -0.053830082210474015\n",
      "Train RMSEs, Coverages, and Widths\n",
      "[ 2.41250768 55.39443369] [1. 1.] [  53.43597906 1060.32514796]\n",
      "Test RMSEs, Coverages, and Widths\n",
      "[ 2.6972241  51.53621588] [1. 1.] [  53.08574694 1053.43816247]\n",
      "data_scale_R_t\n",
      "[[  252.9075363    255.23883453]\n",
      " [  255.23883453 92901.15482601]]\n",
      "patience\n",
      "0\n",
      "\n",
      "\n",
      "Epoch 7\n",
      "Averaging Weight\n",
      "[0.6087755479397062, 0.16321723315439343]\n",
      "Weight Norms\n",
      "[26.660264714188884, 4.211527946521317]\n",
      "standardized_scale_R_t\n",
      "[1.03675874 0.69174831] -0.09130460032332192\n",
      "Train RMSEs, Coverages, and Widths\n",
      "[ 2.4336951  50.43790486] [1. 1.] [ 47.55341159 952.7958471 ]\n",
      "Test RMSEs, Coverages, and Widths\n",
      "[ 2.5066628  47.50513339] [1. 1.] [ 46.94977916 939.30902242]\n",
      "data_scale_R_t\n",
      "[[  199.22989249   161.95660182]\n",
      " [  161.95660182 73790.64195734]]\n",
      "patience\n",
      "0\n",
      "\n",
      "\n",
      "Epoch 8\n",
      "Averaging Weight\n",
      "[0.6255358867837622, 0.152393934771823]\n",
      "Weight Norms\n",
      "[25.409050851739764, 3.9274824521452243]\n",
      "standardized_scale_R_t\n",
      "[0.99159577 0.70908658] -0.10485708130407512\n",
      "Train RMSEs, Coverages, and Widths\n",
      "[ 2.3912668  48.64174464] [1. 1.] [ 38.07196819 778.99759412]\n",
      "Test RMSEs, Coverages, and Widths\n",
      "[ 2.42971656 46.21240452] [1. 1.] [ 37.5066576  772.94582513]\n",
      "data_scale_R_t\n",
      "[[  132.41555675    69.28668489]\n",
      " [   69.28668489 50597.84992012]]\n",
      "patience\n",
      "0\n",
      "\n",
      "\n",
      "Epoch 9\n",
      "Averaging Weight\n",
      "[0.6526063829419151, 0.13959503422679426]\n",
      "Weight Norms\n",
      "[24.21401068090816, 3.8667300896642254]\n",
      "standardized_scale_R_t\n",
      "[1.0962984  0.64858878] -0.10494154906887608\n",
      "Train RMSEs, Coverages, and Widths\n",
      "[ 2.29974239 48.11641548] [1. 1.] [ 32.00018479 675.51372767]\n",
      "Test RMSEs, Coverages, and Widths\n",
      "[ 2.45376449 45.01731184] [1. 1.] [ 31.6424098  668.26206995]\n",
      "data_scale_R_t\n",
      "[[ 9.22992102e+01 -3.30916387e+01]\n",
      " [-3.30916387e+01  3.69313547e+04]]\n",
      "patience\n",
      "0\n",
      "\n",
      "\n",
      "Epoch 10\n",
      "Averaging Weight\n",
      "[0.6979482455018111, 0.12079131425812464]\n",
      "Weight Norms\n",
      "[23.145763962629797, 3.68969352311542]\n",
      "standardized_scale_R_t\n",
      "[1.06528204 0.68152707] -0.08047145218009152\n",
      "Train RMSEs, Coverages, and Widths\n",
      "[ 2.05461194 46.15103911] [1. 1.] [ 24.87203199 537.86812793]\n",
      "Test RMSEs, Coverages, and Widths\n",
      "[ 2.24759278 43.1513367 ] [1. 1.] [ 24.67041995 532.09967251]\n",
      "data_scale_R_t\n",
      "[[   53.27106506    30.20679979]\n",
      " [   30.20679979 21774.12846388]]\n",
      "patience\n",
      "0\n",
      "\n",
      "\n",
      "Epoch 11\n",
      "Averaging Weight\n",
      "[0.6768809183094935, 0.11666802182124729]\n",
      "Weight Norms\n",
      "[22.033032016637474, 3.4927366941702647]\n",
      "standardized_scale_R_t\n",
      "[1.1573003 0.6273429] -0.036605234705397914\n",
      "Train RMSEs, Coverages, and Widths\n",
      "[ 2.06774177 46.98898817] [0.99582754 1.        ] [ 22.70602249 463.6305063 ]\n",
      "Test RMSEs, Coverages, and Widths\n",
      "[ 2.21112594 45.23096737] [0.99583333 0.99583333] [ 22.26967777 461.12094122]\n",
      "data_scale_R_t\n",
      "[[ 4.46421331e+01 -6.02161705e+00]\n",
      " [-6.02161705e+00  1.81002072e+04]]\n",
      "patience\n",
      "1\n",
      "\n",
      "\n",
      "Epoch 12\n",
      "Averaging Weight\n",
      "[0.684149543042282, 0.10849697634377892]\n",
      "Weight Norms\n",
      "[20.915791311019326, 3.069934708226301]\n",
      "standardized_scale_R_t\n",
      "[1.32086203 0.65057162] -0.02748320827570087\n",
      "Train RMSEs, Coverages, and Widths\n",
      "[ 2.00466551 46.51420062] [0.99582754 0.99721836] [ 19.21222415 373.41116069]\n",
      "Test RMSEs, Coverages, and Widths\n",
      "[ 2.07047813 44.02253418] [0.99583333 0.99166667] [ 19.0506526  371.21334915]\n",
      "data_scale_R_t\n",
      "[[   33.67991948   -47.23928183]\n",
      " [  -47.23928183 11837.77836234]]\n",
      "patience\n",
      "2\n",
      "\n",
      "\n",
      "Epoch 13\n",
      "Averaging Weight\n",
      "[0.6846954519266043, 0.10287517860686887]\n",
      "Weight Norms\n",
      "[19.72407859550061, 2.7641548385474226]\n",
      "standardized_scale_R_t\n",
      "[1.29628939 0.67441226] -0.05274157601291151\n",
      "Train RMSEs, Coverages, and Widths\n",
      "[ 1.97580117 45.67802472] [0.97913769 0.98887344] [ 14.71087308 314.71449758]\n",
      "Test RMSEs, Coverages, and Widths\n",
      "[ 2.11776624 44.01001007] [0.9875     0.98333333] [ 14.55385949 312.83913373]\n",
      "data_scale_R_t\n",
      "[[  19.41439199  -17.31658616]\n",
      " [ -17.31658616 8886.62975945]]\n",
      "patience\n",
      "0\n",
      "\n",
      "\n",
      "Epoch 14\n",
      "Averaging Weight\n",
      "[0.6782629464629256, 0.09467820030431424]\n",
      "Weight Norms\n",
      "[18.68310519208735, 2.379367662391517]\n",
      "standardized_scale_R_t\n",
      "[1.3478164  0.76032782] 0.016113449046276762\n",
      "Train RMSEs, Coverages, and Widths\n",
      "[ 2.0561184  45.92744012] [0.94436718 0.95549374] [ 11.86718488 237.79283558]\n",
      "Test RMSEs, Coverages, and Widths\n",
      "[ 2.15439303 45.96669854] [0.96666667 0.95      ] [ 11.76309353 237.62911224]\n",
      "data_scale_R_t\n",
      "[[  13.53581368  -46.28269846]\n",
      " [ -46.28269846 6024.2121311 ]]\n",
      "patience\n",
      "1\n",
      "\n",
      "\n",
      "Epoch 15\n",
      "Averaging Weight\n",
      "[0.6777985946205644, 0.08546384045205611]\n",
      "Weight Norms\n",
      "[17.6720869426181, 2.0288620988269073]\n",
      "standardized_scale_R_t\n",
      "[1.158502   0.83526988] 0.016716622681466328\n",
      "Train RMSEs, Coverages, and Widths\n",
      "[ 2.0703894  45.07212082] [0.90403338 0.89290682] [  8.94067945 191.22056517]\n",
      "Test RMSEs, Coverages, and Widths\n",
      "[ 2.14852516 44.96359763] [0.9        0.92083333] [  8.88893079 189.46715447]\n",
      "data_scale_R_t\n",
      "[[   8.57131531  -36.62489142]\n",
      " [ -36.62489142 4011.08076477]]\n",
      "patience\n",
      "0\n",
      "\n",
      "\n",
      "Epoch 16\n",
      "Averaging Weight\n",
      "[0.682378462412393, 0.07543951909957886]\n",
      "Weight Norms\n",
      "[16.887899341843752, 1.6806175525446128]\n",
      "standardized_scale_R_t\n",
      "[1.15681817 0.903488  ] 0.10106059504078509\n",
      "Train RMSEs, Coverages, and Widths\n",
      "[ 1.94048131 42.52902615] [0.83727399 0.80528512] [  6.7536272  142.19263888]\n",
      "Test RMSEs, Coverages, and Widths\n",
      "[ 2.06287997 43.59678117] [0.82916667 0.82916667] [  6.70913242 140.65523145]\n",
      "data_scale_R_t\n",
      "[[   5.13116802  -19.14195396]\n",
      " [ -19.14195396 2107.64988127]]\n",
      "patience\n",
      "0\n",
      "\n",
      "\n",
      "Epoch 17\n",
      "Averaging Weight\n",
      "[0.689396021196514, 0.06583616832821355]\n",
      "Weight Norms\n",
      "[16.428030913920885, 1.3584031328415087]\n",
      "standardized_scale_R_t\n",
      "[1.07445397 1.00231618] 0.17034709150787244\n",
      "Train RMSEs, Coverages, and Widths\n",
      "[ 1.84289669 41.95096968] [0.72878999 0.66620306] [ 4.56882638 99.57956228]\n",
      "Test RMSEs, Coverages, and Widths\n",
      "[ 2.03443788 42.84803806] [0.6875 0.7125] [ 4.56470424 98.08640736]\n",
      "data_scale_R_t\n",
      "[[   2.60090678  -17.76115822]\n",
      " [ -17.76115822 1375.92876193]]\n",
      "patience\n",
      "0\n",
      "\n",
      "\n",
      "Epoch 18\n",
      "Averaging Weight\n",
      "[0.6870063599139912, 0.0573455923257171]\n",
      "Weight Norms\n",
      "[15.872979360108495, 1.1457831593492058]\n",
      "standardized_scale_R_t\n",
      "[1.01765646 1.04962062] 0.1885838475144969\n",
      "Train RMSEs, Coverages, and Widths\n",
      "[ 1.84671362 41.40974482] [0.62726008 0.59388039] [ 3.61646695 76.83938812]\n",
      "Test RMSEs, Coverages, and Widths\n",
      "[ 2.00154194 42.49651416] [0.59583333 0.55833333] [ 3.58942489 75.89009947]\n",
      "data_scale_R_t\n",
      "[[   2.38375061  -14.07634119]\n",
      " [ -14.07634119 1107.10037245]]\n",
      "patience\n",
      "0\n",
      "\n",
      "\n",
      "Epoch 19\n",
      "Averaging Weight\n",
      "[0.6812499890577024, 0.05134141002042106]\n",
      "Weight Norms\n",
      "[15.440111325901013, 1.0067129912601036]\n",
      "standardized_scale_R_t\n",
      "[0.91623226 1.17174159] 0.19639146370128674\n",
      "Train RMSEs, Coverages, and Widths\n",
      "[ 1.80442582 41.55595979] [0.49235049 0.5132128 ] [ 2.51131273 60.17752305]\n",
      "Test RMSEs, Coverages, and Widths\n",
      "[ 2.02230295 42.73813923] [0.4625 0.4625] [ 2.49910543 60.06018293]\n",
      "data_scale_R_t\n",
      "[[   1.36246787  -11.25646461]\n",
      " [ -11.25646461 1110.23423581]]\n",
      "patience\n",
      "1\n",
      "\n",
      "\n",
      "Epoch 20\n",
      "Averaging Weight\n",
      "[0.6779783135204489, 0.04805888786413932]\n",
      "Weight Norms\n",
      "[15.04643529840398, 0.8751429617363073]\n",
      "standardized_scale_R_t\n",
      "[0.87424287 1.17871707] 0.1821893619156678\n",
      "Train RMSEs, Coverages, and Widths\n",
      "[ 1.78641092 41.34574734] [0.42837274 0.44923505] [ 2.09723907 49.72705513]\n",
      "Test RMSEs, Coverages, and Widths\n",
      "[ 2.01750974 42.54237133] [0.39166667 0.42083333] [ 2.09913853 49.18988499]\n",
      "data_scale_R_t\n",
      "[[  1.26379345  -9.30818002]\n",
      " [ -9.30818002 968.76069267]]\n",
      "patience\n",
      "0\n",
      "\n",
      "\n",
      "Epoch 21\n",
      "Averaging Weight\n",
      "[0.6792345493222265, 0.043154125775143194]\n",
      "Weight Norms\n",
      "[14.765886711811111, 0.8087726146846359]\n",
      "standardized_scale_R_t\n",
      "[0.85339448 1.20521836] 0.18737301831309375\n",
      "Train RMSEs, Coverages, and Widths\n",
      "[ 1.78231748 41.19171802] [0.3240612  0.35883171] [ 1.54054045 38.17900797]\n",
      "Test RMSEs, Coverages, and Widths\n",
      "[ 2.03181842 42.2372138 ] [0.3125 0.3125] [ 1.54325837 38.36028274]\n",
      "data_scale_R_t\n",
      "[[  1.05127427  -7.84218906]\n",
      " [ -7.84218906 817.0740593 ]]\n",
      "patience\n",
      "0\n",
      "\n",
      "\n",
      "Epoch 22\n",
      "Averaging Weight\n",
      "[0.6804450404002204, 0.04010238650330859]\n",
      "Weight Norms\n",
      "[14.576318942646086, 0.7403225431924463]\n",
      "standardized_scale_R_t\n",
      "[0.83734142 1.22732796] 0.17391056594216153\n",
      "Train RMSEs, Coverages, and Widths\n",
      "[ 1.78059592 41.15643259] [0.28929068 0.31293463] [ 1.28072414 33.03940993]\n",
      "Test RMSEs, Coverages, and Widths\n",
      "[ 2.03042091 42.22587513] [0.275      0.29166667] [ 1.28224114 32.95430022]\n",
      "data_scale_R_t\n",
      "[[  1.02293817  -7.41536319]\n",
      " [ -7.41536319 762.58075864]]\n",
      "patience\n",
      "0\n",
      "\n",
      "\n",
      "Epoch 23\n",
      "Averaging Weight\n",
      "[0.6779779807160374, 0.03736162791942747]\n",
      "Weight Norms\n",
      "[14.378347531710938, 0.6766991632267496]\n",
      "standardized_scale_R_t\n",
      "[0.83298675 1.23275756] 0.1721878533752695\n",
      "Train RMSEs, Coverages, and Widths\n",
      "[ 1.78009441 41.14985442] [0.2433936  0.25869263] [ 1.0852542  26.88974455]\n",
      "Test RMSEs, Coverages, and Widths\n",
      "[ 2.02782575 42.19924251] [0.23333333 0.22916667] [ 1.09052466 27.0348979 ]\n",
      "data_scale_R_t\n",
      "[[  1.0133764   -8.06144991]\n",
      " [ -8.06144991 742.23753472]]\n",
      "patience\n",
      "0\n",
      "\n",
      "\n",
      "Epoch 24\n",
      "Averaging Weight\n",
      "[0.6781066051545314, 0.03522456627734156]\n",
      "Weight Norms\n",
      "[14.227664184033848, 0.6336261902648934]\n",
      "standardized_scale_R_t\n",
      "[0.8336365  1.22679888] 0.1654228448015865\n",
      "Train RMSEs, Coverages, and Widths\n",
      "[ 1.77971041 41.14498375] [0.20723227 0.24061196] [ 0.94941577 24.75087222]\n",
      "Test RMSEs, Coverages, and Widths\n",
      "[ 2.02642437 42.15901142] [0.20833333 0.22916667] [ 0.95377361 24.76149934]\n",
      "data_scale_R_t\n",
      "[[  1.00404744  -8.09108358]\n",
      " [ -8.09108358 736.46476577]]\n",
      "patience\n",
      "0\n",
      "\n",
      "\n",
      "Epoch 25\n",
      "Averaging Weight\n",
      "[0.6796818060809945, 0.03425574119729896]\n",
      "Weight Norms\n",
      "[14.133241953022464, 0.6025783246964787]\n",
      "standardized_scale_R_t\n",
      "[0.83609768 1.22094898] 0.16478015949731226\n",
      "Train RMSEs, Coverages, and Widths\n",
      "[ 1.7794813  41.14227521] [0.18636996 0.21418637] [ 0.84623724 22.24470957]\n",
      "Test RMSEs, Coverages, and Widths\n",
      "[ 2.02698902 42.14514518] [0.18333333 0.19583333] [ 0.85047539 22.51834017]\n",
      "data_scale_R_t\n",
      "[[  0.98129619  -7.61491599]\n",
      " [ -7.61491599 723.35408676]]\n",
      "patience\n",
      "0\n",
      "\n",
      "\n",
      "Epoch 26\n",
      "Averaging Weight\n",
      "[0.6807693429814812, 0.03333038801927841]\n",
      "Weight Norms\n",
      "[14.05014609325183, 0.5886894277139172]\n",
      "standardized_scale_R_t\n",
      "[0.83277565 1.22988315] 0.15964498302304633\n",
      "Train RMSEs, Coverages, and Widths\n",
      "[ 1.77931187 41.14076929] [0.17107093 0.19749652] [ 0.77407623 20.16039098]\n",
      "Test RMSEs, Coverages, and Widths\n",
      "[ 2.0258161 42.1414683] [0.1625     0.19166667] [ 0.77506866 20.23208044]\n",
      "data_scale_R_t\n",
      "[[  0.97873273  -7.89353616]\n",
      " [ -7.89353616 725.12480791]]\n",
      "patience\n",
      "0\n",
      "\n",
      "\n",
      "Epoch 27\n",
      "Averaging Weight\n",
      "[0.6814803198945524, 0.031970977508080346]\n",
      "Weight Norms\n",
      "[13.96500082690301, 0.5580138850014553]\n",
      "standardized_scale_R_t\n",
      "[0.83552796 1.23083133] 0.15649499886389526\n",
      "Train RMSEs, Coverages, and Widths\n",
      "[ 1.77923033 41.13969457] [0.15438108 0.17802503] [ 0.70507901 18.81414585]\n",
      "Test RMSEs, Coverages, and Widths\n",
      "[ 2.02530084 42.15210921] [0.15  0.175] [ 0.70921855 18.83863177]\n",
      "data_scale_R_t\n",
      "[[  0.97846697  -7.73962626]\n",
      " [ -7.73962626 720.90545545]]\n",
      "patience\n",
      "0\n",
      "\n",
      "\n",
      "Epoch 28\n",
      "Averaging Weight\n",
      "[0.6819827333592805, 0.03198492343585476]\n",
      "Weight Norms\n",
      "[13.897508538712355, 0.5537553641288703]\n",
      "standardized_scale_R_t\n",
      "[0.83292447 1.23387571] 0.15441578695350497\n",
      "Train RMSEs, Coverages, and Widths\n",
      "[ 1.77916641 41.1394225 ] [0.14603616 0.17385257] [ 0.66004427 17.63778342]\n",
      "Test RMSEs, Coverages, and Widths\n",
      "[ 2.02537993 42.16342748] [0.15416667 0.1625    ] [ 0.66892057 17.80461751]\n",
      "data_scale_R_t\n",
      "[[  0.97467013  -7.48031002]\n",
      " [ -7.48031002 717.83630051]]\n",
      "patience\n",
      "0\n",
      "\n",
      "\n",
      "Epoch 29\n",
      "Averaging Weight\n",
      "[0.6826856076527014, 0.03127366737342442]\n",
      "Weight Norms\n",
      "[13.86544564321608, 0.5449748114812917]\n",
      "standardized_scale_R_t\n",
      "[0.83296152 1.23620616] 0.15740696623659076\n",
      "Train RMSEs, Coverages, and Widths\n",
      "[ 1.77908343 41.13837675] [0.12934631 0.16689847] [ 0.61553924 16.52762757]\n",
      "Test RMSEs, Coverages, and Widths\n",
      "[ 2.02540984 42.16011976] [0.14166667 0.15      ] [ 0.6199472 16.6804783]\n",
      "data_scale_R_t\n",
      "[[  0.96661893  -7.69537433]\n",
      " [ -7.69537433 714.91911552]]\n",
      "patience\n",
      "0\n",
      "\n",
      "\n",
      "Epoch 30\n",
      "Averaging Weight\n",
      "[0.6829042247679652, 0.030452056463345784]\n",
      "Weight Norms\n",
      "[13.809668048247703, 0.5243729984120118]\n",
      "standardized_scale_R_t\n",
      "[0.8306182  1.23637066] 0.15348607996755448\n",
      "Train RMSEs, Coverages, and Widths\n",
      "[ 1.77905338 41.13775874] [0.13212796 0.15716273] [ 0.58636856 15.46798007]\n",
      "Test RMSEs, Coverages, and Widths\n",
      "[ 2.02655935 42.15145551] [0.14166667 0.12916667] [ 0.59458477 15.54109325]\n",
      "data_scale_R_t\n",
      "[[  0.95228096  -7.67690364]\n",
      " [ -7.67690364 710.963029  ]]\n",
      "patience\n",
      "0\n",
      "\n",
      "\n",
      "Epoch 31\n",
      "Averaging Weight\n",
      "[0.6831402522301248, 0.029545753738005713]\n",
      "Weight Norms\n",
      "[13.753494922613989, 0.5043037304050703]\n",
      "standardized_scale_R_t\n",
      "[0.82833421 1.23917097] 0.14924823847534635\n",
      "Train RMSEs, Coverages, and Widths\n",
      "[ 1.77897552 41.13804875] [0.11961057 0.15299026] [ 0.5530273  14.79030854]\n",
      "Test RMSEs, Coverages, and Widths\n",
      "[ 2.02543936 42.1360415 ] [0.12083333 0.12916667] [ 0.56160209 14.8054792 ]\n",
      "data_scale_R_t\n",
      "[[  0.95448324  -7.74598306]\n",
      " [ -7.74598306 709.93852266]]\n",
      "patience\n",
      "1\n",
      "\n",
      "\n",
      "Epoch 32\n",
      "Averaging Weight\n",
      "[0.6827907751771939, 0.028775747853868106]\n",
      "Weight Norms\n",
      "[13.714613966334127, 0.4931135081005365]\n",
      "standardized_scale_R_t\n",
      "[0.82784122 1.23763481] 0.14628049499854387\n",
      "Train RMSEs, Coverages, and Widths\n",
      "[ 1.77893133 41.13714639] [0.11404729 0.14464534] [ 0.52133563 13.98777625]\n",
      "Test RMSEs, Coverages, and Widths\n",
      "[ 2.02448037 42.13346275] [0.10833333 0.11666667] [ 0.52671923 14.00889637]\n",
      "data_scale_R_t\n",
      "[[  0.95976614  -7.93444796]\n",
      " [ -7.93444796 709.09474232]]\n",
      "patience\n",
      "0\n",
      "\n",
      "\n",
      "Epoch 33\n",
      "Averaging Weight\n",
      "[0.6829062495230445, 0.02858001762077181]\n",
      "Weight Norms\n",
      "[13.684938010005064, 0.47569084095710884]\n",
      "standardized_scale_R_t\n",
      "[0.82964164 1.2414954 ] 0.14770641070117796\n",
      "Train RMSEs, Coverages, and Widths\n",
      "[ 1.77891265 41.13708478] [0.10987483 0.13769124] [ 0.4979507  13.39633281]\n",
      "Test RMSEs, Coverages, and Widths\n",
      "[ 2.02398978 42.1372149 ] [0.1125     0.10416667] [ 0.49871742 13.48033471]\n",
      "data_scale_R_t\n",
      "[[  0.96119471  -7.97233197]\n",
      " [ -7.97233197 708.28247079]]\n",
      "patience\n",
      "0\n",
      "\n",
      "\n",
      "Epoch 34\n",
      "Averaging Weight\n",
      "[0.6831583210454556, 0.02830256423987877]\n",
      "Weight Norms\n",
      "[13.65932597727504, 0.46815524572946315]\n",
      "standardized_scale_R_t\n",
      "[0.8304276  1.24952478] 0.14850855682157738\n",
      "Train RMSEs, Coverages, and Widths\n",
      "[ 1.77888047 41.13739824] [0.10292072 0.13073713] [ 0.4815124  12.88272524]\n",
      "Test RMSEs, Coverages, and Widths\n",
      "[ 2.02356784 42.13996001] [0.10416667 0.1       ] [ 0.48569753 13.07937662]\n",
      "data_scale_R_t\n",
      "[[  0.96181193  -7.8928676 ]\n",
      " [ -7.8928676  702.5538958 ]]\n",
      "patience\n",
      "1\n",
      "\n",
      "\n",
      "Epoch 35\n",
      "Averaging Weight\n",
      "[0.6830252943157353, 0.02810944268476378]\n",
      "Weight Norms\n",
      "[13.628380269030485, 0.4598182920884005]\n",
      "standardized_scale_R_t\n",
      "[0.8284895  1.25271047] 0.14795562439627652\n",
      "Train RMSEs, Coverages, and Widths\n",
      "[ 1.77886925 41.13723243] [0.09735744 0.12656467] [ 0.46134181 12.19360508]\n",
      "Test RMSEs, Coverages, and Widths\n",
      "[ 2.02362938 42.12215593] [0.09583333 0.09166667] [ 0.46392928 12.33453205]\n",
      "data_scale_R_t\n",
      "[[  0.96063495  -8.08370976]\n",
      " [ -8.08370976 708.88513154]]\n",
      "patience\n",
      "2\n",
      "\n",
      "\n",
      "Epoch 36\n",
      "Averaging Weight\n",
      "[0.6835622266133836, 0.027817728466609945]\n",
      "Weight Norms\n",
      "[13.600190412241439, 0.4518972571158911]\n",
      "standardized_scale_R_t\n",
      "[0.8287648  1.25651884] 0.1496243115892404\n",
      "Train RMSEs, Coverages, and Widths\n",
      "[ 1.77885702 41.13719836] [0.09179416 0.12517385] [ 0.43992622 11.80736476]\n",
      "Test RMSEs, Coverages, and Widths\n",
      "[ 2.02370168 42.11617498] [0.10416667 0.09166667] [ 0.44284039 11.99008353]\n",
      "data_scale_R_t\n",
      "[[  0.95832269  -8.11362409]\n",
      " [ -8.11362409 711.42973408]]\n",
      "patience\n",
      "3\n",
      "\n",
      "\n",
      "Epoch 37\n",
      "Averaging Weight\n",
      "[0.6848125919787144, 0.027195925249595555]\n",
      "Weight Norms\n",
      "[13.572281758720813, 0.44332437190635227]\n",
      "standardized_scale_R_t\n",
      "[0.82779457 1.25551284] 0.1472798409847841\n",
      "Train RMSEs, Coverages, and Widths\n",
      "[ 1.77883175 41.1367828 ] [0.09318498 0.11961057] [ 0.43559291 11.36346117]\n",
      "Test RMSEs, Coverages, and Widths\n",
      "[ 2.02368029 42.12403863] [0.09166667 0.08333333] [ 0.4356834  11.51914614]\n",
      "data_scale_R_t\n",
      "[[  0.95904096  -7.98282403]\n",
      " [ -7.98282403 710.11552068]]\n",
      "patience\n",
      "0\n",
      "\n",
      "\n",
      "Epoch 38\n",
      "Averaging Weight\n",
      "[0.6847704696010147, 0.0269831448140383]\n",
      "Weight Norms\n",
      "[13.556613211496858, 0.43327807546223107]\n",
      "standardized_scale_R_t\n",
      "[0.82520878 1.25574221] 0.1441117208134641\n",
      "Train RMSEs, Coverages, and Widths\n",
      "[ 1.77880918 41.13642784] [0.08623088 0.11821975] [ 0.42061991 11.04774887]\n",
      "Test RMSEs, Coverages, and Widths\n",
      "[ 2.02386911 42.11351751] [0.09583333 0.08333333] [ 0.42046603 11.20866637]\n",
      "data_scale_R_t\n",
      "[[  0.95682382  -8.02659004]\n",
      " [ -8.02659004 708.25557447]]\n",
      "patience\n",
      "0\n",
      "\n",
      "\n",
      "Epoch 39\n",
      "Averaging Weight\n",
      "[0.6851945679756097, 0.027002876406155965]\n",
      "Weight Norms\n",
      "[13.544811336519354, 0.4266752539726946]\n",
      "standardized_scale_R_t\n",
      "[0.82549237 1.25709324] 0.146051758896776\n",
      "Train RMSEs, Coverages, and Widths\n",
      "[ 1.77879625 41.13590804] [0.08623088 0.11961057] [ 0.40714713 10.91242372]\n",
      "Test RMSEs, Coverages, and Widths\n",
      "[ 2.02335421 42.12409436] [0.0875     0.08333333] [ 0.40913485 11.11489925]\n",
      "data_scale_R_t\n",
      "[[  0.95806552  -7.95492259]\n",
      " [ -7.95492259 705.52571869]]\n",
      "patience\n",
      "0\n",
      "\n",
      "\n",
      "Epoch 40\n",
      "Averaging Weight\n",
      "[0.6849517029152213, 0.026816616485756988]\n",
      "Weight Norms\n",
      "[13.52908000142644, 0.42045164252168227]\n",
      "standardized_scale_R_t\n",
      "[0.82405402 1.2556049 ] 0.14608154492035624\n",
      "Train RMSEs, Coverages, and Widths\n",
      "[ 1.77878499 41.13578017] [0.08205841 0.11543811] [ 0.40127409 10.58163339]\n",
      "Test RMSEs, Coverages, and Widths\n",
      "[ 2.02403449 42.12204214] [0.08333333 0.08333333] [ 0.40288171 10.72795503]\n",
      "data_scale_R_t\n",
      "[[  0.95281584  -7.97228614]\n",
      " [ -7.97228614 707.85721698]]\n",
      "patience\n",
      "0\n",
      "\n",
      "\n",
      "Epoch 41\n",
      "Averaging Weight\n",
      "[0.6849625113890301, 0.026515230541480965]\n",
      "Weight Norms\n",
      "[13.515539414987504, 0.4201117466780589]\n",
      "standardized_scale_R_t\n",
      "[0.82174738 1.25679862] 0.14395234733260648\n",
      "Train RMSEs, Coverages, and Widths\n",
      "[ 1.77876905 41.13538133] [0.07927677 0.11404729] [ 0.38460947 10.25062321]\n",
      "Test RMSEs, Coverages, and Widths\n",
      "[ 2.02437097 42.12391296] [0.08333333 0.075     ] [ 0.38977763 10.4118062 ]\n",
      "data_scale_R_t\n",
      "[[  0.95061418  -7.92675236]\n",
      " [ -7.92675236 707.53648266]]\n",
      "patience\n",
      "0\n",
      "\n",
      "\n",
      "Epoch 42\n",
      "Averaging Weight\n",
      "[0.685274344294041, 0.026148680283807398]\n",
      "Weight Norms\n",
      "[13.505039354514357, 0.4091571392200621]\n",
      "standardized_scale_R_t\n",
      "[0.8223933  1.26050745] 0.14462230926423994\n",
      "Train RMSEs, Coverages, and Widths\n",
      "[ 1.77873735 41.13513519] [0.07927677 0.11543811] [ 0.38620266 10.17237721]\n",
      "Test RMSEs, Coverages, and Widths\n",
      "[ 2.02394227 42.12420884] [0.08333333 0.075     ] [ 0.39051971 10.31831727]\n",
      "data_scale_R_t\n",
      "[[  0.95473956  -7.93201311]\n",
      " [ -7.93201311 704.04249981]]\n",
      "patience\n",
      "0\n",
      "\n",
      "\n",
      "Epoch 43\n",
      "Averaging Weight\n",
      "[0.6853501090072422, 0.025936467183240303]\n",
      "Weight Norms\n",
      "[13.494007400331682, 0.4113431244885521]\n",
      "standardized_scale_R_t\n",
      "[0.82235138 1.26130631] 0.14551934294972904\n",
      "Train RMSEs, Coverages, and Widths\n",
      "[ 1.77871966 41.13483442] [0.07788595 0.10848401] [0.380975   9.98919861]\n",
      "Test RMSEs, Coverages, and Widths\n",
      "[ 2.02394724 42.13232938] [0.07916667 0.07083333] [ 0.38385666 10.11363976]\n",
      "data_scale_R_t\n",
      "[[  0.95453627  -7.98060463]\n",
      " [ -7.98060463 704.55361279]]\n",
      "patience\n",
      "0\n",
      "\n",
      "\n",
      "Epoch 44\n",
      "Averaging Weight\n",
      "[0.6857824306555597, 0.0251709768522216]\n",
      "Weight Norms\n",
      "[13.478218736214432, 0.40677810452437585]\n",
      "standardized_scale_R_t\n",
      "[0.82230267 1.25815034] 0.14463942836080926\n",
      "Train RMSEs, Coverages, and Widths\n",
      "[ 1.77870823 41.13469875] [0.07788595 0.10709318] [0.36924569 9.66903153]\n",
      "Test RMSEs, Coverages, and Widths\n",
      "[ 2.02363155 42.13349419] [0.07916667 0.07083333] [0.37393761 9.79594441]\n",
      "data_scale_R_t\n",
      "[[  0.95708048  -8.00930322]\n",
      " [ -8.00930322 705.46070273]]\n",
      "patience\n",
      "0\n",
      "\n",
      "\n",
      "Epoch 45\n",
      "Averaging Weight\n",
      "[0.6856644977461859, 0.02505626377155863]\n",
      "Weight Norms\n",
      "[13.467316881658205, 0.3959810409758802]\n",
      "standardized_scale_R_t\n",
      "[0.82217752 1.25906828] 0.14492839495326654\n",
      "Train RMSEs, Coverages, and Widths\n",
      "[ 1.77869626 41.13447234] [0.07788595 0.10848401] [0.3608939  9.63294328]\n",
      "Test RMSEs, Coverages, and Widths\n",
      "[ 2.02392816 42.1355034 ] [0.07916667 0.075     ] [0.36553118 9.76362129]\n",
      "data_scale_R_t\n",
      "[[  0.9543626   -7.95238712]\n",
      " [ -7.95238712 701.63982198]]\n",
      "patience\n",
      "0\n",
      "\n",
      "\n",
      "Epoch 46\n",
      "Averaging Weight\n",
      "[0.6857721142679287, 0.024750408676965277]\n",
      "Weight Norms\n",
      "[13.453647126229688, 0.3869311778344902]\n",
      "standardized_scale_R_t\n",
      "[0.8229613  1.26274525] 0.14575316724748277\n",
      "Train RMSEs, Coverages, and Widths\n",
      "[ 1.77868893 41.1344939 ] [0.07649513 0.10431154] [0.35582485 9.33997616]\n",
      "Test RMSEs, Coverages, and Widths\n",
      "[ 2.02434534 42.13788263] [0.07916667 0.07083333] [0.35878935 9.50530458]\n",
      "data_scale_R_t\n",
      "[[  0.94957445  -7.86390282]\n",
      " [ -7.86390282 702.42789802]]\n",
      "patience\n",
      "1\n",
      "\n",
      "\n",
      "Epoch 47\n",
      "Averaging Weight\n",
      "[0.6858949516087606, 0.02436773933885623]\n",
      "Weight Norms\n",
      "[13.44466403597858, 0.3874906917474727]\n",
      "standardized_scale_R_t\n",
      "[0.82263457 1.2659831 ] 0.14531986198228464\n",
      "Train RMSEs, Coverages, and Widths\n",
      "[ 1.77868039 41.1345374 ] [0.07510431 0.10570236] [0.34619528 9.06205469]\n",
      "Test RMSEs, Coverages, and Widths\n",
      "[ 2.02426047 42.14404227] [0.07916667 0.06666667] [0.34863316 9.23403227]\n",
      "data_scale_R_t\n",
      "[[  0.94951098  -7.7924364 ]\n",
      " [ -7.7924364  702.74552562]]\n",
      "patience\n",
      "2\n",
      "\n",
      "\n",
      "Epoch 48\n",
      "Averaging Weight\n",
      "[0.6860904657782477, 0.024548262951546145]\n",
      "Weight Norms\n",
      "[13.43446121210216, 0.3854242870413853]\n",
      "standardized_scale_R_t\n",
      "[0.82239925 1.26673973] 0.14583180052792505\n",
      "Train RMSEs, Coverages, and Widths\n",
      "[ 1.77866966 41.13426695] [0.07649513 0.10431154] [0.33828415 8.95052966]\n",
      "Test RMSEs, Coverages, and Widths\n",
      "[ 2.02433219 42.14800685] [0.07916667 0.06666667] [0.34008234 9.06382822]\n",
      "data_scale_R_t\n",
      "[[  0.94962874  -7.79596317]\n",
      " [ -7.79596317 701.32489427]]\n",
      "patience\n",
      "0\n",
      "\n",
      "\n",
      "Epoch 49\n",
      "Averaging Weight\n",
      "[0.6865084084497807, 0.024482640732469217]\n",
      "Weight Norms\n",
      "[13.428130556591071, 0.3883477403739708]\n",
      "standardized_scale_R_t\n",
      "[0.82278176 1.26876187] 0.14604326388756725\n",
      "Train RMSEs, Coverages, and Widths\n",
      "[ 1.77866141 41.13427163] [0.07510431 0.10013908] [0.33317215 8.71363817]\n",
      "Test RMSEs, Coverages, and Widths\n",
      "[ 2.02449771 42.15195179] [0.075      0.06666667] [0.33637297 8.88505955]\n",
      "data_scale_R_t\n",
      "[[  0.94966072  -7.74678708]\n",
      " [ -7.74678708 700.8729859 ]]\n",
      "patience\n",
      "0\n",
      "\n",
      "\n",
      "Epoch 50\n",
      "Averaging Weight\n",
      "[0.6867812060962551, 0.024185572349287567]\n",
      "Weight Norms\n",
      "[13.418445100006291, 0.3883247440422331]\n",
      "standardized_scale_R_t\n",
      "[0.82307577 1.26908213] 0.14657193348808506\n",
      "Train RMSEs, Coverages, and Widths\n",
      "[ 1.7786484  41.13419214] [0.07371349 0.09596662] [0.32653237 8.62018905]\n",
      "Test RMSEs, Coverages, and Widths\n",
      "[ 2.02423462 42.15795229] [0.075  0.0625] [0.32935362 8.7663471 ]\n",
      "data_scale_R_t\n",
      "[[  0.9518497   -7.77786334]\n",
      " [ -7.77786334 700.15699174]]\n",
      "patience\n",
      "0\n",
      "\n",
      "\n",
      "Epoch 51\n",
      "Averaging Weight\n",
      "[0.686288572743292, 0.024051821679819237]\n",
      "Weight Norms\n",
      "[13.407838292872828, 0.3839032453847716]\n",
      "standardized_scale_R_t\n",
      "[0.82161299 1.27053917] 0.14503124383439736\n",
      "Train RMSEs, Coverages, and Widths\n",
      "[ 1.77863901 41.13416145] [0.06815021 0.09596662] [0.31775866 8.46782779]\n",
      "Test RMSEs, Coverages, and Widths\n",
      "[ 2.02425074 42.15609212] [0.07916667 0.0625    ] [0.32117839 8.56532425]\n",
      "data_scale_R_t\n",
      "[[  0.95120805  -7.78542461]\n",
      " [ -7.78542461 697.71468329]]\n",
      "patience\n",
      "0\n",
      "\n",
      "\n"
     ]
    },
    {
     "name": "stderr",
     "output_type": "stream",
     "text": [
      "\n",
      "KeyboardInterrupt\n",
      "\n"
     ]
    }
   ],
   "source": [
    "w1_catch = []\n",
    "w2_catch = []\n",
    "w1_sd_catch = []\n",
    "w2_sd_catch = []\n",
    "weight_norm_mean = []\n",
    "weight_norm_sd = []\n",
    "\n",
    "best_rmse = 10000\n",
    "patience = 0\n",
    "for i in range(0,10000):\n",
    "    c = np.zeros((2,2))\n",
    "    initial_ensembles = get_updated_ensemble(smiles_feats_train, rdkit_feats_train, initial_ensembles)\n",
    "    G_u_train, w1, w2 = get_predictions(smiles_feats_train, rdkit_feats_train, initial_ensembles)\n",
    "    \n",
    "    w1_catch.append(w1.mean())\n",
    "    w1_sd_catch.append(w1.std())\n",
    "    \n",
    "    w2_catch.append(w2.mean())\n",
    "    w2_sd_catch.append(w2.std())  \n",
    "    \n",
    "    print(\"Epoch \" + str(i+1))\n",
    "    \n",
    "    \n",
    "    print(\"Averaging Weight\")\n",
    "    print([w1.mean(), w1.std()])\n",
    "    # print(w2.mean(), w2.std())\n",
    "    \n",
    "    # G_u_train = get_targets_with_weights(smiles_feats_train, rdkit_feats_train, initial_ensembles, size_ens = size_ens)\n",
    "    catch = Parallel(n_jobs = 15, verbose = 0)(delayed(inverse_transform)(G_u_train, i)  for i in range(G_u_train.shape[0]))\n",
    "    G_u_train = np.array(catch)\n",
    "    \n",
    "    y_train_cur = std_targets.inverse_transform(y_train)\n",
    "    \n",
    "    li_train = np.percentile(G_u_train, axis = 0, q = (2.5, 97.5))[0,:,:]   \n",
    "    ui_train = np.percentile(G_u_train, axis = 0, q = (2.5, 97.5))[1,:,:]\n",
    "    \n",
    "    width_train = ui_train - li_train\n",
    "    avg_width_train = width_train.mean(0)\n",
    "    \n",
    "    ind_train = (y_train_cur >= li_train) & (y_train_cur <= ui_train)\n",
    "    coverage_train= ind_train.mean(0)\n",
    "    \n",
    "    averaged_targets_train = G_u_train.mean(0)\n",
    "    rmse_train = np.sqrt(((y_train_cur -averaged_targets_train)**2).mean(0))\n",
    "    # print(rmse_train, coverage_train, avg_width_train)\n",
    "    \n",
    "    G_u_test, _, _ = get_predictions(smiles_feats_valid, rdkit_feats_valid, initial_ensembles)\n",
    "    \n",
    "    catch = Parallel(n_jobs = 15, verbose = 0)(delayed(inverse_transform)(G_u_test, i)  for i in range(G_u_test.shape[0]))\n",
    "    G_u_test = np.array(catch)\n",
    "    \n",
    "    y_valid_cur = std_targets.inverse_transform(y_valid)    \n",
    "    \n",
    "    li_test = np.percentile(G_u_test, axis = 0, q = (2.5, 97.5))[0,:,:]   \n",
    "    ui_test = np.percentile(G_u_test, axis = 0, q = (2.5, 97.5))[1,:,:]\n",
    "    \n",
    "    width_test = ui_test - li_test\n",
    "    avg_width_test = width_test.mean(0)\n",
    "    \n",
    "    ind_test = (y_valid_cur >= li_test) & (y_valid_cur <= ui_test)\n",
    "    coverage_test= ind_test.mean(0)\n",
    "    \n",
    "    averaged_targets_test = G_u_test.mean(0)\n",
    "    rmse_test = np.sqrt(((y_valid_cur -averaged_targets_test)**2).mean(0))    \n",
    "    \n",
    "    weight_norms = np.array(norm(initial_ensembles, ord = 2, axis = 1))\n",
    "    weight_norm_mean.append(weight_norms.mean())\n",
    "    weight_norm_sd.append(weight_norms.std())\n",
    "    \n",
    "   \n",
    "    print(\"Weight Norms\")\n",
    "    print([weight_norms.mean(), weight_norms.std()])\n",
    "    \n",
    "    \n",
    "    # if np.mean(coverage_train < 0.95) == 1:\n",
    "    #     break\n",
    "        \n",
    "    cov_mat_final, _ = create_cov(smiles_feats_train.shape[0],initial_ensembles)\n",
    "    \n",
    "    print(\"standardized_scale_R_t\")\n",
    "    print(np.diag(cov_mat_final), cov_mat_final[0,1])\n",
    "    \n",
    "    print(\"Train RMSEs, Coverages, and Widths\")\n",
    "    print(rmse_train, coverage_train, avg_width_train)\n",
    "    \n",
    "    print(\"Test RMSEs, Coverages, and Widths\")\n",
    "    print(rmse_test, coverage_test, avg_width_test)\n",
    "    \n",
    "\n",
    "    \n",
    "    \n",
    "    \n",
    "    value = rmse_train.mean()\n",
    "    \n",
    "    for i in range(0, size_ens):\n",
    "        c+= np.cov(G_u_train[i,:,:].T)\n",
    "        \n",
    "    c = c/size_ens    \n",
    "    \n",
    "    if value < best_rmse: \n",
    "        best_rmse = value\n",
    "        best_coverage = coverage_train\n",
    "        patience = 0\n",
    "        best_rmse_test = rmse_test\n",
    "        best_coverage_test = coverage_test\n",
    "        best_R_t = c\n",
    "        # print(['i', 'best_rmse', 'best_coverage', 'best_rmse_test', 'best_coverage_test', 'best_R_t'])\n",
    "        # print([i, best_rmse, best_coverage, best_rmse_test, best_coverage_test, best_R_t])\n",
    "    else:\n",
    "        patience +=1 \n",
    "    \n",
    "    print(\"data_scale_R_t\")\n",
    "    print(c)\n",
    "        \n",
    "    print('patience')\n",
    "    print(patience)\n",
    "    \n",
    "    print(\"\\n\")    \n",
    "        \n",
    "    if patience >= 20:\n",
    "        break\n",
    "    "
   ]
  },
  {
   "cell_type": "code",
   "execution_count": null,
   "id": "e0cd0232-864e-422d-810b-ada022f08acf",
   "metadata": {},
   "outputs": [],
   "source": [
    "# value"
   ]
  },
  {
   "cell_type": "code",
   "execution_count": 64,
   "id": "a81eb6c3-e084-4e43-aa5e-3f9b0f5ee016",
   "metadata": {},
   "outputs": [
    {
     "data": {
      "text/plain": [
       "(276, 240, 2)"
      ]
     },
     "execution_count": 64,
     "metadata": {},
     "output_type": "execute_result"
    }
   ],
   "source": [
    "G_u_test.shape"
   ]
  },
  {
   "cell_type": "code",
   "execution_count": 65,
   "id": "96d8df43-9ae3-47f6-9c69-ac77c38a6eb6",
   "metadata": {},
   "outputs": [],
   "source": [
    "import random"
   ]
  },
  {
   "cell_type": "code",
   "execution_count": 66,
   "id": "47207771-df91-48f0-9963-9a78989bcfe3",
   "metadata": {},
   "outputs": [],
   "source": [
    "random_idx = random.sample(range(y_valid_cur.shape[0]), k = 8)"
   ]
  },
  {
   "cell_type": "code",
   "execution_count": 67,
   "id": "af5f17ea-a47c-421d-bd32-7a0dc0f1af60",
   "metadata": {},
   "outputs": [
    {
     "data": {
      "image/png": "[encoded data removed]",
      "text/plain": [
       "<Figure size 1500x1500 with 16 Axes>"
      ]
     },
     "metadata": {},
     "output_type": "display_data"
    }
   ],
   "source": [
    "fig, axs = plt.subplots(8, 2,figsize=(15, 15))\n",
    "# axs = axs.ravel()\n",
    "# counter = 0\n",
    "for idx, i in enumerate(random_idx):\n",
    "    # print(counter)\n",
    "    truth = y_valid_cur[i,:]\n",
    "    preds = G_u_test[:, i,:]\n",
    "    percts = np.percentile(preds, axis = 0, q = (2.5, 97.5))\n",
    "    lis = percts[0,:]\n",
    "    uis = percts[1,:]\n",
    "    \n",
    "    \n",
    "    axs[idx, 0].hist(preds[:,0])\n",
    "    axs[idx, 0].axvline(truth[0], color='green', linewidth=2)\n",
    "    axs[idx, 0].axvline(lis[0], color='red', linewidth=2)\n",
    "    axs[idx, 0].axvline(uis[0], color='red', linewidth=2)\n",
    "    \n",
    "    axs[idx, 1].hist(preds[:,1])\n",
    "    axs[idx, 1].axvline(truth[1], color='green', linewidth=2)\n",
    "    axs[idx, 1].axvline(lis[1], color='red', linewidth=2)\n",
    "    axs[idx, 1].axvline(uis[1], color='red', linewidth=2)\n",
    "    \n",
    "    # counter+=2\n",
    "    # print(counter)\n",
    "    \n",
    "    # plt.show()\n",
    "plt.savefig('prediction_intervals.png', bbox_inches='tight')"
   ]
  },
  {
   "cell_type": "code",
   "execution_count": 68,
   "id": "3230a62b-f36f-4ec0-9c7d-0ba75c9de369",
   "metadata": {},
   "outputs": [
    {
     "data": {
      "image/png": "[encoded data removed]",
      "text/plain": [
       "<Figure size 640x480 with 1 Axes>"
      ]
     },
     "metadata": {},
     "output_type": "display_data"
    },
    {
     "data": {
      "image/png": "[encoded data removed]",
      "text/plain": [
       "<Figure size 640x480 with 1 Axes>"
      ]
     },
     "metadata": {},
     "output_type": "display_data"
    }
   ],
   "source": [
    "plt.scatter(y_valid_cur[:, 0], averaged_targets_test[:,0])\n",
    "plt.axline((0,0), slope = 1, c= \"black\")\n",
    "plt.show()\n",
    "plt.scatter(y_valid_cur[:,1], averaged_targets_test[:, 1])\n",
    "plt.axline((0,0), slope = 1, c= \"black\")\n",
    "plt.show()"
   ]
  },
  {
   "cell_type": "code",
   "execution_count": 69,
   "id": "30c8d1f1-5b52-48eb-997c-0a760a8729a6",
   "metadata": {},
   "outputs": [
    {
     "data": {
      "image/png": "[encoded data removed]",
      "text/plain": [
       "<Figure size 640x480 with 1 Axes>"
      ]
     },
     "metadata": {},
     "output_type": "display_data"
    }
   ],
   "source": [
    "plt.plot(w1_catch)\n",
    "plt.show()"
   ]
  },
  {
   "cell_type": "code",
   "execution_count": 70,
   "id": "aaa904e3-6452-4443-93ef-3c54377ff059",
   "metadata": {},
   "outputs": [
    {
     "data": {
      "image/png": "[encoded data removed]",
      "text/plain": [
       "<Figure size 640x480 with 1 Axes>"
      ]
     },
     "metadata": {},
     "output_type": "display_data"
    }
   ],
   "source": [
    "plt.plot(w1_sd_catch)\n",
    "plt.show()\n"
   ]
  },
  {
   "cell_type": "code",
   "execution_count": 71,
   "id": "0a36715c-20fa-406e-9ac6-55a56152d3e3",
   "metadata": {},
   "outputs": [
    {
     "data": {
      "text/plain": [
       "<ErrorbarContainer object of 3 artists>"
      ]
     },
     "execution_count": 71,
     "metadata": {},
     "output_type": "execute_result"
    },
    {
     "data": {
      "image/png": "[encoded data removed]",
      "text/plain": [
       "<Figure size 640x480 with 1 Axes>"
      ]
     },
     "metadata": {},
     "output_type": "display_data"
    }
   ],
   "source": [
    "plt.errorbar(range(0, len(w1_catch)), w1_catch, w1_sd_catch)"
   ]
  },
  {
   "cell_type": "code",
   "execution_count": 72,
   "id": "c9a18b9e-6388-4b45-b46b-e7ecd3ba8f56",
   "metadata": {},
   "outputs": [
    {
     "data": {
      "text/plain": [
       "<ErrorbarContainer object of 3 artists>"
      ]
     },
     "execution_count": 72,
     "metadata": {},
     "output_type": "execute_result"
    },
    {
     "data": {
      "image/png": "[encoded data removed]",
      "text/plain": [
       "<Figure size 640x480 with 1 Axes>"
      ]
     },
     "metadata": {},
     "output_type": "display_data"
    }
   ],
   "source": [
    "plt.errorbar(range(0, len(weight_norm_mean)), weight_norm_mean, weight_norm_sd)"
   ]
  },
  {
   "cell_type": "code",
   "execution_count": 73,
   "id": "c5a7783b-b135-41e1-8ae7-6a346965daa5",
   "metadata": {},
   "outputs": [],
   "source": [
    "cov_mat_final, _ = create_cov(smiles_feats_train.shape[0],initial_ensembles)"
   ]
  },
  {
   "cell_type": "code",
   "execution_count": 74,
   "id": "5d891012-f14b-40fa-b8e4-8bf97bac5710",
   "metadata": {},
   "outputs": [],
   "source": [
    "# R_t"
   ]
  },
  {
   "cell_type": "code",
   "execution_count": 75,
   "id": "65fd1fd9-89cb-4a66-896c-62f8805c0725",
   "metadata": {},
   "outputs": [
    {
     "data": {
      "text/plain": [
       "array([[   3.56194622,  -24.68021802],\n",
       "       [ -24.68021802, 1862.41330966]])"
      ]
     },
     "execution_count": 75,
     "metadata": {},
     "output_type": "execute_result"
    }
   ],
   "source": [
    "np.cov(y_chk_full.values.T)"
   ]
  },
  {
   "cell_type": "code",
   "execution_count": 76,
   "id": "0b6d0666-8d71-4b66-bc92-9d03cf19d550",
   "metadata": {},
   "outputs": [
    {
     "data": {
      "text/plain": [
       "array([[  0.95120805,  -7.78542461],\n",
       "       [ -7.78542461, 697.71468329]])"
      ]
     },
     "execution_count": 76,
     "metadata": {},
     "output_type": "execute_result"
    }
   ],
   "source": [
    "best_R_t"
   ]
  }
 ],
 "metadata": {
  "kernelspec": {
   "display_name": "enkf",
   "language": "python",
   "name": "enkf"
  },
  "language_info": {
   "codemirror_mode": {
    "name": "ipython",
    "version": 3
   },
   "file_extension": ".py",
   "mimetype": "text/x-python",
   "name": "python",
   "nbconvert_exporter": "python",
   "pygments_lexer": "ipython3",
   "version": "3.10.8"
  }
 },
 "nbformat": 4,
 "nbformat_minor": 5
}
