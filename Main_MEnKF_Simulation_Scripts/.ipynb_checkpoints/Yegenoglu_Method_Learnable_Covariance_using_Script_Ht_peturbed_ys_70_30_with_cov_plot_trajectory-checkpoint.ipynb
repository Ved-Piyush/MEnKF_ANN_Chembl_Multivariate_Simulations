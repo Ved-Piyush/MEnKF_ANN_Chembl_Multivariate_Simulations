{
 "cells": [
  {
   "cell_type": "code",
   "execution_count": 1,
   "id": "aa53e19a-64db-4b1d-9378-c19c8efacd62",
   "metadata": {},
   "outputs": [
    {
     "name": "stderr",
     "output_type": "stream",
     "text": [
      "2023-08-16 05:48:33.342660: I tensorflow/core/util/port.cc:110] oneDNN custom operations are on. You may see slightly different numerical results due to floating-point round-off errors from different computation orders. To turn them off, set the environment variable `TF_ENABLE_ONEDNN_OPTS=0`.\n",
      "2023-08-16 05:48:33.408922: I tensorflow/tsl/cuda/cudart_stub.cc:28] Could not find cuda drivers on your machine, GPU will not be used.\n",
      "2023-08-16 05:48:33.724184: I tensorflow/tsl/cuda/cudart_stub.cc:28] Could not find cuda drivers on your machine, GPU will not be used.\n",
      "2023-08-16 05:48:33.726273: I tensorflow/core/platform/cpu_feature_guard.cc:182] This TensorFlow binary is optimized to use available CPU instructions in performance-critical operations.\n",
      "To enable the following instructions: AVX2 AVX512F AVX512_VNNI FMA, in other operations, rebuild TensorFlow with the appropriate compiler flags.\n",
      "2023-08-16 05:48:35.358347: W tensorflow/compiler/tf2tensorrt/utils/py_utils.cc:38] TF-TRT Warning: Could not find TensorRT\n"
     ]
    }
   ],
   "source": [
    "import pandas as pd\n",
    "import numpy as np\n",
    "from sklearn.model_selection import KFold\n",
    "from sklearn.feature_selection import VarianceThreshold\n",
    "import random\n",
    "import pickle\n",
    "from sklearn.preprocessing import StandardScaler\n",
    "import os\n",
    "import tensorflow as tf\n",
    "from tqdm.notebook import tqdm\n",
    "from scipy.stats import multivariate_normal as mvn\n",
    "import matplotlib.pyplot as plt\n",
    "from scipy.linalg import block_diag\n",
    "import warnings\n",
    "import os\n",
    "os.environ['TF_CPP_MIN_LOG_LEVEL'] = '3' "
   ]
  },
  {
   "cell_type": "code",
   "execution_count": 2,
   "id": "a6028973-9799-4d8a-b919-a8dd6283faf1",
   "metadata": {},
   "outputs": [],
   "source": [
    "warnings.filterwarnings('ignore')"
   ]
  },
  {
   "cell_type": "code",
   "execution_count": 3,
   "id": "d459b853-f520-4181-a9a9-310a6dd20de1",
   "metadata": {},
   "outputs": [],
   "source": [
    "def get_targets_with_weights(batch_data, initial_ensembles, size_ens): \n",
    "    \n",
    "    target_dim = 1\n",
    "    \n",
    "    # weights_ann_1 = ann.get_weights()\n",
    "    \n",
    "    # h1  = ann.layers[1].output.shape[-1]\n",
    "\n",
    "    n_hidden_1 = len(weights_ann_1[0].ravel())\n",
    "    \n",
    "    hidden_weights_1 = initial_ensembles[:,:n_hidden_1].reshape( size_ens, batch_data.shape[1], h1)\n",
    "    \n",
    "    \n",
    "    hidden_output_1 = np.einsum('ij,kjl->kil', batch_data, hidden_weights_1)\n",
    "\n",
    "    \n",
    "    hidden_layer_bias_1 = initial_ensembles[:,n_hidden_1:(n_hidden_1 + h1)].reshape(size_ens, 1,  h1)\n",
    "\n",
    "\n",
    "    hidden_output_1 = hidden_output_1 + hidden_layer_bias_1\n",
    "\n",
    "    n_pred_weights_1 = len(weights_ann_1[2].ravel())\n",
    "\n",
    "    output_weights_1 = initial_ensembles[:,(n_hidden_1 + h1):(n_hidden_1 + h1 + n_pred_weights_1) ].reshape(size_ens, h1, target_dim)\n",
    "\n",
    "\n",
    "    output_1 = np.einsum('ijk,ikl->ijl', hidden_output_1, output_weights_1)\n",
    "\n",
    "\n",
    "    output_layer_bias_1 = initial_ensembles[:,(n_hidden_1 + h1 + n_pred_weights_1):(n_hidden_1 + h1 + n_pred_weights_1 + target_dim)].reshape(size_ens, 1, target_dim)\n",
    "\n",
    "\n",
    "    final_output_1 = output_1 + output_layer_bias_1\n",
    "    \n",
    "    final_output_1 = final_output_1[:,:, 0]\n",
    "    \n",
    "    # print(final_output_1.shape, initial_ensembles.shape)\n",
    "    \n",
    "    stack = np.hstack((final_output_1, initial_ensembles))\n",
    "\n",
    "    \n",
    "    return final_output_1, stack"
   ]
  },
  {
   "cell_type": "code",
   "execution_count": 4,
   "id": "2a66ee4c-4112-4dca-a9cc-68a60d4e316f",
   "metadata": {},
   "outputs": [],
   "source": [
    "def ann(hidden = 32, input_shape = 256, output_shape = 1): \n",
    "    input_layer = tf.keras.layers.Input(shape = (input_shape))\n",
    "    hidden_layer = tf.keras.layers.Dense(hidden)\n",
    "    hidden_output = hidden_layer(input_layer)\n",
    "    pred_layer = tf.keras.layers.Dense(output_shape, activation = \"relu\")\n",
    "    pred_output = pred_layer(hidden_output)\n",
    "#     pred_output = tf.keras.layers.Activation(\"softmax\")(pred_output)\n",
    "    model = tf.keras.models.Model(input_layer, pred_output)\n",
    "    return model"
   ]
  },
  {
   "cell_type": "code",
   "execution_count": 5,
   "id": "e0b9ef03-af61-4ce4-99ff-2f0b5dca639d",
   "metadata": {},
   "outputs": [],
   "source": [
    "def generate_initial_ensembles(num_weights, lambda1, size_ens):\n",
    "    mean_vec = np.zeros((num_weights,))\n",
    "    cov_matrix = lambda1*np.identity(num_weights)\n",
    "    mvn_samp = mvn(mean_vec, cov_matrix)\n",
    "    return mvn_samp.rvs(size_ens)"
   ]
  },
  {
   "cell_type": "code",
   "execution_count": 6,
   "id": "fe2ea2b5-13a4-41c4-8257-c6c18708501b",
   "metadata": {},
   "outputs": [],
   "source": [
    "def expit(x):\n",
    "    \"\"\"Compute softmax values for each sets of scores in x.\"\"\"\n",
    "#     e_x = np.exp(x - np.max(x))\n",
    "    return 1 / (1 + np.exp(-x))"
   ]
  },
  {
   "cell_type": "code",
   "execution_count": 7,
   "id": "758ac30a-bcc7-4b5e-9314-7fb85f284f70",
   "metadata": {},
   "outputs": [],
   "source": [
    "samp_ann =  ann(hidden = 16, input_shape = 32, output_shape = 1)"
   ]
  },
  {
   "cell_type": "code",
   "execution_count": 8,
   "id": "2548f2de-a4c3-4850-b5cc-439634f5c4de",
   "metadata": {},
   "outputs": [],
   "source": [
    "weights_ann_1 = samp_ann.get_weights()"
   ]
  },
  {
   "cell_type": "code",
   "execution_count": 9,
   "id": "1338dc89-5540-4867-95a6-3d0ea7639cdd",
   "metadata": {},
   "outputs": [],
   "source": [
    "h1  = samp_ann.layers[1].output.shape[-1]"
   ]
  },
  {
   "cell_type": "code",
   "execution_count": 10,
   "id": "427b0370-90df-4ab4-85b9-691d082750bf",
   "metadata": {},
   "outputs": [
    {
     "data": {
      "text/plain": [
       "545"
      ]
     },
     "execution_count": 10,
     "metadata": {},
     "output_type": "execute_result"
    }
   ],
   "source": [
    "samp_ann.count_params()"
   ]
  },
  {
   "cell_type": "code",
   "execution_count": 11,
   "id": "06982568-e5c1-4712-895c-7b3d49a09040",
   "metadata": {},
   "outputs": [],
   "source": [
    "hidden_neurons = h1"
   ]
  },
  {
   "cell_type": "code",
   "execution_count": 12,
   "id": "a71c4646-23a6-45ca-9ccc-aa4c3566d8a8",
   "metadata": {},
   "outputs": [],
   "source": [
    "samp_ann_params = samp_ann.count_params()"
   ]
  },
  {
   "cell_type": "code",
   "execution_count": 13,
   "id": "b5f741d7-ba99-4803-8441-5bf2ad3d72f7",
   "metadata": {},
   "outputs": [],
   "source": [
    "def get_initial_X_t(data1, data2, size_ens, var_weights = 1.0, var_weight_weights = 4.0):\n",
    "    # samp_ann =  ann(hidden = hidden_neurons, input_shape = 32, output_shape = 1)\n",
    "    \n",
    "    initial_ensembles1 = generate_initial_ensembles(samp_ann_params, var_weights, size_ens)\n",
    "    data1_out1, data1_stack1 = get_targets_with_weights(data1, initial_ensembles1, size_ens = size_ens)\n",
    "    \n",
    "    initial_ensembles2 = generate_initial_ensembles(samp_ann_params, var_weights, size_ens)\n",
    "    data1_out2, data1_stack2 = get_targets_with_weights(data1, initial_ensembles2, size_ens = size_ens)\n",
    "    \n",
    "    initial_ensembles3 = generate_initial_ensembles(samp_ann_params, var_weights, size_ens)\n",
    "    data2_out1, data2_stack1 = get_targets_with_weights(data2, initial_ensembles3, size_ens = size_ens)\n",
    "    \n",
    "    initial_ensembles4 = generate_initial_ensembles(samp_ann_params, var_weights, size_ens)\n",
    "    data2_out2, data2_stack2 = get_targets_with_weights(data2, initial_ensembles4, size_ens = size_ens)   \n",
    "    \n",
    "    X_t = np.concatenate((np.expand_dims(data1_stack1, -1), np.expand_dims(data1_stack2, -1), \n",
    "                         np.expand_dims(data2_stack1, -1), np.expand_dims(data2_stack2, -1)), axis = -1)\n",
    "    \n",
    "    initial_ensembles_for_weights = generate_initial_ensembles(4, var_weight_weights, size_ens)\n",
    "    initial_ensembles_for_weights = np.expand_dims(initial_ensembles_for_weights,1)\n",
    "    \n",
    "    initial_ensembles_for_L = generate_initial_ensembles(4, var_weights, size_ens)\n",
    "    initial_ensembles_for_L = np.expand_dims(initial_ensembles_for_L,1)    \n",
    "    \n",
    "    initial_ensembles_for_D1 = generate_initial_ensembles(1, var_weights, size_ens).reshape(-1,1)\n",
    "    initial_ensembles_for_D2 = generate_initial_ensembles(1, var_weights, size_ens).reshape(-1,1)\n",
    "    \n",
    "    initial_ensembles_for_D1_zero = np.zeros((size_ens,1,1)).reshape(-1,1)\n",
    "    initial_ensembles_for_D2_zero = np.zeros((size_ens,1,1)).reshape(-1,1)\n",
    "    \n",
    "    initial_ensembles_for_D = np.concatenate((np.expand_dims(initial_ensembles_for_D1,1),\n",
    "                                                       np.expand_dims(initial_ensembles_for_D1_zero,1), \n",
    "                                                      np.expand_dims(initial_ensembles_for_D2,1),\n",
    "                                                       np.expand_dims(initial_ensembles_for_D2_zero,1)), axis = 2)\n",
    "    \n",
    "    # print(X_t.shape, initial_ensembles_for_weights.shape)\n",
    "    \n",
    "    X_t = np.concatenate((X_t, initial_ensembles_for_weights, initial_ensembles_for_L, initial_ensembles_for_D), axis = 1)\n",
    "    \n",
    "    initial_ensembles = np.hstack((initial_ensembles1, initial_ensembles2, initial_ensembles3, initial_ensembles4))\n",
    "    \n",
    "    return X_t, initial_ensembles, initial_ensembles_for_weights[:,0,:], initial_ensembles_for_L[:,0,:], initial_ensembles_for_D[:,0,:]"
   ]
  },
  {
   "cell_type": "code",
   "execution_count": 14,
   "id": "6ac49c8c-6da0-4ee2-9561-e1d19365f182",
   "metadata": {},
   "outputs": [],
   "source": [
    "def get_weighted_targets_with_weights(batch_data, initial_ensembles, size_ens, weights): \n",
    "    \n",
    "    target_dim = 1\n",
    "    \n",
    "\n",
    "    n_hidden_1 = len(weights_ann_1[0].ravel())\n",
    "    \n",
    "    hidden_weights_1 = initial_ensembles[:,:n_hidden_1].reshape( size_ens, batch_data.shape[1], h1)\n",
    "    \n",
    "    \n",
    "    hidden_output_1 = np.einsum('ij,kjl->kil', batch_data, hidden_weights_1)\n",
    "\n",
    "    \n",
    "    hidden_layer_bias_1 = initial_ensembles[:,n_hidden_1:(n_hidden_1 + h1)].reshape(size_ens, 1,  h1)\n",
    "\n",
    "\n",
    "    hidden_output_1 = hidden_output_1 + hidden_layer_bias_1\n",
    "\n",
    "    n_pred_weights_1 = len(weights_ann_1[2].ravel())\n",
    "\n",
    "    output_weights_1 = initial_ensembles[:,(n_hidden_1 + h1):(n_hidden_1 + h1 + n_pred_weights_1) ].reshape(size_ens, h1, target_dim)\n",
    "\n",
    "\n",
    "    output_1 = np.einsum('ijk,ikl->ijl', hidden_output_1, output_weights_1)\n",
    "\n",
    "\n",
    "    output_layer_bias_1 = initial_ensembles[:,(n_hidden_1 + h1 + n_pred_weights_1):(n_hidden_1 + h1 + n_pred_weights_1 + target_dim)].reshape(size_ens, 1, target_dim)\n",
    "\n",
    "\n",
    "    final_output_1 = output_1 + output_layer_bias_1\n",
    "    \n",
    "    final_output_1 = final_output_1[:,:, 0]\n",
    "    \n",
    "    final_output_1 = final_output_1*weights\n",
    "    \n",
    "    # print(final_output_1.shape, initial_ensembles.shape)\n",
    "    \n",
    "    stack = np.hstack((final_output_1, initial_ensembles))\n",
    "\n",
    "    \n",
    "    return final_output_1, stack"
   ]
  },
  {
   "cell_type": "code",
   "execution_count": 15,
   "id": "b697b7f9-3d50-4d71-a436-cdc6434909a5",
   "metadata": {},
   "outputs": [],
   "source": [
    "std_targets = pickle.load( open('..//Data//target_scaler.pkl', 'rb'))"
   ]
  },
  {
   "cell_type": "code",
   "execution_count": 16,
   "id": "9ace8608-8da1-4b4e-b051-a7b49feae636",
   "metadata": {},
   "outputs": [],
   "source": [
    "# R_t = np.array([[0.02, 0], [0, 0.02]])"
   ]
  },
  {
   "cell_type": "code",
   "execution_count": 17,
   "id": "d156603a-c127-45b6-a74d-2735987d03ce",
   "metadata": {},
   "outputs": [],
   "source": [
    "# var1 = R_t[0,0]\n",
    "# var2 = R_t[1,1]\n",
    "# cov = R_t[1,0]"
   ]
  },
  {
   "cell_type": "code",
   "execution_count": 18,
   "id": "c5a2f9ca-f4b4-445a-ab5f-e0f0557f54a9",
   "metadata": {},
   "outputs": [],
   "source": [
    "from scipy.stats import beta"
   ]
  },
  {
   "cell_type": "code",
   "execution_count": 19,
   "id": "44ed09c8-f6b0-4b40-86e0-1975541fd0ac",
   "metadata": {},
   "outputs": [],
   "source": [
    "fudging_beta = beta(1,9)"
   ]
  },
  {
   "cell_type": "code",
   "execution_count": 20,
   "id": "9d1a4f5e-7a0d-42b7-ad45-59c708b7b727",
   "metadata": {},
   "outputs": [],
   "source": [
    "def forward_operation(data1, data2, combined_ensembles , size_ens, fudging_beta):\n",
    "    # samp_ann =  ann(hidden = hidden_neurons, input_shape = 32, output_shape = 1)\n",
    "    params = samp_ann_params\n",
    "    initial_ensembles1 = combined_ensembles[:, :params]\n",
    "    initial_ensembles2 = combined_ensembles[:, params:(2*params)]\n",
    "    initial_ensembles3 = combined_ensembles[:, (2*params):(3*params)]\n",
    "    initial_ensembles4 = combined_ensembles[:, (3*params):(4*params)]\n",
    "\n",
    "    \n",
    "    initial_ensembles_for_weights = combined_ensembles[:, (4*params):(4*params + 4)]\n",
    "    \n",
    "    initial_ensembles_for_L = combined_ensembles[:, (4*params + 4):(4*params + 4 + 4)]\n",
    "    \n",
    "    initial_ensembles_for_D = combined_ensembles[:,(4*params + 4 + 4):(4*params + 4 + 4 + 4)]\n",
    "    \n",
    "    \n",
    "    softmax_weights = tf.math.softmax(initial_ensembles_for_weights).numpy()\n",
    "    \n",
    "    model_1 = softmax_weights[:, :2].sum(1).reshape(-1,1) +  fudging_beta.rvs(size_ens).reshape(-1,1)\n",
    "    \n",
    "    # model_1 = np.min(model_1 -fudging_factor)\n",
    "    \n",
    "    model_2 = softmax_weights[:, 2:].sum(1).reshape(-1,1) +  fudging_beta.rvs(size_ens).reshape(-1,1)\n",
    "    \n",
    "    \n",
    "    model_1_plus_model_2 = model_1 + model_2\n",
    "    \n",
    "    model_1 = model_1/model_1_plus_model_2\n",
    "    \n",
    "    model_2 = model_2/model_1_plus_model_2\n",
    "    \n",
    "    \n",
    "    # print(np.mean(model_1 + model_2))\n",
    "    \n",
    "    data1_out1, data1_stack1 = get_weighted_targets_with_weights(data1, initial_ensembles1, size_ens = size_ens,\n",
    "                                                                  weights=model_1)\n",
    "    \n",
    "    data1_out2, data1_stack2 = get_weighted_targets_with_weights(data1, initial_ensembles2, size_ens = size_ens,\n",
    "                                                                weights=model_1)\n",
    "    \n",
    "    data2_out1, data2_stack1 = get_weighted_targets_with_weights(data2, initial_ensembles3, size_ens = size_ens,\n",
    "                                                                 weights=model_2)\n",
    "    \n",
    "    data2_out2, data2_stack2 = get_weighted_targets_with_weights(data2, initial_ensembles4, size_ens = size_ens,\n",
    "                                                                  weights=model_2)   \n",
    "    \n",
    "    X_t = np.concatenate((np.expand_dims(data1_stack1, -1), np.expand_dims(data1_stack2, -1), \n",
    "                         np.expand_dims(data2_stack1, -1), np.expand_dims(data2_stack2, -1)), axis = -1)\n",
    "    \n",
    "    initial_ensembles = np.hstack((initial_ensembles1, initial_ensembles2, initial_ensembles3, initial_ensembles4, \n",
    "                        initial_ensembles_for_weights, initial_ensembles_for_L, initial_ensembles_for_D))\n",
    "    \n",
    "    # print(X_t.shape)\n",
    "    \n",
    "    initial_ensembles_for_weights = np.expand_dims(initial_ensembles_for_weights,1)\n",
    "    \n",
    "    initial_ensembles_for_L = np.expand_dims(initial_ensembles_for_L,1)\n",
    "    \n",
    "    initial_ensembles_for_D = np.expand_dims(initial_ensembles_for_D,1)\n",
    "    \n",
    "    # print(initial_ensembles_for_weights.shape)\n",
    "    \n",
    "    X_t = np.concatenate((X_t, initial_ensembles_for_weights, initial_ensembles_for_L, initial_ensembles_for_D), axis = 1)\n",
    "    \n",
    "    weighted_alogp = data1_out1 + data2_out1\n",
    "    \n",
    "    weighted_psa = data1_out2 + data2_out2\n",
    "    \n",
    "    return X_t, initial_ensembles, weighted_alogp, weighted_psa, model_1, model_2"
   ]
  },
  {
   "cell_type": "code",
   "execution_count": 21,
   "id": "c6bd2eb3-86b7-41ed-81b4-4dd8e44e106e",
   "metadata": {},
   "outputs": [],
   "source": [
    "def forward_operation_test(data1, data2, combined_ensembles , size_ens):\n",
    "    # samp_ann =  ann(hidden = hidden_neurons, input_shape = 32, output_shape = 1)\n",
    "    params = samp_ann_params\n",
    "    initial_ensembles1 = combined_ensembles[:, :params]\n",
    "    initial_ensembles2 = combined_ensembles[:, params:(2*params)]\n",
    "    initial_ensembles3 = combined_ensembles[:, (2*params):(3*params)]\n",
    "    initial_ensembles4 = combined_ensembles[:, (3*params):(4*params)]\n",
    "\n",
    "    \n",
    "    initial_ensembles_for_weights = combined_ensembles[:, (4*params):(4*params + 4)]\n",
    "    \n",
    "    initial_ensembles_for_L = combined_ensembles[:, (4*params + 4):(4*params + 4 + 4)]\n",
    "    \n",
    "    initial_ensembles_for_D = combined_ensembles[:,(4*params + 4 + 4):(4*params + 4 + 4 + 4)]\n",
    "    \n",
    "    \n",
    "    softmax_weights = tf.math.softmax(initial_ensembles_for_weights).numpy()\n",
    "    \n",
    "    model_1 = softmax_weights[:, :2].sum(1).reshape(-1,1) \n",
    "    \n",
    "    # model_1 = np.min(model_1 -fudging_factor)\n",
    "    \n",
    "    model_2 = softmax_weights[:, 2:].sum(1).reshape(-1,1) \n",
    "    \n",
    "    \n",
    "#     model_1_plus_model_2 = model_1 + model_2\n",
    "    \n",
    "#     model_1 = model_1/model_1_plus_model_2\n",
    "    \n",
    "#     model_2 = model_2/model_1_plus_model_2\n",
    "    \n",
    "    \n",
    "    # print(np.mean(model_1 + model_2))\n",
    "    \n",
    "    data1_out1, data1_stack1 = get_weighted_targets_with_weights(data1, initial_ensembles1, size_ens = size_ens,\n",
    "                                                                  weights=model_1)\n",
    "    \n",
    "    data1_out2, data1_stack2 = get_weighted_targets_with_weights(data1, initial_ensembles2, size_ens = size_ens,\n",
    "                                                                weights=model_1)\n",
    "    \n",
    "    data2_out1, data2_stack1 = get_weighted_targets_with_weights(data2, initial_ensembles3, size_ens = size_ens,\n",
    "                                                                 weights=model_2)\n",
    "    \n",
    "    data2_out2, data2_stack2 = get_weighted_targets_with_weights(data2, initial_ensembles4, size_ens = size_ens,\n",
    "                                                                  weights=model_2)   \n",
    "    \n",
    "    X_t = np.concatenate((np.expand_dims(data1_stack1, -1), np.expand_dims(data1_stack2, -1), \n",
    "                         np.expand_dims(data2_stack1, -1), np.expand_dims(data2_stack2, -1)), axis = -1)\n",
    "    \n",
    "    initial_ensembles = np.hstack((initial_ensembles1, initial_ensembles2, initial_ensembles3, initial_ensembles4, \n",
    "                        initial_ensembles_for_weights, initial_ensembles_for_L, initial_ensembles_for_D))\n",
    "    \n",
    "    # print(X_t.shape)\n",
    "    \n",
    "    initial_ensembles_for_weights = np.expand_dims(initial_ensembles_for_weights,1)\n",
    "    \n",
    "    initial_ensembles_for_L = np.expand_dims(initial_ensembles_for_L,1)\n",
    "    \n",
    "    initial_ensembles_for_D = np.expand_dims(initial_ensembles_for_D,1)\n",
    "    \n",
    "    # print(initial_ensembles_for_weights.shape)\n",
    "    \n",
    "    X_t = np.concatenate((X_t, initial_ensembles_for_weights, initial_ensembles_for_L, initial_ensembles_for_D), axis = 1)\n",
    "    \n",
    "    weighted_alogp = data1_out1 + data2_out1\n",
    "    \n",
    "    weighted_psa = data1_out2 + data2_out2\n",
    "    \n",
    "    return X_t, initial_ensembles, weighted_alogp, weighted_psa, model_1, model_2"
   ]
  },
  {
   "cell_type": "code",
   "execution_count": 22,
   "id": "e15b0bf7-ba00-40bc-933b-c1c3e062e98e",
   "metadata": {},
   "outputs": [],
   "source": [
    "# samp_ann =  ann(hidden = 16, input_shape = 32, output_shape = 1)"
   ]
  },
  {
   "cell_type": "code",
   "execution_count": 23,
   "id": "af3dd570-7ab3-4eae-bd8e-9a57a333b30a",
   "metadata": {},
   "outputs": [],
   "source": [
    "total_weights = 4*(samp_ann.count_params() + 1 + 1 + 1)"
   ]
  },
  {
   "cell_type": "code",
   "execution_count": 24,
   "id": "e820b010-4396-4b7a-8781-a8e6d503aad5",
   "metadata": {},
   "outputs": [],
   "source": [
    "reduction = 10"
   ]
  },
  {
   "cell_type": "code",
   "execution_count": 25,
   "id": "e5fbaaf7-afae-4008-a26c-e0691ef9b3f9",
   "metadata": {},
   "outputs": [],
   "source": [
    "size_ens = total_weights//reduction"
   ]
  },
  {
   "cell_type": "code",
   "execution_count": 26,
   "id": "a5111536-1a97-4390-9658-c9848a136a3f",
   "metadata": {},
   "outputs": [
    {
     "data": {
      "text/plain": [
       "219"
      ]
     },
     "execution_count": 26,
     "metadata": {},
     "output_type": "execute_result"
    }
   ],
   "source": [
    "size_ens"
   ]
  },
  {
   "cell_type": "code",
   "execution_count": 27,
   "id": "3f598992-73d6-4b5a-906d-3184f1b9625f",
   "metadata": {},
   "outputs": [],
   "source": [
    "G_t = [[1, 0, 1, 0], [0, 1, 0, 1]]\n",
    "G_t = np.array(G_t).T"
   ]
  },
  {
   "cell_type": "code",
   "execution_count": 28,
   "id": "a84cb0e3-2f5e-4207-b092-d2768b52205a",
   "metadata": {},
   "outputs": [],
   "source": [
    "def get_predictions(data1, data2, initial_ensembles, fudging_beta  =fudging_beta): \n",
    "    _,_, weighted_alogp, weighted_psa, w1, w2 = forward_operation(data1, data2, initial_ensembles, size_ens = size_ens, fudging_beta = fudging_beta)\n",
    "    weighted_alogp = np.expand_dims(weighted_alogp,-1)\n",
    "    weighted_psa = np.expand_dims(weighted_psa,-1)\n",
    "    preds = np.concatenate((weighted_alogp, weighted_psa),-1)\n",
    "    return preds, w1, w2"
   ]
  },
  {
   "cell_type": "code",
   "execution_count": 29,
   "id": "37b60b37-92b1-4784-85fc-59a865d2398f",
   "metadata": {},
   "outputs": [],
   "source": [
    "def get_predictions_test(data1, data2, initial_ensembles): \n",
    "    _,_, weighted_alogp, weighted_psa, w1, w2 = forward_operation_test(data1, data2, initial_ensembles, size_ens = size_ens)\n",
    "    weighted_alogp = np.expand_dims(weighted_alogp,-1)\n",
    "    weighted_psa = np.expand_dims(weighted_psa,-1)\n",
    "    preds = np.concatenate((weighted_alogp, weighted_psa),-1)\n",
    "    return preds, w1, w2"
   ]
  },
  {
   "cell_type": "code",
   "execution_count": 30,
   "id": "3af0a9b9-6202-40e2-911f-3c890213099f",
   "metadata": {},
   "outputs": [],
   "source": [
    "def calculate_mu_bar_G_bar(data1, data2, initial_ensembles, fudging_beta):\n",
    "    H_t = np.hstack((np.identity(data1.shape[0]), np.zeros((data1.shape[0], samp_ann_params + 1 + 1 + 1))))\n",
    "    mu_bar = initial_ensembles.mean(0)\n",
    "    X_t,_, _, _, _, _ = forward_operation(data1, data2, initial_ensembles, size_ens = size_ens, fudging_beta = fudging_beta)\n",
    "    X_t = X_t.transpose((0,2,1))\n",
    "    X_t = X_t.reshape(X_t.shape[0], X_t.shape[1]*X_t.shape[2])\n",
    "    script_H_t = np.kron(G_t.T, H_t)\n",
    "    G_u = (script_H_t@X_t.T)\n",
    "    G_u = G_u.T\n",
    "    G_bar = (G_u.mean(0)).ravel()\n",
    "    return mu_bar.reshape(-1,1), G_bar.reshape(-1,1), G_u"
   ]
  },
  {
   "cell_type": "code",
   "execution_count": 31,
   "id": "7334c80c-cfcd-4d5b-b844-11cfb8c137df",
   "metadata": {},
   "outputs": [],
   "source": [
    "def calculate_C_u(initial_ensembles, mu_bar, G_bar, G_u): \n",
    "    u_j_minus_u_bar = initial_ensembles - mu_bar.reshape(1,-1)\n",
    "    G_u_minus_G_bar = G_u -  G_bar.reshape(1,-1)\n",
    "    c = np.zeros((total_weights, G_bar.shape[0]))\n",
    "    for i in range(0, size_ens): \n",
    "        c += np.kron(u_j_minus_u_bar[i, :].T.reshape(-1,1), G_u_minus_G_bar[i,:].reshape(-1,1).T)\n",
    "    return c/size_ens, G_u_minus_G_bar"
   ]
  },
  {
   "cell_type": "code",
   "execution_count": 32,
   "id": "9148779c-1a3f-455d-a6ad-00fc1bf69c1f",
   "metadata": {},
   "outputs": [],
   "source": [
    "def calculate_D_u( G_bar, G_u): \n",
    "    G_u_minus_G_bar = G_u -  G_bar.reshape(1,-1)\n",
    "    d = np.zeros((G_bar.shape[0], G_bar.shape[0]))\n",
    "    for i in range(0, size_ens): \n",
    "        d += np.kron(G_u_minus_G_bar[i,:].T.reshape(-1,1), G_u_minus_G_bar[i,:].reshape(-1,1).T)\n",
    "    return d/size_ens"
   ]
  },
  {
   "cell_type": "code",
   "execution_count": 33,
   "id": "6e8459b0-68c1-4d1f-851e-3d7b99f0ffc5",
   "metadata": {},
   "outputs": [],
   "source": [
    "def get_updated_ensemble(data1, data2, initial_ensembles, y_train, size_ens = size_ens, inflation_factor = 1.0, fudging_beta = fudging_beta):\n",
    "    mu_bar, G_bar, G_u = calculate_mu_bar_G_bar(data1, data2, initial_ensembles, fudging_beta)\n",
    "    C, G_u_minus_G_bar = calculate_C_u(initial_ensembles, mu_bar, G_bar, G_u)\n",
    "    D = calculate_D_u( G_bar, G_u)\n",
    "    _, R_t = create_cov(data1.shape[0],initial_ensembles)\n",
    "    inflation = np.identity(R_t.shape[0])*inflation_factor\n",
    "    D_plus_cov = D + (R_t *inflation_factor)\n",
    "    D_plus_cov_inv = np.linalg.inv(D_plus_cov)\n",
    "    mid_quant = C@D_plus_cov_inv\n",
    "    noise_vec_mean = np.zeros((R_t.shape[0], ))\n",
    "    noise_mvn = mvn(noise_vec_mean, R_t)\n",
    "    fudging = noise_mvn.rvs(size_ens)\n",
    "    interim = (y_train.T.flatten().reshape(1,-1) + fudging)\n",
    "    right_quant = interim - G_u\n",
    "    mid_times_right = mid_quant@right_quant.T\n",
    "    updated_ensemble = (initial_ensembles + mid_times_right.T)\n",
    "    return updated_ensemble"
   ]
  },
  {
   "cell_type": "code",
   "execution_count": 34,
   "id": "c14b236d-6ebf-40e3-9085-97afd2990e4d",
   "metadata": {},
   "outputs": [],
   "source": [
    "target_dim = 2"
   ]
  },
  {
   "cell_type": "code",
   "execution_count": 35,
   "id": "346d07bc-5b61-4e75-a816-a6e22ffe9d76",
   "metadata": {},
   "outputs": [],
   "source": [
    "lambda_D = 1"
   ]
  },
  {
   "cell_type": "code",
   "execution_count": 36,
   "id": "dc3a216a-4dbb-474d-8219-5f6c071250a4",
   "metadata": {},
   "outputs": [],
   "source": [
    "def inverse_transform(data, idx):\n",
    "    data_cur = data[idx, :, :]\n",
    "    inv_data_cur = std_targets.inverse_transform(data_cur)\n",
    "    return inv_data_cur"
   ]
  },
  {
   "cell_type": "code",
   "execution_count": 37,
   "id": "5abd35fb-ea92-449d-894a-162ed1f4aaec",
   "metadata": {},
   "outputs": [],
   "source": [
    "from joblib import Parallel, delayed"
   ]
  },
  {
   "cell_type": "code",
   "execution_count": 38,
   "id": "381fc654-8877-41fd-840a-4b35153f923b",
   "metadata": {},
   "outputs": [],
   "source": [
    "def create_cov(shape, initial_ensembles):\n",
    "    cov_part = initial_ensembles[:, -8:-4]\n",
    "    cov_part = cov_part.mean(0)\n",
    "    # variances = tf.math.softplus(cov_part[:2]).numpy()\n",
    "    variances = cov_part[:2]\n",
    "    covariances = cov_part[2:]\n",
    "    base_cov = np.identity(target_dim)\n",
    "    base_cov[0,0] = variances[0]\n",
    "    base_cov[1,1] = variances[1]\n",
    "    base_cov[0,1] = covariances[0]\n",
    "    base_cov[1,0] = covariances[1]\n",
    "    \n",
    "    variances1 = tf.math.softplus(initial_ensembles[:, -4:]).numpy()\n",
    "    variances1 = variances1.mean(0)\n",
    "    base_variances = np.identity(target_dim)\n",
    "    base_variances[0,0] = variances1[0]\n",
    "    base_variances[1,1] = variances1[2]\n",
    "    \n",
    "    final = np.linalg.cholesky(base_cov@base_cov.T + base_variances)\n",
    "    cov_mat = final@final.T\n",
    "    cov_mat_final = cov_mat\n",
    "    # cov_mat_final = cov_mat@cov_mat.T\n",
    "    \n",
    "    if is_pos_def(cov_mat_final) != True:\n",
    "        print(\"resulting cov matrix is not positive semi definite\")\n",
    "        pass\n",
    "    \n",
    "    # print(np.linalg.det(cov_mat_final))\n",
    "    \n",
    "    var1 = cov_mat_final[0,0]\n",
    "    var2 = cov_mat_final[1,1]\n",
    "    cov = cov_mat_final[1,0]\n",
    "\n",
    "    n = shape\n",
    "    \n",
    "    ul = var1*np.identity(n)\n",
    "    lr = var2*np.identity(n)\n",
    "    ur = cov*np.identity(n)\n",
    "    ll = ur.T    \n",
    "    \n",
    "    first_row = np.hstack((ul, ur))\n",
    "    second_row = np.hstack((ll, lr))\n",
    "    \n",
    "    R_t = np.vstack((first_row, second_row))\n",
    "    \n",
    "    return cov_mat_final, R_t\n",
    "    "
   ]
  },
  {
   "cell_type": "code",
   "execution_count": 39,
   "id": "30aea5e4-361f-44ae-9ea3-d1d8743e6ef3",
   "metadata": {},
   "outputs": [],
   "source": [
    "def is_pos_def(x):\n",
    "    return np.all(np.linalg.eigvals(x) > 0)"
   ]
  },
  {
   "cell_type": "code",
   "execution_count": 40,
   "id": "ed1f9938-cdc5-400f-8bab-22c180a6d0a7",
   "metadata": {},
   "outputs": [],
   "source": [
    "with open(\"..//Data//smiles_to_rdkit_70_30_with_cov_minus_0.27_var.pickle\", \"rb\") as f: \n",
    "    catch = pickle.load(f)"
   ]
  },
  {
   "cell_type": "code",
   "execution_count": 41,
   "id": "7c59ea29-6484-40d5-8777-80cf9ca6cf5d",
   "metadata": {},
   "outputs": [],
   "source": [
    "# idx = 1"
   ]
  },
  {
   "cell_type": "code",
   "execution_count": 42,
   "id": "176445fb-4f30-421a-a710-339955111baa",
   "metadata": {},
   "outputs": [],
   "source": [
    "def prepare_data(idx, var_weights = 1.0, var_weight_weights = 4.0): \n",
    "    catch_idx = catch[idx]\n",
    "    x_train, x_valid, y_train, y_valid = catch_idx[0], catch_idx[1], catch_idx[2], catch_idx[3]\n",
    "    y_train_actual, y_train = y_train[:,:2], y_train[:,2:]\n",
    "    y_valid_actual, y_valid = y_valid[:,:2], y_valid[:,2:]\n",
    "    smiles_feats_train = x_train[:, :32]\n",
    "    rdkit_feats_train = x_train[:, 32:]\n",
    "    smiles_feats_valid = x_valid[:, :32]\n",
    "    rdkit_feats_valid = x_valid[:, 32:]\n",
    "\n",
    "    X_t, initial_ensembles, initial_ensembles_for_weights, initial_ensembles_for_L, initial_ensembles_for_D = get_initial_X_t(smiles_feats_train, rdkit_feats_train, size_ens = size_ens, var_weights = var_weights, var_weight_weights = var_weight_weights)\n",
    "    initial_ensembles = np.hstack((initial_ensembles, initial_ensembles_for_weights, initial_ensembles_for_L, initial_ensembles_for_D))\n",
    "    \n",
    "    return smiles_feats_train, rdkit_feats_train, smiles_feats_valid, rdkit_feats_valid, y_train, y_train_actual, y_valid, y_valid_actual, initial_ensembles "
   ]
  },
  {
   "cell_type": "code",
   "execution_count": 43,
   "id": "82d67093-cbd5-4a2b-bdbc-aa33a082e189",
   "metadata": {},
   "outputs": [],
   "source": [
    "# smiles_feats_train, rdkit_feats_train, smiles_feats_valid, rdkit_feats_valid, y_train, y_train_actual, y_valid, y_valid_actual, initial_ensembles  = prepare_data(idx)"
   ]
  },
  {
   "cell_type": "code",
   "execution_count": 44,
   "id": "fa640128-df71-44ec-b20b-6922bdb5b6d1",
   "metadata": {},
   "outputs": [],
   "source": [
    "# y_train"
   ]
  },
  {
   "cell_type": "code",
   "execution_count": 45,
   "id": "dc0c894d-db8c-4d88-bd51-ef23ca80fae5",
   "metadata": {},
   "outputs": [],
   "source": [
    "# y_train_actual"
   ]
  },
  {
   "cell_type": "code",
   "execution_count": 46,
   "id": "e5cffacb-8558-45ca-bff9-e803e3fd6720",
   "metadata": {},
   "outputs": [],
   "source": [
    "from scipy.linalg import norm"
   ]
  },
  {
   "cell_type": "code",
   "execution_count": 47,
   "id": "3a2e8d41-0775-457c-97a2-4060fd72634a",
   "metadata": {},
   "outputs": [],
   "source": [
    "# beta(1,19).rvs(size_ens).mean()"
   ]
  },
  {
   "cell_type": "code",
   "execution_count": 48,
   "id": "65bf21e9-92c6-4824-93c3-87274b072afa",
   "metadata": {},
   "outputs": [],
   "source": [
    "def get_results(idx, var_weights = 1.0, var_weight_weights = 1.0, inflation_factor = 1.2, fudging_beta = beta(1,19)):\n",
    "    # print('var_weights' + str(var_weights))\n",
    "    # print('inflation_factor' + str(inflation_factor))\n",
    "    # print('var_weight_weights' + str(var_weight_weights))\n",
    "    smiles_feats_train, rdkit_feats_train, smiles_feats_valid, rdkit_feats_valid, y_train, y_train_actual, y_valid, y_valid_actual, initial_ensembles  = prepare_data(idx, var_weights = var_weights, var_weight_weights =var_weight_weights)\n",
    "    # print(R_t.shape)\n",
    "    best_train_width_mean = 100000\n",
    "    smile_weight_mean = []\n",
    "    smile_weight_sd = []\n",
    "    for i in range(0,10000):\n",
    "        # print(i)\n",
    "    \n",
    "        c = np.zeros((2,2))\n",
    "        initial_ensembles = get_updated_ensemble(smiles_feats_train, rdkit_feats_train, initial_ensembles, y_train, size_ens, inflation_factor = inflation_factor, fudging_beta = fudging_beta)\n",
    "        # print(inflation_factor)\n",
    "        G_u_train, w1, w2 = get_predictions(smiles_feats_train, rdkit_feats_train, initial_ensembles, fudging_beta)\n",
    "        smile_weight_mean.append(w1.mean())\n",
    "        smile_weight_sd.append(w1.std())\n",
    "        # print(w1.mean(), w2.mean())\n",
    "        catch = Parallel(n_jobs = 15, verbose = 0)(delayed(inverse_transform)(G_u_train, i)  for i in range(G_u_train.shape[0]))\n",
    "        G_u_train = np.array(catch)\n",
    "    \n",
    "        y_train_cur = std_targets.inverse_transform(y_train_actual)\n",
    "    \n",
    "        li_train = np.percentile(G_u_train, axis = 0, q = (2.5, 97.5))[0,:,:]   \n",
    "        ui_train = np.percentile(G_u_train, axis = 0, q = (2.5, 97.5))[1,:,:]\n",
    "    \n",
    "        width_train = ui_train - li_train\n",
    "        avg_width_train = width_train.mean(0)\n",
    "    \n",
    "        ind_train = (y_train_cur >= li_train) & (y_train_cur <= ui_train)\n",
    "        coverage_train= ind_train.mean(0)\n",
    "    \n",
    "        averaged_targets_train = G_u_train.mean(0)\n",
    "        rmse_train = np.sqrt(((y_train_cur -averaged_targets_train)**2).mean(0))\n",
    "    # print(rmse_train, coverage_train, avg_width_train)\n",
    "    \n",
    "        G_u_test, _, _ = get_predictions_test(smiles_feats_valid, rdkit_feats_valid, initial_ensembles)\n",
    "    \n",
    "        catch = Parallel(n_jobs = 15, verbose = 0)(delayed(inverse_transform)(G_u_test, i)  for i in range(G_u_test.shape[0]))\n",
    "        G_u_test = np.array(catch)\n",
    "    \n",
    "        y_valid_cur = std_targets.inverse_transform(y_valid_actual)    \n",
    "    \n",
    "        li_test = np.percentile(G_u_test, axis = 0, q = (2.5, 97.5))[0,:,:]   \n",
    "        ui_test = np.percentile(G_u_test, axis = 0, q = (2.5, 97.5))[1,:,:]\n",
    "    \n",
    "        width_test = ui_test - li_test\n",
    "        avg_width_test = width_test.mean(0)\n",
    "    \n",
    "        ind_test = (y_valid_cur >= li_test) & (y_valid_cur <= ui_test)\n",
    "        coverage_test= ind_test.mean(0)\n",
    "    \n",
    "        averaged_targets_test = G_u_test.mean(0)\n",
    "        rmse_test = np.sqrt(((y_valid_cur -averaged_targets_test)**2).mean(0))    \n",
    "    \n",
    "        # weight_norms = np.array(norm(initial_ensembles, ord = 2, axis = 1))\n",
    "        # weight_norm_mean.append(weight_norms.mean())\n",
    "        # weight_norm_sd.append(weight_norms.std())\n",
    "    \n",
    "        cov_mat_final, _ = create_cov(smiles_feats_train.shape[0],initial_ensembles)\n",
    "        \n",
    "        # print(\"standardized_scale_R_t\")\n",
    "        # print(np.diag(cov_mat_final), cov_mat_final[0,1])\n",
    "        \n",
    "        # print(w1.shape)\n",
    "        \n",
    "        li_smiles_weight = np.percentile(w1, axis = 0, q = (2.5, 97.5))[0][0]\n",
    "        \n",
    "        # print(np.percentile(w1, axis = 0, q = (2.5, 97.5)))\n",
    "        \n",
    "        ui_smiles_weight = np.percentile(w1, axis = 0, q = (2.5, 97.5))[1][0]      \n",
    "        \n",
    "        # print(coverage_train.tolist(), avg_width_train.tolist(), rmse_train.tolist())\n",
    "        # print(coverage_test.tolist(), avg_width_test.tolist(), rmse_test.tolist())\n",
    "        # print(w1.mean(), w1.std())\n",
    "        # smile_weight_mean.append(w1.mean())\n",
    "        # smile_weight_sd.append(w1.std())\n",
    "        # print(li_smiles_weight, ui_smiles_weight)\n",
    "        # print(avg_width_train.tolist(), coverage_train.tolist(), rmse_train.tolist(), avg_width_test.tolist(), coverage_test.tolist(), rmse_test.tolist(), w1.mean())\n",
    "\n",
    "        if (avg_width_train.mean() < best_train_width_mean) & (coverage_train.mean() > 0.95): \n",
    "            # print(\"went here\")\n",
    "            best_train_width_mean = avg_width_train.mean()\n",
    "            best_train_width = avg_width_train\n",
    "            best_smiles_weight = w1.mean()\n",
    "            best_coverage_train = coverage_train\n",
    "            best_rmse_train = rmse_train\n",
    "        \n",
    "            best_test_width = avg_width_test\n",
    "\n",
    "            best_coverage_test = coverage_test    \n",
    "            best_rmse_test = rmse_test\n",
    "            \n",
    "            best_li_smiles_weight = li_smiles_weight\n",
    "            \n",
    "            best_ui_smiles_weight = ui_smiles_weight\n",
    "    \n",
    "        if i >= 100:\n",
    "            \n",
    "            # print()\n",
    "            # print(best_train_width.tolist(), best_coverage_train.tolist(), best_rmse_train.tolist(), best_test_width.tolist(), best_coverage_test.tolist(), best_rmse_test.tolist(), best_smiles_weight, flush = True)\n",
    "            print(\"done for fold\" + str(idx), flush = True)\n",
    "            print(\"train_width\" + str(best_train_width.tolist()), flush = True)\n",
    "            print(\"test_width\" + str(best_test_width.tolist()), flush = True)\n",
    "            print(\"smiles_weight\" + str(best_smiles_weight), flush = True)\n",
    "            print(\"rmse_train\" + str(best_rmse_train.tolist()), flush = True)\n",
    "            print(\"rmse_test\" + str(best_rmse_test.tolist()), flush = True)\n",
    "            print(\"smiles_weight_ci\" + str([best_li_smiles_weight, best_ui_smiles_weight]), flush = True)\n",
    "            \n",
    "            return [best_train_width.tolist(), best_coverage_train.tolist(), best_rmse_train.tolist(), best_test_width.tolist(), best_coverage_test.tolist(), best_rmse_test.tolist(), best_smiles_weight, best_li_smiles_weight, best_ui_smiles_weight, smile_weight_mean, smile_weight_sd]\n"
   ]
  },
  {
   "cell_type": "code",
   "execution_count": 49,
   "id": "201d8498-7742-4509-94de-4fb1f5d84e71",
   "metadata": {},
   "outputs": [],
   "source": [
    "# results_df[results_df[\"indicator\"] == False]"
   ]
  },
  {
   "cell_type": "code",
   "execution_count": 50,
   "id": "14658528-ea1a-4a6f-83bd-f708df0bcd83",
   "metadata": {},
   "outputs": [],
   "source": [
    "# %%time\n",
    "# returns = get_results(45, var_weights = 1.0, var_weight_weights = 2.0, inflation_factor =1.0, fudging_beta = beta(1,11))"
   ]
  },
  {
   "cell_type": "code",
   "execution_count": 51,
   "id": "b792b9da-fa53-4aa5-824d-4f87564abc8f",
   "metadata": {},
   "outputs": [],
   "source": [
    "# returns[:-2]"
   ]
  },
  {
   "cell_type": "code",
   "execution_count": 52,
   "id": "6b2803f7-bfff-4729-b3e6-aa292541560d",
   "metadata": {},
   "outputs": [],
   "source": [
    "# plt.plot(range(0,len(returns[-2])), returns[-2], linewidth = 3,  c = \"blue\", label = \"Train\")\n",
    "# plt.fill_between(range(0,len(returns[-2])), np.array(returns[-2])-np.array(returns[-1]), np.array(returns[-2])+np.array(returns[-1]), color = \"green\")\n",
    "\n",
    "\n",
    "# plt.xlabel(\"Epoch\", fontsize = 15, fontweight = \"bold\")\n",
    "# plt.ylabel(\"RMSE\", fontsize = 15, fontweight = \"bold\")\n",
    "# plt.xticks( fontsize = 10, fontweight = \"bold\")\n",
    "# plt.yticks( fontsize = 10, fontweight = \"bold\")\n",
    "\n",
    "# # plt.legend()\n",
    "# # fig.savefig('MEnKF_DeepCDR_DualGCN_Weight_Trajectories.pdf', bbox_inches='tight', format = \"pdf\")\n",
    "# # fig.savefig('MEnKF_DeepCDR_DualGCN_Weight_Trajectories.png', bbox_inches='tight')\n",
    "\n",
    "# plt.show()"
   ]
  },
  {
   "cell_type": "code",
   "execution_count": 53,
   "id": "e910766c-2ef7-4635-a539-f58f7e6bd7ba",
   "metadata": {},
   "outputs": [],
   "source": [
    "# plt.plot(returns[-2])"
   ]
  },
  {
   "cell_type": "code",
   "execution_count": 54,
   "id": "3ac41ba9-2b9e-4b10-b6ad-e415030e40ca",
   "metadata": {},
   "outputs": [],
   "source": [
    "# from joblib import Parallel, delayed"
   ]
  },
  {
   "cell_type": "code",
   "execution_count": 55,
   "id": "c0033c73-c13a-492a-8caa-fb16a2d51405",
   "metadata": {},
   "outputs": [
    {
     "name": "stderr",
     "output_type": "stream",
     "text": [
      "[Parallel(n_jobs=15)]: Using backend LokyBackend with 15 concurrent workers.\n"
     ]
    },
    {
     "name": "stdout",
     "output_type": "stream",
     "text": [
      "done for fold11\n",
      "train_width[1.0731095283637266, 19.42749961963099]\n",
      "test_width[0.8112137988927763, 16.314521447898322]\n",
      "smiles_weight0.7495486009652245\n",
      "rmse_train[0.26378167916874057, 4.3701219834096525]\n",
      "rmse_test[0.17979469457121075, 3.9009010323139677]\n",
      "smiles_weight_ci[0.6186777064531348, 0.83348265431126]\n",
      "done for fold2\n",
      "train_width[0.8720438042818863, 15.105773916081437]\n",
      "test_width[0.6170369887130607, 12.061991314298671]\n",
      "smiles_weight0.7465133355025358\n",
      "rmse_train[0.17332649609848672, 3.9662213808696696]\n",
      "rmse_test[0.14011131439632668, 2.9422568958531286]\n",
      "smiles_weight_ci[0.6464245655297953, 0.823098160200449]\n"
     ]
    },
    {
     "name": "stderr",
     "output_type": "stream",
     "text": [
      "[Parallel(n_jobs=15)]: Done   2 tasks      | elapsed: 13.1min\n"
     ]
    },
    {
     "name": "stdout",
     "output_type": "stream",
     "text": [
      "done for fold7\n",
      "train_width[0.9150304497606585, 18.285452347931752]\n",
      "test_width[0.7282588095066912, 16.30751026455371]\n",
      "smiles_weight0.7535093202339607\n",
      "rmse_train[0.18629464164274864, 4.7657189466372225]\n",
      "rmse_test[0.19923278668596053, 11.228562044845662]\n",
      "smiles_weight_ci[0.6263155588131288, 0.8328352564771161]\n",
      "done for fold12\n",
      "train_width[0.8520065140117415, 17.726982880488155]\n",
      "test_width[0.79668374799279, 16.761355642725484]\n",
      "smiles_weight0.6921885214079522\n",
      "rmse_train[0.17103228184320846, 4.810134226283559]\n",
      "rmse_test[0.4696797123417382, 8.688244285027265]\n",
      "smiles_weight_ci[0.5964842551041383, 0.7616524494447574]\n",
      "done for fold3\n",
      "train_width[1.2704588096038287, 28.863470473042316]\n",
      "test_width[1.137179692313139, 27.146575068310877]\n",
      "smiles_weight0.6462461259024337\n",
      "rmse_train[0.2559513095451444, 5.79102960456335]\n",
      "rmse_test[0.2827850168945998, 5.863310399738898]\n",
      "smiles_weight_ci[0.5345214886489928, 0.7429625574471006]\n",
      "done for fold5\n",
      "train_width[1.3064966458178409, 23.974783040019542]\n",
      "test_width[1.1575111567438963, 23.184759302474724]\n",
      "smiles_weight0.7327316681758461\n",
      "rmse_train[0.2522470077344273, 5.820538816966717]\n",
      "rmse_test[0.44894287742052175, 8.590258999596669]\n",
      "smiles_weight_ci[0.5973824820264543, 0.8204451578036782]\n",
      "done for fold8\n",
      "train_width[1.054601859648608, 21.308049692172613]\n",
      "test_width[0.7619724976503248, 16.834406724861353]\n",
      "smiles_weight0.7898074180127168\n",
      "rmse_train[0.23609315651614773, 5.277633722228492]\n",
      "rmse_test[0.2650735269605972, 5.404606539540162]\n",
      "smiles_weight_ci[0.6593126363680311, 0.8655022354064988]\n",
      "done for fold0\n",
      "train_width[1.0944741785603362, 22.59167832493312]\n",
      "test_width[0.6287933350265215, 14.770607641518271]\n",
      "smiles_weight0.8259049501924729\n",
      "rmse_train[0.18977768511439172, 5.5320547346549]\n",
      "rmse_test[0.2628387215047263, 7.632543251455143]\n",
      "smiles_weight_ci[0.7181324802956662, 0.9037148159300327]\n",
      "done for fold14\n",
      "train_width[1.1649057538345697, 26.078271233014856]\n",
      "test_width[0.9855553499551174, 23.46326237165116]\n",
      "smiles_weight0.763889183739644\n",
      "rmse_train[0.2289595750143578, 5.816603038314938]\n",
      "rmse_test[0.5430845324415583, 13.942778745407843]\n",
      "smiles_weight_ci[0.6543614335498136, 0.8443744688810068]\n",
      "done for fold9\n",
      "train_width[1.0471812824132751, 19.223471762622676]\n",
      "test_width[0.6672914506545738, 14.761060442315376]\n",
      "smiles_weight0.8041489688570886\n",
      "rmse_train[0.21598317861146882, 3.9278360753504846]\n",
      "rmse_test[0.23711948706068578, 3.488331063027751]\n",
      "smiles_weight_ci[0.6985627545437747, 0.8792077457362776]\n",
      "done for fold1\n",
      "train_width[1.2319032858331969, 29.823002938910022]\n",
      "test_width[0.9622628618052678, 23.47920083727789]\n",
      "smiles_weight0.7520329991079983\n",
      "rmse_train[0.26518210071893045, 7.237531391861655]\n",
      "rmse_test[0.21539397550499984, 5.969626157642845]\n",
      "smiles_weight_ci[0.6270850248815327, 0.8413635458018428]\n"
     ]
    },
    {
     "name": "stderr",
     "output_type": "stream",
     "text": [
      "[Parallel(n_jobs=15)]: Done  11 tasks      | elapsed: 13.5min\n"
     ]
    },
    {
     "name": "stdout",
     "output_type": "stream",
     "text": [
      "done for fold6\n",
      "train_width[1.2288517122406672, 21.10518119719244]\n",
      "test_width[1.0133664356636154, 19.04300926841391]\n",
      "smiles_weight0.6648684693782897\n",
      "rmse_train[0.22479510746442447, 4.9896200999624485]\n",
      "rmse_test[0.18434861267107305, 4.336282852530901]\n",
      "smiles_weight_ci[0.556519114346308, 0.7591390779808939]\n",
      "done for fold13\n",
      "train_width[1.2035093583791858, 23.805222380852122]\n",
      "test_width[0.9094629503587206, 20.120066328972975]\n",
      "smiles_weight0.7167735703580934\n",
      "rmse_train[0.23990710502646706, 5.16878317235707]\n",
      "rmse_test[0.2720581852541567, 5.511057299975156]\n",
      "smiles_weight_ci[0.5871505893922007, 0.8029750944555067]\n",
      "done for fold10\n",
      "train_width[1.2080118873634027, 24.36060151775431]\n",
      "test_width[1.0175435896529816, 21.970636877587626]\n",
      "smiles_weight0.7290648840705886\n",
      "rmse_train[0.29239940519966756, 4.698498875305163]\n",
      "rmse_test[0.2762822422244811, 5.117710163637145]\n",
      "smiles_weight_ci[0.6242113533332716, 0.812266073205882]\n",
      "done for fold4\n",
      "train_width[0.9770577066053712, 23.125092770668335]\n",
      "test_width[0.8121468509622042, 20.06976248196356]\n",
      "smiles_weight0.7121716569646356\n",
      "rmse_train[0.2070958902879787, 5.042406821632446]\n",
      "rmse_test[0.17467333332736898, 4.329553451969296]\n",
      "smiles_weight_ci[0.5872025084582418, 0.7983021183302643]\n",
      "done for fold15\n",
      "train_width[1.1088828011796297, 20.890611460589824]\n",
      "test_width[0.8129818455114441, 16.510455832826672]\n",
      "smiles_weight0.7993735478034895\n",
      "rmse_train[0.22535284613656212, 4.41040519553143]\n",
      "rmse_test[0.24295474655640864, 4.036431436899546]\n",
      "smiles_weight_ci[0.6820794443181957, 0.8792642361339029]\n",
      "done for fold16\n",
      "train_width[1.0892616499955559, 24.35472525668683]\n",
      "test_width[0.9185351957530083, 22.852864005423683]\n",
      "smiles_weight0.7237466055618397\n",
      "rmse_train[0.22669938681931115, 4.930527775476671]\n",
      "rmse_test[0.2675929004398549, 5.116580522024577]\n",
      "smiles_weight_ci[0.6158378679836048, 0.8197048317259671]\n",
      "done for fold22\n",
      "train_width[1.063399438119288, 23.068351584433724]\n",
      "test_width[1.0057962989960016, 21.820679442196493]\n",
      "smiles_weight0.6628474354884925\n",
      "rmse_train[0.22608142468329087, 5.563508543963384]\n",
      "rmse_test[0.22895350675748316, 5.546269960756583]\n",
      "smiles_weight_ci[0.5452559639288169, 0.7533615114921768]\n",
      "done for fold20\n",
      "train_width[1.062087448323286, 19.422628284823617]\n",
      "test_width[0.6991541547283602, 14.798416732525757]\n",
      "smiles_weight0.7972930678799798\n",
      "rmse_train[0.2365148344930921, 4.390693008590017]\n",
      "rmse_test[0.27605423103345567, 3.981171277877303]\n",
      "smiles_weight_ci[0.686958682012624, 0.8694999673827349]\n",
      "done for fold23\n",
      "train_width[0.9043779237150025, 20.499898038425012]\n",
      "test_width[0.7957426894062983, 18.832205363425096]\n",
      "smiles_weight0.7073589848696029\n",
      "rmse_train[0.2056921572007602, 5.039193529140457]\n",
      "rmse_test[0.470271926327069, 4.806458504154234]\n",
      "smiles_weight_ci[0.5852516004824246, 0.7780209938672024]\n"
     ]
    },
    {
     "name": "stderr",
     "output_type": "stream",
     "text": [
      "[Parallel(n_jobs=15)]: Done  20 tasks      | elapsed: 26.6min\n"
     ]
    },
    {
     "name": "stdout",
     "output_type": "stream",
     "text": [
      "done for fold18\n",
      "train_width[1.059279853864057, 20.709686579670432]\n",
      "test_width[0.7849785442016359, 15.937254029266093]\n",
      "smiles_weight0.7384199126276163\n",
      "rmse_train[0.2715615066665853, 5.247765210578721]\n",
      "rmse_test[0.2090259984266821, 5.407235691461488]\n",
      "smiles_weight_ci[0.5975454618270855, 0.8210840268535511]\n",
      "done for fold24\n",
      "train_width[1.005348984104819, 18.557445278857312]\n",
      "test_width[0.5714816599293374, 12.610037479383115]\n",
      "smiles_weight0.8255485602451493\n",
      "rmse_train[0.1617750159415792, 4.37186621983611]\n",
      "rmse_test[0.22761120569703225, 3.6765673480583683]\n",
      "smiles_weight_ci[0.6854230004525622, 0.9011217475004514]\n",
      "done for fold17\n",
      "train_width[1.1214547343961092, 23.31553953486005]\n",
      "test_width[0.8958501119011844, 20.23943255501978]\n",
      "smiles_weight0.7489054278701779\n",
      "rmse_train[0.24381736709629603, 5.512493594340742]\n",
      "rmse_test[0.26074957687878575, 4.578442312498426]\n",
      "smiles_weight_ci[0.6305782682034223, 0.8290366629816364]\n",
      "done for fold26\n",
      "train_width[0.9530423959794219, 15.952584289526005]\n",
      "test_width[0.7469421683635608, 14.056580280901835]\n",
      "smiles_weight0.7579294606519882\n",
      "rmse_train[0.1827147015530093, 4.24882671397484]\n",
      "rmse_test[0.3223840082266198, 7.806333681826406]\n",
      "smiles_weight_ci[0.6646819809945953, 0.8331315173599149]\n",
      "done for fold19\n",
      "train_width[1.3086588613292467, 25.750501942082792]\n",
      "test_width[0.920253019389411, 19.530729798315754]\n",
      "smiles_weight0.7977755514638625\n",
      "rmse_train[0.23642533351706752, 5.734134954722594]\n",
      "rmse_test[0.2800635533172885, 4.975997407640269]\n",
      "smiles_weight_ci[0.6805284704372424, 0.870427447496099]\n",
      "done for fold21\n",
      "train_width[1.331871236622322, 25.583418126958]\n",
      "test_width[0.9687937224879893, 19.53918573046264]\n",
      "smiles_weight0.7488714226819477\n",
      "rmse_train[0.27307899474060476, 6.0828551019603685]\n",
      "rmse_test[0.23169745242984616, 4.716487132896985]\n",
      "smiles_weight_ci[0.634377179161048, 0.8317110707198607]\n",
      "done for fold29\n",
      "train_width[0.7231475257208689, 15.318876558954022]\n",
      "test_width[0.6020091911035297, 15.293339105852072]\n",
      "smiles_weight0.7070179304874317\n",
      "rmse_train[0.17098308442271776, 3.8736380194108677]\n",
      "rmse_test[0.25661304368993026, 11.477719864663758]\n",
      "smiles_weight_ci[0.5849542040564946, 0.7864712165458083]\n"
     ]
    },
    {
     "name": "stderr",
     "output_type": "stream",
     "text": [
      "[Parallel(n_jobs=15)]: Done  27 out of  50 | elapsed: 27.2min remaining: 23.1min\n"
     ]
    },
    {
     "name": "stdout",
     "output_type": "stream",
     "text": [
      "done for fold28\n",
      "train_width[0.9845657085978409, 21.56484045054809]\n",
      "test_width[0.73651750388038, 18.188999303859564]\n",
      "smiles_weight0.7489161317663484\n",
      "rmse_train[0.19104902084252193, 4.3136335266819525]\n",
      "rmse_test[0.2151802515936856, 4.1546142477296675]\n",
      "smiles_weight_ci[0.608108679380792, 0.8352691230332738]\n",
      "done for fold27\n",
      "train_width[1.2597873166310596, 21.444685613166]\n",
      "test_width[0.8442313331015214, 16.897180354769947]\n",
      "smiles_weight0.8126973618336931\n",
      "rmse_train[0.1966478215998523, 5.266931229776113]\n",
      "rmse_test[0.46506318487263343, 10.908087796236797]\n",
      "smiles_weight_ci[0.6947689006954322, 0.8919691180821081]\n",
      "done for fold25\n",
      "train_width[1.1727956134612232, 19.85826881602565]\n",
      "test_width[1.063132474370064, 21.26739229201667]\n",
      "smiles_weight0.6766167222705313\n",
      "rmse_train[0.22982435459048572, 5.105299453236936]\n",
      "rmse_test[0.7523863610462244, 11.134616845713381]\n",
      "smiles_weight_ci[0.558850799242204, 0.7630595459893263]\n",
      "done for fold35\n",
      "train_width[0.9558516929898864, 17.634089365565544]\n",
      "test_width[0.6553432855684119, 14.520484509880438]\n",
      "smiles_weight0.8020930158977966\n",
      "rmse_train[0.18567186196729618, 4.004519175017236]\n",
      "rmse_test[0.2355163688502208, 4.206105153344893]\n",
      "smiles_weight_ci[0.6898542854951017, 0.8758796069186279]\n",
      "done for fold30\n",
      "train_width[1.037129894320903, 20.34034822302269]\n",
      "test_width[0.7030613901935762, 15.219703940726324]\n",
      "smiles_weight0.7825367199434121\n",
      "rmse_train[0.24946535704504233, 4.47815884700604]\n",
      "rmse_test[0.31518273247355244, 4.76287171170567]\n",
      "smiles_weight_ci[0.6731475290297418, 0.8639519454689458]\n"
     ]
    },
    {
     "name": "stderr",
     "output_type": "stream",
     "text": [
      "[Parallel(n_jobs=15)]: Done  33 out of  50 | elapsed: 39.7min remaining: 20.4min\n"
     ]
    },
    {
     "name": "stdout",
     "output_type": "stream",
     "text": [
      "done for fold32\n",
      "train_width[1.0575992945811794, 21.941358187187486]\n",
      "test_width[0.9340732888368207, 20.119792741872953]\n",
      "smiles_weight0.7173020557784355\n",
      "rmse_train[0.22182092864567934, 4.9305844500910085]\n",
      "rmse_test[0.5464252589126607, 18.26856073234023]\n",
      "smiles_weight_ci[0.60849226572577, 0.8071193674094704]\n",
      "done for fold33\n",
      "train_width[0.8229045899657753, 13.1634374672411]\n",
      "test_width[0.5490525524201009, 11.495479185020935]\n",
      "smiles_weight0.7651249102479376\n",
      "rmse_train[0.20189580980856361, 3.2360996126560226]\n",
      "rmse_test[0.6173746007735238, 13.498651243952843]\n",
      "smiles_weight_ci[0.6438497023282628, 0.8454300370674824]\n",
      "done for fold38\n",
      "train_width[1.1277862724179162, 18.69953382512319]\n",
      "test_width[0.8424546431010966, 16.34310962747774]\n",
      "smiles_weight0.7596004999127082\n",
      "rmse_train[0.2537192686353561, 5.0722135234241525]\n",
      "rmse_test[0.2704498813570813, 9.495071196612642]\n",
      "smiles_weight_ci[0.6362375066125476, 0.8437600353356208]\n",
      "done for fold37\n",
      "train_width[1.0043816503506637, 22.13835351211373]\n",
      "test_width[0.7818147426613931, 18.37618797543832]\n",
      "smiles_weight0.7560666002043659\n",
      "rmse_train[0.23470044804197202, 5.472292652882361]\n",
      "rmse_test[0.2924022102976484, 4.640795720836449]\n",
      "smiles_weight_ci[0.6386828060816903, 0.8471031529225419]\n",
      "done for fold34\n",
      "train_width[1.2697402752055165, 24.73839885179444]\n",
      "test_width[0.914006576205069, 18.67880196677432]\n",
      "smiles_weight0.7890130249285515\n",
      "rmse_train[0.28797283292861436, 5.767035307787057]\n",
      "rmse_test[0.3146222055499819, 5.373652899253971]\n",
      "smiles_weight_ci[0.6713296055494832, 0.8721357258591964]\n",
      "done for fold31\n",
      "train_width[0.8764143248765628, 20.766633589470587]\n",
      "test_width[0.6827734132017224, 17.578098064147262]\n",
      "smiles_weight0.7343575240144508\n",
      "rmse_train[0.22059874654087877, 5.329364858264265]\n",
      "rmse_test[0.2328290865180531, 4.979115474377465]\n",
      "smiles_weight_ci[0.603927596355707, 0.8162336131067126]\n",
      "done for fold36\n",
      "train_width[1.2494004662851477, 26.785679462437276]\n",
      "test_width[0.9831122917561641, 24.43968601273775]\n",
      "smiles_weight0.7741769373410903\n",
      "rmse_train[0.2663706340344085, 6.754269354034979]\n",
      "rmse_test[0.2660681650218816, 13.440161978914519]\n",
      "smiles_weight_ci[0.6382192025196516, 0.863229370621218]\n"
     ]
    },
    {
     "name": "stderr",
     "output_type": "stream",
     "text": [
      "[Parallel(n_jobs=15)]: Done  39 out of  50 | elapsed: 40.1min remaining: 11.3min\n"
     ]
    },
    {
     "name": "stdout",
     "output_type": "stream",
     "text": [
      "done for fold42\n",
      "train_width[1.369901619743323, 26.673514898208904]\n",
      "test_width[1.0082025915820378, 21.00307888293093]\n",
      "smiles_weight0.7736034700715011\n",
      "rmse_train[0.2726410448431602, 5.038200539065358]\n",
      "rmse_test[0.279427892525649, 4.362918164343222]\n",
      "smiles_weight_ci[0.6472870248846704, 0.8572034797430415]\n",
      "done for fold39\n",
      "train_width[1.5148763167048938, 38.42998114830904]\n",
      "test_width[1.2617372555892916, 33.98525012531952]\n",
      "smiles_weight0.7078652943300259\n",
      "rmse_train[0.3233020156333402, 6.874398783507732]\n",
      "rmse_test[0.2937864564359585, 6.120997547646715]\n",
      "smiles_weight_ci[0.5726129733073669, 0.8103079779035339]\n",
      "done for fold44\n",
      "train_width[1.2513289450101488, 26.219161894393153]\n",
      "test_width[1.1512392519566008, 25.72217562373873]\n",
      "smiles_weight0.7157202580855863\n",
      "rmse_train[0.2444973937549192, 5.22904040063799]\n",
      "rmse_test[0.8914355102956141, 14.42533369788541]\n",
      "smiles_weight_ci[0.5890800241142964, 0.8076582308128323]\n",
      "done for fold41\n",
      "train_width[0.9355485007015274, 21.66004183145542]\n",
      "test_width[0.7331120542063185, 18.130347875395632]\n",
      "smiles_weight0.7171697372681665\n",
      "rmse_train[0.1963336204549595, 5.101085340871405]\n",
      "rmse_test[0.23863918868228992, 5.639090415655863]\n",
      "smiles_weight_ci[0.5963602152131529, 0.7968912395948416]\n",
      "done for fold40\n",
      "train_width[1.0984669019277475, 19.62144386233259]\n",
      "test_width[0.8783740791391833, 17.122992897402572]\n",
      "smiles_weight0.7141595878981774\n",
      "rmse_train[0.20739244770462814, 4.51237423363389]\n",
      "rmse_test[0.19235264365442306, 4.223538813015976]\n",
      "smiles_weight_ci[0.5845279148047383, 0.8112348326568732]\n",
      "done for fold43\n",
      "train_width[1.0014226417468604, 20.614346002074292]\n",
      "test_width[0.7996535895805622, 17.249455297734315]\n",
      "smiles_weight0.7466454618265084\n",
      "rmse_train[0.2140734442589933, 4.8475778042008475]\n",
      "rmse_test[0.30663197149932936, 5.772697939879335]\n",
      "smiles_weight_ci[0.6364470844051295, 0.830116420118726]\n"
     ]
    },
    {
     "name": "stderr",
     "output_type": "stream",
     "text": [
      "[Parallel(n_jobs=15)]: Done  45 out of  50 | elapsed: 40.6min remaining:  4.5min\n"
     ]
    },
    {
     "name": "stdout",
     "output_type": "stream",
     "text": [
      "done for fold46\n",
      "train_width[0.9709252394258501, 16.668366731274798]\n",
      "test_width[0.6802708010961044, 14.683999722639873]\n",
      "smiles_weight0.7872076021149448\n",
      "rmse_train[0.2169989154592708, 4.481660230085389]\n",
      "rmse_test[0.21585230945874195, 7.261496563162587]\n",
      "smiles_weight_ci[0.6845443581276497, 0.861392476750219]\n",
      "done for fold49\n",
      "train_width[0.9739628641295759, 19.37936739824018]\n",
      "test_width[0.7620346701226008, 16.99864706837147]\n",
      "smiles_weight0.7769047668398855\n",
      "rmse_train[0.20501534269763894, 4.509709092134933]\n",
      "rmse_test[0.5475942942236062, 26.146693453681888]\n",
      "smiles_weight_ci[0.6422315192865378, 0.8680603156019596]\n",
      "done for fold45\n",
      "train_width[0.9812338770764512, 20.415831806358977]\n",
      "test_width[0.7890759598547039, 17.306892219521522]\n",
      "smiles_weight0.6967284516374455\n",
      "rmse_train[0.18402921643137882, 4.6122883083550095]\n",
      "rmse_test[0.20472385851594704, 4.872168554798838]\n",
      "smiles_weight_ci[0.5693225242542078, 0.7868602358909327]\n",
      "done for fold47\n",
      "train_width[1.2178697114527075, 20.73166502250077]\n",
      "test_width[0.8879749118342862, 17.32165711651125]\n",
      "smiles_weight0.790192044036565\n",
      "rmse_train[0.246090762803554, 5.176439796263554]\n",
      "rmse_test[0.23635562558150902, 4.7423309899501565]\n",
      "smiles_weight_ci[0.6813497477843136, 0.8721477766441307]\n",
      "done for fold48\n",
      "train_width[1.1486269831557583, 24.880963562811754]\n",
      "test_width[0.8114911499809627, 17.9940011603333]\n",
      "smiles_weight0.7924066574256682\n",
      "rmse_train[0.24362960849856766, 4.867590932573251]\n",
      "rmse_test[0.25658985687070834, 5.266219171971137]\n",
      "smiles_weight_ci[0.659052932274806, 0.8677483584274237]\n"
     ]
    },
    {
     "name": "stderr",
     "output_type": "stream",
     "text": [
      "[Parallel(n_jobs=15)]: Done  50 out of  50 | elapsed: 51.7min finished\n"
     ]
    }
   ],
   "source": [
    "catch_all = Parallel(n_jobs = 15, verbose = 10)(delayed(get_results)(idx,var_weights = 1.0, var_weight_weights = 2.0, inflation_factor =1.0, fudging_beta = beta(1,11)) for idx in range(0,50))"
   ]
  },
  {
   "cell_type": "code",
   "execution_count": 56,
   "id": "1f857358-e5f0-4d43-bf0a-d4d7d034cac0",
   "metadata": {},
   "outputs": [],
   "source": [
    "# item"
   ]
  },
  {
   "cell_type": "code",
   "execution_count": 57,
   "id": "3ee2282b-2100-4ed9-972b-ea78eabe2447",
   "metadata": {},
   "outputs": [],
   "source": [
    "# catch_all[-1]"
   ]
  },
  {
   "cell_type": "code",
   "execution_count": 58,
   "id": "857dc418-a018-4330-868a-47ae36a9f26f",
   "metadata": {},
   "outputs": [],
   "source": [
    "# catch_inner"
   ]
  },
  {
   "cell_type": "code",
   "execution_count": 59,
   "id": "1e456d98-c381-450b-964d-fdbdbd1bd45c",
   "metadata": {},
   "outputs": [],
   "source": [
    "all_catch = []\n",
    "for item in catch_all:\n",
    "    catch_inner = []\n",
    "    for inner in item[:-2]:\n",
    "        if type(inner) == list:\n",
    "            for inner1 in inner:\n",
    "                catch_inner.append(inner1)\n",
    "        if type(inner) != list:\n",
    "            catch_inner.append(inner)\n",
    "    all_catch.append(catch_inner)"
   ]
  },
  {
   "cell_type": "code",
   "execution_count": 60,
   "id": "b17ec0ba-5448-4130-b54f-c8cf20f76128",
   "metadata": {},
   "outputs": [],
   "source": [
    "results_df = pd.DataFrame(all_catch)"
   ]
  },
  {
   "cell_type": "code",
   "execution_count": 61,
   "id": "21f8792e-1721-412d-a84e-39bf7ad3c070",
   "metadata": {},
   "outputs": [
    {
     "data": {
      "text/plain": [
       "(50, 15)"
      ]
     },
     "execution_count": 61,
     "metadata": {},
     "output_type": "execute_result"
    }
   ],
   "source": [
    "results_df.shape"
   ]
  },
  {
   "cell_type": "code",
   "execution_count": 62,
   "id": "610306d1-f54e-42be-86c2-70ef6d4fdd94",
   "metadata": {},
   "outputs": [],
   "source": [
    "# results_df"
   ]
  },
  {
   "cell_type": "code",
   "execution_count": 63,
   "id": "6accc813-8aa7-48a0-abae-f89b6e5f5da5",
   "metadata": {},
   "outputs": [],
   "source": [
    "# results_df.iloc[:,-1].mean()"
   ]
  },
  {
   "cell_type": "code",
   "execution_count": 64,
   "id": "81b223ac-16c3-4547-bb99-9a2e08bbb03a",
   "metadata": {},
   "outputs": [],
   "source": [
    "col_names = [\"Alop_Train_Width\", \"PSA_Train_Width\", \"Alop_Train_Coverage\", \"PSA_Train_Coverage\", \n",
    "            \"Alop_Train_RMSE\", \"PSA_Train_RMSE\", \"Alop_Test_Width\", \"PSA_Test_Width\", \"Alop_Test_Coverage\", \"PSA_Test_Coverage\", \n",
    "            \"Alop_Test_RMSE\", \"PSA_Test_RMSE\", \"Smiles_Avg_Weight\", \"Lower_Interval_Smiles_Weight\", \"Upper_Interval_Smiles_Weight\"]"
   ]
  },
  {
   "cell_type": "code",
   "execution_count": 65,
   "id": "1124c374-99bf-4282-9e32-1074a5033ec0",
   "metadata": {},
   "outputs": [],
   "source": [
    "# results_df.head()"
   ]
  },
  {
   "cell_type": "code",
   "execution_count": 66,
   "id": "8e52823b-19de-4bed-ae04-519af1d5021c",
   "metadata": {},
   "outputs": [],
   "source": [
    "results_df.columns = col_names"
   ]
  },
  {
   "cell_type": "code",
   "execution_count": 67,
   "id": "a4fd350f-4f0a-4f9a-af19-52590d875782",
   "metadata": {},
   "outputs": [],
   "source": [
    "results_df[\"indicator\"] = (results_df[\"Lower_Interval_Smiles_Weight\"].values < 0.70) & (results_df[\"Upper_Interval_Smiles_Weight\"].values >= 0.70)"
   ]
  },
  {
   "cell_type": "code",
   "execution_count": 68,
   "id": "5b5283a6-b5f6-4752-a693-9b1dea85ba9a",
   "metadata": {},
   "outputs": [
    {
     "data": {
      "text/plain": [
       "0.98"
      ]
     },
     "execution_count": 68,
     "metadata": {},
     "output_type": "execute_result"
    }
   ],
   "source": [
    "np.mean(results_df[\"indicator\"])"
   ]
  },
  {
   "cell_type": "code",
   "execution_count": 69,
   "id": "b0ebc74a-b0e3-4cb5-8d3f-b2acb6040353",
   "metadata": {},
   "outputs": [],
   "source": [
    "results_df[\"width_weight_CI\"] = results_df[\"Upper_Interval_Smiles_Weight\"].values - results_df[\"Lower_Interval_Smiles_Weight\"].values"
   ]
  },
  {
   "cell_type": "code",
   "execution_count": 70,
   "id": "f36d6343-cfa2-475d-a8dd-01007676f993",
   "metadata": {},
   "outputs": [
    {
     "data": {
      "text/html": [
       "<div>\n",
       "<style scoped>\n",
       "    .dataframe tbody tr th:only-of-type {\n",
       "        vertical-align: middle;\n",
       "    }\n",
       "\n",
       "    .dataframe tbody tr th {\n",
       "        vertical-align: top;\n",
       "    }\n",
       "\n",
       "    .dataframe thead th {\n",
       "        text-align: right;\n",
       "    }\n",
       "</style>\n",
       "<table border=\"1\" class=\"dataframe\">\n",
       "  <thead>\n",
       "    <tr style=\"text-align: right;\">\n",
       "      <th></th>\n",
       "      <th>index</th>\n",
       "      <th>0</th>\n",
       "    </tr>\n",
       "  </thead>\n",
       "  <tbody>\n",
       "    <tr>\n",
       "      <th>0</th>\n",
       "      <td>Alop_Train_Width</td>\n",
       "      <td>1.090260</td>\n",
       "    </tr>\n",
       "    <tr>\n",
       "      <th>1</th>\n",
       "      <td>PSA_Train_Width</td>\n",
       "      <td>21.851982</td>\n",
       "    </tr>\n",
       "    <tr>\n",
       "      <th>2</th>\n",
       "      <td>Alop_Train_Coverage</td>\n",
       "      <td>0.962392</td>\n",
       "    </tr>\n",
       "    <tr>\n",
       "      <th>3</th>\n",
       "      <td>PSA_Train_Coverage</td>\n",
       "      <td>0.958720</td>\n",
       "    </tr>\n",
       "    <tr>\n",
       "      <th>4</th>\n",
       "      <td>Alop_Train_RMSE</td>\n",
       "      <td>0.227145</td>\n",
       "    </tr>\n",
       "    <tr>\n",
       "      <th>5</th>\n",
       "      <td>PSA_Train_RMSE</td>\n",
       "      <td>5.032028</td>\n",
       "    </tr>\n",
       "    <tr>\n",
       "      <th>6</th>\n",
       "      <td>Alop_Test_Width</td>\n",
       "      <td>0.843631</td>\n",
       "    </tr>\n",
       "    <tr>\n",
       "      <th>7</th>\n",
       "      <td>PSA_Test_Width</td>\n",
       "      <td>18.579066</td>\n",
       "    </tr>\n",
       "    <tr>\n",
       "      <th>8</th>\n",
       "      <td>Alop_Test_Coverage</td>\n",
       "      <td>0.919583</td>\n",
       "    </tr>\n",
       "    <tr>\n",
       "      <th>9</th>\n",
       "      <td>PSA_Test_Coverage</td>\n",
       "      <td>0.937000</td>\n",
       "    </tr>\n",
       "    <tr>\n",
       "      <th>10</th>\n",
       "      <td>Alop_Test_RMSE</td>\n",
       "      <td>0.312246</td>\n",
       "    </tr>\n",
       "    <tr>\n",
       "      <th>11</th>\n",
       "      <td>PSA_Test_RMSE</td>\n",
       "      <td>7.135350</td>\n",
       "    </tr>\n",
       "    <tr>\n",
       "      <th>12</th>\n",
       "      <td>Smiles_Avg_Weight</td>\n",
       "      <td>0.748632</td>\n",
       "    </tr>\n",
       "    <tr>\n",
       "      <th>13</th>\n",
       "      <td>Lower_Interval_Smiles_Weight</td>\n",
       "      <td>0.629082</td>\n",
       "    </tr>\n",
       "    <tr>\n",
       "      <th>14</th>\n",
       "      <td>Upper_Interval_Smiles_Weight</td>\n",
       "      <td>0.831778</td>\n",
       "    </tr>\n",
       "    <tr>\n",
       "      <th>15</th>\n",
       "      <td>indicator</td>\n",
       "      <td>0.980000</td>\n",
       "    </tr>\n",
       "    <tr>\n",
       "      <th>16</th>\n",
       "      <td>width_weight_CI</td>\n",
       "      <td>0.202696</td>\n",
       "    </tr>\n",
       "  </tbody>\n",
       "</table>\n",
       "</div>"
      ],
      "text/plain": [
       "                           index          0\n",
       "0               Alop_Train_Width   1.090260\n",
       "1                PSA_Train_Width  21.851982\n",
       "2            Alop_Train_Coverage   0.962392\n",
       "3             PSA_Train_Coverage   0.958720\n",
       "4                Alop_Train_RMSE   0.227145\n",
       "5                 PSA_Train_RMSE   5.032028\n",
       "6                Alop_Test_Width   0.843631\n",
       "7                 PSA_Test_Width  18.579066\n",
       "8             Alop_Test_Coverage   0.919583\n",
       "9              PSA_Test_Coverage   0.937000\n",
       "10                Alop_Test_RMSE   0.312246\n",
       "11                 PSA_Test_RMSE   7.135350\n",
       "12             Smiles_Avg_Weight   0.748632\n",
       "13  Lower_Interval_Smiles_Weight   0.629082\n",
       "14  Upper_Interval_Smiles_Weight   0.831778\n",
       "15                     indicator   0.980000\n",
       "16               width_weight_CI   0.202696"
      ]
     },
     "execution_count": 70,
     "metadata": {},
     "output_type": "execute_result"
    }
   ],
   "source": [
    "results_df.mean().reset_index()"
   ]
  },
  {
   "cell_type": "code",
   "execution_count": 71,
   "id": "0636ac66-6077-4a54-9423-542338c64072",
   "metadata": {},
   "outputs": [],
   "source": [
    "# results_df.to_csv(\"..//Data//smiles_rdkit_70_30__with_cov_minus_0.27_Simulation_added_beat_noise.csv\", index = False)"
   ]
  },
  {
   "cell_type": "code",
   "execution_count": 72,
   "id": "b6a2dba8-e55c-4931-94e5-b50375e7abf3",
   "metadata": {},
   "outputs": [
    {
     "data": {
      "text/html": [
       "<div>\n",
       "<style scoped>\n",
       "    .dataframe tbody tr th:only-of-type {\n",
       "        vertical-align: middle;\n",
       "    }\n",
       "\n",
       "    .dataframe tbody tr th {\n",
       "        vertical-align: top;\n",
       "    }\n",
       "\n",
       "    .dataframe thead th {\n",
       "        text-align: right;\n",
       "    }\n",
       "</style>\n",
       "<table border=\"1\" class=\"dataframe\">\n",
       "  <thead>\n",
       "    <tr style=\"text-align: right;\">\n",
       "      <th></th>\n",
       "      <th>Alop_Train_Width</th>\n",
       "      <th>PSA_Train_Width</th>\n",
       "      <th>Alop_Train_Coverage</th>\n",
       "      <th>PSA_Train_Coverage</th>\n",
       "      <th>Alop_Train_RMSE</th>\n",
       "      <th>PSA_Train_RMSE</th>\n",
       "      <th>Alop_Test_Width</th>\n",
       "      <th>PSA_Test_Width</th>\n",
       "      <th>Alop_Test_Coverage</th>\n",
       "      <th>PSA_Test_Coverage</th>\n",
       "      <th>Alop_Test_RMSE</th>\n",
       "      <th>PSA_Test_RMSE</th>\n",
       "      <th>Smiles_Avg_Weight</th>\n",
       "      <th>Lower_Interval_Smiles_Weight</th>\n",
       "      <th>Upper_Interval_Smiles_Weight</th>\n",
       "      <th>indicator</th>\n",
       "      <th>width_weight_CI</th>\n",
       "    </tr>\n",
       "  </thead>\n",
       "  <tbody>\n",
       "    <tr>\n",
       "      <th>0</th>\n",
       "      <td>1.094474</td>\n",
       "      <td>22.591678</td>\n",
       "      <td>0.976356</td>\n",
       "      <td>0.937413</td>\n",
       "      <td>0.189778</td>\n",
       "      <td>5.532055</td>\n",
       "      <td>0.628793</td>\n",
       "      <td>14.770608</td>\n",
       "      <td>0.779167</td>\n",
       "      <td>0.758333</td>\n",
       "      <td>0.262839</td>\n",
       "      <td>7.632543</td>\n",
       "      <td>0.825905</td>\n",
       "      <td>0.718132</td>\n",
       "      <td>0.903715</td>\n",
       "      <td>False</td>\n",
       "      <td>0.185582</td>\n",
       "    </tr>\n",
       "  </tbody>\n",
       "</table>\n",
       "</div>"
      ],
      "text/plain": [
       "   Alop_Train_Width  PSA_Train_Width  Alop_Train_Coverage  PSA_Train_Coverage   \n",
       "0          1.094474        22.591678             0.976356            0.937413  \\\n",
       "\n",
       "   Alop_Train_RMSE  PSA_Train_RMSE  Alop_Test_Width  PSA_Test_Width   \n",
       "0         0.189778        5.532055         0.628793       14.770608  \\\n",
       "\n",
       "   Alop_Test_Coverage  PSA_Test_Coverage  Alop_Test_RMSE  PSA_Test_RMSE   \n",
       "0            0.779167           0.758333        0.262839       7.632543  \\\n",
       "\n",
       "   Smiles_Avg_Weight  Lower_Interval_Smiles_Weight   \n",
       "0           0.825905                      0.718132  \\\n",
       "\n",
       "   Upper_Interval_Smiles_Weight  indicator  width_weight_CI  \n",
       "0                      0.903715      False         0.185582  "
      ]
     },
     "execution_count": 72,
     "metadata": {},
     "output_type": "execute_result"
    }
   ],
   "source": [
    "results_df[results_df[\"indicator\"] == False]"
   ]
  },
  {
   "cell_type": "code",
   "execution_count": 73,
   "id": "747d11c8-4f75-4ec9-aacc-930747d74047",
   "metadata": {},
   "outputs": [],
   "source": [
    "# results_df.mean().reset_index()"
   ]
  },
  {
   "cell_type": "code",
   "execution_count": 74,
   "id": "5cb7839f-ac6e-4930-85ec-e58da91ec1fd",
   "metadata": {},
   "outputs": [],
   "source": [
    "# results_df.std()"
   ]
  },
  {
   "cell_type": "code",
   "execution_count": 75,
   "id": "e1f65795-7582-472c-9fe6-7d1db90e0342",
   "metadata": {},
   "outputs": [],
   "source": [
    "with open(\"..//Data//chapter5_weight_trajectory.pickle\", \"wb\") as f: \n",
    "    pickle.dump(catch_all, f)"
   ]
  },
  {
   "cell_type": "code",
   "execution_count": 76,
   "id": "d07171c3-cf1a-4bff-ac69-c05ce1ad7e69",
   "metadata": {},
   "outputs": [],
   "source": [
    "# item1"
   ]
  },
  {
   "cell_type": "code",
   "execution_count": 77,
   "id": "90cc9e2b-618a-4f16-aa7d-fb87194019cd",
   "metadata": {},
   "outputs": [],
   "source": [
    "# item1"
   ]
  },
  {
   "cell_type": "code",
   "execution_count": 34,
   "id": "6b28bfc7-d247-440f-bdd0-48458ebef511",
   "metadata": {},
   "outputs": [],
   "source": [
    "with open(\"..//Data//chapter5_weight_trajectory.pickle\", \"rb\") as f: \n",
    "    catch_all = pickle.load( f)"
   ]
  },
  {
   "cell_type": "code",
   "execution_count": 35,
   "id": "73c8b224-2bf1-40bf-96c5-4ed07787e887",
   "metadata": {},
   "outputs": [],
   "source": [
    "catch_dfs = []\n",
    "for item in catch_all: \n",
    "    item1 = item[-2:]\n",
    "    DeepCDR_Drugs, sd_drugs = item1[0], item1[1]\n",
    "    # combo = np.hstack((DeepCDR_Drugs.reshape(-1,1), DeepCDR_Omics.reshape(-1,1)))\n",
    "    combo_df = pd.DataFrame(DeepCDR_Drugs)\n",
    "    combo_df.columns = [\"Smiles_Weight\"]\n",
    "    combo_df[\"sd_drugs\"] = sd_drugs\n",
    "    combo_df[\"update_iteration\"] = np.array(list(range(0, combo_df.shape[0]))) + 1\n",
    "    catch_dfs.append(combo_df)"
   ]
  },
  {
   "cell_type": "code",
   "execution_count": 36,
   "id": "7b10d269-b8da-4c20-afa7-26881fff8bf7",
   "metadata": {},
   "outputs": [],
   "source": [
    "catch_dfs_df = pd.concat(catch_dfs)\n",
    "how_often_at_each_update  = catch_dfs_df.groupby(\"update_iteration\")[[\"Smiles_Weight\"]].count()\n",
    "how_often_at_each_update.columns = [\"counts\"]"
   ]
  },
  {
   "cell_type": "code",
   "execution_count": 37,
   "id": "6988f318-9ffb-421b-9b0d-4ef8b310231b",
   "metadata": {},
   "outputs": [],
   "source": [
    "how_often_at_each_update = how_often_at_each_update.reset_index()"
   ]
  },
  {
   "cell_type": "code",
   "execution_count": 38,
   "id": "f695f117-ce79-48bc-bc2e-f9be58a73d38",
   "metadata": {},
   "outputs": [
    {
     "data": {
      "text/plain": [
       "[<matplotlib.lines.Line2D at 0x14ce53c9b250>]"
      ]
     },
     "execution_count": 38,
     "metadata": {},
     "output_type": "execute_result"
    },
    {
     "data": {
      "image/png": "[encoded data removed]",
      "text/plain": [
       "<Figure size 640x480 with 1 Axes>"
      ]
     },
     "metadata": {},
     "output_type": "display_data"
    }
   ],
   "source": [
    "plt.plot(np.cumsum(how_often_at_each_update[\"counts\"].values)/how_often_at_each_update[\"counts\"].values.sum() , linewidth = 3)"
   ]
  },
  {
   "cell_type": "code",
   "execution_count": 39,
   "id": "28afe506-42f4-46ec-afe6-488bd6a1ce25",
   "metadata": {},
   "outputs": [],
   "source": [
    "mean_weights_at_each_update  = catch_dfs_df.groupby(\"update_iteration\").mean()\n",
    "mean_weights_at_each_update = mean_weights_at_each_update.reset_index()"
   ]
  },
  {
   "cell_type": "code",
   "execution_count": 40,
   "id": "0c4bc3e9-3001-423d-a45b-c8e8f3baf6b8",
   "metadata": {},
   "outputs": [],
   "source": [
    "how_many = 100\n",
    "mean_weights_at_each_update = mean_weights_at_each_update[mean_weights_at_each_update[\"update_iteration\"] <= how_many]"
   ]
  },
  {
   "cell_type": "code",
   "execution_count": 99,
   "id": "b10ade16-262c-481b-8c5b-9f78d3c7b2a7",
   "metadata": {},
   "outputs": [],
   "source": [
    "# mean_weights_at_each_update"
   ]
  },
  {
   "cell_type": "code",
   "execution_count": 41,
   "id": "9b76a38b-a380-4281-be1c-39647ea4905d",
   "metadata": {},
   "outputs": [],
   "source": [
    "mean_weights_at_each_update = mean_weights_at_each_update.set_index(\"update_iteration\")"
   ]
  },
  {
   "cell_type": "code",
   "execution_count": 42,
   "id": "a67125f6-f52e-4002-a313-f7452fa88c28",
   "metadata": {},
   "outputs": [],
   "source": [
    "len_updates = mean_weights_at_each_update.shape[0]"
   ]
  },
  {
   "cell_type": "code",
   "execution_count": 43,
   "id": "c2349c60-3b04-4327-88b5-4da9c22405e1",
   "metadata": {},
   "outputs": [
    {
     "data": {
      "text/html": [
       "<div>\n",
       "<style scoped>\n",
       "    .dataframe tbody tr th:only-of-type {\n",
       "        vertical-align: middle;\n",
       "    }\n",
       "\n",
       "    .dataframe tbody tr th {\n",
       "        vertical-align: top;\n",
       "    }\n",
       "\n",
       "    .dataframe thead th {\n",
       "        text-align: right;\n",
       "    }\n",
       "</style>\n",
       "<table border=\"1\" class=\"dataframe\">\n",
       "  <thead>\n",
       "    <tr style=\"text-align: right;\">\n",
       "      <th></th>\n",
       "      <th>Smiles_Weight</th>\n",
       "      <th>sd_drugs</th>\n",
       "    </tr>\n",
       "    <tr>\n",
       "      <th>update_iteration</th>\n",
       "      <th></th>\n",
       "      <th></th>\n",
       "    </tr>\n",
       "  </thead>\n",
       "  <tbody>\n",
       "    <tr>\n",
       "      <th>1</th>\n",
       "      <td>0.547145</td>\n",
       "      <td>0.205937</td>\n",
       "    </tr>\n",
       "    <tr>\n",
       "      <th>2</th>\n",
       "      <td>0.582408</td>\n",
       "      <td>0.177086</td>\n",
       "    </tr>\n",
       "    <tr>\n",
       "      <th>3</th>\n",
       "      <td>0.611654</td>\n",
       "      <td>0.155231</td>\n",
       "    </tr>\n",
       "    <tr>\n",
       "      <th>4</th>\n",
       "      <td>0.637031</td>\n",
       "      <td>0.135717</td>\n",
       "    </tr>\n",
       "    <tr>\n",
       "      <th>5</th>\n",
       "      <td>0.655410</td>\n",
       "      <td>0.119839</td>\n",
       "    </tr>\n",
       "  </tbody>\n",
       "</table>\n",
       "</div>"
      ],
      "text/plain": [
       "                  Smiles_Weight  sd_drugs\n",
       "update_iteration                         \n",
       "1                      0.547145  0.205937\n",
       "2                      0.582408  0.177086\n",
       "3                      0.611654  0.155231\n",
       "4                      0.637031  0.135717\n",
       "5                      0.655410  0.119839"
      ]
     },
     "execution_count": 43,
     "metadata": {},
     "output_type": "execute_result"
    }
   ],
   "source": [
    "mean_weights_at_each_update.head()"
   ]
  },
  {
   "cell_type": "code",
   "execution_count": 47,
   "id": "95134385-6ee7-40de-b60a-e3a3ed924dd6",
   "metadata": {},
   "outputs": [
    {
     "data": {
      "image/png": "[encoded data removed]",
      "text/plain": [
       "<Figure size 640x480 with 1 Axes>"
      ]
     },
     "metadata": {},
     "output_type": "display_data"
    }
   ],
   "source": [
    "figure = plt.figure()\n",
    "plt.errorbar(range(0, len(mean_weights_at_each_update[\"Smiles_Weight\"])), mean_weights_at_each_update[\"Smiles_Weight\"],mean_weights_at_each_update[\"sd_drugs\"], elinewidth=1, linewidth = 4, ecolor = \"blue\", color = \"green\")\n",
    "# plt.legend()\n",
    "plt.xlabel(\"Epochs\", fontweight = \"bold\",fontsize = 15)\n",
    "plt.ylabel(\"Average SMILE weight\", fontweight = \"bold\", fontsize = 15)\n",
    "plt.xticks(fontsize = 15, fontweight = \"bold\")\n",
    "plt.yticks(fontsize = 15, fontweight = \"bold\")\n",
    "figure.savefig('Chapter_5_weight_trajectory_plot.pdf', bbox_inches='tight', format = \"pdf\")\n",
    "figure.savefig('Chapter_5_weight_trajectory_plot.png', bbox_inches='tight')\n",
    "plt.show()"
   ]
  },
  {
   "cell_type": "code",
   "execution_count": 44,
   "id": "24fba3a6-f687-4145-843b-815b325d01a3",
   "metadata": {},
   "outputs": [
    {
     "data": {
      "image/png": "[encoded data removed]",
      "text/plain": [
       "<Figure size 640x480 with 1 Axes>"
      ]
     },
     "metadata": {},
     "output_type": "display_data"
    }
   ],
   "source": [
    "fig = plt.figure()\n",
    "plt.errorbar(range(0,len_updates), mean_weights_at_each_update[\"Smiles_Weight\"],mean_weights_at_each_update[\"sd_drugs\"] ,linewidth = 3,  c = \"blue\", label = \"Train\")\n",
    "plt.plot(range(0,len_updates), mean_weights_at_each_update[\"Smiles_Weight\"]-mean_weights_at_each_update[\"sd_drugs\"],\n",
    "                 mean_weights_at_each_update[\"Smiles_Weight\"]+mean_weights_at_each_update[\"sd_drugs\"], color = \"green\")\n",
    "\n",
    "\n",
    "plt.xlabel(\"Epoch\", fontsize = 15, fontweight = \"bold\")\n",
    "plt.ylabel(\"Average Smile Weight\", fontsize = 15, fontweight = \"bold\")\n",
    "plt.xticks( fontsize = 10, fontweight = \"bold\")\n",
    "plt.yticks( fontsize = 10, fontweight = \"bold\")\n",
    "\n",
    "# plt.legend()\n",
    "fig.savefig('Chapter_5_weight_trajectory_plot.pdf', bbox_inches='tight', format = \"pdf\")\n",
    "fig.savefig('Chapter_5_weight_trajectory_plot.png', bbox_inches='tight')\n",
    "\n",
    "plt.show()"
   ]
  }
 ],
 "metadata": {
  "kernelspec": {
   "display_name": "enkf",
   "language": "python",
   "name": "enkf"
  },
  "language_info": {
   "codemirror_mode": {
    "name": "ipython",
    "version": 3
   },
   "file_extension": ".py",
   "mimetype": "text/x-python",
   "name": "python",
   "nbconvert_exporter": "python",
   "pygments_lexer": "ipython3",
   "version": "3.11.3"
  }
 },
 "nbformat": 4,
 "nbformat_minor": 5
}
