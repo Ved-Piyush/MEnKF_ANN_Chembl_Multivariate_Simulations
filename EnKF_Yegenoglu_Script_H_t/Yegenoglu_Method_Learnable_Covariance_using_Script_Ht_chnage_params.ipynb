{
 "cells": [
  {
   "cell_type": "code",
   "execution_count": 1,
   "id": "aa53e19a-64db-4b1d-9378-c19c8efacd62",
   "metadata": {},
   "outputs": [
    {
     "name": "stderr",
     "output_type": "stream",
     "text": [
      "2023-06-09 20:08:33.510303: I tensorflow/core/util/port.cc:110] oneDNN custom operations are on. You may see slightly different numerical results due to floating-point round-off errors from different computation orders. To turn them off, set the environment variable `TF_ENABLE_ONEDNN_OPTS=0`.\n",
      "2023-06-09 20:08:33.512692: I tensorflow/tsl/cuda/cudart_stub.cc:28] Could not find cuda drivers on your machine, GPU will not be used.\n",
      "2023-06-09 20:08:33.550971: I tensorflow/tsl/cuda/cudart_stub.cc:28] Could not find cuda drivers on your machine, GPU will not be used.\n",
      "2023-06-09 20:08:33.551780: I tensorflow/core/platform/cpu_feature_guard.cc:182] This TensorFlow binary is optimized to use available CPU instructions in performance-critical operations.\n",
      "To enable the following instructions: AVX2 AVX512F AVX512_VNNI FMA, in other operations, rebuild TensorFlow with the appropriate compiler flags.\n",
      "2023-06-09 20:08:34.574506: W tensorflow/compiler/tf2tensorrt/utils/py_utils.cc:38] TF-TRT Warning: Could not find TensorRT\n"
     ]
    }
   ],
   "source": [
    "import pandas as pd\n",
    "import numpy as np\n",
    "from sklearn.model_selection import KFold\n",
    "from sklearn.feature_selection import VarianceThreshold\n",
    "import random\n",
    "import pickle\n",
    "from sklearn.preprocessing import StandardScaler\n",
    "import os\n",
    "import tensorflow as tf\n",
    "from tqdm.notebook import tqdm\n",
    "from scipy.stats import multivariate_normal as mvn\n",
    "import matplotlib.pyplot as plt\n",
    "from scipy.linalg import block_diag"
   ]
  },
  {
   "cell_type": "code",
   "execution_count": 2,
   "id": "d459b853-f520-4181-a9a9-310a6dd20de1",
   "metadata": {},
   "outputs": [],
   "source": [
    "def get_targets_with_weights(batch_data, initial_ensembles, size_ens, ann): \n",
    "    \n",
    "    target_dim = 1\n",
    "    \n",
    "    weights_ann_1 = ann.get_weights()\n",
    "    \n",
    "    h1  = ann.layers[1].output.shape[-1]\n",
    "\n",
    "    n_hidden_1 = len(weights_ann_1[0].ravel())\n",
    "    \n",
    "    hidden_weights_1 = initial_ensembles[:,:n_hidden_1].reshape( size_ens, batch_data.shape[1], h1)\n",
    "    \n",
    "    \n",
    "    hidden_output_1 = np.einsum('ij,kjl->kil', batch_data, hidden_weights_1)\n",
    "\n",
    "    \n",
    "    hidden_layer_bias_1 = initial_ensembles[:,n_hidden_1:(n_hidden_1 + h1)].reshape(size_ens, 1,  h1)\n",
    "\n",
    "\n",
    "    hidden_output_1 = hidden_output_1 + hidden_layer_bias_1\n",
    "\n",
    "    n_pred_weights_1 = len(weights_ann_1[2].ravel())\n",
    "\n",
    "    output_weights_1 = initial_ensembles[:,(n_hidden_1 + h1):(n_hidden_1 + h1 + n_pred_weights_1) ].reshape(size_ens, h1, target_dim)\n",
    "\n",
    "\n",
    "    output_1 = np.einsum('ijk,ikl->ijl', hidden_output_1, output_weights_1)\n",
    "\n",
    "\n",
    "    output_layer_bias_1 = initial_ensembles[:,(n_hidden_1 + h1 + n_pred_weights_1):(n_hidden_1 + h1 + n_pred_weights_1 + target_dim)].reshape(size_ens, 1, target_dim)\n",
    "\n",
    "\n",
    "    final_output_1 = output_1 + output_layer_bias_1\n",
    "    \n",
    "    final_output_1 = final_output_1[:,:, 0]\n",
    "    \n",
    "    # print(final_output_1.shape, initial_ensembles.shape)\n",
    "    \n",
    "    stack = np.hstack((final_output_1, initial_ensembles))\n",
    "\n",
    "    \n",
    "    return final_output_1, stack"
   ]
  },
  {
   "cell_type": "code",
   "execution_count": 3,
   "id": "2a66ee4c-4112-4dca-a9cc-68a60d4e316f",
   "metadata": {},
   "outputs": [],
   "source": [
    "def ann(hidden = 32, input_shape = 256, output_shape = 1): \n",
    "    input_layer = tf.keras.layers.Input(shape = (input_shape))\n",
    "    hidden_layer = tf.keras.layers.Dense(hidden)\n",
    "    hidden_output = hidden_layer(input_layer)\n",
    "    pred_layer = tf.keras.layers.Dense(output_shape, activation = \"relu\")\n",
    "    pred_output = pred_layer(hidden_output)\n",
    "#     pred_output = tf.keras.layers.Activation(\"softmax\")(pred_output)\n",
    "    model = tf.keras.models.Model(input_layer, pred_output)\n",
    "    return model"
   ]
  },
  {
   "cell_type": "code",
   "execution_count": 4,
   "id": "e0b9ef03-af61-4ce4-99ff-2f0b5dca639d",
   "metadata": {},
   "outputs": [],
   "source": [
    "def generate_initial_ensembles(num_weights, lambda1, size_ens):\n",
    "    mean_vec = np.zeros((num_weights,))\n",
    "    cov_matrix = lambda1*np.identity(num_weights)\n",
    "    mvn_samp = mvn(mean_vec, cov_matrix)\n",
    "    return mvn_samp.rvs(size_ens)"
   ]
  },
  {
   "cell_type": "code",
   "execution_count": 5,
   "id": "fe2ea2b5-13a4-41c4-8257-c6c18708501b",
   "metadata": {},
   "outputs": [],
   "source": [
    "def expit(x):\n",
    "    \"\"\"Compute softmax values for each sets of scores in x.\"\"\"\n",
    "#     e_x = np.exp(x - np.max(x))\n",
    "    return 1 / (1 + np.exp(-x))"
   ]
  },
  {
   "cell_type": "code",
   "execution_count": 6,
   "id": "b5f741d7-ba99-4803-8441-5bf2ad3d72f7",
   "metadata": {},
   "outputs": [],
   "source": [
    "def get_initial_X_t(data1, data2, size_ens, var_weights = 1):\n",
    "    samp_ann =  ann(hidden = 16, input_shape = 32, output_shape = 1)\n",
    "    \n",
    "    initial_ensembles1 = generate_initial_ensembles(samp_ann.count_params(), var_weights, size_ens)\n",
    "    data1_out1, data1_stack1 = get_targets_with_weights(data1, initial_ensembles1, size_ens = size_ens, ann = samp_ann)\n",
    "    \n",
    "    initial_ensembles2 = generate_initial_ensembles(samp_ann.count_params(), var_weights, size_ens)\n",
    "    data1_out2, data1_stack2 = get_targets_with_weights(data1, initial_ensembles2, size_ens = size_ens, ann = samp_ann)\n",
    "    \n",
    "    initial_ensembles3 = generate_initial_ensembles(samp_ann.count_params(), var_weights, size_ens)\n",
    "    data2_out1, data2_stack1 = get_targets_with_weights(data2, initial_ensembles3, size_ens = size_ens, ann = samp_ann)\n",
    "    \n",
    "    initial_ensembles4 = generate_initial_ensembles(samp_ann.count_params(), var_weights, size_ens)\n",
    "    data2_out2, data2_stack2 = get_targets_with_weights(data2, initial_ensembles4, size_ens = size_ens, ann = samp_ann)   \n",
    "    \n",
    "    X_t = np.concatenate((np.expand_dims(data1_stack1, -1), np.expand_dims(data1_stack2, -1), \n",
    "                         np.expand_dims(data2_stack1, -1), np.expand_dims(data2_stack2, -1)), axis = -1)\n",
    "    \n",
    "    initial_ensembles_for_weights = generate_initial_ensembles(4, var_weights, size_ens)\n",
    "    initial_ensembles_for_weights = np.expand_dims(initial_ensembles_for_weights,1)\n",
    "    \n",
    "    initial_ensembles_for_L = generate_initial_ensembles(4, var_weights, size_ens)\n",
    "    initial_ensembles_for_L = np.expand_dims(initial_ensembles_for_L,1)    \n",
    "    \n",
    "    initial_ensembles_for_D1 = generate_initial_ensembles(1, var_weights, size_ens).reshape(-1,1)\n",
    "    initial_ensembles_for_D2 = generate_initial_ensembles(1, var_weights, size_ens).reshape(-1,1)\n",
    "    \n",
    "    initial_ensembles_for_D1_zero = np.zeros((size_ens,1,1)).reshape(-1,1)\n",
    "    initial_ensembles_for_D2_zero = np.zeros((size_ens,1,1)).reshape(-1,1)\n",
    "    \n",
    "    initial_ensembles_for_D = np.concatenate((np.expand_dims(initial_ensembles_for_D1,1),\n",
    "                                                       np.expand_dims(initial_ensembles_for_D1_zero,1), \n",
    "                                                      np.expand_dims(initial_ensembles_for_D2,1),\n",
    "                                                       np.expand_dims(initial_ensembles_for_D2_zero,1)), axis = 2)\n",
    "    \n",
    "    # print(X_t.shape, initial_ensembles_for_weights.shape)\n",
    "    \n",
    "    X_t = np.concatenate((X_t, initial_ensembles_for_weights, initial_ensembles_for_L, initial_ensembles_for_D), axis = 1)\n",
    "    \n",
    "    initial_ensembles = np.hstack((initial_ensembles1, initial_ensembles2, initial_ensembles3, initial_ensembles4))\n",
    "    \n",
    "    return X_t, initial_ensembles, initial_ensembles_for_weights[:,0,:], initial_ensembles_for_L[:,0,:], initial_ensembles_for_D[:,0,:]"
   ]
  },
  {
   "cell_type": "code",
   "execution_count": 7,
   "id": "6ac49c8c-6da0-4ee2-9561-e1d19365f182",
   "metadata": {},
   "outputs": [],
   "source": [
    "def get_weighted_targets_with_weights(batch_data, initial_ensembles, size_ens, ann, weights): \n",
    "    \n",
    "    target_dim = 1\n",
    "    \n",
    "    weights_ann_1 = ann.get_weights()\n",
    "    \n",
    "    h1  = ann.layers[1].output.shape[-1]\n",
    "\n",
    "    n_hidden_1 = len(weights_ann_1[0].ravel())\n",
    "    \n",
    "    hidden_weights_1 = initial_ensembles[:,:n_hidden_1].reshape( size_ens, batch_data.shape[1], h1)\n",
    "    \n",
    "    \n",
    "    hidden_output_1 = np.einsum('ij,kjl->kil', batch_data, hidden_weights_1)\n",
    "\n",
    "    \n",
    "    hidden_layer_bias_1 = initial_ensembles[:,n_hidden_1:(n_hidden_1 + h1)].reshape(size_ens, 1,  h1)\n",
    "\n",
    "\n",
    "    hidden_output_1 = hidden_output_1 + hidden_layer_bias_1\n",
    "\n",
    "    n_pred_weights_1 = len(weights_ann_1[2].ravel())\n",
    "\n",
    "    output_weights_1 = initial_ensembles[:,(n_hidden_1 + h1):(n_hidden_1 + h1 + n_pred_weights_1) ].reshape(size_ens, h1, target_dim)\n",
    "\n",
    "\n",
    "    output_1 = np.einsum('ijk,ikl->ijl', hidden_output_1, output_weights_1)\n",
    "\n",
    "\n",
    "    output_layer_bias_1 = initial_ensembles[:,(n_hidden_1 + h1 + n_pred_weights_1):(n_hidden_1 + h1 + n_pred_weights_1 + target_dim)].reshape(size_ens, 1, target_dim)\n",
    "\n",
    "\n",
    "    final_output_1 = output_1 + output_layer_bias_1\n",
    "    \n",
    "    final_output_1 = final_output_1[:,:, 0]\n",
    "    \n",
    "    final_output_1 = final_output_1*weights\n",
    "    \n",
    "    # print(final_output_1.shape, initial_ensembles.shape)\n",
    "    \n",
    "    stack = np.hstack((final_output_1, initial_ensembles))\n",
    "\n",
    "    \n",
    "    return final_output_1, stack"
   ]
  },
  {
   "cell_type": "code",
   "execution_count": 8,
   "id": "8f382d3e-e4dc-4e19-b19a-0eb954236a16",
   "metadata": {},
   "outputs": [],
   "source": [
    "alogp_bottleneck = np.load(\"..//Data/small_mol_phase_3_features_for_both.npy\")"
   ]
  },
  {
   "cell_type": "code",
   "execution_count": 9,
   "id": "94e5e3f5-e4c6-40f8-ac40-b487543e3711",
   "metadata": {},
   "outputs": [],
   "source": [
    "y_valid = pd.read_csv(\"..//Data/smiles_with_rdkit_with_small_phase_3_outputs.csv\")"
   ]
  },
  {
   "cell_type": "code",
   "execution_count": 10,
   "id": "b697b7f9-3d50-4d71-a436-cdc6434909a5",
   "metadata": {},
   "outputs": [
    {
     "name": "stderr",
     "output_type": "stream",
     "text": [
      "/home/statgrads/vpiyush2/.conda/envs/enkf/lib/python3.11/site-packages/sklearn/base.py:318: UserWarning: Trying to unpickle estimator StandardScaler from version 1.1.2 when using version 1.2.2. This might lead to breaking code or invalid results. Use at your own risk. For more info please refer to:\n",
      "https://scikit-learn.org/stable/model_persistence.html#security-maintainability-limitations\n",
      "  warnings.warn(\n"
     ]
    }
   ],
   "source": [
    "std_targets = pickle.load( open('..//Data//target_scaler.pkl', 'rb'))"
   ]
  },
  {
   "cell_type": "code",
   "execution_count": 11,
   "id": "1ad7f00f-1bd3-40bc-b50b-de0406c72655",
   "metadata": {},
   "outputs": [],
   "source": [
    "y_train = y_valid.values[:,1:]"
   ]
  },
  {
   "cell_type": "code",
   "execution_count": 12,
   "id": "e3fe10a7-fcc3-430f-8ade-356a7f7b85b2",
   "metadata": {},
   "outputs": [
    {
     "name": "stderr",
     "output_type": "stream",
     "text": [
      "/home/statgrads/vpiyush2/.conda/envs/enkf/lib/python3.11/site-packages/sklearn/base.py:439: UserWarning: X does not have valid feature names, but StandardScaler was fitted with feature names\n",
      "  warnings.warn(\n"
     ]
    }
   ],
   "source": [
    "y_train = std_targets.transform(y_train)"
   ]
  },
  {
   "cell_type": "code",
   "execution_count": 13,
   "id": "6dfffa08-081b-4b5f-8181-ae94a920c932",
   "metadata": {},
   "outputs": [],
   "source": [
    "from sklearn.model_selection import train_test_split"
   ]
  },
  {
   "cell_type": "code",
   "execution_count": 14,
   "id": "f03896e4-b7c8-4237-a0a8-7af9ed6b1f0d",
   "metadata": {},
   "outputs": [],
   "source": [
    "x_train, x_valid, y_train, y_valid = train_test_split(alogp_bottleneck, y_train, test_size = 0.25, shuffle = True, \n",
    "                                                     random_state = 42)"
   ]
  },
  {
   "cell_type": "code",
   "execution_count": 15,
   "id": "e2ed02ca-e8a1-4767-8152-4fc17b1afe61",
   "metadata": {},
   "outputs": [
    {
     "data": {
      "text/plain": [
       "(719, 64)"
      ]
     },
     "execution_count": 15,
     "metadata": {},
     "output_type": "execute_result"
    }
   ],
   "source": [
    "x_train.shape"
   ]
  },
  {
   "cell_type": "code",
   "execution_count": 16,
   "id": "8660cfe1-5d14-4e88-b5ae-f5d39ec41932",
   "metadata": {},
   "outputs": [],
   "source": [
    "# R_t = np.cov(y_train.T)"
   ]
  },
  {
   "cell_type": "code",
   "execution_count": 17,
   "id": "e2ea7e9a-2c5f-4603-984c-4acd309fb581",
   "metadata": {},
   "outputs": [],
   "source": [
    "# R_t"
   ]
  },
  {
   "cell_type": "code",
   "execution_count": 18,
   "id": "d156603a-c127-45b6-a74d-2735987d03ce",
   "metadata": {},
   "outputs": [],
   "source": [
    "# var1 = R_t[0,0]\n",
    "# var2 = R_t[1,1]\n",
    "# cov = R_t[1,0]"
   ]
  },
  {
   "cell_type": "code",
   "execution_count": 19,
   "id": "cb69be39-625e-4a08-9bec-90a6d312df8d",
   "metadata": {},
   "outputs": [],
   "source": [
    "# ul = var1*np.identity(x_train.shape[0])\n",
    "# lr = var2*np.identity(x_train.shape[0])\n",
    "# ur = cov*np.identity(x_train.shape[0])\n",
    "# ll = ur.T"
   ]
  },
  {
   "cell_type": "code",
   "execution_count": 20,
   "id": "67930509-5afb-458b-90a6-a9bc5b1cb94d",
   "metadata": {},
   "outputs": [],
   "source": [
    "# first_row = np.hstack((ul, ur))\n",
    "# second_row = np.hstack((ll, lr))"
   ]
  },
  {
   "cell_type": "code",
   "execution_count": 21,
   "id": "534f2539-a9e7-4ab2-b84b-fcecf628d473",
   "metadata": {},
   "outputs": [],
   "source": [
    "# first_row.shape"
   ]
  },
  {
   "cell_type": "code",
   "execution_count": 22,
   "id": "2a9541bb-5cf5-4adb-baa8-69965781f7d2",
   "metadata": {},
   "outputs": [],
   "source": [
    "# second_row.shape"
   ]
  },
  {
   "cell_type": "code",
   "execution_count": 23,
   "id": "63e35567-c2b7-4e1f-9eae-9bbb1ccfd3af",
   "metadata": {},
   "outputs": [],
   "source": [
    "# R_t = np.vstack((first_row, second_row))"
   ]
  },
  {
   "cell_type": "code",
   "execution_count": 24,
   "id": "2c29b851-3a1f-4d4a-a15a-e8b6bffd6de5",
   "metadata": {},
   "outputs": [],
   "source": [
    "# R_t.shape"
   ]
  },
  {
   "cell_type": "code",
   "execution_count": 25,
   "id": "7b98c57b-e85d-46f9-92b4-09f2a1b179a8",
   "metadata": {},
   "outputs": [],
   "source": [
    "smiles_feats_train = x_train[:, :32]"
   ]
  },
  {
   "cell_type": "code",
   "execution_count": 26,
   "id": "3b91f4be-60b4-44ee-b992-80da2cbe5395",
   "metadata": {},
   "outputs": [],
   "source": [
    "rdkit_feats_train = x_train[:, 32:]"
   ]
  },
  {
   "cell_type": "code",
   "execution_count": 27,
   "id": "dfe0b04f-b7c9-4f72-ac4b-4ba7e50d128b",
   "metadata": {},
   "outputs": [],
   "source": [
    "smiles_feats_valid = x_valid[:, :32]\n",
    "rdkit_feats_valid = x_valid[:, 32:]"
   ]
  },
  {
   "cell_type": "code",
   "execution_count": 28,
   "id": "5932b6c7-8781-4514-8b67-1e760609c62d",
   "metadata": {},
   "outputs": [],
   "source": [
    "# size_ens = 250"
   ]
  },
  {
   "cell_type": "code",
   "execution_count": 29,
   "id": "9d1a4f5e-7a0d-42b7-ad45-59c708b7b727",
   "metadata": {},
   "outputs": [],
   "source": [
    "def forward_operation(data1, data2, combined_ensembles , size_ens ):\n",
    "    samp_ann =  ann(hidden = 16, input_shape = 32, output_shape = 1)\n",
    "    params = samp_ann.count_params()\n",
    "    initial_ensembles1 = combined_ensembles[:, :params]\n",
    "    initial_ensembles2 = combined_ensembles[:, params:(2*params)]\n",
    "    initial_ensembles3 = combined_ensembles[:, (2*params):(3*params)]\n",
    "    initial_ensembles4 = combined_ensembles[:, (3*params):(4*params)]\n",
    "\n",
    "    \n",
    "    initial_ensembles_for_weights = combined_ensembles[:, (4*params):(4*params + 4)]\n",
    "    \n",
    "    initial_ensembles_for_L = combined_ensembles[:, (4*params + 4):(4*params + 4 + 4)]\n",
    "    \n",
    "    initial_ensembles_for_D = combined_ensembles[:,(4*params + 4 + 4):(4*params + 4 + 4 + 4)]\n",
    "    \n",
    "    \n",
    "    softmax_weights = tf.math.softmax(initial_ensembles_for_weights).numpy()\n",
    "    \n",
    "    model_1 = softmax_weights[:,:2].sum(1).reshape(-1,1)\n",
    "    \n",
    "    model_2 = softmax_weights[:,2:].sum(1).reshape(-1,1)\n",
    "    \n",
    "    data1_out1, data1_stack1 = get_weighted_targets_with_weights(data1, initial_ensembles1, size_ens = size_ens,\n",
    "                                                                 ann = samp_ann, weights=model_1)\n",
    "    \n",
    "    data1_out2, data1_stack2 = get_weighted_targets_with_weights(data1, initial_ensembles2, size_ens = size_ens,\n",
    "                                                                 ann = samp_ann, weights=model_1)\n",
    "    \n",
    "    data2_out1, data2_stack1 = get_weighted_targets_with_weights(data2, initial_ensembles3, size_ens = size_ens,\n",
    "                                                                 ann = samp_ann, weights=model_2)\n",
    "    \n",
    "    data2_out2, data2_stack2 = get_weighted_targets_with_weights(data2, initial_ensembles4, size_ens = size_ens,\n",
    "                                                                 ann = samp_ann, weights=model_2)   \n",
    "    \n",
    "    X_t = np.concatenate((np.expand_dims(data1_stack1, -1), np.expand_dims(data1_stack2, -1), \n",
    "                         np.expand_dims(data2_stack1, -1), np.expand_dims(data2_stack2, -1)), axis = -1)\n",
    "    \n",
    "    initial_ensembles = np.hstack((initial_ensembles1, initial_ensembles2, initial_ensembles3, initial_ensembles4, \n",
    "                        initial_ensembles_for_weights, initial_ensembles_for_L, initial_ensembles_for_D))\n",
    "    \n",
    "    # print(X_t.shape)\n",
    "    \n",
    "    initial_ensembles_for_weights = np.expand_dims(initial_ensembles_for_weights,1)\n",
    "    \n",
    "    initial_ensembles_for_L = np.expand_dims(initial_ensembles_for_L,1)\n",
    "    \n",
    "    initial_ensembles_for_D = np.expand_dims(initial_ensembles_for_D,1)\n",
    "    \n",
    "    # print(initial_ensembles_for_weights.shape)\n",
    "    \n",
    "    X_t = np.concatenate((X_t, initial_ensembles_for_weights, initial_ensembles_for_L, initial_ensembles_for_D), axis = 1)\n",
    "    \n",
    "    weighted_alogp = data1_out1 + data2_out1\n",
    "    \n",
    "    weighted_psa = data1_out2 + data2_out2\n",
    "    \n",
    "    return X_t, initial_ensembles, weighted_alogp, weighted_psa, model_1, model_2"
   ]
  },
  {
   "cell_type": "code",
   "execution_count": 30,
   "id": "e15b0bf7-ba00-40bc-933b-c1c3e062e98e",
   "metadata": {},
   "outputs": [
    {
     "name": "stderr",
     "output_type": "stream",
     "text": [
      "2023-06-09 20:08:36.281847: E tensorflow/compiler/xla/stream_executor/cuda/cuda_driver.cc:266] failed call to cuInit: CUDA_ERROR_NO_DEVICE: no CUDA-capable device is detected\n",
      "2023-06-09 20:08:36.281898: I tensorflow/compiler/xla/stream_executor/cuda/cuda_diagnostics.cc:168] retrieving CUDA diagnostic information for host: c3101.swan.hcc.unl.edu\n",
      "2023-06-09 20:08:36.281913: I tensorflow/compiler/xla/stream_executor/cuda/cuda_diagnostics.cc:175] hostname: c3101.swan.hcc.unl.edu\n",
      "2023-06-09 20:08:36.282067: I tensorflow/compiler/xla/stream_executor/cuda/cuda_diagnostics.cc:199] libcuda reported version is: 525.85.5\n",
      "2023-06-09 20:08:36.282085: I tensorflow/compiler/xla/stream_executor/cuda/cuda_diagnostics.cc:203] kernel reported version is: 525.85.5\n",
      "2023-06-09 20:08:36.282091: I tensorflow/compiler/xla/stream_executor/cuda/cuda_diagnostics.cc:309] kernel version seems to match DSO: 525.85.5\n"
     ]
    }
   ],
   "source": [
    "samp_ann =  ann(hidden = 16, input_shape = 32, output_shape = 1)"
   ]
  },
  {
   "cell_type": "code",
   "execution_count": 31,
   "id": "af3dd570-7ab3-4eae-bd8e-9a57a333b30a",
   "metadata": {},
   "outputs": [],
   "source": [
    "total_weights = 4*(samp_ann.count_params() + 1 + 1 + 1)"
   ]
  },
  {
   "cell_type": "code",
   "execution_count": 32,
   "id": "7fcac026-31e1-4d16-8bea-f9cd8a99c51e",
   "metadata": {},
   "outputs": [
    {
     "data": {
      "text/plain": [
       "2192"
      ]
     },
     "execution_count": 32,
     "metadata": {},
     "output_type": "execute_result"
    }
   ],
   "source": [
    "total_weights"
   ]
  },
  {
   "cell_type": "code",
   "execution_count": 33,
   "id": "e820b010-4396-4b7a-8781-a8e6d503aad5",
   "metadata": {},
   "outputs": [],
   "source": [
    "reduction = 8"
   ]
  },
  {
   "cell_type": "code",
   "execution_count": 34,
   "id": "e5fbaaf7-afae-4008-a26c-e0691ef9b3f9",
   "metadata": {},
   "outputs": [],
   "source": [
    "size_ens = total_weights//reduction"
   ]
  },
  {
   "cell_type": "code",
   "execution_count": 35,
   "id": "a5111536-1a97-4390-9658-c9848a136a3f",
   "metadata": {},
   "outputs": [
    {
     "data": {
      "text/plain": [
       "274"
      ]
     },
     "execution_count": 35,
     "metadata": {},
     "output_type": "execute_result"
    }
   ],
   "source": [
    "size_ens"
   ]
  },
  {
   "cell_type": "code",
   "execution_count": 36,
   "id": "a59f4669-65d3-41df-8cd9-79ebdecb9b0f",
   "metadata": {},
   "outputs": [],
   "source": [
    "X_t, initial_ensembles, initial_ensembles_for_weights, initial_ensembles_for_L, initial_ensembles_for_D = get_initial_X_t(smiles_feats_train, rdkit_feats_train, size_ens = size_ens)"
   ]
  },
  {
   "cell_type": "code",
   "execution_count": 37,
   "id": "dad93ee9-a527-4663-9e18-d72039909c4a",
   "metadata": {},
   "outputs": [],
   "source": [
    "# X_t, initial_ensembles, initial_ensembles_for_weights = get_initial_X_t(smiles_feats_train, rdkit_feats_train, size_ens = size_ens)"
   ]
  },
  {
   "cell_type": "code",
   "execution_count": 38,
   "id": "9c1bbad1-127a-4c27-8fb9-23783b072a24",
   "metadata": {},
   "outputs": [],
   "source": [
    "initial_ensembles = np.hstack((initial_ensembles, initial_ensembles_for_weights, initial_ensembles_for_L, initial_ensembles_for_D))"
   ]
  },
  {
   "cell_type": "code",
   "execution_count": 39,
   "id": "ecfb3b01-63af-4194-8bb8-8d7dfa1a9edf",
   "metadata": {},
   "outputs": [
    {
     "data": {
      "text/plain": [
       "(274, 2192)"
      ]
     },
     "execution_count": 39,
     "metadata": {},
     "output_type": "execute_result"
    }
   ],
   "source": [
    "initial_ensembles.shape"
   ]
  },
  {
   "cell_type": "code",
   "execution_count": 40,
   "id": "3f598992-73d6-4b5a-906d-3184f1b9625f",
   "metadata": {},
   "outputs": [],
   "source": [
    "G_t = [[1, 0, 1, 0], [0, 1, 0, 1]]\n",
    "G_t = np.array(G_t).T"
   ]
  },
  {
   "cell_type": "code",
   "execution_count": 41,
   "id": "3073d2ce-5b22-47bb-80a3-9ad86ac3d6a4",
   "metadata": {},
   "outputs": [
    {
     "data": {
      "text/plain": [
       "array([[1, 0],\n",
       "       [0, 1],\n",
       "       [1, 0],\n",
       "       [0, 1]])"
      ]
     },
     "execution_count": 41,
     "metadata": {},
     "output_type": "execute_result"
    }
   ],
   "source": [
    "G_t"
   ]
  },
  {
   "cell_type": "code",
   "execution_count": 42,
   "id": "a84cb0e3-2f5e-4207-b092-d2768b52205a",
   "metadata": {},
   "outputs": [],
   "source": [
    "def get_predictions(data1, data2, initial_ensembles): \n",
    "    _,_, weighted_alogp, weighted_psa, w1, w2 = forward_operation(data1, data2, initial_ensembles, size_ens = size_ens)\n",
    "    weighted_alogp = np.expand_dims(weighted_alogp,-1)\n",
    "    weighted_psa = np.expand_dims(weighted_psa,-1)\n",
    "    preds = np.concatenate((weighted_alogp, weighted_psa),-1)\n",
    "    return preds, w1, w2"
   ]
  },
  {
   "cell_type": "code",
   "execution_count": 43,
   "id": "abb66e39-541a-4d16-b18c-c5eafdfeaea7",
   "metadata": {},
   "outputs": [],
   "source": [
    "# H_t = np.hstack((np.identity(smiles_feats_train.shape[0]), np.zeros((smiles_feats_train.shape[0], samp_ann.count_params() + 1 + 1 + 1))))"
   ]
  },
  {
   "cell_type": "code",
   "execution_count": 44,
   "id": "3e3cd1ba-a09f-4d84-9add-6a3e1a1ad01e",
   "metadata": {},
   "outputs": [],
   "source": [
    "# H_t.shape"
   ]
  },
  {
   "cell_type": "code",
   "execution_count": 45,
   "id": "3af0a9b9-6202-40e2-911f-3c890213099f",
   "metadata": {},
   "outputs": [],
   "source": [
    "def calculate_mu_bar_G_bar(data1, data2, initial_ensembles):\n",
    "    H_t = np.hstack((np.identity(data1.shape[0]), np.zeros((data1.shape[0], samp_ann.count_params() + 1 + 1 + 1))))\n",
    "    mu_bar = initial_ensembles.mean(0)\n",
    "    X_t,_, _, _, _, _ = forward_operation(data1, data2, initial_ensembles, size_ens = size_ens)\n",
    "    X_t = X_t.transpose((0,2,1))\n",
    "    X_t = X_t.reshape(X_t.shape[0], X_t.shape[1]*X_t.shape[2])\n",
    "    script_H_t = np.kron(G_t.T, H_t)\n",
    "    G_u = (script_H_t@X_t.T)\n",
    "    G_u = G_u.T\n",
    "    # weighted_alogp = np.expand_dims(weighted_alogp,-1)\n",
    "    # weighted_psa = np.expand_dims(weighted_psa,-1)\n",
    "    # G_u = np.concatenate((weighted_alogp, weighted_psa), axis = -1)\n",
    "    # G_u = G_u.transpose((0,2,1))\n",
    "    # G_u = G_u.reshape(G_u.shape[0], G_u.shape[1]*G_u.shape[2])\n",
    "    # G_u\n",
    "    G_bar = (G_u.mean(0)).ravel()\n",
    "    return mu_bar.reshape(-1,1), G_bar.reshape(-1,1), G_u"
   ]
  },
  {
   "cell_type": "code",
   "execution_count": 46,
   "id": "7334c80c-cfcd-4d5b-b844-11cfb8c137df",
   "metadata": {},
   "outputs": [],
   "source": [
    "def calculate_C_u(initial_ensembles, mu_bar, G_bar, G_u): \n",
    "    u_j_minus_u_bar = initial_ensembles - mu_bar.reshape(1,-1)\n",
    "    G_u_minus_G_bar = G_u -  G_bar.reshape(1,-1)\n",
    "    c = np.zeros((total_weights, G_bar.shape[0]))\n",
    "    for i in range(0, size_ens): \n",
    "        c += np.kron(u_j_minus_u_bar[i, :].T.reshape(-1,1), G_u_minus_G_bar[i,:].reshape(-1,1).T)\n",
    "    return c/size_ens, G_u_minus_G_bar"
   ]
  },
  {
   "cell_type": "code",
   "execution_count": 47,
   "id": "9148779c-1a3f-455d-a6ad-00fc1bf69c1f",
   "metadata": {},
   "outputs": [],
   "source": [
    "def calculate_D_u( G_bar, G_u): \n",
    "    G_u_minus_G_bar = G_u -  G_bar.reshape(1,-1)\n",
    "    d = np.zeros((G_bar.shape[0], G_bar.shape[0]))\n",
    "    for i in range(0, size_ens): \n",
    "        d += np.kron(G_u_minus_G_bar[i,:].T.reshape(-1,1), G_u_minus_G_bar[i,:].reshape(-1,1).T)\n",
    "    return d/size_ens"
   ]
  },
  {
   "cell_type": "code",
   "execution_count": 48,
   "id": "6e8459b0-68c1-4d1f-851e-3d7b99f0ffc5",
   "metadata": {},
   "outputs": [],
   "source": [
    "def get_updated_ensemble(data1, data2, initial_ensembles):\n",
    "    mu_bar, G_bar, G_u = calculate_mu_bar_G_bar(data1, data2, initial_ensembles)\n",
    "    C, G_u_minus_G_bar = calculate_C_u(initial_ensembles, mu_bar, G_bar, G_u)\n",
    "    D = calculate_D_u( G_bar, G_u)\n",
    "    _, R_t = create_cov(data1.shape[0],initial_ensembles)\n",
    "    # all_covs = np.array(all_covs)\n",
    "    D_plus_cov = D + R_t\n",
    "    D_plus_cov_inv = np.linalg.inv(D_plus_cov)\n",
    "    mid_quant = C@D_plus_cov_inv\n",
    "    right_quant = y_train.T.flatten().reshape(-1,1) - G_u.T\n",
    "    mid_times_right = mid_quant@right_quant\n",
    "    updated_ensemble = (initial_ensembles.T + mid_times_right)\n",
    "    return updated_ensemble.T"
   ]
  },
  {
   "cell_type": "code",
   "execution_count": 49,
   "id": "87593eef-d706-40af-aab9-68e51ac6207e",
   "metadata": {},
   "outputs": [],
   "source": [
    "# initial_ensembles[:, -8:-4].mean(0)"
   ]
  },
  {
   "cell_type": "code",
   "execution_count": 50,
   "id": "c14b236d-6ebf-40e3-9085-97afd2990e4d",
   "metadata": {},
   "outputs": [],
   "source": [
    "target_dim = 2"
   ]
  },
  {
   "cell_type": "code",
   "execution_count": 51,
   "id": "0745b46a-e832-4caf-ae08-4d15d9fbe7a4",
   "metadata": {},
   "outputs": [],
   "source": [
    "# initial_ensembles[:, -4:]"
   ]
  },
  {
   "cell_type": "code",
   "execution_count": 52,
   "id": "d8e8c958-572e-4430-86ca-aa89819c9363",
   "metadata": {},
   "outputs": [],
   "source": [
    "# tf.math.softplus(np.array([0.]).reshape(-1,1))"
   ]
  },
  {
   "cell_type": "code",
   "execution_count": 53,
   "id": "f1283df8-c281-48fa-82db-86888e6b6a19",
   "metadata": {},
   "outputs": [],
   "source": [
    "def create_cov(shape, initial_ensembles):\n",
    "    cov_part = initial_ensembles[:, -8:-4]\n",
    "    cov_part = cov_part.mean(0)\n",
    "    # variances = tf.math.softplus(cov_part[:2]).numpy()\n",
    "    variances = cov_part[:2]\n",
    "    covariances = cov_part[2:]\n",
    "    base_cov = np.identity(target_dim)\n",
    "    base_cov[0,0] = variances[0]\n",
    "    base_cov[1,1] = variances[1]\n",
    "    base_cov[0,1] = covariances[0]\n",
    "    base_cov[1,0] = covariances[1]\n",
    "    \n",
    "    variances1 = tf.math.softplus(initial_ensembles[:, -4:]).numpy()\n",
    "    variances1 = variances1.mean(0)\n",
    "    base_variances = np.identity(target_dim)\n",
    "    base_variances[0,0] = variances1[0]\n",
    "    base_variances[1,1] = variances1[2]\n",
    "    \n",
    "    final = np.linalg.cholesky(base_cov@base_cov.T + base_variances)\n",
    "    cov_mat = final@final.T\n",
    "    cov_mat_final = cov_mat\n",
    "    # cov_mat_final = cov_mat@cov_mat.T\n",
    "    \n",
    "    if is_pos_def(cov_mat_final) != True:\n",
    "        print(\"resulting cov matrix is not positive semi definite\")\n",
    "        pass\n",
    "    \n",
    "    # print(np.linalg.det(cov_mat_final))\n",
    "    \n",
    "    var1 = cov_mat_final[0,0]\n",
    "    var2 = cov_mat_final[1,1]\n",
    "    cov = cov_mat_final[1,0]\n",
    "\n",
    "    n = shape\n",
    "    \n",
    "    ul = var1*np.identity(n)\n",
    "    lr = var2*np.identity(n)\n",
    "    ur = cov*np.identity(n)\n",
    "    ll = ur.T    \n",
    "    \n",
    "    first_row = np.hstack((ul, ur))\n",
    "    second_row = np.hstack((ll, lr))\n",
    "    \n",
    "    R_t = np.vstack((first_row, second_row))\n",
    "    \n",
    "    # R_t = block_diag(*([cov_mat_final] * n))\n",
    "    \n",
    "    # R_t = np.linalg.inv(R_t)\n",
    "    \n",
    "    return cov_mat_final, R_t\n",
    "    "
   ]
  },
  {
   "cell_type": "code",
   "execution_count": 54,
   "id": "af50f314-7841-4bc7-9764-fcf33c9b8d6b",
   "metadata": {},
   "outputs": [],
   "source": [
    "def is_pos_def(x):\n",
    "    return np.all(np.linalg.eigvals(x) > 0)"
   ]
  },
  {
   "cell_type": "code",
   "execution_count": 55,
   "id": "242c1e9e-3745-4dc2-bab8-6fec04ea2941",
   "metadata": {},
   "outputs": [],
   "source": [
    "cov_mat_final, _ = create_cov(smiles_feats_train.shape[0],initial_ensembles)"
   ]
  },
  {
   "cell_type": "code",
   "execution_count": 56,
   "id": "0848e471-31ad-415d-adb4-64853aca2a95",
   "metadata": {},
   "outputs": [
    {
     "data": {
      "text/plain": [
       "array([[8.29751966e-01, 2.32820496e-04],\n",
       "       [2.32820496e-04, 8.26494079e-01]])"
      ]
     },
     "execution_count": 56,
     "metadata": {},
     "output_type": "execute_result"
    }
   ],
   "source": [
    "cov_mat_final"
   ]
  },
  {
   "cell_type": "code",
   "execution_count": 57,
   "id": "767d5b15-1216-4c22-b1e7-449bdee09b1d",
   "metadata": {},
   "outputs": [],
   "source": [
    "# cov_mat_final, lambda_inv = create_cov(smiles_feats_train.shape[0], initial_ensembles)"
   ]
  },
  {
   "cell_type": "code",
   "execution_count": 58,
   "id": "f3850602-c56f-4eab-8c41-5462b468c7d5",
   "metadata": {},
   "outputs": [],
   "source": [
    "# cov_mat_final"
   ]
  },
  {
   "cell_type": "code",
   "execution_count": 59,
   "id": "33331cd3-621c-42fb-8db1-361b9f168894",
   "metadata": {},
   "outputs": [],
   "source": [
    "# lambda_inv"
   ]
  },
  {
   "cell_type": "code",
   "execution_count": 60,
   "id": "dc3a216a-4dbb-474d-8219-5f6c071250a4",
   "metadata": {},
   "outputs": [],
   "source": [
    "def inverse_transform(data, idx):\n",
    "    data_cur = data[idx, :, :]\n",
    "    inv_data_cur = std_targets.inverse_transform(data_cur)\n",
    "    return inv_data_cur"
   ]
  },
  {
   "cell_type": "code",
   "execution_count": 61,
   "id": "5abd35fb-ea92-449d-894a-162ed1f4aaec",
   "metadata": {},
   "outputs": [],
   "source": [
    "from joblib import Parallel, delayed"
   ]
  },
  {
   "cell_type": "code",
   "execution_count": 62,
   "id": "65bf21e9-92c6-4824-93c3-87274b072afa",
   "metadata": {},
   "outputs": [
    {
     "name": "stdout",
     "output_type": "stream",
     "text": [
      "[0.5335879657673376, 0.19314041632190979]\n",
      "[ 2.94587365 44.92401759] [1. 1.] [ 106.59082841 2309.9138786 ]\n",
      "[0.5612437696223421, 0.17415021377681394]\n",
      "[ 2.67165342 41.29624873] [1. 1.] [  80.27632865 1672.20827484]\n",
      "[0.5841723123183726, 0.16113617443412007]\n",
      "[ 2.4801276  38.25964082] [1. 1.] [  61.77543429 1281.91143691]\n",
      "[0.6014620296640433, 0.14975924393695325]\n",
      "[ 2.30566711 36.49711493] [1. 1.] [  50.17541052 1144.16781952]\n",
      "[0.613056203837943, 0.14194049353878743]\n",
      "[ 2.49387746 31.42336097] [1. 1.] [ 41.4436634  972.31820101]\n",
      "[0.6321806526171083, 0.13456345794475402]\n",
      "[ 2.59008755 25.48145236] [1. 1.] [ 35.8453655  857.91506286]\n",
      "[0.6427841406418278, 0.1263752947958658]\n",
      "[ 2.39407343 22.83530953] [1. 1.] [ 31.64603326 715.88916856]\n",
      "[0.6514294438901334, 0.11873409089187348]\n",
      "[ 2.37041959 22.60319611] [1. 1.] [ 28.65345021 647.91007217]\n",
      "[0.6644207252258477, 0.11122438233524583]\n",
      "[ 2.24601129 22.48411599] [1. 1.] [ 24.77362032 572.3183239 ]\n",
      "[0.6684181069228627, 0.10568377681209148]\n",
      "[ 2.11070234 20.08519484] [1. 1.] [ 21.42520561 527.38557392]\n",
      "[0.6772507612740912, 0.10031143605035124]\n",
      "[ 1.91614985 18.30946446] [1. 1.] [ 18.28192888 463.55432871]\n",
      "[0.6928227978183998, 0.09238904716510134]\n",
      "[ 2.05887994 12.35527351] [1. 1.] [ 16.18216056 383.10807313]\n",
      "[0.6975590848904017, 0.08565612829251096]\n",
      "[ 1.83971564 14.03475219] [1. 1.] [ 14.47541305 325.50138639]\n",
      "[0.7091049723893882, 0.07835292428692354]\n",
      "[ 1.82108776 12.68787229] [1. 1.] [ 12.55036352 267.9611387 ]\n",
      "[0.7184932677757709, 0.07102206181777887]\n",
      "[1.37309635 9.52673065] [1. 1.] [ 10.51949617 216.52481124]\n",
      "[0.7372991339001902, 0.06264758073220317]\n",
      "[1.32696225 8.60274087] [1. 1.] [  7.74955478 169.0402275 ]\n",
      "[0.738037916361206, 0.058121844695645686]\n",
      "[1.12514021 9.35020671] [1. 1.] [  6.29777756 138.05451762]\n",
      "[0.7460157639384247, 0.05304458530219787]\n",
      "[0.95255001 8.96028575] [1. 1.] [  4.97019327 109.75685251]\n",
      "[0.7517934023062489, 0.04881351455554167]\n",
      "[0.85678376 9.16547094] [1. 1.] [ 3.70274936 80.98870819]\n",
      "[0.7472738929882782, 0.044641882455500714]\n",
      "[0.52087161 5.24795426] [1. 1.] [ 2.92660104 65.58840775]\n",
      "[0.7449808733628789, 0.04095744806640923]\n",
      "[0.32068016 5.18309553] [1. 1.] [ 2.34627463 49.249243  ]\n",
      "[0.743719703115207, 0.03859788786194859]\n",
      "[0.23105869 3.39410311] [0.99583333 1.        ] [ 1.80513756 40.45018234]\n",
      "[0.7417256597727869, 0.036714319333624644]\n",
      "[0.21397281 3.23967607] [0.99583333 1.        ] [ 1.4852146  33.03862161]\n",
      "[0.7389470369378078, 0.03548628106681756]\n",
      "[0.16238914 2.85662602] [0.99583333 1.        ] [ 1.29589967 26.50782368]\n",
      "[0.7365890713424678, 0.03356748097545212]\n",
      "[0.13787074 2.56618275] [0.99583333 1.        ] [ 1.15299165 22.45864487]\n",
      "[0.7345551184242252, 0.032126412005757894]\n",
      "[0.12274032 2.32124256] [0.99583333 1.        ] [ 1.04080823 19.48379332]\n",
      "[0.7340894440132071, 0.03122231939022924]\n",
      "[0.11334058 2.02356643] [0.99583333 1.        ] [ 0.93162069 17.11329663]\n",
      "[0.7340033888079737, 0.03042675409460414]\n",
      "[0.10756602 1.7677036 ] [0.99583333 1.        ] [ 0.84530243 15.32179433]\n",
      "[0.734093029015913, 0.02991196789002233]\n",
      "[0.10445943 1.73271221] [0.99583333 1.        ] [ 0.75004179 14.17443872]\n",
      "[0.7342926597642759, 0.029493631921138408]\n",
      "[0.10324925 1.61770806] [0.99166667 1.        ] [ 0.68664358 12.81596232]\n",
      "[0.734237511683888, 0.029130918459710994]\n",
      "[0.10202377 1.58002619] [0.99166667 1.        ] [ 0.63662862 12.04278078]\n",
      "[0.7340517252427127, 0.028854111514102533]\n",
      "[0.09965106 1.52047377] [0.99166667 1.        ] [ 0.60071852 11.36846812]\n",
      "[0.7337358037315582, 0.028633339382313713]\n",
      "[0.09773306 1.44607959] [0.99166667 1.        ] [ 0.57510997 10.80108414]\n",
      "[0.7333738352601815, 0.028447387398501667]\n",
      "[0.0953341  1.37238917] [0.99166667 1.        ] [ 0.54942682 10.43674128]\n",
      "[0.733031089690753, 0.028285723856886137]\n",
      "[0.09284374 1.31662499] [0.99166667 1.        ] [ 0.52584681 10.08827526]\n",
      "[0.732839284231, 0.028130400561014457]\n",
      "[0.0900563  1.27236001] [0.99166667 1.        ] [0.50454007 9.77753824]\n",
      "[0.7328709486535416, 0.02797382326206638]\n",
      "[0.08756949 1.23814856] [0.99166667 1.        ] [0.48539221 9.5051992 ]\n",
      "[0.7330996998538218, 0.027814177686914975]\n",
      "[0.08569498 1.21097768] [0.99166667 1.        ] [0.46739648 9.23893163]\n",
      "[0.7334472347004418, 0.027650098434857828]\n",
      "[0.08434417 1.18966277] [0.99166667 1.        ] [0.45367232 8.9939622 ]\n",
      "[0.733840884728421, 0.02748176956324009]\n",
      "[0.08332329 1.17198115] [0.99166667 1.        ] [0.4436421  8.77549409]\n",
      "[0.7342308001933523, 0.02731143430156218]\n",
      "[0.0825019  1.15588036] [0.99166667 1.        ] [0.43493219 8.6088743 ]\n",
      "[0.734586650573534, 0.027143474126179432]\n",
      "[0.08180375 1.14018586] [0.99166667 1.        ] [0.42697858 8.492884  ]\n",
      "[0.7348933801169982, 0.026983202980423036]\n",
      "[0.08118294 1.1242966 ] [0.99166667 1.        ] [0.41922233 8.35715497]\n",
      "[0.7351466924131959, 0.02683412812007757]\n",
      "[0.08061319 1.10777986] [0.99166667 1.        ] [0.41208687 8.21758749]\n",
      "[0.7353480621171598, 0.02669672047195724]\n",
      "[0.08007982 1.09040233] [0.99166667 1.        ] [0.40527059 8.08675118]\n",
      "[0.735501227939589, 0.026569364602210474]\n",
      "[0.07957464 1.07231579] [0.99166667 1.        ] [0.39807708 7.96669422]\n",
      "[0.7356106976895785, 0.02644986320920768]\n",
      "[0.07909254 1.05405703] [0.99166667 1.        ] [0.39129909 7.83031377]\n",
      "[0.7356811687224823, 0.02633637999809975]\n",
      "[0.07862894 1.03633332] [0.99166667 1.        ] [0.38433438 7.68758356]\n",
      "[0.7357171549866474, 0.026227652566835458]\n",
      "[0.07817938 1.01976144] [0.99166667 1.        ] [0.37761864 7.5319049 ]\n",
      "[0.7357229798199152, 0.026122728906339675]\n",
      "[0.0777416  1.00471496] [0.9875 1.    ] [0.37180778 7.39273919]\n",
      "[0.7357032068077961, 0.02602061930155929]\n",
      "[0.07731692 0.99131638] [0.9875 1.    ] [0.36667491 7.25879932]\n",
      "[0.7356630193202447, 0.025920173348276006]\n",
      "[0.07690923 0.979522  ] [0.9875 1.    ] [0.36126981 7.13607026]\n",
      "[0.7356079379506173, 0.025820252891657923]\n",
      "[0.07652249 0.96922051] [0.9875 1.    ] [0.35609354 7.00070805]\n",
      "[0.735542848623299, 0.02572003004955306]\n",
      "[0.07615879 0.96028723] [0.99166667 1.        ] [0.35167165 6.87645389]\n",
      "[0.7354709947919877, 0.025619167413576435]\n",
      "[0.07581801 0.95258708] [0.99166667 1.        ] [0.34742866 6.76145671]\n",
      "[0.7353936085984054, 0.02551779558270349]\n",
      "[0.07549855 0.94595922] [0.9875 1.    ] [0.34344381 6.65857668]\n",
      "[0.7353103082135816, 0.025416386584814037]\n",
      "[0.07519827 0.94021432] [0.9875 1.    ] [0.33956305 6.55662224]\n",
      "[0.735219904181664, 0.025315626226971456]\n",
      "[0.07491527 0.93514875] [0.9875 1.    ] [0.33582474 6.47752836]\n",
      "[0.7351211693008163, 0.025216293600208512]\n",
      "[0.07464807 0.93056071] [0.9875 1.    ] [0.33268316 6.40280322]\n",
      "[0.7350133244926697, 0.025119126964553287]\n",
      "[0.07439553 0.92625696] [0.9875 1.    ] [0.32982617 6.32501367]\n",
      "[0.7348962214542987, 0.02502469291372451]\n",
      "[0.07415659 0.92205258] [0.9875 1.    ] [0.3263932  6.24560893]\n",
      "[0.7347703086712837, 0.024933301126477934]\n",
      "[0.07393016 0.9177733 ] [0.9875 1.    ] [0.32362472 6.17074207]\n",
      "[0.7346364687391056, 0.024844995608431043]\n",
      "[0.07371497 0.9132658 ] [0.9875 1.    ] [0.3208878  6.09196465]\n",
      "[0.7344957979884738, 0.02475962019542643]\n",
      "[0.07350966 0.90841351] [0.9875 1.    ] [0.31785509 6.02450221]\n",
      "[0.7343493973567309, 0.024676922041882165]\n",
      "[0.07331269 0.90314968] [0.9875     0.99583333] [0.31482554 5.95928266]\n",
      "[0.7341982328884448, 0.02459664443640524]\n",
      "[0.07312245 0.8974609 ] [0.9875     0.99583333] [0.31217142 5.88194771]\n",
      "[0.7340430907054907, 0.024518577547906754]\n",
      "[0.07293727 0.89137973] [0.98333333 0.99583333] [0.30944794 5.8141863 ]\n",
      "[0.7338846125567856, 0.024442565536269317]\n",
      "[0.0727555 0.8849703] [0.98333333 0.99583333] [0.30657649 5.75894953]\n",
      "[0.7337233756669301, 0.024368487615148603]\n",
      "[0.07257564 0.87831239] [0.98333333 0.99583333] [0.30371064 5.71204673]\n",
      "[0.7335599782115534, 0.02429623190696965]\n",
      "[0.07239649 0.87148767] [0.98333333 0.99583333] [0.30110405 5.66914206]\n",
      "[0.7333951008854658, 0.024225672789621434]\n",
      "[0.07221724 0.86457011] [0.98333333 0.99583333] [0.29861881 5.63301336]\n",
      "[0.733229527572953, 0.02415665536627561]\n",
      "[0.07203752 0.85762053] [0.98333333 0.99583333] [0.29607992 5.60159134]\n",
      "[0.7330641208795151, 0.024088988657395772]\n",
      "[0.07185746 0.85068511] [0.98333333 0.99583333] [0.2936013  5.57057007]\n",
      "[0.7328997608134408, 0.024022450167153087]\n",
      "[0.07167756 0.84379736] [0.98333333 0.99583333] [0.29122923 5.54458462]\n",
      "[0.7327372658824594, 0.023956804597309495]\n",
      "[0.07149862 0.83698216] [0.98333333 0.99583333] [0.28911422 5.52315798]\n",
      "[0.7325773215980461, 0.02389183597527009]\n",
      "[0.07132151 0.83025999] [0.98333333 0.99583333] [0.28691581 5.49476631]\n",
      "[0.7324204380285301, 0.023827386067110386]\n",
      "[0.07114713 0.82364972] [0.98333333 0.99583333] [0.28516867 5.47023472]\n",
      "[0.7322669458063078, 0.02376338669925275]\n",
      "[0.07097629 0.8171689 ] [0.98333333 0.99583333] [0.28338275 5.44754085]\n",
      "[0.7321170247094224, 0.023699873882463984]\n",
      "[0.0708097  0.81083231] [0.98333333 0.99583333] [0.28120992 5.42206056]\n",
      "[0.7319707484739238, 0.02363697827019164]\n",
      "[0.07064794 0.80465005] [0.98333333 0.99583333] [0.27908403 5.39526049]\n",
      "[0.7318281280102347, 0.023574895768448987]\n",
      "[0.07049148 0.79862631] [0.98333333 0.99583333] [0.27717673 5.36696071]\n",
      "[0.731689140972941, 0.02351384875055769]\n",
      "[0.07034069 0.79275938] [0.98333333 0.99583333] [0.27506692 5.34048897]\n",
      "[0.7315537438431213, 0.023454049466290167]\n",
      "[0.0701958  0.78704256] [0.9875     0.99583333] [0.27303354 5.32059655]\n",
      "[0.7314218693110732, 0.023395673762146504]\n",
      "[0.07005697 0.78146563] [0.9875     0.99583333] [0.27119768 5.30298947]\n",
      "[0.7312934152130792, 0.023338848040993166]\n",
      "[0.06992422 0.77601632] [0.9875     0.99583333] [0.26949215 5.28175432]\n",
      "[0.7311682318374864, 0.023283648038234146]\n",
      "[0.06979749 0.77068166] [0.9875     0.99583333] [0.26760593 5.25702065]\n",
      "[0.7310461130557268, 0.023230105611570934]\n",
      "[0.06967667 0.76544906] [0.9875     0.99583333] [0.26588746 5.2363135 ]\n",
      "[0.7309267944673111, 0.023178219246458163]\n",
      "[0.06956156 0.76030705] [0.9875     0.99583333] [0.26425019 5.2135502 ]\n",
      "[0.7308099593645834, 0.02312796472049767]\n",
      "[0.06945195 0.75524585] [0.9875     0.99583333] [0.26276705 5.18946455]\n",
      "[0.7306952513432663, 0.023079303653485962]\n",
      "[0.06934759 0.75025765] [0.9875     0.99583333] [0.26134255 5.16986906]\n",
      "[0.7305822910882595, 0.02303218898973046]\n",
      "[0.06924824 0.74533676] [0.98333333 0.99583333] [0.2598851  5.15059896]\n",
      "[0.7304706943407994, 0.022986567526120407]\n",
      "[0.06915365 0.7404795 ] [0.98333333 0.99583333] [0.25866588 5.12587983]\n",
      "[0.7303600882483376, 0.022942380286792758]\n",
      "[0.06906358 0.73568414] [0.98333333 0.99583333] [0.25769167 5.0983763 ]\n",
      "[0.7302501240457385, 0.022899561833669084]\n",
      "[0.06897778 0.7309506 ] [0.98333333 0.99583333] [0.25669477 5.07882048]\n",
      "[0.7301404850703908, 0.022858039545355296]\n",
      "[0.06889605 0.7262803 ] [0.98333333 0.99583333] [0.25551974 5.05717337]\n",
      "[0.7300308901982631, 0.022817733599651266]\n",
      "[0.06881814 0.72167589] [0.98333333 0.99583333] [0.25452812 5.03365307]\n",
      "[0.7299210936565549, 0.022778557988113773]\n",
      "[0.06874385 0.71714105] [0.98333333 0.99583333] [0.25380357 5.01090634]\n",
      "[0.7298108826614728, 0.022740422501282335]\n",
      "[0.06867298 0.71268037] [0.98333333 0.99583333] [0.25294185 4.98950592]\n",
      "[0.7297000744033196, 0.0227032353442928]\n",
      "[0.06860533 0.70829915] [0.98333333 0.99583333] [0.25213099 4.96507422]\n",
      "[0.7295885136215048, 0.022666905919459208]\n",
      "[0.06854073 0.70400331] [0.98333333 0.99583333] [0.2514963  4.94176564]\n",
      "[0.7294760715171701, 0.022631347339391206]\n",
      "[0.06847903 0.69979931] [0.98333333 0.99583333] [0.25065323 4.91950907]\n",
      "[0.7293626461999881, 0.022596478367503357]\n",
      "[0.06842008 0.69569401] [0.98333333 0.99583333] [0.25003168 4.89321774]\n",
      "[0.7292481643937196, 0.022562224660337988]\n",
      "[0.06836376 0.6916946 ] [0.98333333 0.99583333] [0.2493864  4.86421257]\n",
      "[0.7291325838168968, 0.022528519348736887]\n",
      "[0.06830996 0.68780852] [0.98333333 0.99583333] [0.24871524 4.83606257]\n",
      "[0.7290158955375409, 0.022495303102097106]\n",
      "[0.06825861 0.68404336] [0.98333333 0.99583333] [0.24811687 4.80987691]\n",
      "[0.728898125652722, 0.022462523857275686]\n",
      "[0.06820962 0.68040674] [0.98333333 0.99583333] [0.24761193 4.78257036]\n",
      "[0.7287793358127588, 0.02243013637086637]\n",
      "[0.06816292 0.67690625] [0.98333333 0.99583333] [0.24713919 4.75192731]\n",
      "[0.7286596223319987, 0.022398101695906527]\n",
      "[0.06811844 0.67354923] [0.98333333 0.99583333] [0.24652384 4.72534841]\n",
      "[0.728539113844376, 0.022366386621287947]\n",
      "[0.06807611 0.67034261] [0.98333333 0.99583333] [0.24603041 4.69818934]\n",
      "[0.7284179676298228, 0.02233496306811534]\n",
      "[0.06803584 0.66729266] [0.98333333 0.99583333] [0.2455473  4.67283483]\n",
      "[0.728296364837115, 0.022303807423696028]\n",
      "[0.06799752 0.66440476] [0.98333333 0.99583333] [0.24505139 4.64489757]\n",
      "[0.7281745048623253, 0.022272899809061074]\n",
      "[0.06796105 0.66168307] [0.98333333 0.99583333] [0.24447237 4.61480001]\n",
      "[0.728052599129054, 0.02224222330807372]\n",
      "[0.06792627 0.6591303 ] [0.98333333 0.99583333] [0.24362393 4.5855389 ]\n",
      "[0.7279308644840033, 0.022211763219219808]\n",
      "[0.06789304 0.65674753] [0.98333333 0.99583333] [0.24283556 4.5592915 ]\n",
      "[0.7278095163940893, 0.022181506410933655]\n",
      "[0.06786118 0.65453401] [0.98333333 0.99583333] [0.24204997 4.53241542]\n",
      "[0.7276887621242167, 0.022151440859798793]\n",
      "[0.06783052 0.65248716] [0.98333333 0.99583333] [0.24104331 4.50601386]\n",
      "[0.7275687940903455, 0.022121555427819226]\n",
      "[0.06780088 0.65060258] [0.98333333 0.99583333] [0.24009553 4.48378351]\n",
      "[0.7274497836112553, 0.02209183989634637]\n",
      "[0.06777208 0.64887416] [0.98333333 0.99583333] [0.23919784 4.4625711 ]\n",
      "[0.7273318753085711, 0.022062285230096467]\n",
      "[0.06774396 0.64729428] [0.98333333 0.99583333] [0.23826432 4.44195244]\n",
      "[0.7272151824115881, 0.022032884005477583]\n",
      "[0.06771638 0.645854  ] [0.98333333 0.99583333] [0.2372646 4.4223845]\n",
      "[0.7270997831996853, 0.022003630911425168]\n",
      "[0.06768921 0.64454328] [0.98333333 0.99583333] [0.23636209 4.40161658]\n",
      "[0.7269857187574957, 0.021974523222459387]\n",
      "[0.06766236 0.64335123] [0.98333333 0.99583333] [0.23566078 4.38040878]\n",
      "[0.7268729921323922, 0.021945561152686175]\n",
      "[0.06763577 0.64226624] [0.98333333 0.99583333] [0.2349332  4.36012333]\n",
      "[0.7267615688832386, 0.021916748022214945]\n",
      "[0.06760939 0.64127619] [0.98333333 0.99583333] [0.23419892 4.33817381]\n",
      "[0.7266513789100609, 0.021888090197962094]\n",
      "[0.06758323 0.64036851] [0.98333333 0.99583333] [0.2333131  4.31692294]\n",
      "[0.7265423193716397, 0.02185959680252514]\n",
      "[0.06755732 0.63953036] [0.98333333 0.99583333] [0.23231548 4.29736246]\n",
      "[0.7264342584430888, 0.02183127921222848]\n",
      "[0.06753168 0.63874865] [0.98333333 0.99583333] [0.23131697 4.27898118]\n",
      "[0.7263270396430211, 0.0218031503850082]\n",
      "[0.0675064  0.63801015] [0.98333333 0.99583333] [0.23040944 4.26153303]\n",
      "[0.7262204864685066, 0.021775224069238267]\n",
      "[0.06748155 0.63730159] [0.98333333 0.99583333] [0.2294639  4.24374307]\n",
      "[0.7261144071093599, 0.021747513946606054]\n",
      "[0.06745721 0.6366098 ] [0.98333333 0.99583333] [0.22853728 4.22539809]\n",
      "[0.7260085990623223, 0.021720032757756334]\n",
      "[0.06743347 0.63592183] [0.98333333 0.99583333] [0.22741399 4.20861679]\n",
      "[0.7259028535207744, 0.02169279145124984]\n",
      "[0.06741042 0.6352251 ] [0.98333333 0.99583333] [0.22626011 4.19108039]\n",
      "[0.7257969594683126, 0.021665798386938308]\n",
      "[0.06738815 0.63450761] [0.98333333 0.99583333] [0.22525108 4.1706364 ]\n",
      "[0.7256907074486377, 0.021639058616104094]\n",
      "[0.0673667  0.63375812] [0.98333333 0.99583333] [0.22428753 4.15097915]\n",
      "[0.725583893016259, 0.021612573253844473]\n",
      "[0.06734615 0.63296632] [0.98333333 0.99583333] [0.22327589 4.13070582]\n",
      "[0.725476319891527, 0.02158633895462963]\n",
      "[0.06732652 0.63212302] [0.98333333 0.99583333] [0.22220317 4.11122403]\n",
      "[0.7253678028505618, 0.021560347499547015]\n",
      "[0.06730784 0.63122033] [0.98333333 0.99583333] [0.22104349 4.09437439]\n",
      "[0.7252581703781803, 0.021534585502887543]\n",
      "[0.06729011 0.63025173] [0.98333333 0.99583333] [0.21988557 4.07675476]\n",
      "[0.7251472671029955, 0.021509034245694794]\n",
      "[0.06727331 0.62921223] [0.98333333 0.99583333] [0.21894522 4.06110988]\n",
      "[0.7250349560215475, 0.021483669643968688]\n",
      "[0.06725742 0.62809837] [0.98333333 0.99583333] [0.21819164 4.04634311]\n",
      "[0.7249211205052097, 0.021458462358816127]\n",
      "[0.06724239 0.62690827] [0.98333333 0.99583333] [0.21729767 4.03337519]\n",
      "[0.724805666071626, 0.0214333780545814]\n",
      "[0.06722817 0.62564158] [0.98333333 0.99583333] [0.21632154 4.01855676]\n",
      "[0.7246885218926853, 0.0214083778086565]\n",
      "[0.0672147  0.62429942] [0.98333333 0.99583333] [0.21539179 4.00653173]\n",
      "[0.7245696420041046, 0.021383418673179843]\n",
      "[0.06720192 0.62288428] [0.98333333 0.99583333] [0.21452259 3.99319837]\n",
      "[0.7244490061777112, 0.021358454384178528]\n",
      "[0.06718975 0.62139986] [0.97916667 0.99583333] [0.21356646 3.98096495]\n",
      "[0.7243266204165635, 0.021333436207936256]\n",
      "[0.06717813 0.61985099] [0.97916667 0.99583333] [0.21264085 3.96792926]\n",
      "[0.724202517035246, 0.02130831390757853]\n",
      "[0.06716701 0.61824335] [0.97916667 0.99583333] [0.21173633 3.95657786]\n",
      "[0.7240767542933975, 0.021283036805265148]\n",
      "[0.06715631 0.6165834 ] [0.97916667 0.99583333] [0.21076252 3.94738732]\n",
      "[0.7239494155602257, 0.021257554907362544]\n",
      "[0.067146   0.61487809] [0.97916667 0.99583333] [0.20975648 3.94086272]\n",
      "[0.7238206080019428, 0.021231820052195417]\n",
      "[0.06713604 0.61313477] [0.97916667 0.99583333] [0.20884126 3.93506699]\n",
      "[0.7236904608028519, 0.02120578703341446]\n",
      "[0.06712641 0.6113609 ] [0.97916667 0.99583333] [0.20777784 3.92920648]\n",
      "[0.7235591229538254, 0.021179414647880118]\n",
      "[0.0671171  0.60956396] [0.97916667 0.99583333] [0.20672932 3.92234818]\n",
      "[0.723426760667862, 0.02115266661656057]\n",
      "[0.06710811 0.60775125] [0.97916667 0.99583333] [0.20575873 3.91334882]\n",
      "[0.7232935545091406, 0.021125512331395965]\n",
      "[0.06709947 0.60592973] [0.97916667 0.99583333] [0.20488626 3.90415601]\n",
      "[0.7231596963466127, 0.02109792739100134]\n",
      "[0.0670912  0.60410594] [0.97916667 0.99583333] [0.20401342 3.8981937 ]\n",
      "[0.7230253862624149, 0.02106989390327295]\n",
      "[0.06708334 0.60228586] [0.97916667 0.99583333] [0.20320104 3.89474577]\n",
      "[0.7228908295561878, 0.02104140055226347]\n",
      "[0.06707597 0.60047484] [0.97916667 0.99583333] [0.20235026 3.89425534]\n",
      "[0.7227562339864678, 0.021012442448041742]\n",
      "[0.06706912 0.59867756] [0.97916667 0.99583333] [0.20159978 3.89397426]\n",
      "[0.7226218073786204, 0.020983020798973327]\n",
      "[0.06706288 0.596898  ] [0.97916667 0.99583333] [0.20081811 3.89131652]\n",
      "[0.7224877557057177, 0.020953142463123523]\n",
      "[0.0670573  0.59513945] [0.97916667 0.99583333] [0.20006253 3.88959754]\n",
      "[0.7223542817160729, 0.020922819446804106]\n",
      "[0.06705247 0.59340453] [0.97916667 0.99583333] [0.1992971  3.88931731]\n",
      "[0.722221584141453, 0.02089206842189418]\n",
      "[0.06704846 0.59169525] [0.97916667 0.99583333] [0.19857174 3.88907814]\n",
      "[0.7220898574763277, 0.020860910328580562]\n",
      "[0.06704533 0.59001304] [0.97916667 0.99583333] [0.19786587 3.88968502]\n",
      "[0.7219592922735382, 0.020829370116502478]\n",
      "[0.06704315 0.58835888] [0.97916667 0.99583333] [0.19724095 3.89090281]\n",
      "[0.7218300758575018, 0.020797476655409458]\n",
      "[0.06704197 0.58673337] [0.97916667 0.99583333] [0.19655754 3.89198694]\n",
      "[0.7217023933136294, 0.020765262817081256]\n",
      "[0.06704186 0.58513681] [0.97916667 0.99583333] [0.19587134 3.89516385]\n",
      "[0.7215764285726034, 0.02073276569432741]\n",
      "[0.06704285 0.58356933] [0.975      0.99583333] [0.19527406 3.89754744]\n",
      "[0.7214523653712844, 0.020700026881779424]\n",
      "[0.06704499 0.58203096] [0.975      0.99583333] [0.19469301 3.89913304]\n",
      "[0.7213303878404543, 0.02066709269962349]\n",
      "[0.06704832 0.58052173] [0.975      0.99583333] [0.19423983 3.89883218]\n",
      "[0.7212106804484673, 0.02063401420079703]\n",
      "[0.06705286 0.57904172] [0.975      0.99583333] [0.19370367 3.90084367]\n",
      "[0.7210934270287442, 0.0206008467741567]\n",
      "[0.06705864 0.57759116] [0.975      0.99166667] [0.19321434 3.9014541 ]\n",
      "[0.7209788086527582, 0.02056764915556683]\n",
      "[0.06706568 0.57617039] [0.975      0.99166667] [0.19276065 3.89958736]\n",
      "[0.7208670001972811, 0.020534481704416636]\n",
      "[0.06707399 0.57477993] [0.975      0.99583333] [0.19224224 3.89992716]\n",
      "[0.720758165612102, 0.02050140391148961]\n",
      "[0.06708359 0.57342041] [0.975      0.99583333] [0.19179614 3.89951199]\n",
      "[0.7206524521267083, 0.02046847127891096]\n",
      "[0.06709448 0.57209262] [0.975      0.99583333] [0.19131233 3.89928977]\n",
      "[0.7205499839189132, 0.02043573192993561]\n",
      "[0.06710667 0.57079744] [0.975      0.99583333] [0.19076572 3.90101582]\n",
      "[0.720450856043425, 0.02040322350468904]\n",
      "[0.06712013 0.56953587] [0.975      0.99583333] [0.1902791  3.90119406]\n",
      "[0.7203551295860032, 0.020370970989584236]\n",
      "[0.06713484 0.56830903] [0.975      0.99583333] [0.18981492 3.90199185]\n",
      "[0.7202628289651193, 0.020338986034723776]\n",
      "[0.06715075 0.56711817] [0.975      0.99583333] [0.18953495 3.90096256]\n",
      "[0.7201739419925721, 0.020307268019406258]\n",
      "[0.06716777 0.56596472] [0.975      0.99583333] [0.18933255 3.89766671]\n",
      "[0.7200884227737743, 0.020275806710882745]\n",
      "[0.06718578 0.56485017] [0.975      0.99583333] [0.18905493 3.89380918]\n",
      "[0.7200061969335338, 0.0202445859783264]\n",
      "[0.06720465 0.56377601] [0.975      0.99583333] [0.18878061 3.88871166]\n",
      "[0.7199271681990282, 0.020213587819606037]\n",
      "[0.0672242  0.56274364] [0.975      0.99583333] [0.1884983  3.88390131]\n",
      "[0.7198512252098477, 0.020182795992792893]\n",
      "[0.0672442  0.56175414] [0.975      0.99583333] [0.18829839 3.8796868 ]\n",
      "[0.7197782475781896, 0.020152198765767272]\n",
      "[0.06726441 0.5608082 ] [0.975      0.99583333] [0.18807098 3.87616837]\n",
      "[0.7197081105870601, 0.020121790588239877]\n",
      "[0.06728459 0.55990603] [0.975      0.99583333] [0.18785296 3.87100307]\n",
      "[0.7196406883316413, 0.020091572739968575]\n",
      "[0.06730445 0.55904727] [0.975      0.99583333] [0.18759685 3.86432035]\n",
      "[0.7195758554464395, 0.020061553159485178]\n",
      "[0.0673237  0.55823103] [0.975      0.99583333] [0.18720874 3.85756307]\n",
      "[0.7195134877565319, 0.02003174570825419]\n",
      "[0.06734207 0.55745596] [0.975      0.99583333] [0.18681417 3.84890921]\n",
      "[0.7194534622498255, 0.020002169106876667]\n",
      "[0.06735928 0.55672027] [0.975      0.99583333] [0.18648699 3.83962842]\n",
      "[0.7193956567300821, 0.019972845729182977]\n",
      "[0.06737506 0.55602184] [0.975      0.99583333] [0.18622159 3.83211154]\n",
      "[0.7193399494254695, 0.01994380038367616]\n",
      "[0.06738917 0.55535832] [0.975      0.99583333] [0.18592161 3.82207938]\n",
      "[0.7192862187318346, 0.01991505916380197]\n",
      "[0.0674014 0.5547272] [0.975      0.99583333] [0.18550684 3.80911604]\n",
      "[0.7192343431855035, 0.01988664841319973]\n",
      "[0.06741157 0.55412587] [0.975      0.99583333] [0.18504506 3.79622446]\n",
      "[0.7191842016961238, 0.019858593828421586]\n",
      "[0.06741951 0.55355169] [0.975      0.99583333] [0.18455074 3.78301683]\n",
      "[0.7191356740266444, 0.019830919706709877]\n",
      "[0.06742511 0.55300208] [0.975      0.99583333] [0.18401736 3.77083648]\n",
      "[0.7190886414817075, 0.019803648337394363]\n",
      "[0.06742829 0.5524745 ] [0.975      0.99583333] [0.1835063  3.75805218]\n",
      "[0.7190429877529977, 0.019776799530102952]\n",
      "[0.06742898 0.55196653] [0.975      0.99583333] [0.18317764 3.74545242]\n",
      "[0.7189985998660761, 0.019750390269828]\n",
      "[0.06742718 0.5514759 ] [0.975      0.99583333] [0.18283619 3.73432576]\n",
      "[0.7189553691743726, 0.019724434487105185]\n",
      "[0.06742289 0.55100047] [0.975      0.99583333] [0.18239112 3.72326379]\n",
      "[0.7189131923497598, 0.019698942930667457]\n",
      "[0.06741616 0.55053825] [0.975      0.99583333] [0.18192311 3.71173465]\n",
      "[0.7188719723238481, 0.019673923129666183]\n",
      "[0.06740706 0.55008741] [0.975      0.99583333] [0.18152259 3.69883506]\n",
      "[0.7188316191390218, 0.019649379432733795]\n",
      "[0.06739566 0.54964627] [0.975      0.99583333] [0.18104305 3.68669857]\n",
      "[0.7187920506730641, 0.01962531311167327]\n",
      "[0.06738208 0.54921328] [0.975      0.99583333] [0.18052673 3.67191271]\n",
      "[0.7187531932062627, 0.01960172251829248]\n",
      "[0.06736644 0.54878702] [0.975      0.99583333] [0.180047   3.65738885]\n",
      "[0.7187149818055426, 0.01957860328377142]\n",
      "[0.06734888 0.54836614] [0.975      0.99583333] [0.17954166 3.64370456]\n",
      "[0.7186773605069431, 0.019555948550886944]\n",
      "[0.06732953 0.54794938] [0.975      0.99583333] [0.1789894  3.62869448]\n",
      "[0.7186402822858841, 0.019533749230373376]\n",
      "[0.06730854 0.54753552] [0.975      0.99583333] [0.17844292 3.61554927]\n",
      "[0.7186037088141691, 0.01951199427362857]\n",
      "[0.06728606 0.54712335] [0.975      0.99583333] [0.17796982 3.60270422]\n",
      "[0.7185676100131336, 0.019490670954854898]\n",
      "[0.06726225 0.54671169] [0.975      0.99583333] [0.17752877 3.59002627]\n",
      "[0.7185319634230855, 0.019469765156525733]\n",
      "[0.06723725 0.54629933] [0.975      0.99583333] [0.17697053 3.57544888]\n",
      "[0.7184967534191907, 0.019449261652765042]\n",
      "[0.06721121 0.54588505] [0.975      0.99583333] [0.17645099 3.5612255 ]\n",
      "[0.7184619703122563, 0.019429144385805508]\n",
      "[0.06718426 0.54546759] [0.975      0.99583333] [0.17594534 3.54607481]\n",
      "[0.7184276093784773, 0.01940939673114741]\n",
      "[0.06715653 0.54504569] [0.975      0.99583333] [0.17537448 3.53207927]\n",
      "[0.7183936698645773, 0.019390001747398303]\n",
      "[0.06712815 0.54461806] [0.975      0.99583333] [0.17487456 3.51846934]\n",
      "[0.7183601540136235, 0.01937094240708146]\n",
      "[0.06709922 0.5441834 ] [0.975      0.99583333] [0.17441235 3.50706253]\n",
      "[0.7183270661523814, 0.01935220180502461]\n",
      "[0.06706985 0.54374046] [0.975      0.99583333] [0.17397801 3.49644578]\n",
      "[0.7182944118739828, 0.019333763341353526]\n",
      "[0.06704012 0.54328799] [0.975      0.99583333] [0.17351485 3.48726582]\n",
      "[0.7182621973407824, 0.01931561087667654]\n",
      "[0.06701013 0.54282481] [0.975      0.99583333] [0.17301548 3.47807912]\n",
      "[0.7182304287225582, 0.019297728857785953]\n",
      "[0.06697995 0.5423498 ] [0.975      0.99583333] [0.17252567 3.46736423]\n",
      "[0.7181991117755848, 0.01928010241311058]\n",
      "[0.06694963 0.54186193] [0.975      0.99583333] [0.17201989 3.45689682]\n",
      "[0.7181682515594088, 0.019262717418180135]\n",
      "[0.06691924 0.54136027] [0.975      0.99583333] [0.17147649 3.44505093]\n",
      "[0.7181378522808907, 0.019245560532426136]\n",
      "[0.06688883 0.540844  ] [0.97083333 0.99583333] [0.17090178 3.43282696]\n",
      "[0.7181079172496264, 0.019228619209650615]\n",
      "[0.06685843 0.54031241] [0.97083333 0.99583333] [0.17031381 3.42183524]\n",
      "[0.7180784489252845, 0.019211881685352677]\n",
      "[0.06682809 0.53976493] [0.97083333 0.99583333] [0.16980283 3.41093314]\n",
      "[0.7180494490356318, 0.019195336944740623]\n",
      "[0.06679784 0.53920108] [0.97083333 0.99583333] [0.16937673 3.3990424 ]\n",
      "[0.718020918743856, 0.019178974675633582]\n",
      "[0.06676772 0.53862052] [0.97083333 0.99583333] [0.16895482 3.38694551]\n",
      "[0.7179928588449191, 0.019162785210560147]\n",
      "[0.06673774 0.53802303] [0.97083333 0.99583333] [0.16852584 3.37468141]\n",
      "[0.7179652699727979, 0.019146759462213274]\n",
      "[0.06670794 0.5374085 ] [0.97083333 0.99583333] [0.16812093 3.36214149]\n",
      "[0.717938152803216, 0.01913088885606421]\n",
      "[0.06667835 0.53677693] [0.97083333 0.99583333] [0.16766704 3.34980002]\n",
      "[0.7179115082395916, 0.019115165263430225]\n",
      "[0.06664898 0.53612841] [0.97083333 0.99583333] [0.16726405 3.33742301]\n",
      "[0.7178853375731082, 0.019099580937692498]\n",
      "[0.06661987 0.53546317] [0.97083333 0.99583333] [0.1668921  3.32645137]\n",
      "[0.7178596426108943, 0.01908412845573007]\n",
      "[0.06659105 0.53478149] [0.97083333 0.99583333] [0.166591   3.31604194]\n",
      "[0.7178344257690812, 0.019068800666020493]\n",
      "[0.06656253 0.53408375] [0.97083333 0.99583333] [0.16630246 3.30507196]\n",
      "[0.7178096901299116, 0.019053590644295498]\n",
      "[0.06653434 0.53337042] [0.97083333 0.99583333] [0.16607231 3.29416796]\n",
      "[0.717785439464022, 0.019038491657152358]\n",
      "[0.06650651 0.53264205] [0.97083333 0.99583333] [0.16586393 3.28210045]\n",
      "[0.7177616782205077, 0.019023497133620962]\n",
      "[0.06647907 0.53189924] [0.97083333 0.99583333] [0.16566556 3.27199382]\n",
      "[0.7177384114884173, 0.019008600644374665]\n",
      "[0.06645204 0.53114267] [0.97083333 0.99583333] [0.16545856 3.26111669]\n",
      "[0.7177156449339299, 0.01899379588804427]\n",
      "[0.06642545 0.53037308] [0.97083333 0.99583333] [0.16520642 3.25090953]\n",
      "[0.7176933847177388, 0.018979076683940756]\n",
      "[0.06639931 0.52959124] [0.97083333 0.99583333] [0.16494861 3.24061411]\n",
      "[0.7176716373971085, 0.018964436970402305]\n",
      "[0.06637365 0.52879799] [0.97083333 0.99583333] [0.1646977  3.23119781]\n",
      "[0.7176504098168132, 0.018949870807943338]\n",
      "[0.0663485 0.5279942] [0.97083333 0.99583333] [0.16442341 3.22169835]\n",
      "[0.717629708992725, 0.018935372386388306]\n",
      "[0.06632386 0.52718076] [0.97083333 0.99583333] [0.164141   3.21206324]\n",
      "[0.7176095419912885, 0.018920936035210716]\n",
      "[0.06629976 0.5263586 ] [0.97083333 0.99583333] [0.16390552 3.20185768]\n",
      "[0.7175899158075296, 0.01890655623636109]\n",
      "[0.06627619 0.52552867] [0.97083333 0.99583333] [0.16371982 3.19332387]\n",
      "[0.7175708372436804, 0.018892227638949335]\n",
      "[0.06625319 0.52469193] [0.9625     0.99166667] [0.16348248 3.18479183]\n",
      "[0.7175523127899253, 0.018877945075241154]\n",
      "[0.06623074 0.52384935] [0.9625     0.99583333] [0.16325797 3.1750969 ]\n",
      "[0.7175343485083114, 0.01886370357752925]\n",
      "[0.06620885 0.5230019 ] [0.9625     0.99583333] [0.16301828 3.16731354]\n",
      "[0.7175169499204288, 0.018849498395542418]\n",
      "[0.06618751 0.52215056] [0.9625     0.99583333] [0.16275912 3.1589377 ]\n",
      "[0.7175001218991433, 0.018835325014154837]\n",
      "[0.06616673 0.5212963 ] [0.9625     0.99583333] [0.16251821 3.15016218]\n",
      "[0.7174838685644157, 0.018821179171248214]\n",
      "[0.06614649 0.52044008] [0.9625     0.99583333] [0.16223713 3.14220136]\n",
      "[0.7174681931830736, 0.018807056875657844]\n",
      "[0.06612677 0.51958285] [0.9625     0.99583333] [0.16190381 3.13353527]\n",
      "[0.7174530980723063, 0.018792954425194814]\n",
      "[0.06610757 0.51872555] [0.9625     0.99583333] [0.16156893 3.12403326]\n",
      "[0.7174385845066327, 0.018778868424778706]\n",
      "[0.06608886 0.51786913] [0.9625     0.99583333] [0.16129836 3.11343272]\n",
      "[0.7174246526281133, 0.018764795804736147]\n",
      "[0.06607062 0.51701449] [0.9625     0.99583333] [0.16101841 3.10230976]\n",
      "[0.7174113013596516, 0.018750733839318436]\n",
      "[0.06605282 0.51616254] [0.9625     0.99583333] [0.16073533 3.09191176]\n",
      "[0.717398528321343, 0.018736680165467503]\n",
      "[0.06603543 0.51531418] [0.9625     0.99583333] [0.16050012 3.08286242]\n",
      "[0.7173863297499652, 0.018722632801814038]\n",
      "[0.06601842 0.51447029] [0.9625     0.99583333] [0.16028228 3.07381281]\n",
      "[0.7173747004218717, 0.018708590167827225]\n",
      "[0.06600176 0.51363174] [0.9625     0.99583333] [0.16005804 3.06476225]\n",
      "[0.7173636335797263, 0.018694551102955655]\n",
      "[0.06598542 0.5127994 ] [0.9625     0.99583333] [0.15986276 3.05460179]\n",
      "[0.7173531208637196, 0.018680514885506986]\n",
      "[0.06596936 0.51197411] [0.9625     0.99166667] [0.15968637 3.04468343]\n",
      "[0.7173431522481138, 0.018666481250915083]\n",
      "[0.06595354 0.51115672] [0.96666667 0.99166667] [0.15949434 3.03505109]\n",
      "[0.7173337159841717, 0.0186524504089434]\n",
      "[0.06593792 0.51034805] [0.96666667 0.99166667] [0.15931778 3.02704338]\n",
      "[0.7173247985507479, 0.01863842305927701]\n",
      "[0.06592248 0.50954894] [0.96666667 0.99166667] [0.15915066 3.01901876]\n",
      "[0.7173163846140188, 0.018624400404869977]\n",
      "[0.06590717 0.50876018] [0.96666667 0.99583333] [0.15900585 3.01188773]\n",
      "[0.7173084569980198, 0.01861038416234473]\n",
      "[0.06589196 0.50798257] [0.96666667 0.99583333] [0.15885737 3.00390815]\n",
      "[0.7173009966678214, 0.01859637656869212]\n",
      "[0.06587682 0.50721688] [0.96666667 0.99583333] [0.1587147  2.99604667]\n",
      "[0.7172939827272873, 0.018582380383499374]\n",
      "[0.06586171 0.50646386] [0.96666667 0.99583333] [0.15852668 2.98825124]\n",
      "[0.7172873924334247, 0.0185683988859425]\n",
      "[0.06584661 0.50572424] [0.96666667 0.99583333] [0.158294   2.98149371]\n",
      "[0.7172812012293199, 0.01855443586582328]\n",
      "[0.06583149 0.50499871] [0.96666667 0.99583333] [0.15802625 2.97519935]\n",
      "[0.7172753827975603, 0.018540495608010316]\n",
      "[0.06581632 0.50428792] [0.96666667 0.99583333] [0.15779173 2.96877383]\n",
      "[0.7172699091358394, 0.01852658286975829]\n",
      "[0.06580108 0.50359248] [0.96666667 0.99583333] [0.15759414 2.96132629]\n",
      "[0.7172647506561505, 0.018512702850529437]\n",
      "[0.06578575 0.50291296] [0.96666667 0.99583333] [0.15748483 2.95471719]\n",
      "[0.7172598763085519, 0.018498861154121617]\n",
      "[0.06577032 0.50224984] [0.96666667 0.99583333] [0.15737225 2.9475918 ]\n",
      "[0.717255253729982, 0.018485063743113855]\n",
      "[0.06575477 0.50160358] [0.97083333 0.99583333] [0.15722277 2.94012006]\n",
      "[0.7172508494179788, 0.018471316885866153]\n",
      "[0.0657391  0.50097453] [0.97083333 0.99583333] [0.15707696 2.93203924]\n",
      "[0.7172466289284859, 0.018457627096547448]\n",
      "[0.0657233  0.50036301] [0.97083333 0.99583333] [0.15690618 2.92456625]\n",
      "[0.7172425570961691, 0.018444001068904783]\n",
      "[0.06570736 0.49976922] [0.97083333 0.99583333] [0.15672505 2.91747774]\n",
      "[0.7172385982749201, 0.01843044560471739]\n",
      "[0.0656913 0.4991933] [0.9625     0.99583333] [0.15658565 2.91070432]\n",
      "[0.7172347165954652, 0.01841696753809247]\n",
      "[0.06567511 0.49863532] [0.95833333 0.99583333] [0.15646168 2.90425716]\n",
      "[0.7172308762362997, 0.018403573656943176]\n",
      "[0.06565879 0.49809525] [0.9625     0.99583333] [0.15630896 2.89781276]\n",
      "[0.7172270417035569, 0.01839027062313624]\n",
      "[0.06564237 0.49757297] [0.9625     0.99583333] [0.15616329 2.89239972]\n",
      "[0.7172231781149229, 0.01837706489289773]\n",
      "[0.06562585 0.49706831] [0.9625     0.99583333] [0.15600413 2.88724211]\n",
      "[0.7172192514823706, 0.018363962639114387]\n",
      "[0.06560925 0.496581  ] [0.9625     0.99583333] [0.15582687 2.88148358]\n",
      "[0.7172152289883084, 0.01835096967716249]\n",
      "[0.06559258 0.4961107 ] [0.9625     0.99583333] [0.15561766 2.87552995]\n",
      "[0.7172110792497542, 0.01833809139583388]\n",
      "[0.06557587 0.49565701] [0.9625     0.99583333] [0.15538382 2.87052932]\n",
      "[0.7172067725653433, 0.018325332694810747]\n",
      "[0.06555914 0.49521947] [0.9625     0.99583333] [0.15507824 2.86548666]\n",
      "[0.7172022811403591, 0.01831269792997395]\n",
      "[0.06554241 0.49479757] [0.9625     0.99583333] [0.15478273 2.86035895]\n",
      "[0.7171975792855219, 0.0183001908676173]\n",
      "[0.0655257  0.49439075] [0.9625     0.99583333] [0.15449711 2.85556149]\n",
      "[0.7171926435859577, 0.01828781464839438]\n",
      "[0.06550903 0.49399841] [0.9625     0.99583333] [0.15425794 2.8517914 ]\n",
      "[0.7171874530375698, 0.01827557176155453]\n",
      "[0.06549244 0.49361991] [0.9625     0.99583333] [0.15401634 2.84821836]\n",
      "[0.717181989148907, 0.01826346402974137]\n",
      "[0.06547594 0.49325463] [0.9625     0.99583333] [0.15373478 2.84449217]\n",
      "[0.7171762360075397, 0.01825149260434431]\n",
      "[0.06545957 0.49290188] [0.9625     0.99583333] [0.15344527 2.84093671]\n",
      "[0.7171701803108671, 0.018239657971120763]\n",
      "[0.06544335 0.492561  ] [0.9625     0.99583333] [0.15314611 2.83652117]\n",
      "[0.7171638113621609, 0.01822795996555507]\n",
      "[0.06542729 0.49223132] [0.9625     0.99583333] [0.15284205 2.83253743]\n",
      "[0.7171571210334624, 0.01821639779719841]\n",
      "[0.06541143 0.49191218] [0.9625     0.99583333] [0.1525656  2.82862232]\n",
      "[0.7171501036976746, 0.018204970082048723]\n",
      "[0.06539579 0.49160293] [0.9625     0.99166667] [0.15226039 2.82544741]\n",
      "[0.7171427561327882, 0.018193674881884826]\n",
      "[0.06538038 0.49130293] [0.9625     0.99166667] [0.15196465 2.82248639]\n",
      "[0.7171350774016666, 0.018182509749368445]\n",
      "[0.06536524 0.49101158] [0.9625     0.99166667] [0.15166667 2.82001694]\n",
      "[0.7171270687111491, 0.01817147177766942]\n",
      "[0.06535037 0.4907283 ] [0.9625     0.99166667] [0.15134378 2.81730356]\n",
      "[0.7171187332544307, 0.01816055765335326]\n",
      "[0.0653358  0.49045252] [0.9625     0.99166667] [0.15103988 2.8144859 ]\n",
      "[0.7171100760407546, 0.018149763711292]\n",
      "[0.06532154 0.49018372] [0.9625     0.99166667] [0.15077615 2.8112521 ]\n",
      "[0.7171011037163901, 0.018139085990414326]\n",
      "[0.0653076  0.48992143] [0.9625     0.99166667] [0.15050425 2.80717584]\n",
      "[0.7170918243807081, 0.018128520289193706]\n",
      "[0.06529399 0.48966518] [0.9625     0.99166667] [0.15021706 2.8035264 ]\n",
      "[0.7170822474009158, 0.01811806221987878]\n",
      "[0.06528073 0.48941457] [0.9625     0.99166667] [0.14995818 2.79984844]\n",
      "[0.7170723832286754, 0.018107707260590866]\n",
      "[0.06526782 0.48916922] [0.9625     0.99166667] [0.14970059 2.79663555]\n",
      "[0.7170622432214587, 0.01809745080454495]\n",
      "[0.06525527 0.48892878] [0.9625     0.99166667] [0.14946683 2.79320732]\n",
      "[0.7170518394710692, 0.018087288205787054]\n",
      "[0.06524308 0.48869295] [0.9625     0.99166667] [0.14922209 2.78998191]\n",
      "[0.7170411846413405, 0.01807721482097725]\n",
      "[0.06523126 0.48846147] [0.9625     0.99166667] [0.14897081 2.78607726]\n",
      "[0.717030291816581, 0.018067226046880977]\n",
      "[0.06521981 0.48823411] [0.9625     0.99166667] [0.14872758 2.78190943]\n",
      "[0.7170191743619373, 0.01805731735335697]\n",
      "[0.06520872 0.48801065] [0.9625     0.99166667] [0.14846637 2.77834345]\n",
      "[0.7170078457964487, 0.018047484311747047]\n",
      "[0.065198   0.48779093] [0.95833333 0.99166667] [0.14816287 2.77456227]\n"
     ]
    },
    {
     "name": "stderr",
     "output_type": "stream",
     "text": [
      "\n",
      "KeyboardInterrupt\n",
      "\n"
     ]
    }
   ],
   "source": [
    "w1_catch = []\n",
    "w2_catch = []\n",
    "w1_sd_catch = []\n",
    "w2_sd_catch = []\n",
    "for i in range(0,10000):\n",
    "    \n",
    "    initial_ensembles = get_updated_ensemble(smiles_feats_train, rdkit_feats_train, initial_ensembles)\n",
    "    G_u_train, w1, w2 = get_predictions(smiles_feats_train, rdkit_feats_train, initial_ensembles)\n",
    "    \n",
    "    w1_catch.append(w1.mean())\n",
    "    w1_sd_catch.append(w1.std())\n",
    "    \n",
    "    w2_catch.append(w2.mean())\n",
    "    w2_sd_catch.append(w2.std())  \n",
    "    \n",
    "    print([w1.mean(), w1.std()])\n",
    "    # print(w2.mean(), w2.std())\n",
    "    \n",
    "    # G_u_train = get_targets_with_weights(smiles_feats_train, rdkit_feats_train, initial_ensembles, size_ens = size_ens)\n",
    "    catch = Parallel(n_jobs = 15, verbose = 0)(delayed(inverse_transform)(G_u_train, i)  for i in range(G_u_train.shape[0]))\n",
    "    G_u_train = np.array(catch)\n",
    "    \n",
    "    y_train_cur = std_targets.inverse_transform(y_train)\n",
    "    \n",
    "    li_train = np.percentile(G_u_train, axis = 0, q = (2.5, 97.5))[0,:,:]   \n",
    "    ui_train = np.percentile(G_u_train, axis = 0, q = (2.5, 97.5))[1,:,:]\n",
    "    \n",
    "    width_train = ui_train - li_train\n",
    "    avg_width_train = width_train.mean(0)\n",
    "    \n",
    "    ind_train = (y_train_cur >= li_train) & (y_train_cur <= ui_train)\n",
    "    coverage_train= ind_train.mean(0)\n",
    "    \n",
    "    averaged_targets_train = G_u_train.mean(0)\n",
    "    rmse_train = np.sqrt(((y_train_cur -averaged_targets_train)**2).mean(0))\n",
    "    # print(rmse_train, coverage_train, avg_width_train)\n",
    "    \n",
    "    G_u_test, _, _ = get_predictions(smiles_feats_valid, rdkit_feats_valid, initial_ensembles)\n",
    "    \n",
    "    catch = Parallel(n_jobs = 15, verbose = 0)(delayed(inverse_transform)(G_u_test, i)  for i in range(G_u_test.shape[0]))\n",
    "    G_u_test = np.array(catch)\n",
    "    \n",
    "    y_valid_cur = std_targets.inverse_transform(y_valid)    \n",
    "    \n",
    "    li_test = np.percentile(G_u_test, axis = 0, q = (2.5, 97.5))[0,:,:]   \n",
    "    ui_test = np.percentile(G_u_test, axis = 0, q = (2.5, 97.5))[1,:,:]\n",
    "    \n",
    "    width_test = ui_test - li_test\n",
    "    avg_width_test = width_test.mean(0)\n",
    "    \n",
    "    ind_test = (y_valid_cur >= li_test) & (y_valid_cur <= ui_test)\n",
    "    coverage_test= ind_test.mean(0)\n",
    "    \n",
    "    averaged_targets_test = G_u_test.mean(0)\n",
    "    rmse_test = np.sqrt(((y_valid_cur -averaged_targets_test)**2).mean(0))    \n",
    "    \n",
    "    # plt.scatter(y_valid[:, 0], averaged_targets_test[:,0])\n",
    "    # plt.axline((0,0), slope = 1, c= \"black\")\n",
    "    # plt.show()\n",
    "    # plt.scatter(y_valid[:,1], averaged_targets_test[:, 1])\n",
    "    # plt.axline((0,0), slope = 1, c= \"black\")\n",
    "    # plt.show()\n",
    "    \n",
    "    if coverage_train.mean() < 0.95:\n",
    "        break\n",
    "    \n",
    "    print(rmse_test, coverage_test, avg_width_test)"
   ]
  },
  {
   "cell_type": "code",
   "execution_count": 63,
   "id": "a81eb6c3-e084-4e43-aa5e-3f9b0f5ee016",
   "metadata": {},
   "outputs": [
    {
     "data": {
      "text/plain": [
       "(274, 240, 2)"
      ]
     },
     "execution_count": 63,
     "metadata": {},
     "output_type": "execute_result"
    }
   ],
   "source": [
    "G_u_test.shape"
   ]
  },
  {
   "cell_type": "code",
   "execution_count": 64,
   "id": "96d8df43-9ae3-47f6-9c69-ac77c38a6eb6",
   "metadata": {},
   "outputs": [],
   "source": [
    "import random"
   ]
  },
  {
   "cell_type": "code",
   "execution_count": 65,
   "id": "47207771-df91-48f0-9963-9a78989bcfe3",
   "metadata": {},
   "outputs": [],
   "source": [
    "random_idx = random.sample(range(y_valid_cur.shape[0]), k = 8)"
   ]
  },
  {
   "cell_type": "code",
   "execution_count": 66,
   "id": "af5f17ea-a47c-421d-bd32-7a0dc0f1af60",
   "metadata": {},
   "outputs": [
    {
     "data": {
      "image/png": "[encoded data removed]",
      "text/plain": [
       "<Figure size 1500x1500 with 16 Axes>"
      ]
     },
     "metadata": {},
     "output_type": "display_data"
    }
   ],
   "source": [
    "fig, axs = plt.subplots(8, 2,figsize=(15, 15))\n",
    "# axs = axs.ravel()\n",
    "# counter = 0\n",
    "for idx, i in enumerate(random_idx):\n",
    "    # print(counter)\n",
    "    truth = y_valid_cur[i,:]\n",
    "    preds = G_u_test[:, i,:]\n",
    "    percts = np.percentile(preds, axis = 0, q = (2.5, 97.5))\n",
    "    lis = percts[0,:]\n",
    "    uis = percts[1,:]\n",
    "    \n",
    "    \n",
    "    axs[idx, 0].hist(preds[:,0])\n",
    "    axs[idx, 0].axvline(truth[0], color='green', linewidth=2)\n",
    "    axs[idx, 0].axvline(lis[0], color='red', linewidth=2)\n",
    "    axs[idx, 0].axvline(uis[0], color='red', linewidth=2)\n",
    "    \n",
    "    axs[idx, 1].hist(preds[:,1])\n",
    "    axs[idx, 1].axvline(truth[1], color='green', linewidth=2)\n",
    "    axs[idx, 1].axvline(lis[1], color='red', linewidth=2)\n",
    "    axs[idx, 1].axvline(uis[1], color='red', linewidth=2)\n",
    "    \n",
    "    # counter+=2\n",
    "    # print(counter)\n",
    "    \n",
    "    # plt.show()\n",
    "plt.savefig('prediction_intervals.png', bbox_inches='tight')"
   ]
  },
  {
   "cell_type": "code",
   "execution_count": 67,
   "id": "3230a62b-f36f-4ec0-9c7d-0ba75c9de369",
   "metadata": {},
   "outputs": [
    {
     "data": {
      "image/png": "[encoded data removed]",
      "text/plain": [
       "<Figure size 640x480 with 1 Axes>"
      ]
     },
     "metadata": {},
     "output_type": "display_data"
    },
    {
     "data": {
      "image/png": "[encoded data removed]",
      "text/plain": [
       "<Figure size 640x480 with 1 Axes>"
      ]
     },
     "metadata": {},
     "output_type": "display_data"
    }
   ],
   "source": [
    "plt.scatter(y_valid_cur[:, 0], averaged_targets_test[:,0])\n",
    "plt.axline((0,0), slope = 1, c= \"black\")\n",
    "plt.show()\n",
    "plt.scatter(y_valid_cur[:,1], averaged_targets_test[:, 1])\n",
    "plt.axline((0,0), slope = 1, c= \"black\")\n",
    "plt.show()"
   ]
  },
  {
   "cell_type": "code",
   "execution_count": 74,
   "id": "c1f7b4e6-a928-46fd-9de4-3e47791d7327",
   "metadata": {},
   "outputs": [
    {
     "data": {
      "text/plain": [
       "[<matplotlib.lines.Line2D at 0x1550b5dd1e50>]"
      ]
     },
     "execution_count": 74,
     "metadata": {},
     "output_type": "execute_result"
    },
    {
     "data": {
      "image/png": "[encoded data removed]",
      "text/plain": [
       "<Figure size 640x480 with 1 Axes>"
      ]
     },
     "metadata": {},
     "output_type": "display_data"
    }
   ],
   "source": [
    "plt.plot(w1_catch)"
   ]
  },
  {
   "cell_type": "code",
   "execution_count": 75,
   "id": "29b68710-148d-4aa9-a9dc-df16918df816",
   "metadata": {},
   "outputs": [
    {
     "data": {
      "text/plain": [
       "[<matplotlib.lines.Line2D at 0x1550b5e288d0>]"
      ]
     },
     "execution_count": 75,
     "metadata": {},
     "output_type": "execute_result"
    },
    {
     "data": {
      "image/png": "[encoded data removed]",
      "text/plain": [
       "<Figure size 640x480 with 1 Axes>"
      ]
     },
     "metadata": {},
     "output_type": "display_data"
    }
   ],
   "source": [
    "plt.plot(w1_sd_catch)"
   ]
  },
  {
   "cell_type": "code",
   "execution_count": 68,
   "id": "0a36715c-20fa-406e-9ac6-55a56152d3e3",
   "metadata": {},
   "outputs": [
    {
     "data": {
      "text/plain": [
       "<ErrorbarContainer object of 3 artists>"
      ]
     },
     "execution_count": 68,
     "metadata": {},
     "output_type": "execute_result"
    },
    {
     "data": {
      "image/png": "[encoded data removed]",
      "text/plain": [
       "<Figure size 640x480 with 1 Axes>"
      ]
     },
     "metadata": {},
     "output_type": "display_data"
    }
   ],
   "source": [
    "plt.errorbar(range(0, len(w1_catch)), w1_catch, w1_sd_catch)"
   ]
  },
  {
   "cell_type": "code",
   "execution_count": 69,
   "id": "c5a7783b-b135-41e1-8ae7-6a346965daa5",
   "metadata": {},
   "outputs": [],
   "source": [
    "cov_mat_final, _ = create_cov(smiles_feats_train.shape[0],initial_ensembles)"
   ]
  },
  {
   "cell_type": "code",
   "execution_count": 70,
   "id": "5d891012-f14b-40fa-b8e4-8bf97bac5710",
   "metadata": {},
   "outputs": [],
   "source": [
    "# R_t"
   ]
  },
  {
   "cell_type": "code",
   "execution_count": 71,
   "id": "4ace7c78-5947-4803-922b-9848a6c46bf9",
   "metadata": {},
   "outputs": [
    {
     "data": {
      "text/plain": [
       "array([[1.23103565, 0.12405273],\n",
       "       [0.12405273, 0.82784711]])"
      ]
     },
     "execution_count": 71,
     "metadata": {},
     "output_type": "execute_result"
    }
   ],
   "source": [
    "cov_mat_final"
   ]
  },
  {
   "cell_type": "code",
   "execution_count": 72,
   "id": "65fd1fd9-89cb-4a66-896c-62f8805c0725",
   "metadata": {},
   "outputs": [
    {
     "data": {
      "text/plain": [
       "array([[ 2.00883439, -0.73234091],\n",
       "       [-0.73234091,  1.65672997]])"
      ]
     },
     "execution_count": 72,
     "metadata": {},
     "output_type": "execute_result"
    }
   ],
   "source": [
    "np.cov(y_train.T)"
   ]
  }
 ],
 "metadata": {
  "kernelspec": {
   "display_name": "enkf",
   "language": "python",
   "name": "enkf"
  },
  "language_info": {
   "codemirror_mode": {
    "name": "ipython",
    "version": 3
   },
   "file_extension": ".py",
   "mimetype": "text/x-python",
   "name": "python",
   "nbconvert_exporter": "python",
   "pygments_lexer": "ipython3",
   "version": "3.11.3"
  }
 },
 "nbformat": 4,
 "nbformat_minor": 5
}
