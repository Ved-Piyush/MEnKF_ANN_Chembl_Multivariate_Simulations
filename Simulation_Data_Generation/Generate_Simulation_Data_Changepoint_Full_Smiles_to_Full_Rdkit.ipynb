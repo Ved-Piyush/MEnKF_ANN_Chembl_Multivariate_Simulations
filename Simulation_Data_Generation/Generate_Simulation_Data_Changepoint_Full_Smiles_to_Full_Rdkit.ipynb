{
 "cells": [
  {
   "cell_type": "code",
   "execution_count": 1,
   "id": "1fc07d4f-c165-482d-b675-edab35559ab4",
   "metadata": {},
   "outputs": [
    {
     "name": "stderr",
     "output_type": "stream",
     "text": [
      "2023-06-26 15:26:21.810399: I tensorflow/core/util/port.cc:110] oneDNN custom operations are on. You may see slightly different numerical results due to floating-point round-off errors from different computation orders. To turn them off, set the environment variable `TF_ENABLE_ONEDNN_OPTS=0`.\n",
      "2023-06-26 15:26:21.813705: I tensorflow/tsl/cuda/cudart_stub.cc:28] Could not find cuda drivers on your machine, GPU will not be used.\n",
      "2023-06-26 15:26:21.853218: I tensorflow/tsl/cuda/cudart_stub.cc:28] Could not find cuda drivers on your machine, GPU will not be used.\n",
      "2023-06-26 15:26:21.854068: I tensorflow/core/platform/cpu_feature_guard.cc:182] This TensorFlow binary is optimized to use available CPU instructions in performance-critical operations.\n",
      "To enable the following instructions: AVX2 AVX512F AVX512_VNNI FMA, in other operations, rebuild TensorFlow with the appropriate compiler flags.\n",
      "2023-06-26 15:26:24.304658: W tensorflow/compiler/tf2tensorrt/utils/py_utils.cc:38] TF-TRT Warning: Could not find TensorRT\n"
     ]
    }
   ],
   "source": [
    "import tensorflow as tf\n",
    "import pandas as pd\n",
    "import numpy as np\n",
    "import pickle\n",
    "from sklearn.preprocessing import StandardScaler\n",
    "from scipy.stats import multivariate_normal as mvn"
   ]
  },
  {
   "cell_type": "code",
   "execution_count": 2,
   "id": "a26c4d5e-5621-4384-bcd8-9c189dc27054",
   "metadata": {},
   "outputs": [],
   "source": [
    "# model_alogp =  tf.keras.models.load_model(\"..//Base_Models//Model_BOTH\")"
   ]
  },
  {
   "cell_type": "code",
   "execution_count": 3,
   "id": "545bb748-7f54-45d3-af3b-5b994ad781b8",
   "metadata": {},
   "outputs": [],
   "source": [
    "# read small mol phase 3 features\n",
    "small_mol_phase_3_features = pd.read_csv(\"..//Data/smiles_with_rdkit_with_small_phase_3_features.csv\")"
   ]
  },
  {
   "cell_type": "code",
   "execution_count": 4,
   "id": "977a9b8f-0e5f-4754-a832-f3ac9321a4e6",
   "metadata": {},
   "outputs": [],
   "source": [
    "small_mol_phase_3_outputs = pd.read_csv(\"..//Data/smiles_with_rdkit_with_small_phase_3_outputs.csv\")"
   ]
  },
  {
   "cell_type": "code",
   "execution_count": 5,
   "id": "8f9e7833-2ee8-4b2c-8a9a-c0faba30420c",
   "metadata": {},
   "outputs": [],
   "source": [
    "# small_mol_phase_3_outputs"
   ]
  },
  {
   "cell_type": "code",
   "execution_count": 6,
   "id": "d702f1e4-cf9c-4b2a-bb99-e2484a180ac4",
   "metadata": {},
   "outputs": [],
   "source": [
    "# small_mol_phase_3_preds = model_alogp.predict([small_mol_phase_3_features[\"Smiles\"].values, small_mol_phase_3_features.iloc[:,1:].values], batch_size = 1000)"
   ]
  },
  {
   "cell_type": "code",
   "execution_count": 7,
   "id": "841f1ba5-e817-4c8b-8a88-6ea170d9fc3d",
   "metadata": {},
   "outputs": [],
   "source": [
    "bottleneck_features_smiles = np.load(\"..//Data//small_mol_phase_3_features_using_Smiles.npy\")"
   ]
  },
  {
   "cell_type": "code",
   "execution_count": 8,
   "id": "7bc56237-0600-4e0a-8baf-9e90e4efa219",
   "metadata": {},
   "outputs": [],
   "source": [
    "# bottleneck_features.shape"
   ]
  },
  {
   "cell_type": "code",
   "execution_count": 9,
   "id": "f5ea7b75-2332-49c7-b8f8-b7e9b95639df",
   "metadata": {},
   "outputs": [],
   "source": [
    "bottleneck_features_rdkit = np.load(\"..//Data//small_mol_phase_3_features_using_Rdkit.npy\")"
   ]
  },
  {
   "cell_type": "code",
   "execution_count": 10,
   "id": "b7b30d32-ca02-4ed2-b64e-9b070cf348f9",
   "metadata": {},
   "outputs": [],
   "source": [
    "smiles_features = bottleneck_features_smiles\n",
    "rdkit_features = bottleneck_features_rdkit"
   ]
  },
  {
   "cell_type": "code",
   "execution_count": 11,
   "id": "2e3bf5d0-dc93-4d18-83b9-697ab6c6cc9f",
   "metadata": {},
   "outputs": [
    {
     "data": {
      "text/plain": [
       "(959, 32)"
      ]
     },
     "execution_count": 11,
     "metadata": {},
     "output_type": "execute_result"
    }
   ],
   "source": [
    "smiles_features.shape"
   ]
  },
  {
   "cell_type": "code",
   "execution_count": 12,
   "id": "f71ffdf0-26ed-49f8-8657-68b2140430a6",
   "metadata": {},
   "outputs": [
    {
     "data": {
      "text/plain": [
       "(959, 32)"
      ]
     },
     "execution_count": 12,
     "metadata": {},
     "output_type": "execute_result"
    }
   ],
   "source": [
    "rdkit_features.shape"
   ]
  },
  {
   "cell_type": "code",
   "execution_count": 13,
   "id": "c25bf474-94ea-4d57-bd2e-cf2c4f820c93",
   "metadata": {},
   "outputs": [],
   "source": [
    "# smiles_weights = model_alogp.get_weights()[-2][:32, :]\n",
    "# rdkit_weights = model_alogp.get_weights()[-2][32:, :]"
   ]
  },
  {
   "cell_type": "code",
   "execution_count": 14,
   "id": "d023cf71-a3c9-48f7-9405-c0e20c27433d",
   "metadata": {},
   "outputs": [],
   "source": [
    "# final_bias = model_alogp.get_weights()[-1].reshape(1,-1)"
   ]
  },
  {
   "cell_type": "code",
   "execution_count": 15,
   "id": "e4e4aa4c-9fa6-4ca5-b46d-8c008748a2c4",
   "metadata": {},
   "outputs": [],
   "source": [
    "smiles_output = np.load(\"..//Data//smiles_outputs.npy\")"
   ]
  },
  {
   "cell_type": "code",
   "execution_count": 16,
   "id": "2f6d639b-8c35-41b0-9b19-113cdd33d82f",
   "metadata": {},
   "outputs": [],
   "source": [
    "rdkit_output = np.load(\"..//Data//rdkit_outputs.npy\")"
   ]
  },
  {
   "cell_type": "code",
   "execution_count": 17,
   "id": "0b09fbbc-7240-434a-8fc4-1b8973337122",
   "metadata": {},
   "outputs": [
    {
     "data": {
      "text/plain": [
       "array([[-0.008663  , -0.32012644],\n",
       "       [ 0.3382033 , -0.31685376],\n",
       "       [ 0.11221686, -1.2013034 ],\n",
       "       ...,\n",
       "       [-2.202789  ,  0.2556882 ],\n",
       "       [ 2.5921938 , -0.50616574],\n",
       "       [-0.57648194,  1.1811748 ]], dtype=float32)"
      ]
     },
     "execution_count": 17,
     "metadata": {},
     "output_type": "execute_result"
    }
   ],
   "source": [
    "smiles_output"
   ]
  },
  {
   "cell_type": "code",
   "execution_count": 18,
   "id": "2e4185b1-c194-4754-9cc5-f95c7ecdb710",
   "metadata": {},
   "outputs": [],
   "source": [
    "# (smiles_output + rdkit_output)"
   ]
  },
  {
   "cell_type": "code",
   "execution_count": 19,
   "id": "9954c306-7a6f-42ed-b11b-cb82304b174f",
   "metadata": {},
   "outputs": [],
   "source": [
    "# small_mol_phase_3_preds"
   ]
  },
  {
   "cell_type": "code",
   "execution_count": 20,
   "id": "b9ae0c4a-35be-4d02-b5aa-d59e8e90b096",
   "metadata": {},
   "outputs": [],
   "source": [
    "# pd.read_csv(\"..//Data//y_train.csv\")"
   ]
  },
  {
   "cell_type": "code",
   "execution_count": 21,
   "id": "dcb88216-abe4-4d34-b29c-80289be292ef",
   "metadata": {},
   "outputs": [],
   "source": [
    "y_train = pd.read_csv(\"..//Data//y_train.csv\")\n",
    "# y_train = pd.read_csv(\"..//Data/smiles_with_rdkit_with_small_phase_3_outputs.csv\").iloc[:,1:]"
   ]
  },
  {
   "cell_type": "code",
   "execution_count": 22,
   "id": "0e3edb7c-5383-4cdd-bdfd-174d9a2fc132",
   "metadata": {},
   "outputs": [
    {
     "data": {
      "text/plain": [
       "(1694445, 2)"
      ]
     },
     "execution_count": 22,
     "metadata": {},
     "output_type": "execute_result"
    }
   ],
   "source": [
    "y_train.shape"
   ]
  },
  {
   "cell_type": "code",
   "execution_count": 23,
   "id": "8b017f5b-f3ee-4e97-8abb-98f252a141bf",
   "metadata": {},
   "outputs": [
    {
     "name": "stderr",
     "output_type": "stream",
     "text": [
      "/home/statgrads/vpiyush2/.conda/envs/enkf/lib/python3.11/site-packages/sklearn/base.py:318: UserWarning: Trying to unpickle estimator StandardScaler from version 1.1.2 when using version 1.2.2. This might lead to breaking code or invalid results. Use at your own risk. For more info please refer to:\n",
      "https://scikit-learn.org/stable/model_persistence.html#security-maintainability-limitations\n",
      "  warnings.warn(\n"
     ]
    }
   ],
   "source": [
    "std_targets = pickle.load(open('..//Data//target_scaler.pkl', 'rb'))"
   ]
  },
  {
   "cell_type": "code",
   "execution_count": 24,
   "id": "638f2c9b-6849-4428-9bf9-854cfe3698ea",
   "metadata": {},
   "outputs": [],
   "source": [
    "# std_targets = StandardScaler()"
   ]
  },
  {
   "cell_type": "code",
   "execution_count": 25,
   "id": "af91794c-2b16-4686-b70e-4fef4517e6db",
   "metadata": {},
   "outputs": [],
   "source": [
    "y_train = std_targets.transform(y_train)"
   ]
  },
  {
   "cell_type": "code",
   "execution_count": 26,
   "id": "1f429f9c-760f-4d5e-9939-38cc57f5df33",
   "metadata": {},
   "outputs": [],
   "source": [
    "R_t = np.cov(y_train.T)"
   ]
  },
  {
   "cell_type": "code",
   "execution_count": 27,
   "id": "4779de9a-590b-405a-84ca-5d9fbab1c7ca",
   "metadata": {},
   "outputs": [
    {
     "data": {
      "text/plain": [
       "array([[ 1.       , -0.3030172],\n",
       "       [-0.3030172,  1.       ]])"
      ]
     },
     "execution_count": 27,
     "metadata": {},
     "output_type": "execute_result"
    }
   ],
   "source": [
    "np.corrcoef(y_train.T)"
   ]
  },
  {
   "cell_type": "code",
   "execution_count": 28,
   "id": "1cbe9a26-3bb5-45de-b795-99e266f43ec4",
   "metadata": {},
   "outputs": [
    {
     "data": {
      "text/plain": [
       "array([[ 2.02894228, -0.70199591],\n",
       "       [-0.70199591,  1.57403392]])"
      ]
     },
     "execution_count": 28,
     "metadata": {},
     "output_type": "execute_result"
    }
   ],
   "source": [
    "np.cov(smiles_output.T)"
   ]
  },
  {
   "cell_type": "code",
   "execution_count": 29,
   "id": "d7315048-f746-466e-934f-da576f82f9a4",
   "metadata": {},
   "outputs": [
    {
     "data": {
      "text/plain": [
       "array([[ 2.00398076, -0.70407812],\n",
       "       [-0.70407812,  1.57108448]])"
      ]
     },
     "execution_count": 29,
     "metadata": {},
     "output_type": "execute_result"
    }
   ],
   "source": [
    "np.cov(rdkit_output.T)"
   ]
  },
  {
   "cell_type": "code",
   "execution_count": 30,
   "id": "97a5a36a-54a9-494e-baf2-79fda18b03d9",
   "metadata": {},
   "outputs": [
    {
     "data": {
      "text/plain": [
       "array([[ 1.        , -0.39281919],\n",
       "       [-0.39281919,  1.        ]])"
      ]
     },
     "execution_count": 30,
     "metadata": {},
     "output_type": "execute_result"
    }
   ],
   "source": [
    "np.corrcoef(smiles_output.T)"
   ]
  },
  {
   "cell_type": "code",
   "execution_count": 31,
   "id": "1eacec97-bcca-471f-97c1-8d191186204a",
   "metadata": {},
   "outputs": [
    {
     "data": {
      "text/plain": [
       "AlogP                 0.138200\n",
       "Polar Surface Area    2.238709\n",
       "dtype: float64"
      ]
     },
     "execution_count": 31,
     "metadata": {},
     "output_type": "execute_result"
    }
   ],
   "source": [
    "np.sqrt(((small_mol_phase_3_outputs.iloc[:,1:] - std_targets.inverse_transform(smiles_output))**2).mean(0))"
   ]
  },
  {
   "cell_type": "code",
   "execution_count": 32,
   "id": "0a735394-64cf-48ab-9744-e7391e7c62e5",
   "metadata": {},
   "outputs": [
    {
     "data": {
      "text/plain": [
       "AlogP                  0.283819\n",
       "Polar Surface Area    10.808705\n",
       "dtype: float64"
      ]
     },
     "execution_count": 32,
     "metadata": {},
     "output_type": "execute_result"
    }
   ],
   "source": [
    "np.sqrt(((small_mol_phase_3_outputs.iloc[:,1:] - std_targets.inverse_transform(rdkit_output))**2).mean(0))"
   ]
  },
  {
   "cell_type": "code",
   "execution_count": 33,
   "id": "c56ff1e4-8344-4925-bb64-7888818e00df",
   "metadata": {},
   "outputs": [
    {
     "data": {
      "text/plain": [
       "array([[ 1.00000059, -0.30301738],\n",
       "       [-0.30301738,  1.00000059]])"
      ]
     },
     "execution_count": 33,
     "metadata": {},
     "output_type": "execute_result"
    }
   ],
   "source": [
    "R_t"
   ]
  },
  {
   "cell_type": "code",
   "execution_count": 34,
   "id": "7e6c1348-6fc1-4973-afc4-57317cbfa9a1",
   "metadata": {},
   "outputs": [],
   "source": [
    "# tf.linalg.cholesky(R_t).numpy()@tf.linalg.cholesky(R_t).numpy().T"
   ]
  },
  {
   "cell_type": "code",
   "execution_count": 35,
   "id": "00e8d003-36ad-48f7-a6bd-10144726b685",
   "metadata": {},
   "outputs": [],
   "source": [
    "# R_t"
   ]
  },
  {
   "cell_type": "code",
   "execution_count": 54,
   "id": "365e8cf1-950f-496d-a646-c59ce54ddfd6",
   "metadata": {},
   "outputs": [],
   "source": [
    "var = 0.3"
   ]
  },
  {
   "cell_type": "code",
   "execution_count": 55,
   "id": "5990b4dd-7d2c-40a2-8d0e-18aceae1d5dc",
   "metadata": {},
   "outputs": [],
   "source": [
    "cor = -0.2"
   ]
  },
  {
   "cell_type": "code",
   "execution_count": 56,
   "id": "8e267a93-453f-4930-ae10-abf6093175f8",
   "metadata": {},
   "outputs": [],
   "source": [
    "R_t = np.array([[var,cor*var], [cor*var, var]])"
   ]
  },
  {
   "cell_type": "code",
   "execution_count": 57,
   "id": "fa0acd54-c805-4b0e-94c6-a81cb0b75ac4",
   "metadata": {},
   "outputs": [
    {
     "data": {
      "text/plain": [
       "array([[ 0.3 , -0.06],\n",
       "       [-0.06,  0.3 ]])"
      ]
     },
     "execution_count": 57,
     "metadata": {},
     "output_type": "execute_result"
    }
   ],
   "source": [
    "R_t"
   ]
  },
  {
   "cell_type": "code",
   "execution_count": 58,
   "id": "aa18f6d3-bfe7-4c09-816b-dbeafb5e4572",
   "metadata": {},
   "outputs": [],
   "source": [
    "from sklearn.model_selection import train_test_split"
   ]
  },
  {
   "cell_type": "code",
   "execution_count": 59,
   "id": "849a3323-29bf-4729-80b0-b68c8d65e0c7",
   "metadata": {},
   "outputs": [
    {
     "data": {
      "text/plain": [
       "(959, 2)"
      ]
     },
     "execution_count": 59,
     "metadata": {},
     "output_type": "execute_result"
    }
   ],
   "source": [
    "smiles_output.shape"
   ]
  },
  {
   "cell_type": "code",
   "execution_count": 60,
   "id": "ca87015b-2a46-4c83-ad59-e26e3ac4f6db",
   "metadata": {},
   "outputs": [],
   "source": [
    "import random"
   ]
  },
  {
   "cell_type": "code",
   "execution_count": 61,
   "id": "1f6253d2-eca5-479d-bb34-05627bab553d",
   "metadata": {},
   "outputs": [],
   "source": [
    "def generate_data_copies(smiles_output, rdkit_output, smiles_features, rdkit_features, weight_smiles = 0.5):\n",
    "    error_mean = np.zeros((smiles_output.shape[1],))\n",
    "    error_cov = R_t\n",
    "    \n",
    "    mvn_error = mvn(error_mean, error_cov).rvs(smiles_output.shape[0])\n",
    "\n",
    "    \n",
    "    weighted_output = weight_smiles*smiles_output + (1-weight_smiles)*rdkit_output\n",
    "    \n",
    "    weighted_output_with_error = weighted_output + mvn_error\n",
    "    \n",
    "    req_list = [smiles_features, rdkit_features, weighted_output, weighted_output_with_error]\n",
    "\n",
    "    return req_list"
   ]
  },
  {
   "cell_type": "code",
   "execution_count": 72,
   "id": "17873346-3540-4034-9190-97f04afa4482",
   "metadata": {},
   "outputs": [],
   "source": [
    "smiles_heavy_catch = generate_data_copies(smiles_output, rdkit_output, smiles_features, rdkit_features, weight_smiles = 1.0)"
   ]
  },
  {
   "cell_type": "code",
   "execution_count": 73,
   "id": "c86f31af-fd8a-4143-9266-c8afabfa2d63",
   "metadata": {},
   "outputs": [],
   "source": [
    "with open(\"..//Data//smiles_heavy_catch.pickle\", \"wb\") as f: \n",
    "    pickle.dump(smiles_heavy_catch, f)"
   ]
  },
  {
   "cell_type": "code",
   "execution_count": 74,
   "id": "780b4928-517c-4e82-83e4-655e930d0e0d",
   "metadata": {},
   "outputs": [],
   "source": [
    "import matplotlib.pyplot as plt"
   ]
  },
  {
   "cell_type": "code",
   "execution_count": 75,
   "id": "04d0682a-ae73-4abc-98e6-06ac209f1029",
   "metadata": {},
   "outputs": [
    {
     "data": {
      "text/plain": [
       "<matplotlib.lines._AxLine at 0x149149f909d0>"
      ]
     },
     "execution_count": 75,
     "metadata": {},
     "output_type": "execute_result"
    },
    {
     "data": {
      "image/png": "[encoded data removed]",
      "text/plain": [
       "<Figure size 640x480 with 1 Axes>"
      ]
     },
     "metadata": {},
     "output_type": "display_data"
    }
   ],
   "source": [
    "plt.scatter(smiles_heavy_catch[2][:,0], smiles_heavy_catch[3][:,0])\n",
    "plt.axline((0,0), slope = 1, c = \"black\")"
   ]
  },
  {
   "cell_type": "code",
   "execution_count": 76,
   "id": "2833006f-a986-4bb9-be8b-8b822c429769",
   "metadata": {},
   "outputs": [
    {
     "data": {
      "text/plain": [
       "<matplotlib.lines._AxLine at 0x149149e1b150>"
      ]
     },
     "execution_count": 76,
     "metadata": {},
     "output_type": "execute_result"
    },
    {
     "data": {
      "image/png": "[encoded data removed]",
      "text/plain": [
       "<Figure size 640x480 with 1 Axes>"
      ]
     },
     "metadata": {},
     "output_type": "display_data"
    }
   ],
   "source": [
    "plt.scatter(smiles_heavy_catch[2][:,1], smiles_heavy_catch[3][:,1])\n",
    "plt.axline((0,0), slope = 1, c = \"black\")"
   ]
  },
  {
   "cell_type": "code",
   "execution_count": 67,
   "id": "2ed76582-076c-4f92-ae04-683cee922377",
   "metadata": {},
   "outputs": [],
   "source": [
    "# np.sqrt(((std_targets.inverse_transform(equal_catch[2]) - std_targets.inverse_transform(equal_catch[3]))**2).mean(0))"
   ]
  },
  {
   "cell_type": "code",
   "execution_count": 77,
   "id": "2ed0c3d4-9967-4e39-919f-873f2e77f05c",
   "metadata": {},
   "outputs": [],
   "source": [
    "rdkit_heavy_catch = generate_data_copies(smiles_output, rdkit_output, smiles_features, rdkit_features, weight_smiles = 0)"
   ]
  },
  {
   "cell_type": "code",
   "execution_count": 78,
   "id": "69be1714-291b-410e-978a-49fcca4606db",
   "metadata": {},
   "outputs": [
    {
     "data": {
      "text/plain": [
       "<matplotlib.lines._AxLine at 0x149149e7ea90>"
      ]
     },
     "execution_count": 78,
     "metadata": {},
     "output_type": "execute_result"
    },
    {
     "data": {
      "image/png": "[encoded data removed]",
      "text/plain": [
       "<Figure size 640x480 with 1 Axes>"
      ]
     },
     "metadata": {},
     "output_type": "display_data"
    }
   ],
   "source": [
    "plt.scatter(rdkit_heavy_catch[2][:,0], rdkit_heavy_catch[3][:,0])\n",
    "plt.axline((0,0), slope = 1, c = \"black\")"
   ]
  },
  {
   "cell_type": "code",
   "execution_count": 79,
   "id": "08e9a0ff-59d7-4acd-9935-f92bc9ffe812",
   "metadata": {},
   "outputs": [
    {
     "data": {
      "text/plain": [
       "<matplotlib.lines._AxLine at 0x149149ce6a90>"
      ]
     },
     "execution_count": 79,
     "metadata": {},
     "output_type": "execute_result"
    },
    {
     "data": {
      "image/png": "[encoded data removed]",
      "text/plain": [
       "<Figure size 640x480 with 1 Axes>"
      ]
     },
     "metadata": {},
     "output_type": "display_data"
    }
   ],
   "source": [
    "plt.scatter(rdkit_heavy_catch[2][:,1], rdkit_heavy_catch[3][:,1])\n",
    "plt.axline((0,0), slope = 1, c = \"black\")"
   ]
  },
  {
   "cell_type": "code",
   "execution_count": 80,
   "id": "ceb44b2e-69cd-42ae-9a62-9c5d3a3ab011",
   "metadata": {},
   "outputs": [],
   "source": [
    "with open(\"..//Data//rdkit_heavy_catch.pickle\", \"wb\") as f: \n",
    "    pickle.dump(rdkit_heavy_catch, f)"
   ]
  }
 ],
 "metadata": {
  "kernelspec": {
   "display_name": "enkf",
   "language": "python",
   "name": "enkf"
  },
  "language_info": {
   "codemirror_mode": {
    "name": "ipython",
    "version": 3
   },
   "file_extension": ".py",
   "mimetype": "text/x-python",
   "name": "python",
   "nbconvert_exporter": "python",
   "pygments_lexer": "ipython3",
   "version": "3.11.3"
  }
 },
 "nbformat": 4,
 "nbformat_minor": 5
}
