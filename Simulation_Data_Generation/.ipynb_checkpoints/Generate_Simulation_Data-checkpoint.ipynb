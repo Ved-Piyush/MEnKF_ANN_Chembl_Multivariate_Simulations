{
 "cells": [
  {
   "cell_type": "code",
   "execution_count": 59,
   "id": "1fc07d4f-c165-482d-b675-edab35559ab4",
   "metadata": {},
   "outputs": [],
   "source": [
    "import tensorflow as tf\n",
    "import pandas as pd\n",
    "import numpy as np\n",
    "import pickle\n",
    "from sklearn.preprocessing import StandardScaler\n",
    "from scipy.stats import multivariate_normal as mvn"
   ]
  },
  {
   "cell_type": "code",
   "execution_count": 60,
   "id": "a26c4d5e-5621-4384-bcd8-9c189dc27054",
   "metadata": {},
   "outputs": [],
   "source": [
    "model_alogp =  tf.keras.models.load_model(\"..//Base_Models//Model_BOTH\")"
   ]
  },
  {
   "cell_type": "code",
   "execution_count": 61,
   "id": "545bb748-7f54-45d3-af3b-5b994ad781b8",
   "metadata": {},
   "outputs": [],
   "source": [
    "# read small mol phase 3 features\n",
    "small_mol_phase_3_features = pd.read_csv(\"..//Data/smiles_with_rdkit_with_small_phase_3_features.csv\")"
   ]
  },
  {
   "cell_type": "code",
   "execution_count": 62,
   "id": "d702f1e4-cf9c-4b2a-bb99-e2484a180ac4",
   "metadata": {},
   "outputs": [
    {
     "name": "stdout",
     "output_type": "stream",
     "text": [
      "1/1 [==============================] - 1s 966ms/step\n"
     ]
    }
   ],
   "source": [
    "small_mol_phase_3_preds = model_alogp.predict([small_mol_phase_3_features[\"Smiles\"].values, small_mol_phase_3_features.iloc[:,1:].values], batch_size = 1000)"
   ]
  },
  {
   "cell_type": "code",
   "execution_count": 63,
   "id": "841f1ba5-e817-4c8b-8a88-6ea170d9fc3d",
   "metadata": {},
   "outputs": [],
   "source": [
    "bottleneck_features = np.load(\"..//Data//small_mol_phase_3_features_for_both.npy\")"
   ]
  },
  {
   "cell_type": "code",
   "execution_count": 64,
   "id": "7bc56237-0600-4e0a-8baf-9e90e4efa219",
   "metadata": {},
   "outputs": [
    {
     "data": {
      "text/plain": [
       "(959, 64)"
      ]
     },
     "execution_count": 64,
     "metadata": {},
     "output_type": "execute_result"
    }
   ],
   "source": [
    "bottleneck_features.shape"
   ]
  },
  {
   "cell_type": "code",
   "execution_count": 65,
   "id": "b7b30d32-ca02-4ed2-b64e-9b070cf348f9",
   "metadata": {},
   "outputs": [],
   "source": [
    "smiles_features = bottleneck_features[:, :32]\n",
    "rdkit_features = bottleneck_features[:, 32:]"
   ]
  },
  {
   "cell_type": "code",
   "execution_count": 66,
   "id": "c25bf474-94ea-4d57-bd2e-cf2c4f820c93",
   "metadata": {},
   "outputs": [],
   "source": [
    "smiles_weights = model_alogp.get_weights()[-2][:32, :]\n",
    "rdkit_weights = model_alogp.get_weights()[-2][32:, :]"
   ]
  },
  {
   "cell_type": "code",
   "execution_count": 67,
   "id": "d023cf71-a3c9-48f7-9405-c0e20c27433d",
   "metadata": {},
   "outputs": [],
   "source": [
    "final_bias = model_alogp.get_weights()[-1].reshape(1,-1)"
   ]
  },
  {
   "cell_type": "code",
   "execution_count": 68,
   "id": "e4e4aa4c-9fa6-4ca5-b46d-8c008748a2c4",
   "metadata": {},
   "outputs": [],
   "source": [
    "smiles_output = smiles_features@smiles_weights"
   ]
  },
  {
   "cell_type": "code",
   "execution_count": 69,
   "id": "2f6d639b-8c35-41b0-9b19-113cdd33d82f",
   "metadata": {},
   "outputs": [],
   "source": [
    "rdkit_output = rdkit_features@rdkit_weights"
   ]
  },
  {
   "cell_type": "code",
   "execution_count": 70,
   "id": "b9ae0c4a-35be-4d02-b5aa-d59e8e90b096",
   "metadata": {},
   "outputs": [],
   "source": [
    "# pd.read_csv(\"..//Data//y_train.csv\")"
   ]
  },
  {
   "cell_type": "code",
   "execution_count": 71,
   "id": "dcb88216-abe4-4d34-b29c-80289be292ef",
   "metadata": {},
   "outputs": [],
   "source": [
    "y_train = pd.read_csv(\"..//Data//y_train.csv\")\n",
    "# y_train = pd.read_csv(\"..//Data/smiles_with_rdkit_with_small_phase_3_outputs.csv\").iloc[:,1:]"
   ]
  },
  {
   "cell_type": "code",
   "execution_count": 72,
   "id": "8b017f5b-f3ee-4e97-8abb-98f252a141bf",
   "metadata": {},
   "outputs": [
    {
     "name": "stderr",
     "output_type": "stream",
     "text": [
      "/home/statgrads/vpiyush2/.conda/envs/enkf/lib/python3.10/site-packages/sklearn/base.py:288: UserWarning: Trying to unpickle estimator StandardScaler from version 1.1.2 when using version 1.2.0. This might lead to breaking code or invalid results. Use at your own risk. For more info please refer to:\n",
      "https://scikit-learn.org/stable/model_persistence.html#security-maintainability-limitations\n",
      "  warnings.warn(\n"
     ]
    }
   ],
   "source": [
    "std_targets = pickle.load(open('..//Data//target_scaler.pkl', 'rb'))"
   ]
  },
  {
   "cell_type": "code",
   "execution_count": 73,
   "id": "638f2c9b-6849-4428-9bf9-854cfe3698ea",
   "metadata": {},
   "outputs": [],
   "source": [
    "# std_targets = StandardScaler()"
   ]
  },
  {
   "cell_type": "code",
   "execution_count": 74,
   "id": "af91794c-2b16-4686-b70e-4fef4517e6db",
   "metadata": {},
   "outputs": [],
   "source": [
    "y_train = std_targets.transform(y_train)"
   ]
  },
  {
   "cell_type": "code",
   "execution_count": 75,
   "id": "1f429f9c-760f-4d5e-9939-38cc57f5df33",
   "metadata": {},
   "outputs": [
    {
     "data": {
      "text/plain": [
       "array([[ 1.00000059, -0.30301738],\n",
       "       [-0.30301738,  1.00000059]])"
      ]
     },
     "execution_count": 75,
     "metadata": {},
     "output_type": "execute_result"
    }
   ],
   "source": [
    "np.cov(y_train.T)"
   ]
  },
  {
   "cell_type": "code",
   "execution_count": 76,
   "id": "33f21d05-5fbb-4371-840e-a44b54e604cb",
   "metadata": {},
   "outputs": [],
   "source": [
    "# np.cov(std_targets.inverse_transform(y_train).T)"
   ]
  },
  {
   "cell_type": "code",
   "execution_count": 77,
   "id": "ec172df6-4c56-4084-9bf9-a80a787243b1",
   "metadata": {},
   "outputs": [],
   "source": [
    "weighted_outs = weighted_outs + final_bias"
   ]
  },
  {
   "cell_type": "code",
   "execution_count": 78,
   "id": "a544590b-32ef-4232-97a7-22f24dcfdc85",
   "metadata": {},
   "outputs": [],
   "source": [
    "np.save(\"..//Data//smiles_0.8_rdkit_0.2_signal.npy\", weighted_outs)"
   ]
  },
  {
   "cell_type": "code",
   "execution_count": 79,
   "id": "0efa540a-d5e8-4d5d-82cf-35708bda0050",
   "metadata": {},
   "outputs": [],
   "source": [
    "R_t = np.array([[0.02, 0], [0, 0.02]])"
   ]
  },
  {
   "cell_type": "code",
   "execution_count": 80,
   "id": "6ce95477-e982-493b-9087-a54900204e06",
   "metadata": {},
   "outputs": [
    {
     "data": {
      "text/plain": [
       "(2, 2)"
      ]
     },
     "execution_count": 80,
     "metadata": {},
     "output_type": "execute_result"
    }
   ],
   "source": [
    "R_t.shape"
   ]
  },
  {
   "cell_type": "code",
   "execution_count": 88,
   "id": "a782ac75-b165-4aa0-a7db-2a26b72fd438",
   "metadata": {},
   "outputs": [],
   "source": [
    "def generate_data_copies(bottleneck_features, smiles_output, rdkit_output, weight_smiles, R_t = np.cov(y_train.T), reps = 50):\n",
    "    # weight_smiles = 0.8\n",
    "    weight_rdkit = 1-weight_smiles\n",
    "    # weighted_outs = (weight_smiles*smiles_output + weight_rdkit*rdkit_output) \n",
    "    weighted_outs = (weight_smiles*smiles_output + weight_rdkit*rdkit_output) \n",
    "    weighted_outs = weighted_outs + final_bias\n",
    "    error_mean = np.zeros((weighted_outs.shape[1],))\n",
    "    error_cov = R_t\n",
    "    catch = []\n",
    "    for i in range(0, reps):\n",
    "        mvn_error = mvn(error_mean, error_cov).rvs(weighted_outs.shape[0])\n",
    "        weighted_outs_with_error = weighted_outs + mvn_error\n",
    "        combo_y = np.hstack((weighted_outs, weighted_outs_with_error))\n",
    "        x_train, x_valid, y_train, y_valid = train_test_split(bottleneck_features, combo_y, test_size = 0.25, shuffle = True, \n",
    "                                                     random_state = 0)\n",
    "        catch.append([x_train, x_valid, y_train, y_valid])\n",
    "    return catch"
   ]
  },
  {
   "cell_type": "code",
   "execution_count": 89,
   "id": "17873346-3540-4034-9190-97f04afa4482",
   "metadata": {},
   "outputs": [
    {
     "ename": "TypeError",
     "evalue": "generate_data_copies() missing 1 required positional argument: 'weight_smiles'",
     "output_type": "error",
     "traceback": [
      "\u001b[0;31m---------------------------------------------------------------------------\u001b[0m",
      "\u001b[0;31mTypeError\u001b[0m                                 Traceback (most recent call last)",
      "Cell \u001b[0;32mIn[89], line 1\u001b[0m\n\u001b[0;32m----> 1\u001b[0m catch \u001b[38;5;241m=\u001b[39m \u001b[43mgenerate_data_copies\u001b[49m\u001b[43m(\u001b[49m\u001b[43msmiles_output\u001b[49m\u001b[43m,\u001b[49m\u001b[43m \u001b[49m\u001b[43mrdkit_output\u001b[49m\u001b[43m,\u001b[49m\u001b[43m \u001b[49m\u001b[38;5;241;43m0.8\u001b[39;49m\u001b[43m,\u001b[49m\u001b[43m \u001b[49m\u001b[43mR_t\u001b[49m\u001b[43m \u001b[49m\u001b[38;5;241;43m=\u001b[39;49m\u001b[43m \u001b[49m\u001b[43mnp\u001b[49m\u001b[38;5;241;43m.\u001b[39;49m\u001b[43mcov\u001b[49m\u001b[43m(\u001b[49m\u001b[43my_train\u001b[49m\u001b[38;5;241;43m.\u001b[39;49m\u001b[43mT\u001b[49m\u001b[43m)\u001b[49m\u001b[43m,\u001b[49m\u001b[43m \u001b[49m\u001b[43mreps\u001b[49m\u001b[43m \u001b[49m\u001b[38;5;241;43m=\u001b[39;49m\u001b[43m \u001b[49m\u001b[38;5;241;43m50\u001b[39;49m\u001b[43m)\u001b[49m\n",
      "\u001b[0;31mTypeError\u001b[0m: generate_data_copies() missing 1 required positional argument: 'weight_smiles'"
     ]
    }
   ],
   "source": [
    "catch = generate_data_copies(bottleneck_features,smiles_output, rdkit_output, 0.8, R_t = R_t, reps = 50)"
   ]
  },
  {
   "cell_type": "code",
   "execution_count": 84,
   "id": "602e8c53-66d1-49b8-a32c-47025df4553f",
   "metadata": {},
   "outputs": [],
   "source": [
    "# catch"
   ]
  },
  {
   "cell_type": "code",
   "execution_count": 86,
   "id": "1b2e5b57-73b6-439b-b3a4-c5321777544e",
   "metadata": {},
   "outputs": [],
   "source": [
    "with open(\"..//Data//smiles_to_rdkit_80_20.pickle\", \"wb\") as f: \n",
    "    pickle.dump(catch, f)"
   ]
  },
  {
   "cell_type": "code",
   "execution_count": 87,
   "id": "ce5e6560-25e9-4632-9f1f-143bbd86d44c",
   "metadata": {},
   "outputs": [],
   "source": [
    "# np.save(\"..//Data//smiles_0.8_rdkit_0.2_signal_plus_noise.npy\", weighted_outs_with_error)"
   ]
  }
 ],
 "metadata": {
  "kernelspec": {
   "display_name": "enkf",
   "language": "python",
   "name": "enkf"
  },
  "language_info": {
   "codemirror_mode": {
    "name": "ipython",
    "version": 3
   },
   "file_extension": ".py",
   "mimetype": "text/x-python",
   "name": "python",
   "nbconvert_exporter": "python",
   "pygments_lexer": "ipython3",
   "version": "3.10.8"
  }
 },
 "nbformat": 4,
 "nbformat_minor": 5
}
