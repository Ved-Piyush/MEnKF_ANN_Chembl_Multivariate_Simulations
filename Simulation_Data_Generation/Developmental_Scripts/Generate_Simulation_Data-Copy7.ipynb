{
 "cells": [
  {
   "cell_type": "code",
   "execution_count": 34,
   "id": "1fc07d4f-c165-482d-b675-edab35559ab4",
   "metadata": {},
   "outputs": [],
   "source": [
    "import tensorflow as tf\n",
    "import pandas as pd\n",
    "import numpy as np\n",
    "import pickle\n",
    "from sklearn.preprocessing import StandardScaler\n",
    "from scipy.stats import multivariate_normal as mvn"
   ]
  },
  {
   "cell_type": "code",
   "execution_count": 35,
   "id": "a26c4d5e-5621-4384-bcd8-9c189dc27054",
   "metadata": {},
   "outputs": [
    {
     "name": "stderr",
     "output_type": "stream",
     "text": [
      "2023-06-15 18:16:45.139736: I tensorflow/core/common_runtime/executor.cc:1197] [/device:CPU:0] (DEBUG INFO) Executor start aborting (this does not indicate an error and you can ignore this message): INVALID_ARGUMENT: You must feed a value for placeholder tensor 'gradients_split_2_grad_concat_split_2_split_dim' with dtype int32\n",
      "\t [[{{node gradients_split_2_grad_concat_split_2_split_dim}}]]\n",
      "2023-06-15 18:16:45.139831: I tensorflow/core/common_runtime/executor.cc:1197] [/device:CPU:0] (DEBUG INFO) Executor start aborting (this does not indicate an error and you can ignore this message): INVALID_ARGUMENT: You must feed a value for placeholder tensor 'gradients_split_grad_concat_split_split_dim' with dtype int32\n",
      "\t [[{{node gradients_split_grad_concat_split_split_dim}}]]\n",
      "2023-06-15 18:16:45.139884: I tensorflow/core/common_runtime/executor.cc:1197] [/device:CPU:0] (DEBUG INFO) Executor start aborting (this does not indicate an error and you can ignore this message): INVALID_ARGUMENT: You must feed a value for placeholder tensor 'gradients_split_1_grad_concat_split_1_split_dim' with dtype int32\n",
      "\t [[{{node gradients_split_1_grad_concat_split_1_split_dim}}]]\n",
      "2023-06-15 18:16:45.153817: I tensorflow/core/common_runtime/executor.cc:1197] [/device:CPU:0] (DEBUG INFO) Executor start aborting (this does not indicate an error and you can ignore this message): INVALID_ARGUMENT: You must feed a value for placeholder tensor 'gradients_split_2_grad_concat_split_2_split_dim' with dtype int32\n",
      "\t [[{{node gradients_split_2_grad_concat_split_2_split_dim}}]]\n",
      "2023-06-15 18:16:45.153893: I tensorflow/core/common_runtime/executor.cc:1197] [/device:CPU:0] (DEBUG INFO) Executor start aborting (this does not indicate an error and you can ignore this message): INVALID_ARGUMENT: You must feed a value for placeholder tensor 'gradients_split_grad_concat_split_split_dim' with dtype int32\n",
      "\t [[{{node gradients_split_grad_concat_split_split_dim}}]]\n",
      "2023-06-15 18:16:45.153946: I tensorflow/core/common_runtime/executor.cc:1197] [/device:CPU:0] (DEBUG INFO) Executor start aborting (this does not indicate an error and you can ignore this message): INVALID_ARGUMENT: You must feed a value for placeholder tensor 'gradients_split_1_grad_concat_split_1_split_dim' with dtype int32\n",
      "\t [[{{node gradients_split_1_grad_concat_split_1_split_dim}}]]\n",
      "2023-06-15 18:16:45.182276: I tensorflow/core/common_runtime/executor.cc:1197] [/device:CPU:0] (DEBUG INFO) Executor start aborting (this does not indicate an error and you can ignore this message): INVALID_ARGUMENT: You must feed a value for placeholder tensor 'gradients_split_2_grad_concat_split_2_split_dim' with dtype int32\n",
      "\t [[{{node gradients_split_2_grad_concat_split_2_split_dim}}]]\n",
      "2023-06-15 18:16:45.182360: I tensorflow/core/common_runtime/executor.cc:1197] [/device:CPU:0] (DEBUG INFO) Executor start aborting (this does not indicate an error and you can ignore this message): INVALID_ARGUMENT: You must feed a value for placeholder tensor 'gradients_split_grad_concat_split_split_dim' with dtype int32\n",
      "\t [[{{node gradients_split_grad_concat_split_split_dim}}]]\n",
      "2023-06-15 18:16:45.182414: I tensorflow/core/common_runtime/executor.cc:1197] [/device:CPU:0] (DEBUG INFO) Executor start aborting (this does not indicate an error and you can ignore this message): INVALID_ARGUMENT: You must feed a value for placeholder tensor 'gradients_split_1_grad_concat_split_1_split_dim' with dtype int32\n",
      "\t [[{{node gradients_split_1_grad_concat_split_1_split_dim}}]]\n",
      "2023-06-15 18:16:45.265317: I tensorflow/core/common_runtime/executor.cc:1197] [/device:CPU:0] (DEBUG INFO) Executor start aborting (this does not indicate an error and you can ignore this message): INVALID_ARGUMENT: You must feed a value for placeholder tensor 'gradients_split_2_grad_concat_split_2_split_dim' with dtype int32\n",
      "\t [[{{node gradients_split_2_grad_concat_split_2_split_dim}}]]\n",
      "2023-06-15 18:16:45.265397: I tensorflow/core/common_runtime/executor.cc:1197] [/device:CPU:0] (DEBUG INFO) Executor start aborting (this does not indicate an error and you can ignore this message): INVALID_ARGUMENT: You must feed a value for placeholder tensor 'gradients_split_grad_concat_split_split_dim' with dtype int32\n",
      "\t [[{{node gradients_split_grad_concat_split_split_dim}}]]\n",
      "2023-06-15 18:16:45.265452: I tensorflow/core/common_runtime/executor.cc:1197] [/device:CPU:0] (DEBUG INFO) Executor start aborting (this does not indicate an error and you can ignore this message): INVALID_ARGUMENT: You must feed a value for placeholder tensor 'gradients_split_1_grad_concat_split_1_split_dim' with dtype int32\n",
      "\t [[{{node gradients_split_1_grad_concat_split_1_split_dim}}]]\n",
      "2023-06-15 18:16:45.292379: I tensorflow/core/common_runtime/executor.cc:1197] [/device:CPU:0] (DEBUG INFO) Executor start aborting (this does not indicate an error and you can ignore this message): INVALID_ARGUMENT: You must feed a value for placeholder tensor 'gradients_split_2_grad_concat_split_2_split_dim' with dtype int32\n",
      "\t [[{{node gradients_split_2_grad_concat_split_2_split_dim}}]]\n",
      "2023-06-15 18:16:45.292453: I tensorflow/core/common_runtime/executor.cc:1197] [/device:CPU:0] (DEBUG INFO) Executor start aborting (this does not indicate an error and you can ignore this message): INVALID_ARGUMENT: You must feed a value for placeholder tensor 'gradients_split_grad_concat_split_split_dim' with dtype int32\n",
      "\t [[{{node gradients_split_grad_concat_split_split_dim}}]]\n",
      "2023-06-15 18:16:45.292505: I tensorflow/core/common_runtime/executor.cc:1197] [/device:CPU:0] (DEBUG INFO) Executor start aborting (this does not indicate an error and you can ignore this message): INVALID_ARGUMENT: You must feed a value for placeholder tensor 'gradients_split_1_grad_concat_split_1_split_dim' with dtype int32\n",
      "\t [[{{node gradients_split_1_grad_concat_split_1_split_dim}}]]\n",
      "2023-06-15 18:16:45.427205: I tensorflow/core/common_runtime/executor.cc:1197] [/device:CPU:0] (DEBUG INFO) Executor start aborting (this does not indicate an error and you can ignore this message): INVALID_ARGUMENT: You must feed a value for placeholder tensor 'gradients_split_2_grad_concat_split_2_split_dim' with dtype int32\n",
      "\t [[{{node gradients_split_2_grad_concat_split_2_split_dim}}]]\n",
      "2023-06-15 18:16:45.427279: I tensorflow/core/common_runtime/executor.cc:1197] [/device:CPU:0] (DEBUG INFO) Executor start aborting (this does not indicate an error and you can ignore this message): INVALID_ARGUMENT: You must feed a value for placeholder tensor 'gradients_split_grad_concat_split_split_dim' with dtype int32\n",
      "\t [[{{node gradients_split_grad_concat_split_split_dim}}]]\n",
      "2023-06-15 18:16:45.427337: I tensorflow/core/common_runtime/executor.cc:1197] [/device:CPU:0] (DEBUG INFO) Executor start aborting (this does not indicate an error and you can ignore this message): INVALID_ARGUMENT: You must feed a value for placeholder tensor 'gradients_split_1_grad_concat_split_1_split_dim' with dtype int32\n",
      "\t [[{{node gradients_split_1_grad_concat_split_1_split_dim}}]]\n",
      "2023-06-15 18:16:45.451552: I tensorflow/core/common_runtime/executor.cc:1197] [/device:CPU:0] (DEBUG INFO) Executor start aborting (this does not indicate an error and you can ignore this message): INVALID_ARGUMENT: You must feed a value for placeholder tensor 'gradients_split_2_grad_concat_split_2_split_dim' with dtype int32\n",
      "\t [[{{node gradients_split_2_grad_concat_split_2_split_dim}}]]\n",
      "2023-06-15 18:16:45.451627: I tensorflow/core/common_runtime/executor.cc:1197] [/device:CPU:0] (DEBUG INFO) Executor start aborting (this does not indicate an error and you can ignore this message): INVALID_ARGUMENT: You must feed a value for placeholder tensor 'gradients_split_grad_concat_split_split_dim' with dtype int32\n",
      "\t [[{{node gradients_split_grad_concat_split_split_dim}}]]\n",
      "2023-06-15 18:16:45.451682: I tensorflow/core/common_runtime/executor.cc:1197] [/device:CPU:0] (DEBUG INFO) Executor start aborting (this does not indicate an error and you can ignore this message): INVALID_ARGUMENT: You must feed a value for placeholder tensor 'gradients_split_1_grad_concat_split_1_split_dim' with dtype int32\n",
      "\t [[{{node gradients_split_1_grad_concat_split_1_split_dim}}]]\n",
      "2023-06-15 18:16:45.523287: I tensorflow/core/common_runtime/executor.cc:1197] [/device:CPU:0] (DEBUG INFO) Executor start aborting (this does not indicate an error and you can ignore this message): INVALID_ARGUMENT: You must feed a value for placeholder tensor 'gradients_split_2_grad_concat_split_2_split_dim' with dtype int32\n",
      "\t [[{{node gradients_split_2_grad_concat_split_2_split_dim}}]]\n",
      "2023-06-15 18:16:45.523365: I tensorflow/core/common_runtime/executor.cc:1197] [/device:CPU:0] (DEBUG INFO) Executor start aborting (this does not indicate an error and you can ignore this message): INVALID_ARGUMENT: You must feed a value for placeholder tensor 'gradients_split_grad_concat_split_split_dim' with dtype int32\n",
      "\t [[{{node gradients_split_grad_concat_split_split_dim}}]]\n",
      "2023-06-15 18:16:45.523419: I tensorflow/core/common_runtime/executor.cc:1197] [/device:CPU:0] (DEBUG INFO) Executor start aborting (this does not indicate an error and you can ignore this message): INVALID_ARGUMENT: You must feed a value for placeholder tensor 'gradients_split_1_grad_concat_split_1_split_dim' with dtype int32\n",
      "\t [[{{node gradients_split_1_grad_concat_split_1_split_dim}}]]\n",
      "2023-06-15 18:16:45.550564: I tensorflow/core/common_runtime/executor.cc:1197] [/device:CPU:0] (DEBUG INFO) Executor start aborting (this does not indicate an error and you can ignore this message): INVALID_ARGUMENT: You must feed a value for placeholder tensor 'gradients_split_2_grad_concat_split_2_split_dim' with dtype int32\n",
      "\t [[{{node gradients_split_2_grad_concat_split_2_split_dim}}]]\n",
      "2023-06-15 18:16:45.550642: I tensorflow/core/common_runtime/executor.cc:1197] [/device:CPU:0] (DEBUG INFO) Executor start aborting (this does not indicate an error and you can ignore this message): INVALID_ARGUMENT: You must feed a value for placeholder tensor 'gradients_split_grad_concat_split_split_dim' with dtype int32\n",
      "\t [[{{node gradients_split_grad_concat_split_split_dim}}]]\n",
      "2023-06-15 18:16:45.550696: I tensorflow/core/common_runtime/executor.cc:1197] [/device:CPU:0] (DEBUG INFO) Executor start aborting (this does not indicate an error and you can ignore this message): INVALID_ARGUMENT: You must feed a value for placeholder tensor 'gradients_split_1_grad_concat_split_1_split_dim' with dtype int32\n",
      "\t [[{{node gradients_split_1_grad_concat_split_1_split_dim}}]]\n",
      "2023-06-15 18:16:45.564632: I tensorflow/core/common_runtime/executor.cc:1197] [/device:CPU:0] (DEBUG INFO) Executor start aborting (this does not indicate an error and you can ignore this message): INVALID_ARGUMENT: You must feed a value for placeholder tensor 'gradients_split_2_grad_concat_split_2_split_dim' with dtype int32\n",
      "\t [[{{node gradients_split_2_grad_concat_split_2_split_dim}}]]\n",
      "2023-06-15 18:16:45.564708: I tensorflow/core/common_runtime/executor.cc:1197] [/device:CPU:0] (DEBUG INFO) Executor start aborting (this does not indicate an error and you can ignore this message): INVALID_ARGUMENT: You must feed a value for placeholder tensor 'gradients_split_grad_concat_split_split_dim' with dtype int32\n",
      "\t [[{{node gradients_split_grad_concat_split_split_dim}}]]\n",
      "2023-06-15 18:16:45.564763: I tensorflow/core/common_runtime/executor.cc:1197] [/device:CPU:0] (DEBUG INFO) Executor start aborting (this does not indicate an error and you can ignore this message): INVALID_ARGUMENT: You must feed a value for placeholder tensor 'gradients_split_1_grad_concat_split_1_split_dim' with dtype int32\n",
      "\t [[{{node gradients_split_1_grad_concat_split_1_split_dim}}]]\n",
      "2023-06-15 18:16:45.594989: I tensorflow/core/common_runtime/executor.cc:1197] [/device:CPU:0] (DEBUG INFO) Executor start aborting (this does not indicate an error and you can ignore this message): INVALID_ARGUMENT: You must feed a value for placeholder tensor 'gradients_split_2_grad_concat_split_2_split_dim' with dtype int32\n",
      "\t [[{{node gradients_split_2_grad_concat_split_2_split_dim}}]]\n",
      "2023-06-15 18:16:45.595062: I tensorflow/core/common_runtime/executor.cc:1197] [/device:CPU:0] (DEBUG INFO) Executor start aborting (this does not indicate an error and you can ignore this message): INVALID_ARGUMENT: You must feed a value for placeholder tensor 'gradients_split_grad_concat_split_split_dim' with dtype int32\n",
      "\t [[{{node gradients_split_grad_concat_split_split_dim}}]]\n",
      "2023-06-15 18:16:45.595115: I tensorflow/core/common_runtime/executor.cc:1197] [/device:CPU:0] (DEBUG INFO) Executor start aborting (this does not indicate an error and you can ignore this message): INVALID_ARGUMENT: You must feed a value for placeholder tensor 'gradients_split_1_grad_concat_split_1_split_dim' with dtype int32\n",
      "\t [[{{node gradients_split_1_grad_concat_split_1_split_dim}}]]\n",
      "2023-06-15 18:16:45.916833: I tensorflow/core/common_runtime/executor.cc:1197] [/device:CPU:0] (DEBUG INFO) Executor start aborting (this does not indicate an error and you can ignore this message): INVALID_ARGUMENT: You must feed a value for placeholder tensor 'gradients/split_2_grad/concat/split_2/split_dim' with dtype int32\n",
      "\t [[{{node gradients/split_2_grad/concat/split_2/split_dim}}]]\n",
      "2023-06-15 18:16:45.917845: I tensorflow/core/common_runtime/executor.cc:1197] [/device:CPU:0] (DEBUG INFO) Executor start aborting (this does not indicate an error and you can ignore this message): INVALID_ARGUMENT: You must feed a value for placeholder tensor 'gradients/split_grad/concat/split/split_dim' with dtype int32\n",
      "\t [[{{node gradients/split_grad/concat/split/split_dim}}]]\n",
      "2023-06-15 18:16:45.918602: I tensorflow/core/common_runtime/executor.cc:1197] [/device:CPU:0] (DEBUG INFO) Executor start aborting (this does not indicate an error and you can ignore this message): INVALID_ARGUMENT: You must feed a value for placeholder tensor 'gradients/split_1_grad/concat/split_1/split_dim' with dtype int32\n",
      "\t [[{{node gradients/split_1_grad/concat/split_1/split_dim}}]]\n"
     ]
    }
   ],
   "source": [
    "model_alogp =  tf.keras.models.load_model(\"..//Base_Models//Model_BOTH\")"
   ]
  },
  {
   "cell_type": "code",
   "execution_count": 36,
   "id": "545bb748-7f54-45d3-af3b-5b994ad781b8",
   "metadata": {},
   "outputs": [],
   "source": [
    "# read small mol phase 3 features\n",
    "small_mol_phase_3_features = pd.read_csv(\"..//Data/smiles_with_rdkit_with_small_phase_3_features.csv\")"
   ]
  },
  {
   "cell_type": "code",
   "execution_count": 37,
   "id": "d702f1e4-cf9c-4b2a-bb99-e2484a180ac4",
   "metadata": {},
   "outputs": [
    {
     "name": "stderr",
     "output_type": "stream",
     "text": [
      "2023-06-15 18:16:46.149077: I tensorflow/core/common_runtime/executor.cc:1197] [/device:CPU:0] (DEBUG INFO) Executor start aborting (this does not indicate an error and you can ignore this message): INVALID_ARGUMENT: You must feed a value for placeholder tensor 'gradients/split_2_grad/concat/split_2/split_dim' with dtype int32\n",
      "\t [[{{node gradients/split_2_grad/concat/split_2/split_dim}}]]\n",
      "2023-06-15 18:16:46.150117: I tensorflow/core/common_runtime/executor.cc:1197] [/device:CPU:0] (DEBUG INFO) Executor start aborting (this does not indicate an error and you can ignore this message): INVALID_ARGUMENT: You must feed a value for placeholder tensor 'gradients/split_grad/concat/split/split_dim' with dtype int32\n",
      "\t [[{{node gradients/split_grad/concat/split/split_dim}}]]\n",
      "2023-06-15 18:16:46.150967: I tensorflow/core/common_runtime/executor.cc:1197] [/device:CPU:0] (DEBUG INFO) Executor start aborting (this does not indicate an error and you can ignore this message): INVALID_ARGUMENT: You must feed a value for placeholder tensor 'gradients/split_1_grad/concat/split_1/split_dim' with dtype int32\n",
      "\t [[{{node gradients/split_1_grad/concat/split_1/split_dim}}]]\n"
     ]
    },
    {
     "name": "stdout",
     "output_type": "stream",
     "text": [
      "1/1 [==============================] - 1s 623ms/step\n"
     ]
    }
   ],
   "source": [
    "small_mol_phase_3_preds = model_alogp.predict([small_mol_phase_3_features[\"Smiles\"].values, small_mol_phase_3_features.iloc[:,1:].values], batch_size = 1000)"
   ]
  },
  {
   "cell_type": "code",
   "execution_count": 38,
   "id": "841f1ba5-e817-4c8b-8a88-6ea170d9fc3d",
   "metadata": {},
   "outputs": [],
   "source": [
    "bottleneck_features = np.load(\"..//Data//small_mol_phase_3_features_for_both.npy\")"
   ]
  },
  {
   "cell_type": "code",
   "execution_count": 39,
   "id": "7bc56237-0600-4e0a-8baf-9e90e4efa219",
   "metadata": {},
   "outputs": [
    {
     "data": {
      "text/plain": [
       "(959, 64)"
      ]
     },
     "execution_count": 39,
     "metadata": {},
     "output_type": "execute_result"
    }
   ],
   "source": [
    "bottleneck_features.shape"
   ]
  },
  {
   "cell_type": "code",
   "execution_count": 40,
   "id": "b7b30d32-ca02-4ed2-b64e-9b070cf348f9",
   "metadata": {},
   "outputs": [],
   "source": [
    "smiles_features = bottleneck_features[:, :32]\n",
    "rdkit_features = bottleneck_features[:, 32:]"
   ]
  },
  {
   "cell_type": "code",
   "execution_count": 41,
   "id": "c25bf474-94ea-4d57-bd2e-cf2c4f820c93",
   "metadata": {},
   "outputs": [],
   "source": [
    "smiles_weights = model_alogp.get_weights()[-2][:32, :]\n",
    "rdkit_weights = model_alogp.get_weights()[-2][32:, :]"
   ]
  },
  {
   "cell_type": "code",
   "execution_count": 42,
   "id": "d023cf71-a3c9-48f7-9405-c0e20c27433d",
   "metadata": {},
   "outputs": [],
   "source": [
    "final_bias = model_alogp.get_weights()[-1].reshape(1,-1)"
   ]
  },
  {
   "cell_type": "code",
   "execution_count": 43,
   "id": "e4e4aa4c-9fa6-4ca5-b46d-8c008748a2c4",
   "metadata": {},
   "outputs": [],
   "source": [
    "smiles_output = smiles_features@smiles_weights"
   ]
  },
  {
   "cell_type": "code",
   "execution_count": 44,
   "id": "2f6d639b-8c35-41b0-9b19-113cdd33d82f",
   "metadata": {},
   "outputs": [],
   "source": [
    "rdkit_output = rdkit_features@rdkit_weights"
   ]
  },
  {
   "cell_type": "code",
   "execution_count": 45,
   "id": "2e4185b1-c194-4754-9cc5-f95c7ecdb710",
   "metadata": {},
   "outputs": [
    {
     "data": {
      "text/plain": [
       "array([[-0.3888892 , -0.03492932],\n",
       "       [-0.9985395 , -0.9654727 ],\n",
       "       [-0.18326166, -0.7627395 ],\n",
       "       ...,\n",
       "       [ 0.28031182,  0.49819827],\n",
       "       [ 0.5116189 , -0.14718807],\n",
       "       [-0.5595869 ,  1.3414242 ]], dtype=float32)"
      ]
     },
     "execution_count": 45,
     "metadata": {},
     "output_type": "execute_result"
    }
   ],
   "source": [
    "(smiles_output + 0.5*final_bias) + (smiles_output + 0.5*final_bias)"
   ]
  },
  {
   "cell_type": "code",
   "execution_count": 46,
   "id": "9954c306-7a6f-42ed-b11b-cb82304b174f",
   "metadata": {},
   "outputs": [
    {
     "data": {
      "text/plain": [
       "array([[ 2.3886687e-03, -3.1844121e-01],\n",
       "       [ 4.0491667e-01, -2.8562254e-01],\n",
       "       [ 2.2429219e-01, -1.2114938e+00],\n",
       "       ...,\n",
       "       [-2.1914113e+00,  2.4811475e-01],\n",
       "       [ 2.6189165e+00, -5.0469714e-01],\n",
       "       [-5.5551714e-01,  1.1706109e+00]], dtype=float32)"
      ]
     },
     "execution_count": 46,
     "metadata": {},
     "output_type": "execute_result"
    }
   ],
   "source": [
    "small_mol_phase_3_preds"
   ]
  },
  {
   "cell_type": "code",
   "execution_count": 47,
   "id": "b9ae0c4a-35be-4d02-b5aa-d59e8e90b096",
   "metadata": {},
   "outputs": [],
   "source": [
    "# pd.read_csv(\"..//Data//y_train.csv\")"
   ]
  },
  {
   "cell_type": "code",
   "execution_count": 48,
   "id": "dcb88216-abe4-4d34-b29c-80289be292ef",
   "metadata": {},
   "outputs": [],
   "source": [
    "y_train = pd.read_csv(\"..//Data//y_train.csv\")\n",
    "# y_train = pd.read_csv(\"..//Data/smiles_with_rdkit_with_small_phase_3_outputs.csv\").iloc[:,1:]"
   ]
  },
  {
   "cell_type": "code",
   "execution_count": 49,
   "id": "8b017f5b-f3ee-4e97-8abb-98f252a141bf",
   "metadata": {},
   "outputs": [
    {
     "name": "stderr",
     "output_type": "stream",
     "text": [
      "/home/statgrads/vpiyush2/.conda/envs/enkf/lib/python3.11/site-packages/sklearn/base.py:318: UserWarning: Trying to unpickle estimator StandardScaler from version 1.1.2 when using version 1.2.2. This might lead to breaking code or invalid results. Use at your own risk. For more info please refer to:\n",
      "https://scikit-learn.org/stable/model_persistence.html#security-maintainability-limitations\n",
      "  warnings.warn(\n"
     ]
    }
   ],
   "source": [
    "std_targets = pickle.load(open('..//Data//target_scaler.pkl', 'rb'))"
   ]
  },
  {
   "cell_type": "code",
   "execution_count": 50,
   "id": "638f2c9b-6849-4428-9bf9-854cfe3698ea",
   "metadata": {},
   "outputs": [],
   "source": [
    "# std_targets = StandardScaler()"
   ]
  },
  {
   "cell_type": "code",
   "execution_count": 51,
   "id": "af91794c-2b16-4686-b70e-4fef4517e6db",
   "metadata": {},
   "outputs": [],
   "source": [
    "y_train = std_targets.transform(y_train)"
   ]
  },
  {
   "cell_type": "code",
   "execution_count": 52,
   "id": "1f429f9c-760f-4d5e-9939-38cc57f5df33",
   "metadata": {},
   "outputs": [
    {
     "data": {
      "text/plain": [
       "array([[ 1.00000059, -0.30301738],\n",
       "       [-0.30301738,  1.00000059]])"
      ]
     },
     "execution_count": 52,
     "metadata": {},
     "output_type": "execute_result"
    }
   ],
   "source": [
    "np.cov(y_train.T)"
   ]
  },
  {
   "cell_type": "code",
   "execution_count": 53,
   "id": "4779de9a-590b-405a-84ca-5d9fbab1c7ca",
   "metadata": {},
   "outputs": [
    {
     "data": {
      "text/plain": [
       "array([[ 1.       , -0.3030172],\n",
       "       [-0.3030172,  1.       ]])"
      ]
     },
     "execution_count": 53,
     "metadata": {},
     "output_type": "execute_result"
    }
   ],
   "source": [
    "np.corrcoef(y_train.T)"
   ]
  },
  {
   "cell_type": "code",
   "execution_count": 54,
   "id": "33f21d05-5fbb-4371-840e-a44b54e604cb",
   "metadata": {},
   "outputs": [],
   "source": [
    "# np.cov(std_targets.inverse_transform(y_train).T)"
   ]
  },
  {
   "cell_type": "code",
   "execution_count": 55,
   "id": "ec172df6-4c56-4084-9bf9-a80a787243b1",
   "metadata": {},
   "outputs": [],
   "source": [
    "# weighted_outs = weighted_outs + final_bias"
   ]
  },
  {
   "cell_type": "code",
   "execution_count": 56,
   "id": "a544590b-32ef-4232-97a7-22f24dcfdc85",
   "metadata": {},
   "outputs": [],
   "source": [
    "# np.save(\"..//Data//smiles_0.7_rdkit_0.3_signal.npy\", weighted_outs)"
   ]
  },
  {
   "cell_type": "code",
   "execution_count": 57,
   "id": "38d27162-f33f-448c-b94e-28465e94ed6e",
   "metadata": {},
   "outputs": [],
   "source": [
    "covariance =  -0.3*0.2"
   ]
  },
  {
   "cell_type": "code",
   "execution_count": 58,
   "id": "0efa540a-d5e8-4d5d-82cf-35708bda0050",
   "metadata": {},
   "outputs": [],
   "source": [
    "R_t = np.array([[0.3,  covariance], [covariance, 0.3]])"
   ]
  },
  {
   "cell_type": "code",
   "execution_count": 59,
   "id": "6ce95477-e982-493b-9087-a54900204e06",
   "metadata": {},
   "outputs": [
    {
     "data": {
      "text/plain": [
       "(2, 2)"
      ]
     },
     "execution_count": 59,
     "metadata": {},
     "output_type": "execute_result"
    }
   ],
   "source": [
    "R_t.shape"
   ]
  },
  {
   "cell_type": "code",
   "execution_count": 60,
   "id": "c56ff1e4-8344-4925-bb64-7888818e00df",
   "metadata": {},
   "outputs": [
    {
     "data": {
      "text/plain": [
       "array([[ 0.3 , -0.06],\n",
       "       [-0.06,  0.3 ]])"
      ]
     },
     "execution_count": 60,
     "metadata": {},
     "output_type": "execute_result"
    }
   ],
   "source": [
    "R_t"
   ]
  },
  {
   "cell_type": "code",
   "execution_count": 61,
   "id": "7e6c1348-6fc1-4973-afc4-57317cbfa9a1",
   "metadata": {},
   "outputs": [],
   "source": [
    "# tf.linalg.cholesky(R_t).numpy()@tf.linalg.cholesky(R_t).numpy().T"
   ]
  },
  {
   "cell_type": "code",
   "execution_count": 62,
   "id": "00e8d003-36ad-48f7-a6bd-10144726b685",
   "metadata": {},
   "outputs": [],
   "source": [
    "# R_t"
   ]
  },
  {
   "cell_type": "code",
   "execution_count": 63,
   "id": "aa18f6d3-bfe7-4c09-816b-dbeafb5e4572",
   "metadata": {},
   "outputs": [],
   "source": [
    "from sklearn.model_selection import train_test_split"
   ]
  },
  {
   "cell_type": "code",
   "execution_count": 64,
   "id": "a782ac75-b165-4aa0-a7db-2a26b72fd438",
   "metadata": {},
   "outputs": [],
   "source": [
    "def generate_data_copies(smiles_output, weight_smiles, R_t = np.cov(y_train.T), reps = 50):\n",
    "    # weight_smiles = 0.8\n",
    "    # weight_rdkit = 1-weight_smiles\n",
    "    # weighted_outs = (weight_smiles*smiles_output + weight_rdkit*rdkit_output) \n",
    "    weighted_outs = (weight_smiles*smiles_output + weight_smiles*smiles_output) \n",
    "    weighted_outs = weighted_outs + final_bias\n",
    "    error_mean = np.zeros((weighted_outs.shape[1],))\n",
    "    error_cov = R_t\n",
    "    catch = []\n",
    "    for i in range(0, reps):\n",
    "        mvn_error = mvn(error_mean, error_cov).rvs(weighted_outs.shape[0])\n",
    "        weighted_outs_with_error = weighted_outs + mvn_error\n",
    "        combo_y = np.hstack((weighted_outs, weighted_outs_with_error))\n",
    "        x_train, x_valid, y_train, y_valid = train_test_split(bottleneck_features, combo_y, test_size = 0.25, shuffle = True, \n",
    "                                                     random_state = None)\n",
    "        catch.append([x_train, x_valid, y_train, y_valid])\n",
    "    return catch"
   ]
  },
  {
   "cell_type": "code",
   "execution_count": 65,
   "id": "17873346-3540-4034-9190-97f04afa4482",
   "metadata": {},
   "outputs": [],
   "source": [
    "catch = generate_data_copies(smiles_output, 0.5, R_t = R_t, reps = 50)"
   ]
  },
  {
   "cell_type": "code",
   "execution_count": 96,
   "id": "602e8c53-66d1-49b8-a32c-47025df4553f",
   "metadata": {},
   "outputs": [],
   "source": [
    "# catch[0][3]"
   ]
  },
  {
   "cell_type": "code",
   "execution_count": 66,
   "id": "1b2e5b57-73b6-439b-b3a4-c5321777544e",
   "metadata": {},
   "outputs": [],
   "source": [
    "with open(\"..//Data//changepoint_50_50_smiles.pickle\", \"wb\") as f: \n",
    "    pickle.dump(catch, f)"
   ]
  },
  {
   "cell_type": "code",
   "execution_count": 98,
   "id": "ce5e6560-25e9-4632-9f1f-143bbd86d44c",
   "metadata": {},
   "outputs": [],
   "source": [
    "# np.save(\"..//Data//smiles_0.8_rdkit_0.2_signal_plus_noise.npy\", weighted_outs_with_error)"
   ]
  }
 ],
 "metadata": {
  "kernelspec": {
   "display_name": "enkf",
   "language": "python",
   "name": "enkf"
  },
  "language_info": {
   "codemirror_mode": {
    "name": "ipython",
    "version": 3
   },
   "file_extension": ".py",
   "mimetype": "text/x-python",
   "name": "python",
   "nbconvert_exporter": "python",
   "pygments_lexer": "ipython3",
   "version": "3.11.3"
  }
 },
 "nbformat": 4,
 "nbformat_minor": 5
}
