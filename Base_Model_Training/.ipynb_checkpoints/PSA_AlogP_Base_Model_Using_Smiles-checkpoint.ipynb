{
 "cells": [
  {
   "cell_type": "code",
   "execution_count": 16,
   "id": "df9c8395-c525-42ef-a10a-26197b948303",
   "metadata": {},
   "outputs": [],
   "source": [
    "import tensorflow as tf\n",
    "import pandas as pd"
   ]
  },
  {
   "cell_type": "code",
   "execution_count": 17,
   "id": "524ffbd6-fb9d-477b-9e25-3d762060ad1f",
   "metadata": {},
   "outputs": [],
   "source": [
    "x_train = pd.read_csv(\"..//Data//x_train.csv\")\n",
    "x_valid = pd.read_csv(\"..//Data//x_valid.csv\")"
   ]
  },
  {
   "cell_type": "code",
   "execution_count": 18,
   "id": "08b4672a-1a79-4a4a-a23e-4e9718556521",
   "metadata": {},
   "outputs": [],
   "source": [
    "y_train = pd.read_csv(\"..//Data//y_train.csv\")\n",
    "y_valid = pd.read_csv(\"..//Data//y_valid.csv\")"
   ]
  },
  {
   "cell_type": "code",
   "execution_count": 19,
   "id": "5ac3002d-c12c-4922-aa53-e1a1f41b2de0",
   "metadata": {},
   "outputs": [
    {
     "data": {
      "text/html": [
       "<div>\n",
       "<style scoped>\n",
       "    .dataframe tbody tr th:only-of-type {\n",
       "        vertical-align: middle;\n",
       "    }\n",
       "\n",
       "    .dataframe tbody tr th {\n",
       "        vertical-align: top;\n",
       "    }\n",
       "\n",
       "    .dataframe thead th {\n",
       "        text-align: right;\n",
       "    }\n",
       "</style>\n",
       "<table border=\"1\" class=\"dataframe\">\n",
       "  <thead>\n",
       "    <tr style=\"text-align: right;\">\n",
       "      <th></th>\n",
       "      <th>AlogP</th>\n",
       "      <th>Polar Surface Area</th>\n",
       "    </tr>\n",
       "  </thead>\n",
       "  <tbody>\n",
       "    <tr>\n",
       "      <th>0</th>\n",
       "      <td>1.79</td>\n",
       "      <td>80.75</td>\n",
       "    </tr>\n",
       "    <tr>\n",
       "      <th>1</th>\n",
       "      <td>5.24</td>\n",
       "      <td>88.13</td>\n",
       "    </tr>\n",
       "    <tr>\n",
       "      <th>2</th>\n",
       "      <td>2.27</td>\n",
       "      <td>118.16</td>\n",
       "    </tr>\n",
       "    <tr>\n",
       "      <th>3</th>\n",
       "      <td>1.71</td>\n",
       "      <td>60.77</td>\n",
       "    </tr>\n",
       "    <tr>\n",
       "      <th>4</th>\n",
       "      <td>4.85</td>\n",
       "      <td>94.17</td>\n",
       "    </tr>\n",
       "  </tbody>\n",
       "</table>\n",
       "</div>"
      ],
      "text/plain": [
       "   AlogP  Polar Surface Area\n",
       "0   1.79               80.75\n",
       "1   5.24               88.13\n",
       "2   2.27              118.16\n",
       "3   1.71               60.77\n",
       "4   4.85               94.17"
      ]
     },
     "execution_count": 19,
     "metadata": {},
     "output_type": "execute_result"
    }
   ],
   "source": [
    "y_train.head()"
   ]
  },
  {
   "cell_type": "code",
   "execution_count": 20,
   "id": "66494472-e7b1-4cf2-afa1-5e2c2c39c58c",
   "metadata": {},
   "outputs": [
    {
     "data": {
      "text/plain": [
       "AlogP                 0\n",
       "Polar Surface Area    0\n",
       "dtype: int64"
      ]
     },
     "execution_count": 20,
     "metadata": {},
     "output_type": "execute_result"
    }
   ],
   "source": [
    "y_train.isnull().sum()"
   ]
  },
  {
   "cell_type": "code",
   "execution_count": 21,
   "id": "4f74542f-87ef-445d-b0e4-a9b3eef812fb",
   "metadata": {},
   "outputs": [],
   "source": [
    "# y_train_psa = y_train.iloc[:,1].values\n",
    "# y_valid_psa = y_valid.iloc[:,1].values"
   ]
  },
  {
   "cell_type": "code",
   "execution_count": 22,
   "id": "f0cc8bed-485f-453c-9888-951e57b783ee",
   "metadata": {},
   "outputs": [],
   "source": [
    "input_layer_smiles = tf.keras.layers.Input(shape = (1,), dtype=tf.string)\n",
    "text_vec = tf.keras.layers.TextVectorization(standardize=None,\n",
    "    split='character', output_mode = \"int\")\n",
    "text_vec.adapt(x_train[\"Smiles\"], batch_size = 100000)"
   ]
  },
  {
   "cell_type": "code",
   "execution_count": 23,
   "id": "caa38b69-3aec-4cb0-8fb1-d9381290bf43",
   "metadata": {},
   "outputs": [],
   "source": [
    "text_vec_output = text_vec(input_layer_smiles)"
   ]
  },
  {
   "cell_type": "code",
   "execution_count": 24,
   "id": "73d51772-83d7-4e43-9e01-26b732331fe1",
   "metadata": {},
   "outputs": [],
   "source": [
    "embedding_layer = tf.keras.layers.Embedding(len(text_vec.get_vocabulary()), 512)\n",
    "embedding_output = embedding_layer(text_vec_output)\n",
    "lstm_layer = tf.keras.layers.LSTM(256)\n",
    "lstm_output = lstm_layer(embedding_output)"
   ]
  },
  {
   "cell_type": "code",
   "execution_count": 25,
   "id": "46ed8cba-f622-40c1-8a6b-7f1c9c02532c",
   "metadata": {},
   "outputs": [],
   "source": [
    "# batch_norm_layer_smiles = tf.keras.layers.BatchNormalization()"
   ]
  },
  {
   "cell_type": "code",
   "execution_count": 26,
   "id": "138052e6-6f0d-4278-a5f2-9106a6817946",
   "metadata": {},
   "outputs": [],
   "source": [
    "# batch_norm_smiles_out = batch_norm_layer_smiles(lstm_output)"
   ]
  },
  {
   "cell_type": "code",
   "execution_count": 27,
   "id": "974b66c3-a2f1-48ad-9033-212566ff8e2b",
   "metadata": {},
   "outputs": [],
   "source": [
    "bottleneck_layer_smiles = tf.keras.layers.Dense(32)"
   ]
  },
  {
   "cell_type": "code",
   "execution_count": 28,
   "id": "aa884805-0029-4317-9d9c-5d8efeacefde",
   "metadata": {},
   "outputs": [],
   "source": [
    "bottleneck_layer_smiles_out = bottleneck_layer_smiles(lstm_output)"
   ]
  },
  {
   "cell_type": "code",
   "execution_count": 29,
   "id": "345ad136-b2d8-42d9-b113-4e72c94a2b7a",
   "metadata": {},
   "outputs": [],
   "source": [
    "# dropout_layer_smiles_output = tf.keras.layers.Dropout(0.5)(bottleneck_layer_smiles_out)"
   ]
  },
  {
   "cell_type": "code",
   "execution_count": 30,
   "id": "4b6081cc-42b9-4169-acc5-170c7687d49e",
   "metadata": {},
   "outputs": [],
   "source": [
    "# dropout_layer_smiles_output"
   ]
  },
  {
   "cell_type": "code",
   "execution_count": 31,
   "id": "5def9bc1-49c2-4b30-a03a-a69e5dbdad96",
   "metadata": {},
   "outputs": [],
   "source": [
    "# rdkit_shape = int(x_train.iloc[:,1:].shape[1])"
   ]
  },
  {
   "cell_type": "code",
   "execution_count": 32,
   "id": "6bb8e3f5-ca53-4498-be59-4c032cafc6ce",
   "metadata": {},
   "outputs": [],
   "source": [
    "# input_layer_rdkit = tf.keras.layers.Input(shape = (rdkit_shape,))"
   ]
  },
  {
   "cell_type": "code",
   "execution_count": 33,
   "id": "4b2dbddb-2392-49c8-95cd-6c2c36571092",
   "metadata": {},
   "outputs": [],
   "source": [
    "# batch_norm_layer_rdkit = tf.keras.layers.BatchNormalization()"
   ]
  },
  {
   "cell_type": "code",
   "execution_count": 34,
   "id": "8f7074c8-7089-4388-9522-9a5457d7c6ee",
   "metadata": {},
   "outputs": [],
   "source": [
    "# batch_norm_rdkit_out = batch_norm_layer_rdkit(input_layer_rdkit)"
   ]
  },
  {
   "cell_type": "code",
   "execution_count": 35,
   "id": "48020314-c086-41f8-9c3e-93b8c5bcc2a6",
   "metadata": {},
   "outputs": [],
   "source": [
    "# bottleneck_layer_rdkit = tf.keras.layers.Dense(32)"
   ]
  },
  {
   "cell_type": "code",
   "execution_count": 36,
   "id": "5f896f6d-8cdf-4ac8-8591-c5e1a6133832",
   "metadata": {},
   "outputs": [],
   "source": [
    "# bottleneck_layer_rdkit_out = bottleneck_layer_rdkit(input_layer_rdkit)"
   ]
  },
  {
   "cell_type": "code",
   "execution_count": 37,
   "id": "83555f04-ac66-4303-9acb-8b1821be61c2",
   "metadata": {},
   "outputs": [],
   "source": [
    "# dropout_layer_rdkit_out = tf.keras.layers.Dropout(0.5)(bottleneck_layer_rdkit_out)"
   ]
  },
  {
   "cell_type": "code",
   "execution_count": 38,
   "id": "29c896eb-6485-47bc-8a27-adfb12a88bd4",
   "metadata": {},
   "outputs": [],
   "source": [
    "# concatenated_outputs = tf.keras.layers.Concatenate()([bottleneck_layer_smiles_out, bottleneck_layer_rdkit_out])"
   ]
  },
  {
   "cell_type": "code",
   "execution_count": 39,
   "id": "f004dba9-d94a-4cf4-9d07-59e6951a4963",
   "metadata": {},
   "outputs": [],
   "source": [
    "final_pred_layer = tf.keras.layers.Dense(2)"
   ]
  },
  {
   "cell_type": "code",
   "execution_count": 40,
   "id": "e2cf26c8-3aaf-4771-b362-4b1035b43ea5",
   "metadata": {},
   "outputs": [],
   "source": [
    "final_pred_output = final_pred_layer(bottleneck_layer_smiles_out)"
   ]
  },
  {
   "cell_type": "code",
   "execution_count": 41,
   "id": "342b5760-3512-4ec4-bf98-46ad738409a0",
   "metadata": {},
   "outputs": [],
   "source": [
    "model_both = tf.keras.models.Model(input_layer_smiles, final_pred_output)"
   ]
  },
  {
   "cell_type": "code",
   "execution_count": 42,
   "id": "1dd08c53-10ea-4a88-a2b0-089bedd03c01",
   "metadata": {},
   "outputs": [],
   "source": [
    "model_both.compile(loss = tf.keras.losses.MeanSquaredError(), \n",
    "                    optimizer = tf.keras.optimizers.Adam(1e-3), \n",
    "                    metrics = tf.keras.metrics.RootMeanSquaredError())"
   ]
  },
  {
   "cell_type": "code",
   "execution_count": 43,
   "id": "9faf3191-121e-4972-bb5c-27a3780a5fbb",
   "metadata": {},
   "outputs": [
    {
     "name": "stdout",
     "output_type": "stream",
     "text": [
      "Model: \"model\"\n",
      "_________________________________________________________________\n",
      " Layer (type)                Output Shape              Param #   \n",
      "=================================================================\n",
      " input_3 (InputLayer)        [(None, 1)]               0         \n",
      "                                                                 \n",
      " text_vectorization_2 (TextV  (None, None)             0         \n",
      " ectorization)                                                   \n",
      "                                                                 \n",
      " embedding (Embedding)       (None, None, 512)         22016     \n",
      "                                                                 \n",
      " lstm (LSTM)                 (None, 256)               787456    \n",
      "                                                                 \n",
      " dense (Dense)               (None, 32)                8224      \n",
      "                                                                 \n",
      " dense_1 (Dense)             (None, 2)                 66        \n",
      "                                                                 \n",
      "=================================================================\n",
      "Total params: 817,762\n",
      "Trainable params: 817,762\n",
      "Non-trainable params: 0\n",
      "_________________________________________________________________\n"
     ]
    }
   ],
   "source": [
    "model_both.summary()"
   ]
  },
  {
   "cell_type": "code",
   "execution_count": 44,
   "id": "8488b9ad-d999-44d8-8e70-09b7e4764f58",
   "metadata": {},
   "outputs": [],
   "source": [
    "import numpy as np"
   ]
  },
  {
   "cell_type": "code",
   "execution_count": null,
   "id": "dc152a4d-c4e8-4221-bed4-6a8aa269c505",
   "metadata": {},
   "outputs": [],
   "source": [
    "# x_train.iloc[:,1:].isnull().sum().sum()"
   ]
  },
  {
   "cell_type": "code",
   "execution_count": 45,
   "id": "92c30e5c-8edc-48bb-b77d-7a94d36bf5c1",
   "metadata": {},
   "outputs": [
    {
     "data": {
      "text/plain": [
       "0"
      ]
     },
     "execution_count": 45,
     "metadata": {},
     "output_type": "execute_result"
    }
   ],
   "source": [
    "x_train.isnull().sum().sum()"
   ]
  },
  {
   "cell_type": "code",
   "execution_count": 46,
   "id": "52bd4ce2-b838-4764-9d32-7bf951bdde0a",
   "metadata": {},
   "outputs": [],
   "source": [
    "from sklearn.preprocessing import StandardScaler"
   ]
  },
  {
   "cell_type": "code",
   "execution_count": 47,
   "id": "97b79ca7-a076-4155-ab75-e1746e31ac47",
   "metadata": {},
   "outputs": [],
   "source": [
    "std_targets = StandardScaler()"
   ]
  },
  {
   "cell_type": "code",
   "execution_count": 48,
   "id": "4414f09d-9a33-4034-b81f-eebc55bd987a",
   "metadata": {},
   "outputs": [],
   "source": [
    "y_train = std_targets.fit_transform(y_train)"
   ]
  },
  {
   "cell_type": "code",
   "execution_count": 49,
   "id": "61fe7b47-9830-4668-93ff-2e940ffd0feb",
   "metadata": {},
   "outputs": [],
   "source": [
    "y_valid = std_targets.transform(y_valid)"
   ]
  },
  {
   "cell_type": "code",
   "execution_count": 50,
   "id": "754f8d37-2809-406d-bb99-fb3160f1e5da",
   "metadata": {},
   "outputs": [
    {
     "data": {
      "text/plain": [
       "(564815, 2)"
      ]
     },
     "execution_count": 50,
     "metadata": {},
     "output_type": "execute_result"
    }
   ],
   "source": [
    "y_valid.shape"
   ]
  },
  {
   "cell_type": "code",
   "execution_count": 51,
   "id": "ddd4a3aa-1815-4e17-add6-cc63c97120d0",
   "metadata": {},
   "outputs": [
    {
     "data": {
      "text/plain": [
       "array([0.99959917, 0.9982202 ])"
      ]
     },
     "execution_count": 51,
     "metadata": {},
     "output_type": "execute_result"
    }
   ],
   "source": [
    "np.sqrt(((y_valid - y_valid.mean(0))**2).mean(0))"
   ]
  },
  {
   "cell_type": "code",
   "execution_count": 52,
   "id": "adcd3e1e-deb9-4b65-ad42-c97f698ba8a6",
   "metadata": {},
   "outputs": [],
   "source": [
    "import pickle"
   ]
  },
  {
   "cell_type": "code",
   "execution_count": 53,
   "id": "73405c31-bd77-4c32-b684-142800d25f60",
   "metadata": {},
   "outputs": [],
   "source": [
    "pickle.dump(std_targets, open('..//Data//target_scaler.pkl', 'wb'))"
   ]
  },
  {
   "cell_type": "code",
   "execution_count": null,
   "id": "b241c830-3691-4b42-b6c0-ceb72323e9a8",
   "metadata": {},
   "outputs": [],
   "source": [
    "history = model_both.fit(x_train[\"Smiles\"].values, y_train, \n",
    "          batch_size = 7500, epochs = 10000, verbose = 1,\n",
    "          validation_data=(x_valid[\"Smiles\"].values, y_valid),\n",
    "          # validation_split = 0.25,\n",
    "            callbacks = tf.keras.callbacks.EarlyStopping(monitor = \"val_loss\", patience = 10, restore_best_weights=True,\n",
    "                                                       mode = \"min\"), \n",
    "         validation_batch_size = 7500)"
   ]
  },
  {
   "cell_type": "code",
   "execution_count": null,
   "id": "30ba8135-a393-4be5-b221-636c23822df8",
   "metadata": {},
   "outputs": [],
   "source": [
    "model_both.save(\"..//Base_Models//Model_BOTH_Smiles\")"
   ]
  },
  {
   "cell_type": "code",
   "execution_count": 89,
   "id": "e3ebd686-b1ce-46bb-a20a-5481fff10397",
   "metadata": {},
   "outputs": [],
   "source": [
    "model_both = tf.keras.models.load_model(\"..//Base_Models//Model_BOTH_Smiles\")"
   ]
  },
  {
   "cell_type": "code",
   "execution_count": null,
   "id": "cd3e9f41-3438-4ccb-a11f-8e1fc2f510f5",
   "metadata": {},
   "outputs": [],
   "source": [
    "# y_valid"
   ]
  },
  {
   "cell_type": "code",
   "execution_count": null,
   "id": "20bec373-fab8-4b37-a918-856ac4688e10",
   "metadata": {},
   "outputs": [],
   "source": [
    "model_both.evaluate(x_valid[\"Smiles\"].values, y_valid, batch_size = 30000)"
   ]
  },
  {
   "cell_type": "code",
   "execution_count": 58,
   "id": "05798ecd-d9c3-47d5-9d37-6eaa68e2537e",
   "metadata": {},
   "outputs": [],
   "source": [
    "# now get predictions for the small molecule phase 3\n",
    "small_mol_phase_3_features = pd.read_csv(\"..//Data/smiles_with_rdkit_with_small_phase_3_features.csv\")"
   ]
  },
  {
   "cell_type": "code",
   "execution_count": 59,
   "id": "632e7998-75da-4bc4-a103-32abf3cd498f",
   "metadata": {},
   "outputs": [],
   "source": [
    "small_mol_phase_3_outputs = pd.read_csv(\"..//Data/smiles_with_rdkit_with_small_phase_3_outputs.csv\")"
   ]
  },
  {
   "cell_type": "code",
   "execution_count": null,
   "id": "04e234c8-957d-482f-8120-42dbb0edb4f0",
   "metadata": {},
   "outputs": [],
   "source": [
    "# small_mol_phase_3_outputs.iloc[:,2].values"
   ]
  },
  {
   "cell_type": "code",
   "execution_count": null,
   "id": "89b4f830-6358-4513-aa4c-c1eb18042910",
   "metadata": {},
   "outputs": [],
   "source": [
    "# small_mol_phase_3_outputs.iloc[:,0:].values"
   ]
  },
  {
   "cell_type": "code",
   "execution_count": null,
   "id": "5ddb0e3c-2565-4649-b4d1-18b4f58a863f",
   "metadata": {},
   "outputs": [],
   "source": [
    "# from sklearn.preprocessing import StandardScaler"
   ]
  },
  {
   "cell_type": "code",
   "execution_count": null,
   "id": "6f1abce7-7079-4126-b511-1ca6d809e915",
   "metadata": {},
   "outputs": [],
   "source": [
    "# std_targets = StandardScaler()"
   ]
  },
  {
   "cell_type": "code",
   "execution_count": 55,
   "id": "922f3eb0-5881-48de-a45a-23405af8edc7",
   "metadata": {},
   "outputs": [],
   "source": [
    "import pickle"
   ]
  },
  {
   "cell_type": "code",
   "execution_count": 56,
   "id": "e89222da-cfdc-46d0-a3d2-5c456f41cdf9",
   "metadata": {},
   "outputs": [],
   "source": [
    "std_targets = pickle.load( open('..//Data//target_scaler.pkl', 'rb'))"
   ]
  },
  {
   "cell_type": "code",
   "execution_count": 60,
   "id": "334c4378-6e1a-4c39-a3d6-9b03ede2793d",
   "metadata": {},
   "outputs": [
    {
     "name": "stderr",
     "output_type": "stream",
     "text": [
      "/home/statgrads/vpiyush2/.conda/envs/tensorflow-gpu-2.9-custom/lib/python3.9/site-packages/sklearn/base.py:450: UserWarning: X does not have valid feature names, but StandardScaler was fitted with feature names\n",
      "  warnings.warn(\n"
     ]
    }
   ],
   "source": [
    "y_test_std = std_targets.transform(small_mol_phase_3_outputs.iloc[:,1:].values)"
   ]
  },
  {
   "cell_type": "code",
   "execution_count": 61,
   "id": "c1a393fd-15ca-47e9-bc45-8a159a45556d",
   "metadata": {},
   "outputs": [
    {
     "name": "stdout",
     "output_type": "stream",
     "text": [
      "1/1 [==============================] - 1s 1s/step - loss: 0.0040 - root_mean_squared_error: 0.0635\n"
     ]
    },
    {
     "name": "stderr",
     "output_type": "stream",
     "text": [
      "2023-06-16 21:08:43.449697: I tensorflow/stream_executor/cuda/cuda_dnn.cc:384] Loaded cuDNN version 8401\n",
      "Could not load symbol cublasGetSmCountTarget from libcublas.so.11. Error: /home/statgrads/vpiyush2/.conda/envs/tensorflow-gpu-2.9-custom/lib/python3.9/site-packages/tensorflow/python/../../../../libcublas.so.11: undefined symbol: cublasGetSmCountTarget\n",
      "2023-06-16 21:08:43.619656: I tensorflow/stream_executor/cuda/cuda_blas.cc:1786] TensorFloat-32 will be used for the matrix multiplication. This will only be logged once.\n"
     ]
    },
    {
     "data": {
      "text/plain": [
       "[0.0040272935293614864, 0.06346096098423004]"
      ]
     },
     "execution_count": 61,
     "metadata": {},
     "output_type": "execute_result"
    }
   ],
   "source": [
    "model_both.evaluate(small_mol_phase_3_features[\"Smiles\"].values,\n",
    "                     y_test_std, batch_size = 2500)"
   ]
  },
  {
   "cell_type": "code",
   "execution_count": 90,
   "id": "f3e644d0-7a1d-42e8-9b12-819edd103f0c",
   "metadata": {},
   "outputs": [
    {
     "name": "stdout",
     "output_type": "stream",
     "text": [
      "1/1 [==============================] - 1s 629ms/step\n"
     ]
    }
   ],
   "source": [
    "with tf.device('/cpu:0'):\n",
    "    model_both = tf.keras.models.load_model(\"..//Base_Models//Model_BOTH_Smiles\")\n",
    "    small_mol_phase_3_psa_preds = model_both.predict(small_mol_phase_3_features[\"Smiles\"].values,\n",
    "                                                    batch_size = 100000)"
   ]
  },
  {
   "cell_type": "code",
   "execution_count": 91,
   "id": "925e0bed-b52c-48bd-9be2-6f2990b9bdd0",
   "metadata": {},
   "outputs": [
    {
     "data": {
      "text/plain": [
       "array([[-0.008663  , -0.32012644],\n",
       "       [ 0.3382033 , -0.31685376],\n",
       "       [ 0.11221686, -1.2013034 ],\n",
       "       ...,\n",
       "       [-2.202789  ,  0.2556882 ],\n",
       "       [ 2.5921938 , -0.50616574],\n",
       "       [-0.57648194,  1.1811748 ]], dtype=float32)"
      ]
     },
     "execution_count": 91,
     "metadata": {},
     "output_type": "execute_result"
    }
   ],
   "source": [
    "small_mol_phase_3_psa_preds"
   ]
  },
  {
   "cell_type": "code",
   "execution_count": 92,
   "id": "5108ad51-d5aa-4b9a-b33c-9dd123d5d788",
   "metadata": {},
   "outputs": [],
   "source": [
    "from sklearn.metrics import mean_squared_error"
   ]
  },
  {
   "cell_type": "code",
   "execution_count": 93,
   "id": "ef8ade59-0780-4423-97de-41c4464dbcc0",
   "metadata": {},
   "outputs": [
    {
     "data": {
      "text/plain": [
       "0.07322564831124763"
      ]
     },
     "execution_count": 93,
     "metadata": {},
     "output_type": "execute_result"
    }
   ],
   "source": [
    "np.sqrt(mean_squared_error(y_test_std[:,0], small_mol_phase_3_psa_preds[:,0]))"
   ]
  },
  {
   "cell_type": "code",
   "execution_count": 94,
   "id": "3be04706-e070-4c66-9deb-f5baa779ed60",
   "metadata": {},
   "outputs": [
    {
     "data": {
      "text/plain": [
       "0.051875202528146265"
      ]
     },
     "execution_count": 94,
     "metadata": {},
     "output_type": "execute_result"
    }
   ],
   "source": [
    "np.sqrt(mean_squared_error(y_test_std[:,1], small_mol_phase_3_psa_preds[:,1]))"
   ]
  },
  {
   "cell_type": "code",
   "execution_count": 95,
   "id": "c3fa7fa8-7846-4df8-8831-5550edcbfcf6",
   "metadata": {},
   "outputs": [],
   "source": [
    "small_mol_phase_3_psa_preds = std_targets.inverse_transform(small_mol_phase_3_psa_preds)"
   ]
  },
  {
   "cell_type": "code",
   "execution_count": 96,
   "id": "585405db-ebe9-4a92-ac0b-ba2606debd79",
   "metadata": {},
   "outputs": [],
   "source": [
    "y_test_actual = small_mol_phase_3_outputs.iloc[:,1:].values"
   ]
  },
  {
   "cell_type": "code",
   "execution_count": 97,
   "id": "b5300e76-fa94-4240-96dd-77e6c9e64ffd",
   "metadata": {},
   "outputs": [
    {
     "data": {
      "text/plain": [
       "0.1381996030745168"
      ]
     },
     "execution_count": 97,
     "metadata": {},
     "output_type": "execute_result"
    }
   ],
   "source": [
    "np.sqrt(mean_squared_error(y_test_actual[:,0], small_mol_phase_3_psa_preds[:,0]))"
   ]
  },
  {
   "cell_type": "code",
   "execution_count": 98,
   "id": "0a637258-0e96-4f79-a87b-4cd9eb1c946b",
   "metadata": {},
   "outputs": [
    {
     "data": {
      "text/plain": [
       "2.2387093491628147"
      ]
     },
     "execution_count": 98,
     "metadata": {},
     "output_type": "execute_result"
    }
   ],
   "source": [
    "np.sqrt(mean_squared_error(y_test_actual[:,1], small_mol_phase_3_psa_preds[:,1]))"
   ]
  },
  {
   "cell_type": "code",
   "execution_count": 99,
   "id": "64f3e343-49bf-483a-93f5-23b550763eb0",
   "metadata": {},
   "outputs": [
    {
     "data": {
      "text/plain": [
       "array([0.1381996 , 2.23870935])"
      ]
     },
     "execution_count": 99,
     "metadata": {},
     "output_type": "execute_result"
    }
   ],
   "source": [
    "np.sqrt(((y_test_actual - small_mol_phase_3_psa_preds)**2).mean(0))"
   ]
  },
  {
   "cell_type": "code",
   "execution_count": null,
   "id": "a1a42498-4339-49da-aed3-7c1779915e16",
   "metadata": {},
   "outputs": [],
   "source": [
    "# np.sqrt(((y_test_actual - small_mol_phase_3_psa_preds.mean(0))**2).mean(0))"
   ]
  },
  {
   "cell_type": "code",
   "execution_count": 71,
   "id": "20e07936-290d-4003-bdc9-5de4f766e3e6",
   "metadata": {},
   "outputs": [],
   "source": [
    "import matplotlib.pyplot as plt"
   ]
  },
  {
   "cell_type": "code",
   "execution_count": 72,
   "id": "cbd4cc3c-1047-4a5a-a426-af49af6656d9",
   "metadata": {},
   "outputs": [
    {
     "data": {
      "image/png": "[encoded data removed]",
      "text/plain": [
       "<Figure size 640x480 with 1 Axes>"
      ]
     },
     "metadata": {},
     "output_type": "display_data"
    }
   ],
   "source": [
    "plt.scatter(small_mol_phase_3_outputs.iloc[:,1].values,small_mol_phase_3_psa_preds[:,0])\n",
    "plt.axline((0,0), slope = 1, c = \"black\")\n",
    "# plt.ylim(0,500)\n",
    "plt.show()"
   ]
  },
  {
   "cell_type": "code",
   "execution_count": 73,
   "id": "531bfe67-3c35-4fb7-97ef-b74017756074",
   "metadata": {},
   "outputs": [
    {
     "data": {
      "image/png": "[encoded data removed]",
      "text/plain": [
       "<Figure size 640x480 with 1 Axes>"
      ]
     },
     "metadata": {},
     "output_type": "display_data"
    }
   ],
   "source": [
    "plt.scatter(small_mol_phase_3_outputs.iloc[:,2].values,small_mol_phase_3_psa_preds[:,1])\n",
    "plt.axline((0,0), slope = 1, c = \"black\")\n",
    "plt.ylim(0,500)\n",
    "plt.show()"
   ]
  }
 ],
 "metadata": {
  "kernelspec": {
   "display_name": "Python (enkf_gpu)",
   "language": "python",
   "name": "tf_custom_gayara_2"
  },
  "language_info": {
   "codemirror_mode": {
    "name": "ipython",
    "version": 3
   },
   "file_extension": ".py",
   "mimetype": "text/x-python",
   "name": "python",
   "nbconvert_exporter": "python",
   "pygments_lexer": "ipython3",
   "version": "3.9.13"
  }
 },
 "nbformat": 4,
 "nbformat_minor": 5
}
