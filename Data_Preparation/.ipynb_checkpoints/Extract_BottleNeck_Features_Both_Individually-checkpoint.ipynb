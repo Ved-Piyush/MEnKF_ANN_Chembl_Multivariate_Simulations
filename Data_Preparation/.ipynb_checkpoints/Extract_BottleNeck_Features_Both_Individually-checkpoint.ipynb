{
 "cells": [
  {
   "cell_type": "code",
   "execution_count": 1,
   "id": "f4bfae37-7a06-4974-b4f5-425fb451738a",
   "metadata": {},
   "outputs": [
    {
     "name": "stderr",
     "output_type": "stream",
     "text": [
      "2023-06-16 21:30:29.214482: I tensorflow/core/util/port.cc:110] oneDNN custom operations are on. You may see slightly different numerical results due to floating-point round-off errors from different computation orders. To turn them off, set the environment variable `TF_ENABLE_ONEDNN_OPTS=0`.\n",
      "2023-06-16 21:30:29.216891: I tensorflow/tsl/cuda/cudart_stub.cc:28] Could not find cuda drivers on your machine, GPU will not be used.\n",
      "2023-06-16 21:30:29.251864: I tensorflow/tsl/cuda/cudart_stub.cc:28] Could not find cuda drivers on your machine, GPU will not be used.\n",
      "2023-06-16 21:30:29.252358: I tensorflow/core/platform/cpu_feature_guard.cc:182] This TensorFlow binary is optimized to use available CPU instructions in performance-critical operations.\n",
      "To enable the following instructions: AVX2 AVX512F AVX512_VNNI FMA, in other operations, rebuild TensorFlow with the appropriate compiler flags.\n",
      "2023-06-16 21:30:29.952068: W tensorflow/compiler/tf2tensorrt/utils/py_utils.cc:38] TF-TRT Warning: Could not find TensorRT\n"
     ]
    }
   ],
   "source": [
    "import pandas as pd\n",
    "import tensorflow as tf"
   ]
  },
  {
   "cell_type": "code",
   "execution_count": 2,
   "id": "fe1ac055-86ac-4448-8365-e982586d1ebe",
   "metadata": {},
   "outputs": [],
   "source": [
    "# read small mol phase 3 features\n",
    "small_mol_phase_3_features = pd.read_csv(\"..//Data/smiles_with_rdkit_with_small_phase_3_features.csv\")"
   ]
  },
  {
   "cell_type": "code",
   "execution_count": 3,
   "id": "f7c43263-0399-4d22-ab3a-47f55bc6ce95",
   "metadata": {},
   "outputs": [],
   "source": [
    "# small_mol_phase_3_features.head()"
   ]
  },
  {
   "cell_type": "code",
   "execution_count": 4,
   "id": "f96257de-3c50-45de-86e3-16746d10c5b9",
   "metadata": {},
   "outputs": [
    {
     "name": "stderr",
     "output_type": "stream",
     "text": [
      "2023-06-16 21:30:30.811235: W tensorflow/core/common_runtime/gpu/gpu_device.cc:1956] Cannot dlopen some GPU libraries. Please make sure the missing libraries mentioned above are installed properly if you would like to use GPU. Follow the guide at https://www.tensorflow.org/install/gpu for how to download and setup the required libraries for your platform.\n",
      "Skipping registering GPU devices...\n",
      "2023-06-16 21:30:30.970863: I tensorflow/core/common_runtime/executor.cc:1197] [/device:CPU:0] (DEBUG INFO) Executor start aborting (this does not indicate an error and you can ignore this message): INVALID_ARGUMENT: You must feed a value for placeholder tensor 'gradients_split_2_grad_concat_split_2_split_dim' with dtype int32\n",
      "\t [[{{node gradients_split_2_grad_concat_split_2_split_dim}}]]\n",
      "2023-06-16 21:30:30.970945: I tensorflow/core/common_runtime/executor.cc:1197] [/device:CPU:0] (DEBUG INFO) Executor start aborting (this does not indicate an error and you can ignore this message): INVALID_ARGUMENT: You must feed a value for placeholder tensor 'gradients_split_grad_concat_split_split_dim' with dtype int32\n",
      "\t [[{{node gradients_split_grad_concat_split_split_dim}}]]\n",
      "2023-06-16 21:30:30.971000: I tensorflow/core/common_runtime/executor.cc:1197] [/device:CPU:0] (DEBUG INFO) Executor start aborting (this does not indicate an error and you can ignore this message): INVALID_ARGUMENT: You must feed a value for placeholder tensor 'gradients_split_1_grad_concat_split_1_split_dim' with dtype int32\n",
      "\t [[{{node gradients_split_1_grad_concat_split_1_split_dim}}]]\n",
      "2023-06-16 21:30:31.095873: I tensorflow/core/common_runtime/executor.cc:1197] [/device:CPU:0] (DEBUG INFO) Executor start aborting (this does not indicate an error and you can ignore this message): INVALID_ARGUMENT: You must feed a value for placeholder tensor 'gradients_split_2_grad_concat_split_2_split_dim' with dtype int32\n",
      "\t [[{{node gradients_split_2_grad_concat_split_2_split_dim}}]]\n",
      "2023-06-16 21:30:31.095966: I tensorflow/core/common_runtime/executor.cc:1197] [/device:CPU:0] (DEBUG INFO) Executor start aborting (this does not indicate an error and you can ignore this message): INVALID_ARGUMENT: You must feed a value for placeholder tensor 'gradients_split_grad_concat_split_split_dim' with dtype int32\n",
      "\t [[{{node gradients_split_grad_concat_split_split_dim}}]]\n",
      "2023-06-16 21:30:31.096020: I tensorflow/core/common_runtime/executor.cc:1197] [/device:CPU:0] (DEBUG INFO) Executor start aborting (this does not indicate an error and you can ignore this message): INVALID_ARGUMENT: You must feed a value for placeholder tensor 'gradients_split_1_grad_concat_split_1_split_dim' with dtype int32\n",
      "\t [[{{node gradients_split_1_grad_concat_split_1_split_dim}}]]\n",
      "2023-06-16 21:30:31.131548: I tensorflow/core/common_runtime/executor.cc:1197] [/device:CPU:0] (DEBUG INFO) Executor start aborting (this does not indicate an error and you can ignore this message): INVALID_ARGUMENT: You must feed a value for placeholder tensor 'gradients_split_2_grad_concat_split_2_split_dim' with dtype int32\n",
      "\t [[{{node gradients_split_2_grad_concat_split_2_split_dim}}]]\n",
      "2023-06-16 21:30:31.131624: I tensorflow/core/common_runtime/executor.cc:1197] [/device:CPU:0] (DEBUG INFO) Executor start aborting (this does not indicate an error and you can ignore this message): INVALID_ARGUMENT: You must feed a value for placeholder tensor 'gradients_split_grad_concat_split_split_dim' with dtype int32\n",
      "\t [[{{node gradients_split_grad_concat_split_split_dim}}]]\n",
      "2023-06-16 21:30:31.131679: I tensorflow/core/common_runtime/executor.cc:1197] [/device:CPU:0] (DEBUG INFO) Executor start aborting (this does not indicate an error and you can ignore this message): INVALID_ARGUMENT: You must feed a value for placeholder tensor 'gradients_split_1_grad_concat_split_1_split_dim' with dtype int32\n",
      "\t [[{{node gradients_split_1_grad_concat_split_1_split_dim}}]]\n",
      "2023-06-16 21:30:31.234939: I tensorflow/core/common_runtime/executor.cc:1197] [/device:CPU:0] (DEBUG INFO) Executor start aborting (this does not indicate an error and you can ignore this message): INVALID_ARGUMENT: You must feed a value for placeholder tensor 'gradients_split_2_grad_concat_split_2_split_dim' with dtype int32\n",
      "\t [[{{node gradients_split_2_grad_concat_split_2_split_dim}}]]\n",
      "2023-06-16 21:30:31.235015: I tensorflow/core/common_runtime/executor.cc:1197] [/device:CPU:0] (DEBUG INFO) Executor start aborting (this does not indicate an error and you can ignore this message): INVALID_ARGUMENT: You must feed a value for placeholder tensor 'gradients_split_grad_concat_split_split_dim' with dtype int32\n",
      "\t [[{{node gradients_split_grad_concat_split_split_dim}}]]\n",
      "2023-06-16 21:30:31.235068: I tensorflow/core/common_runtime/executor.cc:1197] [/device:CPU:0] (DEBUG INFO) Executor start aborting (this does not indicate an error and you can ignore this message): INVALID_ARGUMENT: You must feed a value for placeholder tensor 'gradients_split_1_grad_concat_split_1_split_dim' with dtype int32\n",
      "\t [[{{node gradients_split_1_grad_concat_split_1_split_dim}}]]\n",
      "2023-06-16 21:30:31.274556: I tensorflow/core/common_runtime/executor.cc:1197] [/device:CPU:0] (DEBUG INFO) Executor start aborting (this does not indicate an error and you can ignore this message): INVALID_ARGUMENT: You must feed a value for placeholder tensor 'gradients_split_2_grad_concat_split_2_split_dim' with dtype int32\n",
      "\t [[{{node gradients_split_2_grad_concat_split_2_split_dim}}]]\n",
      "2023-06-16 21:30:31.274631: I tensorflow/core/common_runtime/executor.cc:1197] [/device:CPU:0] (DEBUG INFO) Executor start aborting (this does not indicate an error and you can ignore this message): INVALID_ARGUMENT: You must feed a value for placeholder tensor 'gradients_split_grad_concat_split_split_dim' with dtype int32\n",
      "\t [[{{node gradients_split_grad_concat_split_split_dim}}]]\n",
      "2023-06-16 21:30:31.274683: I tensorflow/core/common_runtime/executor.cc:1197] [/device:CPU:0] (DEBUG INFO) Executor start aborting (this does not indicate an error and you can ignore this message): INVALID_ARGUMENT: You must feed a value for placeholder tensor 'gradients_split_1_grad_concat_split_1_split_dim' with dtype int32\n",
      "\t [[{{node gradients_split_1_grad_concat_split_1_split_dim}}]]\n",
      "2023-06-16 21:30:31.288289: I tensorflow/core/common_runtime/executor.cc:1197] [/device:CPU:0] (DEBUG INFO) Executor start aborting (this does not indicate an error and you can ignore this message): INVALID_ARGUMENT: You must feed a value for placeholder tensor 'gradients_split_2_grad_concat_split_2_split_dim' with dtype int32\n",
      "\t [[{{node gradients_split_2_grad_concat_split_2_split_dim}}]]\n",
      "2023-06-16 21:30:31.288372: I tensorflow/core/common_runtime/executor.cc:1197] [/device:CPU:0] (DEBUG INFO) Executor start aborting (this does not indicate an error and you can ignore this message): INVALID_ARGUMENT: You must feed a value for placeholder tensor 'gradients_split_grad_concat_split_split_dim' with dtype int32\n",
      "\t [[{{node gradients_split_grad_concat_split_split_dim}}]]\n",
      "2023-06-16 21:30:31.288428: I tensorflow/core/common_runtime/executor.cc:1197] [/device:CPU:0] (DEBUG INFO) Executor start aborting (this does not indicate an error and you can ignore this message): INVALID_ARGUMENT: You must feed a value for placeholder tensor 'gradients_split_1_grad_concat_split_1_split_dim' with dtype int32\n",
      "\t [[{{node gradients_split_1_grad_concat_split_1_split_dim}}]]\n",
      "2023-06-16 21:30:31.318809: I tensorflow/core/common_runtime/executor.cc:1197] [/device:CPU:0] (DEBUG INFO) Executor start aborting (this does not indicate an error and you can ignore this message): INVALID_ARGUMENT: You must feed a value for placeholder tensor 'gradients_split_2_grad_concat_split_2_split_dim' with dtype int32\n",
      "\t [[{{node gradients_split_2_grad_concat_split_2_split_dim}}]]\n",
      "2023-06-16 21:30:31.318884: I tensorflow/core/common_runtime/executor.cc:1197] [/device:CPU:0] (DEBUG INFO) Executor start aborting (this does not indicate an error and you can ignore this message): INVALID_ARGUMENT: You must feed a value for placeholder tensor 'gradients_split_grad_concat_split_split_dim' with dtype int32\n",
      "\t [[{{node gradients_split_grad_concat_split_split_dim}}]]\n",
      "2023-06-16 21:30:31.318936: I tensorflow/core/common_runtime/executor.cc:1197] [/device:CPU:0] (DEBUG INFO) Executor start aborting (this does not indicate an error and you can ignore this message): INVALID_ARGUMENT: You must feed a value for placeholder tensor 'gradients_split_1_grad_concat_split_1_split_dim' with dtype int32\n",
      "\t [[{{node gradients_split_1_grad_concat_split_1_split_dim}}]]\n",
      "2023-06-16 21:30:31.343830: I tensorflow/core/common_runtime/executor.cc:1197] [/device:CPU:0] (DEBUG INFO) Executor start aborting (this does not indicate an error and you can ignore this message): INVALID_ARGUMENT: You must feed a value for placeholder tensor 'gradients_split_2_grad_concat_split_2_split_dim' with dtype int32\n",
      "\t [[{{node gradients_split_2_grad_concat_split_2_split_dim}}]]\n",
      "2023-06-16 21:30:31.343905: I tensorflow/core/common_runtime/executor.cc:1197] [/device:CPU:0] (DEBUG INFO) Executor start aborting (this does not indicate an error and you can ignore this message): INVALID_ARGUMENT: You must feed a value for placeholder tensor 'gradients_split_grad_concat_split_split_dim' with dtype int32\n",
      "\t [[{{node gradients_split_grad_concat_split_split_dim}}]]\n",
      "2023-06-16 21:30:31.343958: I tensorflow/core/common_runtime/executor.cc:1197] [/device:CPU:0] (DEBUG INFO) Executor start aborting (this does not indicate an error and you can ignore this message): INVALID_ARGUMENT: You must feed a value for placeholder tensor 'gradients_split_1_grad_concat_split_1_split_dim' with dtype int32\n",
      "\t [[{{node gradients_split_1_grad_concat_split_1_split_dim}}]]\n",
      "2023-06-16 21:30:31.416413: I tensorflow/core/common_runtime/executor.cc:1197] [/device:CPU:0] (DEBUG INFO) Executor start aborting (this does not indicate an error and you can ignore this message): INVALID_ARGUMENT: You must feed a value for placeholder tensor 'gradients_split_2_grad_concat_split_2_split_dim' with dtype int32\n",
      "\t [[{{node gradients_split_2_grad_concat_split_2_split_dim}}]]\n",
      "2023-06-16 21:30:31.416489: I tensorflow/core/common_runtime/executor.cc:1197] [/device:CPU:0] (DEBUG INFO) Executor start aborting (this does not indicate an error and you can ignore this message): INVALID_ARGUMENT: You must feed a value for placeholder tensor 'gradients_split_grad_concat_split_split_dim' with dtype int32\n",
      "\t [[{{node gradients_split_grad_concat_split_split_dim}}]]\n",
      "2023-06-16 21:30:31.416543: I tensorflow/core/common_runtime/executor.cc:1197] [/device:CPU:0] (DEBUG INFO) Executor start aborting (this does not indicate an error and you can ignore this message): INVALID_ARGUMENT: You must feed a value for placeholder tensor 'gradients_split_1_grad_concat_split_1_split_dim' with dtype int32\n",
      "\t [[{{node gradients_split_1_grad_concat_split_1_split_dim}}]]\n",
      "2023-06-16 21:30:31.447568: I tensorflow/core/common_runtime/executor.cc:1197] [/device:CPU:0] (DEBUG INFO) Executor start aborting (this does not indicate an error and you can ignore this message): INVALID_ARGUMENT: You must feed a value for placeholder tensor 'gradients_split_2_grad_concat_split_2_split_dim' with dtype int32\n",
      "\t [[{{node gradients_split_2_grad_concat_split_2_split_dim}}]]\n",
      "2023-06-16 21:30:31.447642: I tensorflow/core/common_runtime/executor.cc:1197] [/device:CPU:0] (DEBUG INFO) Executor start aborting (this does not indicate an error and you can ignore this message): INVALID_ARGUMENT: You must feed a value for placeholder tensor 'gradients_split_grad_concat_split_split_dim' with dtype int32\n",
      "\t [[{{node gradients_split_grad_concat_split_split_dim}}]]\n",
      "2023-06-16 21:30:31.447696: I tensorflow/core/common_runtime/executor.cc:1197] [/device:CPU:0] (DEBUG INFO) Executor start aborting (this does not indicate an error and you can ignore this message): INVALID_ARGUMENT: You must feed a value for placeholder tensor 'gradients_split_1_grad_concat_split_1_split_dim' with dtype int32\n",
      "\t [[{{node gradients_split_1_grad_concat_split_1_split_dim}}]]\n",
      "2023-06-16 21:30:31.461353: I tensorflow/core/common_runtime/executor.cc:1197] [/device:CPU:0] (DEBUG INFO) Executor start aborting (this does not indicate an error and you can ignore this message): INVALID_ARGUMENT: You must feed a value for placeholder tensor 'gradients_split_2_grad_concat_split_2_split_dim' with dtype int32\n",
      "\t [[{{node gradients_split_2_grad_concat_split_2_split_dim}}]]\n",
      "2023-06-16 21:30:31.461428: I tensorflow/core/common_runtime/executor.cc:1197] [/device:CPU:0] (DEBUG INFO) Executor start aborting (this does not indicate an error and you can ignore this message): INVALID_ARGUMENT: You must feed a value for placeholder tensor 'gradients_split_grad_concat_split_split_dim' with dtype int32\n",
      "\t [[{{node gradients_split_grad_concat_split_split_dim}}]]\n",
      "2023-06-16 21:30:31.461482: I tensorflow/core/common_runtime/executor.cc:1197] [/device:CPU:0] (DEBUG INFO) Executor start aborting (this does not indicate an error and you can ignore this message): INVALID_ARGUMENT: You must feed a value for placeholder tensor 'gradients_split_1_grad_concat_split_1_split_dim' with dtype int32\n",
      "\t [[{{node gradients_split_1_grad_concat_split_1_split_dim}}]]\n",
      "2023-06-16 21:30:31.843160: I tensorflow/core/common_runtime/executor.cc:1197] [/device:CPU:0] (DEBUG INFO) Executor start aborting (this does not indicate an error and you can ignore this message): INVALID_ARGUMENT: You must feed a value for placeholder tensor 'gradients/split_2_grad/concat/split_2/split_dim' with dtype int32\n",
      "\t [[{{node gradients/split_2_grad/concat/split_2/split_dim}}]]\n",
      "2023-06-16 21:30:31.844215: I tensorflow/core/common_runtime/executor.cc:1197] [/device:CPU:0] (DEBUG INFO) Executor start aborting (this does not indicate an error and you can ignore this message): INVALID_ARGUMENT: You must feed a value for placeholder tensor 'gradients/split_grad/concat/split/split_dim' with dtype int32\n",
      "\t [[{{node gradients/split_grad/concat/split/split_dim}}]]\n",
      "2023-06-16 21:30:31.844987: I tensorflow/core/common_runtime/executor.cc:1197] [/device:CPU:0] (DEBUG INFO) Executor start aborting (this does not indicate an error and you can ignore this message): INVALID_ARGUMENT: You must feed a value for placeholder tensor 'gradients/split_1_grad/concat/split_1/split_dim' with dtype int32\n",
      "\t [[{{node gradients/split_1_grad/concat/split_1/split_dim}}]]\n"
     ]
    }
   ],
   "source": [
    "model_both = tf.keras.models.load_model(\"..//Base_Models//Model_BOTH_Smiles\")"
   ]
  },
  {
   "cell_type": "code",
   "execution_count": 5,
   "id": "dc70ed18-9764-4791-add3-e3b895aa5801",
   "metadata": {},
   "outputs": [],
   "source": [
    "# model_smiles =  tf.keras.models.load_model(\"..//Base_Models//Model_BOTH_Smiles\")"
   ]
  },
  {
   "cell_type": "code",
   "execution_count": 6,
   "id": "37bcec99-4fce-4e8c-b08e-ff5faaec1863",
   "metadata": {},
   "outputs": [
    {
     "name": "stdout",
     "output_type": "stream",
     "text": [
      "Model: \"model\"\n",
      "_________________________________________________________________\n",
      " Layer (type)                Output Shape              Param #   \n",
      "=================================================================\n",
      " input_1 (InputLayer)        [(None, 1)]               0         \n",
      "                                                                 \n",
      " text_vectorization (TextVec  (None, None)             0         \n",
      " torization)                                                     \n",
      "                                                                 \n",
      " embedding (Embedding)       (None, None, 512)         22016     \n",
      "                                                                 \n",
      " lstm (LSTM)                 (None, 256)               787456    \n",
      "                                                                 \n",
      " dense (Dense)               (None, 32)                8224      \n",
      "                                                                 \n",
      " dense_1 (Dense)             (None, 2)                 66        \n",
      "                                                                 \n",
      "=================================================================\n",
      "Total params: 817,762\n",
      "Trainable params: 817,762\n",
      "Non-trainable params: 0\n",
      "_________________________________________________________________\n"
     ]
    }
   ],
   "source": [
    "model_both.summary()"
   ]
  },
  {
   "cell_type": "code",
   "execution_count": 7,
   "id": "465a534b-dd38-4ecf-9593-d5eddde58482",
   "metadata": {},
   "outputs": [],
   "source": [
    "model_rdkit =  tf.keras.models.load_model(\"..//Base_Models//Model_BOTH_Rdkit\")"
   ]
  },
  {
   "cell_type": "code",
   "execution_count": 8,
   "id": "dbfdacbb-4fa9-4fdb-840c-833688df2428",
   "metadata": {},
   "outputs": [
    {
     "name": "stdout",
     "output_type": "stream",
     "text": [
      "Model: \"model_1\"\n",
      "_________________________________________________________________\n",
      " Layer (type)                Output Shape              Param #   \n",
      "=================================================================\n",
      " input_2 (InputLayer)        [(None, 104)]             0         \n",
      "                                                                 \n",
      " dense_6 (Dense)             (None, 64)                6720      \n",
      "                                                                 \n",
      " dense_7 (Dense)             (None, 64)                4160      \n",
      "                                                                 \n",
      " dense_8 (Dense)             (None, 32)                2080      \n",
      "                                                                 \n",
      " dense_9 (Dense)             (None, 32)                1056      \n",
      "                                                                 \n",
      " dense_10 (Dense)            (None, 2)                 66        \n",
      "                                                                 \n",
      "=================================================================\n",
      "Total params: 14,082\n",
      "Trainable params: 14,082\n",
      "Non-trainable params: 0\n",
      "_________________________________________________________________\n"
     ]
    }
   ],
   "source": [
    "model_rdkit.summary()"
   ]
  },
  {
   "cell_type": "code",
   "execution_count": 9,
   "id": "2c0a7378-eb01-4564-8c27-54eb498c0af0",
   "metadata": {},
   "outputs": [],
   "source": [
    "extract_bottleneck_Smiles = tf.keras.models.Model(model_both.input, model_both.layers[-2].output)"
   ]
  },
  {
   "cell_type": "code",
   "execution_count": 10,
   "id": "72204786-33d3-4279-9c29-69208b1ba82b",
   "metadata": {},
   "outputs": [],
   "source": [
    "extract_bottleneck_Rdkit = tf.keras.models.Model(model_rdkit.input, model_rdkit.layers[-2].output)"
   ]
  },
  {
   "cell_type": "code",
   "execution_count": 11,
   "id": "04982d8b-a2d3-40ca-a0ac-2d014678ca7f",
   "metadata": {},
   "outputs": [],
   "source": [
    "bottleneck_features_Smiles = extract_bottleneck_Smiles(small_mol_phase_3_features[\"Smiles\"].values)"
   ]
  },
  {
   "cell_type": "code",
   "execution_count": 12,
   "id": "303b6a8f-ae1c-4023-abcb-5ad7ac699695",
   "metadata": {},
   "outputs": [],
   "source": [
    "# bottleneck_features_Smiles"
   ]
  },
  {
   "cell_type": "code",
   "execution_count": 13,
   "id": "a18fba6c-fea6-427f-a8e5-4da0b0ce186f",
   "metadata": {},
   "outputs": [],
   "source": [
    "# small_mol_phase_3_features.iloc[:,1:].values"
   ]
  },
  {
   "cell_type": "code",
   "execution_count": 14,
   "id": "cc92ad46-0986-40b1-b3e6-4c9b8f618d92",
   "metadata": {},
   "outputs": [],
   "source": [
    "bottleneck_features_rdkit = extract_bottleneck_Rdkit(small_mol_phase_3_features.iloc[:,1:].values)"
   ]
  },
  {
   "cell_type": "code",
   "execution_count": 15,
   "id": "a5e45339-c86c-4771-81eb-70f4780d3650",
   "metadata": {},
   "outputs": [],
   "source": [
    "import numpy as np"
   ]
  },
  {
   "cell_type": "code",
   "execution_count": 16,
   "id": "f22143dc-319d-4b4d-af7d-f79e80b0113e",
   "metadata": {},
   "outputs": [],
   "source": [
    "np.save(\"..//Data//small_mol_phase_3_features_using_Smiles.npy\", bottleneck_features_Smiles)"
   ]
  },
  {
   "cell_type": "code",
   "execution_count": 17,
   "id": "41498f7f-65f5-4357-86d6-b18428c45381",
   "metadata": {},
   "outputs": [],
   "source": [
    "np.save(\"..//Data//small_mol_phase_3_features_using_Rdkit.npy\", bottleneck_features_rdkit)"
   ]
  },
  {
   "cell_type": "code",
   "execution_count": 18,
   "id": "42bfe59d-2c9d-4986-b33b-df1321df0655",
   "metadata": {},
   "outputs": [],
   "source": [
    "# bottleneck_features.shape"
   ]
  },
  {
   "cell_type": "code",
   "execution_count": 19,
   "id": "42d9236c-0928-4ac4-8420-f5610cfdd2ad",
   "metadata": {},
   "outputs": [
    {
     "data": {
      "text/plain": [
       "<keras.engine.functional.Functional at 0x150fbe4643d0>"
      ]
     },
     "execution_count": 19,
     "metadata": {},
     "output_type": "execute_result"
    }
   ],
   "source": [
    "model_both"
   ]
  },
  {
   "cell_type": "code",
   "execution_count": 20,
   "id": "d8f33072-f00b-49b5-bdbe-ee1c0157233d",
   "metadata": {},
   "outputs": [],
   "source": [
    "# small_mol_phase_3_psa_preds = model_both(small_mol_phase_3_features[\"Smiles\"].values"
   ]
  },
  {
   "cell_type": "code",
   "execution_count": 21,
   "id": "4b32c25a-e8cf-4d1d-a4f1-ac77a6d9b668",
   "metadata": {},
   "outputs": [],
   "source": [
    "# small_mol_phase_3_psa_preds"
   ]
  },
  {
   "cell_type": "code",
   "execution_count": 22,
   "id": "b5132d88-3b85-49b7-a71f-88009460be6a",
   "metadata": {},
   "outputs": [],
   "source": [
    "smiles_outputs = model_both(small_mol_phase_3_features[\"Smiles\"].values)"
   ]
  },
  {
   "cell_type": "code",
   "execution_count": 23,
   "id": "a6c1da98-eea7-45d4-a017-4d0001db8501",
   "metadata": {},
   "outputs": [],
   "source": [
    "np.save(\"..//Data//smiles_outputs.npy\", smiles_outputs)"
   ]
  },
  {
   "cell_type": "code",
   "execution_count": 24,
   "id": "2996242d-ef40-4b47-b841-690206375884",
   "metadata": {},
   "outputs": [
    {
     "data": {
      "text/plain": [
       "<tf.Tensor: shape=(959, 2), dtype=float32, numpy=\n",
       "array([[-0.008663  , -0.32012644],\n",
       "       [ 0.3382033 , -0.31685376],\n",
       "       [ 0.11221686, -1.2013034 ],\n",
       "       ...,\n",
       "       [-2.202789  ,  0.2556882 ],\n",
       "       [ 2.5921938 , -0.50616574],\n",
       "       [-0.57648194,  1.1811748 ]], dtype=float32)>"
      ]
     },
     "execution_count": 24,
     "metadata": {},
     "output_type": "execute_result"
    }
   ],
   "source": [
    "smiles_outputs"
   ]
  },
  {
   "cell_type": "code",
   "execution_count": 25,
   "id": "44e5a897-9b28-4cff-8871-722311fd9f84",
   "metadata": {},
   "outputs": [],
   "source": [
    "rdkit_outputs = model_rdkit(small_mol_phase_3_features.iloc[:,1:].values)"
   ]
  },
  {
   "cell_type": "code",
   "execution_count": 26,
   "id": "79516007-6379-4916-8583-9eb7747c915c",
   "metadata": {},
   "outputs": [],
   "source": [
    "np.save(\"..//Data//rdkit_outputs.npy\", rdkit_outputs)"
   ]
  },
  {
   "cell_type": "code",
   "execution_count": 27,
   "id": "ba9371cb-70bd-49a7-8298-9627a7e95116",
   "metadata": {},
   "outputs": [
    {
     "data": {
      "text/plain": [
       "<tf.Tensor: shape=(959, 2), dtype=float32, numpy=\n",
       "array([[ 0.06570726, -0.32998377],\n",
       "       [ 0.87675816,  0.29321992],\n",
       "       [ 0.28803545, -1.1519144 ],\n",
       "       ...,\n",
       "       [-2.214185  ,  0.11834963],\n",
       "       [ 2.6153378 , -0.6131378 ],\n",
       "       [-0.33488664,  1.1420501 ]], dtype=float32)>"
      ]
     },
     "execution_count": 27,
     "metadata": {},
     "output_type": "execute_result"
    }
   ],
   "source": [
    "rdkit_outputs"
   ]
  },
  {
   "cell_type": "code",
   "execution_count": 28,
   "id": "ddad588e-b95b-4f6f-b875-51cc50e20390",
   "metadata": {},
   "outputs": [],
   "source": [
    "actual  = pd.read_csv(\"..//Data/smiles_with_rdkit_with_small_phase_3_outputs.csv\").iloc[:,1:]"
   ]
  },
  {
   "cell_type": "code",
   "execution_count": 29,
   "id": "cf2f5889-1e10-4bfa-af22-51d951cfd64d",
   "metadata": {},
   "outputs": [],
   "source": [
    "import pickle"
   ]
  },
  {
   "cell_type": "code",
   "execution_count": 30,
   "id": "928eba24-b7d5-4901-94c6-68f77d246db2",
   "metadata": {},
   "outputs": [
    {
     "name": "stderr",
     "output_type": "stream",
     "text": [
      "/home/statgrads/vpiyush2/.conda/envs/enkf/lib/python3.11/site-packages/sklearn/base.py:318: UserWarning: Trying to unpickle estimator StandardScaler from version 1.1.2 when using version 1.2.2. This might lead to breaking code or invalid results. Use at your own risk. For more info please refer to:\n",
      "https://scikit-learn.org/stable/model_persistence.html#security-maintainability-limitations\n",
      "  warnings.warn(\n"
     ]
    }
   ],
   "source": [
    "std_targets = pickle.load( open('..//Data//target_scaler.pkl', 'rb'))"
   ]
  },
  {
   "cell_type": "code",
   "execution_count": 31,
   "id": "bffc81dd-27c7-41c9-b8eb-e4e46c40de98",
   "metadata": {},
   "outputs": [
    {
     "data": {
      "text/plain": [
       "AlogP                 0.138200\n",
       "Polar Surface Area    2.238709\n",
       "dtype: float64"
      ]
     },
     "execution_count": 31,
     "metadata": {},
     "output_type": "execute_result"
    }
   ],
   "source": [
    "np.sqrt(((actual - std_targets.inverse_transform(smiles_outputs))**2).mean(0))"
   ]
  },
  {
   "cell_type": "code",
   "execution_count": 32,
   "id": "65b76edc-a65a-43ab-b02d-5b379e6ddee9",
   "metadata": {},
   "outputs": [],
   "source": [
    "# np.sqrt(((y_test_actual - small_mol_phase_3_psa_preds.mean(0))**2).mean(0))"
   ]
  },
  {
   "cell_type": "code",
   "execution_count": 33,
   "id": "ebc58deb-8920-457d-92e4-bac2cb591b14",
   "metadata": {},
   "outputs": [],
   "source": [
    "import matplotlib.pyplot as plt"
   ]
  },
  {
   "cell_type": "code",
   "execution_count": null,
   "id": "e27d799d-b20d-4301-8625-04213f6f44a6",
   "metadata": {},
   "outputs": [],
   "source": [
    "# small_mol_phase_3_psa_preds = model_both(small_mol_phase_3_features[\"Smiles\"].values"
   ]
  },
  {
   "cell_type": "code",
   "execution_count": 35,
   "id": "0e2da112-9742-4d40-ae03-6886a65e5dab",
   "metadata": {},
   "outputs": [],
   "source": [
    "small_mol_phase_3_psa_preds = std_targets.inverse_transform(smiles_outputs)"
   ]
  },
  {
   "cell_type": "code",
   "execution_count": 39,
   "id": "b91234d4-fda4-4f33-bc03-8ef07c3bd06c",
   "metadata": {},
   "outputs": [
    {
     "data": {
      "image/png": "[encoded data removed]",
      "text/plain": [
       "<Figure size 640x480 with 1 Axes>"
      ]
     },
     "metadata": {},
     "output_type": "display_data"
    }
   ],
   "source": [
    "plt.scatter(small_mol_phase_3_psa_preds[:,0],actual.iloc[:,0])\n",
    "plt.axline((0,0), slope = 1, c = \"black\")\n",
    "# plt.ylim(0,500)\n",
    "plt.show()"
   ]
  },
  {
   "cell_type": "code",
   "execution_count": 40,
   "id": "7f74d85a-d877-45ee-afdd-d6f275f9e579",
   "metadata": {},
   "outputs": [
    {
     "data": {
      "image/png": "[encoded data removed]",
      "text/plain": [
       "<Figure size 640x480 with 1 Axes>"
      ]
     },
     "metadata": {},
     "output_type": "display_data"
    }
   ],
   "source": [
    "plt.scatter(small_mol_phase_3_psa_preds[:,1],actual.iloc[:,1])\n",
    "plt.axline((0,0), slope = 1, c = \"black\")\n",
    "# plt.ylim(0,500)\n",
    "plt.show()"
   ]
  }
 ],
 "metadata": {
  "kernelspec": {
   "display_name": "enkf",
   "language": "python",
   "name": "enkf"
  },
  "language_info": {
   "codemirror_mode": {
    "name": "ipython",
    "version": 3
   },
   "file_extension": ".py",
   "mimetype": "text/x-python",
   "name": "python",
   "nbconvert_exporter": "python",
   "pygments_lexer": "ipython3",
   "version": "3.11.3"
  }
 },
 "nbformat": 4,
 "nbformat_minor": 5
}
